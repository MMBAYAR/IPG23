{
  "nbformat": 4,
  "nbformat_minor": 0,
  "metadata": {
    "colab": {
      "provenance": [],
      "authorship_tag": "ABX9TyP5GWNl3W7GWiA0cFnj+0h1",
      "include_colab_link": true
    },
    "kernelspec": {
      "name": "python3",
      "display_name": "Python 3"
    },
    "language_info": {
      "name": "python"
    }
  },
  "cells": [
    {
      "cell_type": "markdown",
      "metadata": {
        "id": "view-in-github",
        "colab_type": "text"
      },
      "source": [
        "<a href=\"https://colab.research.google.com/github/MMBAYAR/IPG23/blob/main/i_pg23_hafta5.ipynb\" target=\"_parent\"><img src=\"https://colab.research.google.com/assets/colab-badge.svg\" alt=\"Open In Colab\"/></a>"
      ]
    },
    {
      "cell_type": "markdown",
      "source": [
        "## **Python Programlamaya Giriş**"
      ],
      "metadata": {
        "id": "y5akye2noYwL"
      }
    },
    {
      "cell_type": "markdown",
      "source": [
        "### ***Neden Python?***<br><br>\n",
        "- Python, \"*yazıldığı gibi okunan*\" bir dildir. İmla kuralları (syntax) neredeyse günlük dile benzer.\n",
        "- Python; nesne yönelimli ve dev bir topluluğun desteklediği bir yüksek dildir. Yani; karşılaştığınız sorunları yalnızca arama motorlarına yazarak bile çözüm bulma olasılığınız oldukça yüksektir.\n",
        "- Python *Veri Bilimi* ve *Makine Öğrenmesi* için anadillerden biridir.\n",
        "- Pyhton ile kod yazıp çalıştırabilmek için güçlü bir bilgisayara ihtiyacınız yoktur hatta; cihazlarınıza bir yazılım yüklemeye veya kurmaya da ihtiyacınız yoktur.\n",
        "\n",
        "Bu derste ihtiyacınız olan;\n",
        "- bir Google hesabı (kurumsal eposta adresleriniz birer Google hesabıdır),\n",
        "\n",
        "ve\n",
        "- internete erişimdir.\n",
        "\n",
        "Elbette ki bilgisayar kullanmak kolaylıklar sağlayacaktır ancak; bir akıllı telefon üzerinden bile çalışmalarınızı takip edebilir ve yürütebilirsiniz (telefon üzerinden çalışmanız önerilmez, klavye olmadan kodlamak kolay ya da yarayışlı değildir)."
      ],
      "metadata": {
        "id": "xBsJtbmTrpFJ"
      }
    },
    {
      "cell_type": "markdown",
      "source": [
        "## ***Google Colaboratory Arayüzü Tanıtımı***<br><br>\n",
        "\n",
        "Google Colaboratory ya da Colab, size - Iron Python Notebooks (.ipynb uzantılı dosyalar) dosyaları yaratabileceğiniz - bir bulut bilgisayara (linux bilgisayara) erişim olanağı veren bir çevrimiçi platformdur. Bu \"notebook\"ların içerisinde kod ve yazı (markdown) hücreleri oluşturabilirsiniz. Örneğin okumakta olduğunuz bu hücre bir yazı hücresidir.<br><br>\n",
        "Colab'in size sunduğu uzak bilgisayarda iki işlem birimi olan tek çekirdekli bir işlemci (en az 2Ghz gücünde) ve son derece güçlü ve pahalı bir grafik işlemcisi bulunur. Sunulan grafik işlemcide cuda işlemcileri bulunmaktadır ve bu işlemcileri GPU-computing için kullanabilirsiniz.<br>Ayrıca; Google size bu olanakları sağlarken (Colab'in bedava sürümünü kullandığınız sürece) sizden hiçbir ücret talep etmemektedir.<br><br>\n",
        "Kod hücrelerinde Python kodları yazabilir ve - tüm kod notebook'tak, kodu çalıştırmaksızın - bu parça kodu çalıştırabilirsiniz. Bu kodu parçar parça çalıştırabilme olanağının çok kullanışlı olduğunu zamanla farkedeceksiniz.<br><br>\n",
        "Yazı hücrelerine gelecek olursak, yazı hücreleri notebook içinde birer metin editörü programı (MS Word, vb.) gibidir.<br><br>\n",
        "Yazı hücrelerinin dışında kod hücreleri içerisinde de başına \"#\" koyarak tek satırlık yorumlar yazılabilir ya da başına üç tek tırnak (''') ya da üç çift tırnak (\"\"\") konularak çok satırlık yorumlar yazılabilir ve yorumun hemen ardından başlandığı biçimde 3 tırnak konulur.<br><br>\n",
        "Siz yazı hücreleri ya da kod hücreleri içerisinde çalışırken Colab çalışmalarınızı kişisel Google Drive'ınıza sürekli olarak kaydeder (manuel olarak da çalışmanızı kaydedebilirsiniz).<br><br>\n",
        "Eğer bir Notebook dosyasını silmek isterseniz, dosyayı Google Drive'ınızda bulmalı ve orada silmelisiniz.<br><br>\n",
        "Alternatif IDE'leri de deneyimlemek isteyebilirsiniz. Bazı öneriler:\n",
        "Jupyter Notebook (Colab'e benzer) ya da PyCharm, vb."
      ],
      "metadata": {
        "id": "UMI7PEgkrqcn"
      }
    },
    {
      "cell_type": "code",
      "execution_count": null,
      "metadata": {
        "id": "kPa_2pUsoUlF",
        "colab": {
          "base_uri": "https://localhost:8080/",
          "height": 54
        },
        "outputId": "d3bbaa36-6d69-4e83-83dd-f012c2cec530"
      },
      "outputs": [
        {
          "output_type": "execute_result",
          "data": {
            "text/plain": [
              "'\\nIf you do not write explanations to your code pieces, most probably, you will have a hard\\ntime remembering how and why you wrote that code piece.\\n'"
            ],
            "application/vnd.google.colaboratory.intrinsic+json": {
              "type": "string"
            }
          },
          "metadata": {},
          "execution_count": 1
        }
      ],
      "source": [
        "#Bu kod hücresi içerisinde tek satırlık bir yorumdur.\n",
        "'''\n",
        "Ve bu da\n",
        "kod hücresi içerisinde\n",
        "çok satırlık bir\n",
        "yorumdur.\n",
        "'''\n",
        "#  Kod parçalarına açıklamalar içeren yorumlar yazarak derli toplu kod hücreleri oluşturmayı alışkanlık edininiz.\n",
        "#  Uzun bir aradan sonra Notebook'unuzu incelemeniz gerektiğinde kod açıklamaları son derece kullanışlıdır.\n",
        "\"\"\"\n",
        "Kod açıklamaları yazmazsanız büyük olasılıkla o kodu neden ve nasıl yazdığınızı\n",
        "bir daha hatırlayamayacaksınız.\n",
        "\"\"\""
      ]
    },
    {
      "cell_type": "markdown",
      "source": [
        "## ***İlk (muhtemelen ilk) Python Kodunuz***<br><br>\n",
        "\n",
        "Burada *Python'un* \"print()\" *fonksiyonu*nu kullanarak bir kod hücresinden yazı tipinde çıktı elde ediyoruz.\n",
        "\n",
        "Bu örnekte, elde etmeye çalıştığımız yazı çıktısı \"Merhaba Dünya!\"."
      ],
      "metadata": {
        "id": "5KYgSMhDxxBR"
      }
    },
    {
      "cell_type": "code",
      "source": [
        "#  Tırnak işareti kullanmadan \"Merhaba Dünya!\" yazdırmaya çalışmak\n",
        "print(\n",
        "    Merhaba Dünya!\n",
        ")"
      ],
      "metadata": {
        "colab": {
          "base_uri": "https://localhost:8080/",
          "height": 135
        },
        "id": "-na1OA3Txpmb",
        "outputId": "31774317-128d-4e56-bf0b-3ebde66e29fb"
      },
      "execution_count": null,
      "outputs": [
        {
          "output_type": "error",
          "ename": "SyntaxError",
          "evalue": "ignored",
          "traceback": [
            "\u001b[0;36m  File \u001b[0;32m\"<ipython-input-1-8f5935473556>\"\u001b[0;36m, line \u001b[0;32m3\u001b[0m\n\u001b[0;31m    Merhaba Dünya!\u001b[0m\n\u001b[0m            ^\u001b[0m\n\u001b[0;31mSyntaxError\u001b[0m\u001b[0;31m:\u001b[0m invalid syntax\n"
          ]
        }
      ]
    },
    {
      "cell_type": "code",
      "source": [
        "#  Yazı biçiminde Python nesnelerini yazdırmanın doğru yolu (sınıf içi etkinlik)\n"
      ],
      "metadata": {
        "id": "afuKUT7aye4W"
      },
      "execution_count": null,
      "outputs": []
    },
    {
      "cell_type": "markdown",
      "source": [
        "Python dilinde yazı biçimindeki nesneler tek tırnak içinde ya da çift tırnak içinde tanımlanırlar.<br><br>\n",
        "Bu nesnelere \"*Sting*\"s (str) - Karakter Dizisi denir.."
      ],
      "metadata": {
        "id": "dtPlHLglyvxZ"
      }
    },
    {
      "cell_type": "code",
      "source": [
        "#  type() fonksiyonu ile bir Python nesnesinin türünü öğrenmek\n",
        "type(\n",
        "    \"Merhaba Dünya!\"\n",
        ")"
      ],
      "metadata": {
        "colab": {
          "base_uri": "https://localhost:8080/"
        },
        "id": "MA3N4K5PzVe8",
        "outputId": "52a651c9-2a49-44da-c753-272bbeb8e536"
      },
      "execution_count": null,
      "outputs": [
        {
          "output_type": "execute_result",
          "data": {
            "text/plain": [
              "str"
            ]
          },
          "metadata": {},
          "execution_count": 2
        }
      ]
    },
    {
      "cell_type": "code",
      "source": [
        "#  type() fonksiyonu ile bir Python nesnesinin türünü öğrenmek\n",
        "type(\n",
        "    'Merhaba Dünya!'\n",
        ")"
      ],
      "metadata": {
        "colab": {
          "base_uri": "https://localhost:8080/"
        },
        "id": "3MvYm35Izir2",
        "outputId": "6fa2f313-f4bf-412e-b7d4-18a19522ba7f"
      },
      "execution_count": null,
      "outputs": [
        {
          "output_type": "execute_result",
          "data": {
            "text/plain": [
              "str"
            ]
          },
          "metadata": {},
          "execution_count": 3
        }
      ]
    },
    {
      "cell_type": "code",
      "source": [
        "#  type() fonksiyonu ile bir Python nesnesinin türünü öğrenmek\n",
        "type(\n",
        "    \"Bir diğer yazı parçası...\"\n",
        ")"
      ],
      "metadata": {
        "colab": {
          "base_uri": "https://localhost:8080/"
        },
        "id": "BuZloYDPztQp",
        "outputId": "4fe84ee2-df0f-4d79-fa82-b75fc352b8df"
      },
      "execution_count": null,
      "outputs": [
        {
          "output_type": "execute_result",
          "data": {
            "text/plain": [
              "str"
            ]
          },
          "metadata": {},
          "execution_count": 4
        }
      ]
    },
    {
      "cell_type": "markdown",
      "source": [
        "#  <br><br><br>**HAFTA 2**<br><br><br>"
      ],
      "metadata": {
        "id": "E0ZDuFG9RtM_"
      }
    },
    {
      "cell_type": "markdown",
      "source": [
        "## **Temel Python Nesneleri A:**<br>\n",
        "- **String (Karakter Dizisi)**,\n",
        "- **Integer (Tam sayı)**,\n",
        "- **Floating Point (Ondalık sayı)**,\n",
        "- **Boolean (Bool sayısı)**<br><br>\n",
        "\n",
        "\"Merhaba Dünya!\" bir Python nesnesidir ve türünün **str** olduğunu belirledik. Karakter dizisi türünde nesneler için type() fonksiyonu çalıştırılacak olursa kod çıktısı \"str\" (String'in bir kısaltması) olacaktır.<br><br>\n",
        "Elbette ki çok sayıda başka Python nesnesi bulunmaktadır ancak; bu ders içeriğinde yalnızca bir kaç nesne türü tanırılacaktır..<br><br>"
      ],
      "metadata": {
        "id": "PX_HN0A_10n3"
      }
    },
    {
      "cell_type": "markdown",
      "source": [
        "### ***Integer - Tam sayı (int)***<br><br>\n",
        "\n",
        "Python'u matematik işlemleri için de kullanabilirsiniz. Öyleyse, işlem yapabilmek için sayı biçiminde nesnelere de ihtiyaç duyulmaktadır.<br><br>\n",
        "Matematik işlemlerinde girdiler de işlemin çıktıları da tam sayı olabilir.<br><br>"
      ],
      "metadata": {
        "id": "drU23Pvt3Rc_"
      }
    },
    {
      "cell_type": "code",
      "source": [
        "#  Bir sayı biçimli nesnenin türünü öğrenme\n",
        "type(217)"
      ],
      "metadata": {
        "id": "QaKt5-Yzz6DQ",
        "colab": {
          "base_uri": "https://localhost:8080/"
        },
        "outputId": "e83534b7-ba24-420e-e54f-7455a8391e57"
      },
      "execution_count": null,
      "outputs": [
        {
          "output_type": "execute_result",
          "data": {
            "text/plain": [
              "int"
            ]
          },
          "metadata": {},
          "execution_count": 6
        }
      ]
    },
    {
      "cell_type": "code",
      "source": [
        "#  Sonucu sayı biçimli bir işlemin türünü öğrenme\n",
        "type(200 + 17)"
      ],
      "metadata": {
        "colab": {
          "base_uri": "https://localhost:8080/"
        },
        "id": "M0iEekPgbFxX",
        "outputId": "bdf75a34-2068-465e-9ff5-555574ea50d9"
      },
      "execution_count": null,
      "outputs": [
        {
          "output_type": "execute_result",
          "data": {
            "text/plain": [
              "int"
            ]
          },
          "metadata": {},
          "execution_count": 7
        }
      ]
    },
    {
      "cell_type": "markdown",
      "source": [
        "### *Sonucu tam sayı olan her işlemin türü \"int\" midir?*"
      ],
      "metadata": {
        "id": "kodKbui9f_5R"
      }
    },
    {
      "cell_type": "code",
      "source": [
        "534/2"
      ],
      "metadata": {
        "colab": {
          "base_uri": "https://localhost:8080/"
        },
        "id": "TAzsBFDgbTHF",
        "outputId": "687f2158-e2db-4626-f39b-4c6fc7f9f9e6"
      },
      "execution_count": null,
      "outputs": [
        {
          "output_type": "execute_result",
          "data": {
            "text/plain": [
              "267.0"
            ]
          },
          "metadata": {},
          "execution_count": 9
        }
      ]
    },
    {
      "cell_type": "code",
      "source": [
        "type(534/2)"
      ],
      "metadata": {
        "colab": {
          "base_uri": "https://localhost:8080/"
        },
        "id": "SFu6Xr4WgJVa",
        "outputId": "c3000bb5-e43e-4c33-e5b3-fc6637498ecc"
      },
      "execution_count": null,
      "outputs": [
        {
          "output_type": "execute_result",
          "data": {
            "text/plain": [
              "float"
            ]
          },
          "metadata": {},
          "execution_count": 10
        }
      ]
    },
    {
      "cell_type": "markdown",
      "source": [
        "Bölme işleminin sonucunda ondalık sayılar elde edilebileceği için Python bölme işleminin sonucunda oluşan nesneleri otomatik olarak ondalık sayı olarak tanımlar; sonuç tam sayı olsa bile..."
      ],
      "metadata": {
        "id": "KwU8te3zgR2z"
      }
    },
    {
      "cell_type": "markdown",
      "source": [
        "## ***Floating Point - Ondalık Sayı (float)***\n",
        "\n",
        "Python'da bir diğer sayı biçimli nesne ondalık sayı nesneleridir. type() fonksiyonu içerisinde çalıştırıldığında \"float\" çıktısı veren bu nesenelerde en çok 16 ondalık basamağı gösterilebilir."
      ],
      "metadata": {
        "id": "FNHUgOLKio02"
      }
    },
    {
      "cell_type": "code",
      "source": [
        "#  Ondalık sayılarda en küçük basamak hanelerinde sıklıkla yuvarlama hatalarına rastlanabilir.\n",
        "#  Ancak; bu hatalar işlem sonuçlarını genel olarak etkilememektedir.\n",
        "\n",
        "10/3"
      ],
      "metadata": {
        "colab": {
          "base_uri": "https://localhost:8080/"
        },
        "id": "K-DLOh6DgNyH",
        "outputId": "73c4e764-9105-467f-934e-d2ebd20b5088"
      },
      "execution_count": null,
      "outputs": [
        {
          "output_type": "execute_result",
          "data": {
            "text/plain": [
              "3.3333333333333335"
            ]
          },
          "metadata": {},
          "execution_count": 11
        }
      ]
    },
    {
      "cell_type": "code",
      "source": [
        "type(10/3)"
      ],
      "metadata": {
        "colab": {
          "base_uri": "https://localhost:8080/"
        },
        "id": "f4oOUPpvjQUf",
        "outputId": "cd5eec56-9c72-44ff-c654-6c5bb0045a5d"
      },
      "execution_count": null,
      "outputs": [
        {
          "output_type": "execute_result",
          "data": {
            "text/plain": [
              "float"
            ]
          },
          "metadata": {},
          "execution_count": 12
        }
      ]
    },
    {
      "cell_type": "code",
      "source": [
        "#  Ondalık sayı oluşturabilmek için \".\" kullanılmalıdır.\n",
        "type(2.0)"
      ],
      "metadata": {
        "colab": {
          "base_uri": "https://localhost:8080/"
        },
        "id": "Wz5sBxK3jhxR",
        "outputId": "88a7bc74-6b51-40f1-9397-4f0c08dbc54b"
      },
      "execution_count": null,
      "outputs": [
        {
          "output_type": "execute_result",
          "data": {
            "text/plain": [
              "float"
            ]
          },
          "metadata": {},
          "execution_count": 13
        }
      ]
    },
    {
      "cell_type": "markdown",
      "source": [
        "### *int() fonksiyonu ile tam sayı nesnesi türetimi*"
      ],
      "metadata": {
        "id": "g5XLo6ZdkJH0"
      }
    },
    {
      "cell_type": "code",
      "source": [
        "#  float nesneleri int() fonksiyonu ile tam sayı nesnelerine dönüştürülebilir.\n",
        "int(2.0), int(2.09), int(2.99)"
      ],
      "metadata": {
        "colab": {
          "base_uri": "https://localhost:8080/"
        },
        "id": "7XR10ukFjsJA",
        "outputId": "ae152c55-c430-46a5-9db8-3f514c221c50"
      },
      "execution_count": null,
      "outputs": [
        {
          "output_type": "execute_result",
          "data": {
            "text/plain": [
              "(2, 2, 2)"
            ]
          },
          "metadata": {},
          "execution_count": 15
        }
      ]
    },
    {
      "cell_type": "code",
      "source": [
        "\"\"\"\n",
        "int() fonksiyonu ile tam sayı nesnesi türetilirken ondalık sayılarda yuvarlama işlemi yapılmaz.\n",
        "int() fonksiyonu bir ondalık sayının yalnızca tam sayı değerini ayrıştırır ve kesirli kısmın niceleğini değerlendirmez.\n",
        "\"\"\""
      ],
      "metadata": {
        "colab": {
          "base_uri": "https://localhost:8080/",
          "height": 54
        },
        "id": "bN9JxhFlkaF6",
        "outputId": "1264c0a8-acfc-4515-98be-a80a42a927cb"
      },
      "execution_count": null,
      "outputs": [
        {
          "output_type": "execute_result",
          "data": {
            "text/plain": [
              "'\\nint() fonksiyonu ile tam sayı nesnesi türetilirken ondalık sayılarda yuvarlama işlemi yapılmaz.\\nint() fonksiyonu bir ondalık sayının yalnızca tam sayı değerini ayrıştırır ve kesirli kısmın niceleğini değerlendirmez.\\n'"
            ],
            "application/vnd.google.colaboratory.intrinsic+json": {
              "type": "string"
            }
          },
          "metadata": {},
          "execution_count": 16
        }
      ]
    },
    {
      "cell_type": "code",
      "source": [
        "#  int() fonksiyonu ile içeriği tam sayı olan karakter dizisi nesneleri de tam sayı nesnelerine dönüştürülebilir.\n",
        "int(\"217.0\")"
      ],
      "metadata": {
        "colab": {
          "base_uri": "https://localhost:8080/",
          "height": 171
        },
        "id": "kHaznsinlXYX",
        "outputId": "2037f7d2-cebe-4e09-8a65-478fb0c5f42a"
      },
      "execution_count": null,
      "outputs": [
        {
          "output_type": "error",
          "ename": "ValueError",
          "evalue": "ignored",
          "traceback": [
            "\u001b[0;31m---------------------------------------------------------------------------\u001b[0m",
            "\u001b[0;31mValueError\u001b[0m                                Traceback (most recent call last)",
            "\u001b[0;32m<ipython-input-18-13d81691a89b>\u001b[0m in \u001b[0;36m<module>\u001b[0;34m\u001b[0m\n\u001b[0;32m----> 1\u001b[0;31m \u001b[0mint\u001b[0m\u001b[0;34m(\u001b[0m\u001b[0;34m\"217.0\"\u001b[0m\u001b[0;34m)\u001b[0m\u001b[0;34m\u001b[0m\u001b[0;34m\u001b[0m\u001b[0m\n\u001b[0m",
            "\u001b[0;31mValueError\u001b[0m: invalid literal for int() with base 10: '217.0'"
          ]
        }
      ]
    },
    {
      "cell_type": "code",
      "source": [
        "#  int() fonksiyonu ile içeriği tam sayı olan karakter dizisi nesneleri de tam sayı nesnelerine dönüştürülebilir.\n",
        "int(\"217\")"
      ],
      "metadata": {
        "colab": {
          "base_uri": "https://localhost:8080/"
        },
        "id": "48HeUXrLlctm",
        "outputId": "f4c737fe-9d32-4248-82ca-9f31ec0455c9"
      },
      "execution_count": null,
      "outputs": [
        {
          "output_type": "execute_result",
          "data": {
            "text/plain": [
              "217"
            ]
          },
          "metadata": {},
          "execution_count": 20
        }
      ]
    },
    {
      "cell_type": "markdown",
      "source": [
        "### *float() fonksiyonu ile ondalık sayı nesnesi türetimi*"
      ],
      "metadata": {
        "id": "UMldfoZTk8EV"
      }
    },
    {
      "cell_type": "code",
      "source": [
        "#  tam sayı nesneleri float() fonksiyonu ile ondalık sayı nesnelerine dönüştürülebilir.\n",
        "float(2)"
      ],
      "metadata": {
        "colab": {
          "base_uri": "https://localhost:8080/"
        },
        "id": "-_d0GeQRk2Q3",
        "outputId": "69361416-f4ae-4f78-8cbc-3fe1533d3d6f"
      },
      "execution_count": null,
      "outputs": [
        {
          "output_type": "execute_result",
          "data": {
            "text/plain": [
              "2.0"
            ]
          },
          "metadata": {},
          "execution_count": 17
        }
      ]
    },
    {
      "cell_type": "code",
      "source": [
        "#  sayısallaştırılabilir karakter dizileri de float() fonksiyonu ile ondalık sayı nesnelerine dönüştürülebilir.\n",
        "float('217.0')"
      ],
      "metadata": {
        "colab": {
          "base_uri": "https://localhost:8080/"
        },
        "id": "2z_aJflHMaJr",
        "outputId": "6828fd09-cb3e-4f58-ec4a-3c2e1d1b6adc"
      },
      "execution_count": null,
      "outputs": [
        {
          "output_type": "execute_result",
          "data": {
            "text/plain": [
              "217.0"
            ]
          },
          "metadata": {},
          "execution_count": 1
        }
      ]
    },
    {
      "cell_type": "markdown",
      "source": [
        "## ***Bool cebiri ve Bool nesneleri***<br><br>\n",
        "En basit hali ile Bool cebiri, önermelerin doğruluğu ya da yanlışlığını inceleyen bir matematik alt dalıdır.<br><br>\n",
        "Python'da Bool nesneleri temel olarak \"doğruluk\" ya da \"yanlışlık\" bilgisini saklarlar."
      ],
      "metadata": {
        "id": "N01vPxVplQOv"
      }
    },
    {
      "cell_type": "code",
      "source": [
        "#  Bir önerme:\n",
        "#      3; 4'ten büyüktür:\n",
        "\n",
        "3 > 4"
      ],
      "metadata": {
        "id": "nc1Ojo6ilIi2",
        "colab": {
          "base_uri": "https://localhost:8080/"
        },
        "outputId": "c7901f0c-abd4-45fd-e683-ad7cae8baa16"
      },
      "execution_count": null,
      "outputs": [
        {
          "output_type": "execute_result",
          "data": {
            "text/plain": [
              "False"
            ]
          },
          "metadata": {},
          "execution_count": 2
        }
      ]
    },
    {
      "cell_type": "code",
      "source": [
        "type( 3 > 4 )"
      ],
      "metadata": {
        "colab": {
          "base_uri": "https://localhost:8080/"
        },
        "id": "ONVefpTqN-qX",
        "outputId": "fdbe8b39-ecc9-4c37-f976-17566784bf01"
      },
      "execution_count": null,
      "outputs": [
        {
          "output_type": "execute_result",
          "data": {
            "text/plain": [
              "bool"
            ]
          },
          "metadata": {},
          "execution_count": 3
        }
      ]
    },
    {
      "cell_type": "code",
      "source": [
        "#  Bir diğer önerme:\n",
        "#      2; 2'den büyük veya eşittir:\n",
        "\n",
        "2 >= 2"
      ],
      "metadata": {
        "colab": {
          "base_uri": "https://localhost:8080/"
        },
        "id": "WFNiSUT6OBrU",
        "outputId": "64e36bc1-4abc-4907-a35e-54ce97c17f6d"
      },
      "execution_count": null,
      "outputs": [
        {
          "output_type": "execute_result",
          "data": {
            "text/plain": [
              "True"
            ]
          },
          "metadata": {},
          "execution_count": 4
        }
      ]
    },
    {
      "cell_type": "code",
      "source": [
        "type( 2 >= 2 )"
      ],
      "metadata": {
        "colab": {
          "base_uri": "https://localhost:8080/"
        },
        "id": "3o-o5KCAOMQE",
        "outputId": "2c3f6e6f-e767-43c4-e6ec-fa64b9c3c10f"
      },
      "execution_count": null,
      "outputs": [
        {
          "output_type": "execute_result",
          "data": {
            "text/plain": [
              "bool"
            ]
          },
          "metadata": {},
          "execution_count": 5
        }
      ]
    },
    {
      "cell_type": "code",
      "source": [
        "#  Bool nesneleri yalnızca doğruluk ya da yanlışlık bilgisi taşırlar; orijinal önermeye dair bilgi taşımazlar.\n",
        "\n",
        "#  2 == 2, 1 < 3\n",
        "\n",
        "(2==2) == (1 < 3)"
      ],
      "metadata": {
        "colab": {
          "base_uri": "https://localhost:8080/"
        },
        "id": "YMs70KWhOPux",
        "outputId": "8449b048-6642-45c8-f128-06f820423e38"
      },
      "execution_count": null,
      "outputs": [
        {
          "output_type": "execute_result",
          "data": {
            "text/plain": [
              "True"
            ]
          },
          "metadata": {},
          "execution_count": 9
        }
      ]
    },
    {
      "cell_type": "markdown",
      "source": [
        "###  *bool() fonksiyonu*"
      ],
      "metadata": {
        "id": "oad-RMFROzNC"
      }
    },
    {
      "cell_type": "code",
      "source": [
        "#  bool() fonksiyonu ile diğer sayı nesnelerini dönüştürmek\n",
        "bool(-7), bool(0), bool(21)"
      ],
      "metadata": {
        "colab": {
          "base_uri": "https://localhost:8080/"
        },
        "id": "AKSICOSNOlNm",
        "outputId": "db7aae47-d027-4c39-b72d-8abf77a8820f"
      },
      "execution_count": null,
      "outputs": [
        {
          "output_type": "execute_result",
          "data": {
            "text/plain": [
              "(True, False, True)"
            ]
          },
          "metadata": {},
          "execution_count": 11
        }
      ]
    },
    {
      "cell_type": "markdown",
      "source": [
        "**bool() fonksiyonu;**<br>\n",
        "yalnızca eşiti \"0\" olan sayı nesneleri için **Yanlış (False)** bilgisine dönüştürebilirken sıfırdan farklı değeri olan tüm sayı nesnelerini **Doğru (True)** bilgisine dönüştürmektedir."
      ],
      "metadata": {
        "id": "o55zRq2MPG-8"
      }
    },
    {
      "cell_type": "markdown",
      "source": [
        "##  ***Python'da Bazı Matematik İşlemleri***<br><br>\n",
        "###  **4 İşlem**"
      ],
      "metadata": {
        "id": "lonRXLHcQRaz"
      }
    },
    {
      "cell_type": "code",
      "source": [
        "#  Toplama\n",
        "3 + 7.21"
      ],
      "metadata": {
        "colab": {
          "base_uri": "https://localhost:8080/"
        },
        "id": "nDql8KoyOvSh",
        "outputId": "7e069040-eb91-493f-d426-c962f5c8cfd4"
      },
      "execution_count": null,
      "outputs": [
        {
          "output_type": "execute_result",
          "data": {
            "text/plain": [
              "10.21"
            ]
          },
          "metadata": {},
          "execution_count": 12
        }
      ]
    },
    {
      "cell_type": "markdown",
      "source": [
        "Karakter dizileri için toplama işlemi yapılabilir mi?"
      ],
      "metadata": {
        "id": "xjLiRmxhSkfi"
      }
    },
    {
      "cell_type": "code",
      "source": [
        "\"ABC\" + ' ' + 'DEF ' + 'GHI'"
      ],
      "metadata": {
        "colab": {
          "base_uri": "https://localhost:8080/",
          "height": 35
        },
        "id": "SYDVUgF3Sp-H",
        "outputId": "016e211e-3d4e-4234-ba79-98be2850d961"
      },
      "execution_count": null,
      "outputs": [
        {
          "output_type": "execute_result",
          "data": {
            "text/plain": [
              "'ABC DEF GHI'"
            ],
            "application/vnd.google.colaboratory.intrinsic+json": {
              "type": "string"
            }
          },
          "metadata": {},
          "execution_count": 28
        }
      ]
    },
    {
      "cell_type": "code",
      "source": [
        "#  Çıkarma\n",
        "11 - 23.6"
      ],
      "metadata": {
        "colab": {
          "base_uri": "https://localhost:8080/"
        },
        "id": "1ridimoUQiOX",
        "outputId": "92b72ee3-b8e1-408d-967e-e9e0be52dcaf"
      },
      "execution_count": null,
      "outputs": [
        {
          "output_type": "execute_result",
          "data": {
            "text/plain": [
              "-12.600000000000001"
            ]
          },
          "metadata": {},
          "execution_count": 13
        }
      ]
    },
    {
      "cell_type": "code",
      "source": [
        "#  Çarpma\n",
        "2 * 3"
      ],
      "metadata": {
        "colab": {
          "base_uri": "https://localhost:8080/"
        },
        "id": "eqmrmu5lQnDc",
        "outputId": "8a6e5202-d3d1-46bd-ce12-d5db9aeca832"
      },
      "execution_count": null,
      "outputs": [
        {
          "output_type": "execute_result",
          "data": {
            "text/plain": [
              "6"
            ]
          },
          "metadata": {},
          "execution_count": 14
        }
      ]
    },
    {
      "cell_type": "code",
      "source": [
        "#  Bölme\n",
        "3 / 2"
      ],
      "metadata": {
        "colab": {
          "base_uri": "https://localhost:8080/"
        },
        "id": "MWqeGZJ1QrPN",
        "outputId": "7f7eecdf-d785-4626-8f68-5d0199f49566"
      },
      "execution_count": null,
      "outputs": [
        {
          "output_type": "execute_result",
          "data": {
            "text/plain": [
              "1.5"
            ]
          },
          "metadata": {},
          "execution_count": 15
        }
      ]
    },
    {
      "cell_type": "markdown",
      "source": [
        "###  **Bazı Özel İşlemler**"
      ],
      "metadata": {
        "id": "TyD9a94eRuv_"
      }
    },
    {
      "cell_type": "code",
      "source": [
        "#  Üs Alma\n",
        "2 ** 3"
      ],
      "metadata": {
        "colab": {
          "base_uri": "https://localhost:8080/"
        },
        "id": "2QC9THYqQulm",
        "outputId": "47314b86-aa8d-48de-a692-32a9f96a96f1"
      },
      "execution_count": null,
      "outputs": [
        {
          "output_type": "execute_result",
          "data": {
            "text/plain": [
              "8"
            ]
          },
          "metadata": {},
          "execution_count": 17
        }
      ]
    },
    {
      "cell_type": "code",
      "source": [
        "#  Kalan Bulma\n",
        "11 / 3, 11 % 3"
      ],
      "metadata": {
        "colab": {
          "base_uri": "https://localhost:8080/"
        },
        "id": "-4gnWRwKQz4p",
        "outputId": "6c94c304-77c8-4ea0-e7a3-dc5acfb8404d"
      },
      "execution_count": null,
      "outputs": [
        {
          "output_type": "execute_result",
          "data": {
            "text/plain": [
              "(3.6666666666666665, 2)"
            ]
          },
          "metadata": {},
          "execution_count": 25
        }
      ]
    },
    {
      "cell_type": "code",
      "source": [
        "#  Bölümün Tam Sayı Kısmını Bulma\n",
        "11 / 3, 11 // 3"
      ],
      "metadata": {
        "colab": {
          "base_uri": "https://localhost:8080/"
        },
        "id": "zx9gXSUcRI-7",
        "outputId": "c2fe2277-800a-4b70-860b-e02250867d0a"
      },
      "execution_count": null,
      "outputs": [
        {
          "output_type": "execute_result",
          "data": {
            "text/plain": [
              "(3.6666666666666665, 3)"
            ]
          },
          "metadata": {},
          "execution_count": 23
        }
      ]
    },
    {
      "cell_type": "markdown",
      "source": [
        "#  <br><br><br>**HAFTA 3**<br><br><br>"
      ],
      "metadata": {
        "id": "E4gZcwEwR52B"
      }
    },
    {
      "cell_type": "markdown",
      "source": [
        "## **Temel Python Nesneleri B:**<br>\n",
        "- **Tuple (Demet)**,\n",
        "- **List (Liste)**,\n",
        "- **Dictionary (Sözlük)**,\n",
        "- **Set (Küme)**<br><br>\n",
        "\n",
        "\"*Temel Python Nesneleri A*\" başlığı altında tek veri taşıyan (karakter dizileri hariç) bazı seçilmiş nesneler ile sizleri tanıştırdık.<br><br>\n",
        "**Temel Python Nesneleri B** başlığı altında da çoklu veri taşıyabilen gruplayıcı bazı nesneler ile sizleri tanıştıracağız. Bu gruplayıcı nesneler içindeki üyelerin bir kurala göre işlenmesi üzerine tanımlanan döngüler (3., 4. ve 5. haftalarda ayrıntılı olarak ele alınacaktır) otomasyonun en temel yaklaşımlarından biridir.<br><br>\n",
        "Bu başlık altında anılan ve anlatımı sunulacak 4 Python nesnesi, çeşitli özellikleri bakımından birbirinden ayrışan ve kodlayıcının amacına ve üslubuna göre kullanabileceği temel alternatifleri oluşturmaktadır."
      ],
      "metadata": {
        "id": "Bm0hVQjTFsqQ"
      }
    },
    {
      "cell_type": "markdown",
      "source": [
        "###  **Tuple (Demet)**<br><br>\n",
        "\n",
        "Demetler, içerisinde çok çeşitli nesneleri bulundurabilen özel bir gruplayıcıdır. Demetleri özel yapan, demetler içinde tanımlanan üyelerin daha sonrada değiştirilemez olmasıdır.<br>\n",
        "Bu değiştirilemezlik hem bir tercih nedeni hem de bir risk unsurudur.<br>\n",
        "  -  Bilgilerin dinamik olduğu ve bu gerekçe ile verilerin güncellenmesi gereken durumlarda demetlerin kullanımı uygun olmayacaktır.\n",
        "  -  Öte yandan bilgilerin statik olduğu, birden fazla kodlayıcının sistem içerisinde aktif olduğu ve kritik verilerin korunması gerektiği hallerde de demetlerin kullanımı oldukça mantıklıdır.\n",
        "  -  Kişisel tercihim ise demetlerin yerine listelerin kullanımıdır."
      ],
      "metadata": {
        "id": "Lpwtsm6rIXTD"
      }
    },
    {
      "cell_type": "code",
      "source": [
        "d_1 = \"aslşjkasdşfjadlşkmasdicfkıadpfjdsşifaksdfpoıduvjhna,sdipoağpvjsvş ilkfsşidfkaqş\""
      ],
      "metadata": {
        "id": "YYUagPYbIbd2"
      },
      "execution_count": null,
      "outputs": []
    },
    {
      "cell_type": "code",
      "source": [
        "del d_1"
      ],
      "metadata": {
        "id": "kwsKJekqJHOP"
      },
      "execution_count": null,
      "outputs": []
    },
    {
      "cell_type": "code",
      "source": [
        "print(d_1)"
      ],
      "metadata": {
        "colab": {
          "base_uri": "https://localhost:8080/",
          "height": 165
        },
        "id": "-QApVH1eIjbO",
        "outputId": "02a5bd5a-d22d-45f7-d769-ccff3ebf1fcc"
      },
      "execution_count": null,
      "outputs": [
        {
          "output_type": "error",
          "ename": "NameError",
          "evalue": "ignored",
          "traceback": [
            "\u001b[0;31m---------------------------------------------------------------------------\u001b[0m",
            "\u001b[0;31mNameError\u001b[0m                                 Traceback (most recent call last)",
            "\u001b[0;32m<ipython-input-11-53759942c22a>\u001b[0m in \u001b[0;36m<module>\u001b[0;34m\u001b[0m\n\u001b[0;32m----> 1\u001b[0;31m \u001b[0mprint\u001b[0m\u001b[0;34m(\u001b[0m\u001b[0md_1\u001b[0m\u001b[0;34m)\u001b[0m\u001b[0;34m\u001b[0m\u001b[0;34m\u001b[0m\u001b[0m\n\u001b[0m",
            "\u001b[0;31mNameError\u001b[0m: name 'd_1' is not defined"
          ]
        }
      ]
    },
    {
      "cell_type": "code",
      "source": [
        "#  Arzu ettiğim biçimde adlandırabileceğim bir değişkeni boş olarak \n",
        "#  tanımlıyorum ve değerini hücre çıktısı olarak izliyorum.\n",
        "\n",
        "değ = None\n",
        "\n",
        "değ"
      ],
      "metadata": {
        "id": "eZTknBMORT8r"
      },
      "execution_count": null,
      "outputs": []
    },
    {
      "cell_type": "markdown",
      "source": [
        "Değişkenler, değeri her türlü Python nesnesi olarak kararlaştırılabilecek ve sonradan güncellenebilen veya silinebilen kod unsurlarıdır.<br>\n",
        "Değişkenleri seviyoruz; değişkenler,yazımı uzun olan nesneleri kısa ve kullanışlı paketleme araçlarıdır.<br>\n",
        "Değişkenlerin değerini print() fonksiyonu ile izleyebileceğimiz gibi hücrelerin son satırında adını yazarak da izleyebiliriz."
      ],
      "metadata": {
        "id": "TKsm9Vt2KpuG"
      }
    },
    {
      "cell_type": "code",
      "source": [
        "#  Değişkenimin değerini güncelliyorum.\n",
        "değ = 123\n",
        "\n",
        "değ"
      ],
      "metadata": {
        "colab": {
          "base_uri": "https://localhost:8080/"
        },
        "id": "3YDtNOEEKeAy",
        "outputId": "9feaf339-64b0-433a-9203-fb18deda8333"
      },
      "execution_count": null,
      "outputs": [
        {
          "output_type": "execute_result",
          "data": {
            "text/plain": [
              "123"
            ]
          },
          "metadata": {},
          "execution_count": 13
        }
      ]
    },
    {
      "cell_type": "code",
      "source": [
        "#  Değişkenimi - hafıza tasarrufu yapabilmek için - \n",
        "#  artık kullanmayacağım için siliyorum.\n",
        "\n",
        "del değ"
      ],
      "metadata": {
        "id": "4KgW6kMoLX5z"
      },
      "execution_count": null,
      "outputs": []
    },
    {
      "cell_type": "code",
      "source": [
        "#  Değişkenim artık var olmadığı için değerini de izleyemem.\n",
        "\n",
        "değ"
      ],
      "metadata": {
        "colab": {
          "base_uri": "https://localhost:8080/",
          "height": 201
        },
        "id": "DLIm8lvILmdP",
        "outputId": "c5cb160b-9ce1-4230-c216-cb8e9311b63f"
      },
      "execution_count": null,
      "outputs": [
        {
          "output_type": "error",
          "ename": "NameError",
          "evalue": "ignored",
          "traceback": [
            "\u001b[0;31m---------------------------------------------------------------------------\u001b[0m",
            "\u001b[0;31mNameError\u001b[0m                                 Traceback (most recent call last)",
            "\u001b[0;32m<ipython-input-6-8f9a53b2fb7d>\u001b[0m in \u001b[0;36m<module>\u001b[0;34m\u001b[0m\n\u001b[1;32m      1\u001b[0m \u001b[0;31m#  Değişkenim artık var olmadığı için değerini de izleyemem.\u001b[0m\u001b[0;34m\u001b[0m\u001b[0;34m\u001b[0m\u001b[0;34m\u001b[0m\u001b[0m\n\u001b[1;32m      2\u001b[0m \u001b[0;34m\u001b[0m\u001b[0m\n\u001b[0;32m----> 3\u001b[0;31m \u001b[0mdeğ\u001b[0m\u001b[0;34m\u001b[0m\u001b[0;34m\u001b[0m\u001b[0m\n\u001b[0m",
            "\u001b[0;31mNameError\u001b[0m: name 'değ' is not defined"
          ]
        }
      ]
    },
    {
      "cell_type": "code",
      "source": [
        "#  Bir değişkenin silinmiş olması onu yeniden oluşturamayacağım\n",
        "#  anlamına gelmez.\n",
        "\n",
        "değ =  \"Yeniden Merhaba!\"\n",
        "\n",
        "değ"
      ],
      "metadata": {
        "colab": {
          "base_uri": "https://localhost:8080/",
          "height": 35
        },
        "id": "rpLxnYwbLnUT",
        "outputId": "220948ad-7733-47b6-9389-641f500452df"
      },
      "execution_count": null,
      "outputs": [
        {
          "output_type": "execute_result",
          "data": {
            "text/plain": [
              "'Yeniden Merhaba!'"
            ],
            "application/vnd.google.colaboratory.intrinsic+json": {
              "type": "string"
            }
          },
          "metadata": {},
          "execution_count": 7
        }
      ]
    },
    {
      "cell_type": "code",
      "source": [
        "3.14 in ('Mehmet',92,3.14,('A','B','C'),False,bool(1))"
      ],
      "metadata": {
        "colab": {
          "base_uri": "https://localhost:8080/"
        },
        "id": "ABvcMmaLJtIR",
        "outputId": "9141fd1c-b116-4490-9cff-cf2c3681ccfa"
      },
      "execution_count": null,
      "outputs": [
        {
          "output_type": "execute_result",
          "data": {
            "text/plain": [
              "True"
            ]
          },
          "metadata": {},
          "execution_count": 19
        }
      ]
    },
    {
      "cell_type": "code",
      "source": [
        "#  Şimdi değişkenimin değerini bir DEMET olarak tanımlıyorum.\n",
        "\n",
        "değ = (1,'Abc',3.14,0 in (1,1,2,3,5,8,13,),bool(-21))\n",
        "değ"
      ],
      "metadata": {
        "colab": {
          "base_uri": "https://localhost:8080/"
        },
        "id": "3gTEpQh0L2qC",
        "outputId": "2ad241ab-b2f4-49cf-dfbe-a0bea0cfe882"
      },
      "execution_count": null,
      "outputs": [
        {
          "output_type": "execute_result",
          "data": {
            "text/plain": [
              "(1, 'Abc', 3.14, False, True)"
            ]
          },
          "metadata": {},
          "execution_count": 24
        }
      ]
    },
    {
      "cell_type": "markdown",
      "source": [
        "\"değ\" adını verdiğimiz değişkenin değerini içinde beş üye (veri) olan bir demet olarak tanımladık.<br>\n",
        "Bu demetin elemanları sırasıyla bir tam sayı, bir karakter dizisi, bir ondalık sayı ve biri yanlış diğeri doğru değerli iki Bool sayısı biçimindedir.<br><br>\n",
        "\n",
        "**NOT:** 0'dan farklı Bool sayılarının değeri her zaman için doğru kabul edilir."
      ],
      "metadata": {
        "id": "Pbknxx2SNRk1"
      }
    },
    {
      "cell_type": "code",
      "source": [
        "bool(3.62)"
      ],
      "metadata": {
        "colab": {
          "base_uri": "https://localhost:8080/"
        },
        "id": "6lW6wlfaL1v4",
        "outputId": "dc2ab245-391b-4d34-e17a-686d60fa54ca"
      },
      "execution_count": null,
      "outputs": [
        {
          "output_type": "execute_result",
          "data": {
            "text/plain": [
              "True"
            ]
          },
          "metadata": {},
          "execution_count": 23
        }
      ]
    },
    {
      "cell_type": "code",
      "source": [
        "#  0'dan farklı Bool sayılarının değeri her zaman için doğru \n",
        "#  kabul edilir.\n",
        "\n",
        "bool(101), bool(1) == bool(-3), bool(0), bool(0) == False"
      ],
      "metadata": {
        "colab": {
          "base_uri": "https://localhost:8080/"
        },
        "id": "HpY8BFNDM8Nh",
        "outputId": "552d0214-6109-453c-cff9-367a4490d422"
      },
      "execution_count": null,
      "outputs": [
        {
          "output_type": "execute_result",
          "data": {
            "text/plain": [
              "(True, True, False, True)"
            ]
          },
          "metadata": {},
          "execution_count": 12
        }
      ]
    },
    {
      "cell_type": "markdown",
      "source": [
        "Gruplayıcı nesnelerin üyeleri, 0. üyeden başlayarak sayarak adreslenirler ve bu adresle çağırılabilirler."
      ],
      "metadata": {
        "id": "TaFdOXKKOmRK"
      }
    },
    {
      "cell_type": "code",
      "source": [
        "değ"
      ],
      "metadata": {
        "colab": {
          "base_uri": "https://localhost:8080/"
        },
        "id": "OdJntNAOOZRP",
        "outputId": "10ea28ec-a55c-4918-fd49-6191cec9b787"
      },
      "execution_count": null,
      "outputs": [
        {
          "output_type": "execute_result",
          "data": {
            "text/plain": [
              "(1, 'Abc', 3.14, False, True)"
            ]
          },
          "metadata": {},
          "execution_count": 13
        }
      ]
    },
    {
      "cell_type": "code",
      "source": [
        "değ[2]"
      ],
      "metadata": {
        "colab": {
          "base_uri": "https://localhost:8080/"
        },
        "id": "Sqo6wz3ZMyL9",
        "outputId": "ed67e52e-0261-4c8f-f9f0-be1bc6c7d84c"
      },
      "execution_count": null,
      "outputs": [
        {
          "output_type": "execute_result",
          "data": {
            "text/plain": [
              "3.14"
            ]
          },
          "metadata": {},
          "execution_count": 27
        }
      ]
    },
    {
      "cell_type": "code",
      "source": [
        "#  değ'in ilk elemanını çağırıyorum.\n",
        "değ[0]"
      ],
      "metadata": {
        "colab": {
          "base_uri": "https://localhost:8080/"
        },
        "id": "35h1NsiaOyou",
        "outputId": "3d51fcc3-7ea4-42d4-f786-a09fc0c35716"
      },
      "execution_count": null,
      "outputs": [
        {
          "output_type": "execute_result",
          "data": {
            "text/plain": [
              "1"
            ]
          },
          "metadata": {},
          "execution_count": 28
        }
      ]
    },
    {
      "cell_type": "code",
      "source": [
        "#  değ değişkeninin son elemanını çağırıyorum.\n",
        "değ[-3]"
      ],
      "metadata": {
        "colab": {
          "base_uri": "https://localhost:8080/"
        },
        "id": "0fpkp0o7NIjV",
        "outputId": "2ef8ea2d-b3ea-4007-ec20-98b413b172a0"
      },
      "execution_count": null,
      "outputs": [
        {
          "output_type": "execute_result",
          "data": {
            "text/plain": [
              "3.14"
            ]
          },
          "metadata": {},
          "execution_count": 30
        }
      ]
    },
    {
      "cell_type": "code",
      "source": [
        "#  değ'in ikinci elemanının son elemanını çağırıyorum.\n",
        "değ[1][-1]"
      ],
      "metadata": {
        "colab": {
          "base_uri": "https://localhost:8080/",
          "height": 36
        },
        "id": "XkNVukPGO3QN",
        "outputId": "63604243-56e1-4758-ddb6-0d5532190f28"
      },
      "execution_count": null,
      "outputs": [
        {
          "output_type": "execute_result",
          "data": {
            "text/plain": [
              "'b'"
            ],
            "application/vnd.google.colaboratory.intrinsic+json": {
              "type": "string"
            }
          },
          "metadata": {},
          "execution_count": 35
        }
      ]
    },
    {
      "cell_type": "code",
      "source": [
        "değ[0] = 3"
      ],
      "metadata": {
        "colab": {
          "base_uri": "https://localhost:8080/",
          "height": 165
        },
        "id": "E843rQ12OBup",
        "outputId": "ad22b3a5-9dd9-457f-a4a5-27c7c7ad304c"
      },
      "execution_count": null,
      "outputs": [
        {
          "output_type": "error",
          "ename": "TypeError",
          "evalue": "ignored",
          "traceback": [
            "\u001b[0;31m---------------------------------------------------------------------------\u001b[0m",
            "\u001b[0;31mTypeError\u001b[0m                                 Traceback (most recent call last)",
            "\u001b[0;32m<ipython-input-37-3df7aab8edd2>\u001b[0m in \u001b[0;36m<module>\u001b[0;34m\u001b[0m\n\u001b[0;32m----> 1\u001b[0;31m \u001b[0mdeğ\u001b[0m\u001b[0;34m[\u001b[0m\u001b[0;36m0\u001b[0m\u001b[0;34m]\u001b[0m \u001b[0;34m=\u001b[0m \u001b[0;36m3\u001b[0m\u001b[0;34m\u001b[0m\u001b[0;34m\u001b[0m\u001b[0m\n\u001b[0m",
            "\u001b[0;31mTypeError\u001b[0m: 'tuple' object does not support item assignment"
          ]
        }
      ]
    },
    {
      "cell_type": "markdown",
      "source": [
        "Yeniden ifa edelim. Demetlerin üyeleri güncellenemez."
      ],
      "metadata": {
        "id": "RVEFwruXO-l4"
      }
    },
    {
      "cell_type": "code",
      "source": [
        "değ[1]"
      ],
      "metadata": {
        "colab": {
          "base_uri": "https://localhost:8080/",
          "height": 35
        },
        "id": "L3fpRtruO8pF",
        "outputId": "54df6bde-31d4-4278-bd77-0557f52478c0"
      },
      "execution_count": null,
      "outputs": [
        {
          "output_type": "execute_result",
          "data": {
            "text/plain": [
              "'Abc'"
            ],
            "application/vnd.google.colaboratory.intrinsic+json": {
              "type": "string"
            }
          },
          "metadata": {},
          "execution_count": 16
        }
      ]
    },
    {
      "cell_type": "code",
      "source": [
        "#  değ'in ikinci elemanını \"Vyz\" olarak güncellemeyi deniyorum.\n",
        "değ[1] = \"Vyz\""
      ],
      "metadata": {
        "colab": {
          "base_uri": "https://localhost:8080/",
          "height": 183
        },
        "id": "uh4V-tvPPJuK",
        "outputId": "ad691e4a-db3b-404f-f2b6-d38a024a8b23"
      },
      "execution_count": null,
      "outputs": [
        {
          "output_type": "error",
          "ename": "TypeError",
          "evalue": "ignored",
          "traceback": [
            "\u001b[0;31m---------------------------------------------------------------------------\u001b[0m",
            "\u001b[0;31mTypeError\u001b[0m                                 Traceback (most recent call last)",
            "\u001b[0;32m<ipython-input-17-c90e1e3078c7>\u001b[0m in \u001b[0;36m<module>\u001b[0;34m\u001b[0m\n\u001b[1;32m      1\u001b[0m \u001b[0;31m#  değ'in ikinci elemanını \"Vyz\" olarak güncellemeyi deniyorum.\u001b[0m\u001b[0;34m\u001b[0m\u001b[0;34m\u001b[0m\u001b[0;34m\u001b[0m\u001b[0m\n\u001b[0;32m----> 2\u001b[0;31m \u001b[0mdeğ\u001b[0m\u001b[0;34m[\u001b[0m\u001b[0;36m1\u001b[0m\u001b[0;34m]\u001b[0m \u001b[0;34m=\u001b[0m \u001b[0;34m\"Vyz\"\u001b[0m\u001b[0;34m\u001b[0m\u001b[0;34m\u001b[0m\u001b[0m\n\u001b[0m",
            "\u001b[0;31mTypeError\u001b[0m: 'tuple' object does not support item assignment"
          ]
        }
      ]
    },
    {
      "cell_type": "markdown",
      "source": [
        "Biz biraz önce bir karakter dizisinin içindeki herbir karakeri (harf, boşluk, sayı) adresi ile çağırabileceğimizi mi gördük?"
      ],
      "metadata": {
        "id": "4YYyK4fPPlQQ"
      }
    },
    {
      "cell_type": "code",
      "source": [
        "#  yeni bir değişken...\n",
        "d = \"Mustafa Mehmet BAYAR\"\n",
        "d"
      ],
      "metadata": {
        "colab": {
          "base_uri": "https://localhost:8080/",
          "height": 36
        },
        "id": "qdsqN5t0PR-T",
        "outputId": "18909342-58c4-457a-dd8b-15fbeefb1aef"
      },
      "execution_count": null,
      "outputs": [
        {
          "output_type": "execute_result",
          "data": {
            "text/plain": [
              "'Mustafa Mehmet BAYAR'"
            ],
            "application/vnd.google.colaboratory.intrinsic+json": {
              "type": "string"
            }
          },
          "metadata": {},
          "execution_count": 38
        }
      ]
    },
    {
      "cell_type": "code",
      "source": [
        "d[8:13+1]"
      ],
      "metadata": {
        "colab": {
          "base_uri": "https://localhost:8080/",
          "height": 36
        },
        "id": "JW8jQjdGP3lb",
        "outputId": "47d1699f-3160-4cc0-9cbd-c8c42163f699"
      },
      "execution_count": null,
      "outputs": [
        {
          "output_type": "execute_result",
          "data": {
            "text/plain": [
              "'Mehmet'"
            ],
            "application/vnd.google.colaboratory.intrinsic+json": {
              "type": "string"
            }
          },
          "metadata": {},
          "execution_count": 46
        }
      ]
    },
    {
      "cell_type": "code",
      "source": [
        "#  d içinde tanımlı karakter dizisi içindeki ilk sözcüğü \n",
        "#  çağırıyorum. Bunun için ilk sözcüğün kaçıncı karakterde bittiğini\n",
        "#  sayıyorum.\n",
        "\n",
        "d[0:6]\n"
      ],
      "metadata": {
        "colab": {
          "base_uri": "https://localhost:8080/",
          "height": 35
        },
        "id": "zS9HHBfNP6AG",
        "outputId": "f4c0874d-0181-40d9-8454-fca0ed85942d"
      },
      "execution_count": null,
      "outputs": [
        {
          "output_type": "execute_result",
          "data": {
            "text/plain": [
              "'Mustaf'"
            ],
            "application/vnd.google.colaboratory.intrinsic+json": {
              "type": "string"
            }
          },
          "metadata": {},
          "execution_count": 21
        }
      ]
    },
    {
      "cell_type": "markdown",
      "source": [
        "Köşeli parantez içinde bir adres aralığı belirtilerek bu adres aralığındaki tüm veri çağırılabilir.<br>\n",
        "**DİKKAT:** Adres aralığı verildiğinde ilk adresteki üye çağırılırken son adresteki üye çağırılmaz.<br>\n",
        "**ÖNERİ:** Adres aralığı kullanırken bir yazım üslubunu alışkanlık edininiz ve bunu değiştirmeyiniz. Ör. d[0:6+1]"
      ],
      "metadata": {
        "id": "Lg8nutG2QPaX"
      }
    },
    {
      "cell_type": "code",
      "source": [
        "#  d[0:6+1] yazımı\n",
        "d[0:6+1]"
      ],
      "metadata": {
        "colab": {
          "base_uri": "https://localhost:8080/",
          "height": 36
        },
        "id": "fWUDAW0bQMw2",
        "outputId": "8a6722c1-2183-4639-bb3c-f346a15e8857"
      },
      "execution_count": null,
      "outputs": [
        {
          "output_type": "execute_result",
          "data": {
            "text/plain": [
              "'Mustafa'"
            ],
            "application/vnd.google.colaboratory.intrinsic+json": {
              "type": "string"
            }
          },
          "metadata": {},
          "execution_count": 47
        }
      ]
    },
    {
      "cell_type": "code",
      "source": [
        "#  Acaba karakter dizilerinin içindeki üyeler \n",
        "#  değiştirilebilir mi? \n",
        "#  Yoksa demetler gibi değiştilemiyorlar mı?\n",
        "\n",
        "d[0:6+1] = 'Dr. M.'\n",
        "d"
      ],
      "metadata": {
        "colab": {
          "base_uri": "https://localhost:8080/",
          "height": 217
        },
        "id": "Dxk0f4d4QxWG",
        "outputId": "01d05ce9-4018-4b1e-c405-7546272f2ef9"
      },
      "execution_count": null,
      "outputs": [
        {
          "output_type": "error",
          "ename": "TypeError",
          "evalue": "ignored",
          "traceback": [
            "\u001b[0;31m---------------------------------------------------------------------------\u001b[0m",
            "\u001b[0;31mTypeError\u001b[0m                                 Traceback (most recent call last)",
            "\u001b[0;32m<ipython-input-48-6daedcfe632a>\u001b[0m in \u001b[0;36m<module>\u001b[0;34m\u001b[0m\n\u001b[1;32m      3\u001b[0m \u001b[0;31m#  Yoksa demetler gibi değiştilemiyorlar mı?\u001b[0m\u001b[0;34m\u001b[0m\u001b[0;34m\u001b[0m\u001b[0m\n\u001b[1;32m      4\u001b[0m \u001b[0;34m\u001b[0m\u001b[0m\n\u001b[0;32m----> 5\u001b[0;31m \u001b[0md\u001b[0m\u001b[0;34m[\u001b[0m\u001b[0;36m0\u001b[0m\u001b[0;34m:\u001b[0m\u001b[0;36m6\u001b[0m\u001b[0;34m+\u001b[0m\u001b[0;36m1\u001b[0m\u001b[0;34m]\u001b[0m \u001b[0;34m=\u001b[0m \u001b[0;34m'Dr. M.'\u001b[0m\u001b[0;34m\u001b[0m\u001b[0;34m\u001b[0m\u001b[0m\n\u001b[0m\u001b[1;32m      6\u001b[0m \u001b[0md\u001b[0m\u001b[0;34m\u001b[0m\u001b[0;34m\u001b[0m\u001b[0m\n",
            "\u001b[0;31mTypeError\u001b[0m: 'str' object does not support item assignment"
          ]
        }
      ]
    },
    {
      "cell_type": "code",
      "source": [
        "d = \"Dr. \" + d"
      ],
      "metadata": {
        "id": "Jl4Ky-4jPKBI"
      },
      "execution_count": null,
      "outputs": []
    },
    {
      "cell_type": "code",
      "source": [
        "d"
      ],
      "metadata": {
        "colab": {
          "base_uri": "https://localhost:8080/",
          "height": 36
        },
        "id": "9knNYWbwPS0P",
        "outputId": "fe419981-8651-444f-8092-a26f4ea77fcc"
      },
      "execution_count": null,
      "outputs": [
        {
          "output_type": "execute_result",
          "data": {
            "text/plain": [
              "'Dr. Mustafa Mehmet BAYAR'"
            ],
            "application/vnd.google.colaboratory.intrinsic+json": {
              "type": "string"
            }
          },
          "metadata": {},
          "execution_count": 52
        }
      ]
    },
    {
      "cell_type": "markdown",
      "source": [
        "Demetlere ekleme yapılamaz ve demet üyelerinin değerleri güncellenemez.<br><br>\n",
        "Karakter dizilerinin de üyeleri güncellenemez ancak; ekleme yapılabilir (bkz. Toplama işlemi)."
      ],
      "metadata": {
        "id": "Tg2GIaYVW_NO"
      }
    },
    {
      "cell_type": "code",
      "source": [
        "değ"
      ],
      "metadata": {
        "colab": {
          "base_uri": "https://localhost:8080/"
        },
        "id": "2w9iNUqVXhXn",
        "outputId": "5c4123bf-48fa-4562-c5f9-326c8680fa93"
      },
      "execution_count": null,
      "outputs": [
        {
          "output_type": "execute_result",
          "data": {
            "text/plain": [
              "(1, 'Abc', 3.14, False, True)"
            ]
          },
          "metadata": {},
          "execution_count": 53
        }
      ]
    },
    {
      "cell_type": "code",
      "source": [
        "#  Bir demetin ne tipte bir nesne olduğunu type() fonksiyonu ile bulalım.\n",
        "\n",
        "type(değ)"
      ],
      "metadata": {
        "colab": {
          "base_uri": "https://localhost:8080/"
        },
        "id": "k07etIUoRXiv",
        "outputId": "078e3421-b26f-454b-f55e-ae8d61443c44"
      },
      "execution_count": null,
      "outputs": [
        {
          "output_type": "execute_result",
          "data": {
            "text/plain": [
              "tuple"
            ]
          },
          "metadata": {},
          "execution_count": 54
        }
      ]
    },
    {
      "cell_type": "markdown",
      "source": [
        "###  **List (Liste)**<br><br>\n",
        "\n",
        "Listeler, demetlere son derece benzeyen Python nesneleridir. Liste ve demet arasındaki en önemli fark, demetler tanımlandıktan sonra bir daha değiştirilemeyen statik nesnelerken listeler;\n",
        "- Sonradan üye eklenebilen,\n",
        "- Mevcut üyeleri listeden çıkarılabilen,\n",
        "- Üyeleri güncellenebilen\n",
        "yani dinamik gruplayıcı nesnelerdir."
      ],
      "metadata": {
        "id": "Y2NpyiifX939"
      }
    },
    {
      "cell_type": "code",
      "source": [
        "#  Önceden tanımladığımız değişken içindeki demeti hatırlayalım.\n",
        "\n",
        "değ"
      ],
      "metadata": {
        "colab": {
          "base_uri": "https://localhost:8080/"
        },
        "id": "2-fJzCn2Xbnq",
        "outputId": "bee8b411-3215-47d5-888d-819142194293"
      },
      "execution_count": null,
      "outputs": [
        {
          "output_type": "execute_result",
          "data": {
            "text/plain": [
              "(1, 'Abc', 3.14, False, True)"
            ]
          },
          "metadata": {},
          "execution_count": 55
        }
      ]
    },
    {
      "cell_type": "code",
      "source": [
        "#  Bu üyeleri içeren bir liste tanımlayalım.\n",
        "#  Yöntem 1: list() fonksiyonu kullanımı\n",
        "\n",
        "list(\n",
        "    (1, 'Abc', 3.14, False, True)\n",
        "    )"
      ],
      "metadata": {
        "colab": {
          "base_uri": "https://localhost:8080/"
        },
        "id": "v-F5lSmRa45U",
        "outputId": "6fd839d4-4a8c-4bac-ef7c-65c6ab5f345b"
      },
      "execution_count": null,
      "outputs": [
        {
          "output_type": "execute_result",
          "data": {
            "text/plain": [
              "[1, 'Abc', 3.14, False, True]"
            ]
          },
          "metadata": {},
          "execution_count": 56
        }
      ]
    },
    {
      "cell_type": "code",
      "source": [
        "['Ayşe Nur', 'Mariama', 'Fatma', 'Gülfidan', 'Nisanur', 'Zemzem', ]"
      ],
      "metadata": {
        "colab": {
          "base_uri": "https://localhost:8080/"
        },
        "id": "MTIN1WlfTxMh",
        "outputId": "8fa4a508-1c82-4f5a-942c-3b8d663b7af8"
      },
      "execution_count": null,
      "outputs": [
        {
          "output_type": "execute_result",
          "data": {
            "text/plain": [
              "['Ayşe Nur', 'Mariama', 'Fatma', 'Gülfidan', 'Nisanur', 'Zemzem']"
            ]
          },
          "metadata": {},
          "execution_count": 57
        }
      ]
    },
    {
      "cell_type": "code",
      "source": [
        "#  Yöntem 2: köşeli parantez kullanımı\n",
        "[1, 'Abc', 3.14, False, True]"
      ],
      "metadata": {
        "colab": {
          "base_uri": "https://localhost:8080/"
        },
        "id": "xcjFPLypb8yg",
        "outputId": "e6d79ead-2610-4f6b-8973-4fe2efabbfb6"
      },
      "execution_count": null,
      "outputs": [
        {
          "output_type": "execute_result",
          "data": {
            "text/plain": [
              "[1, 'Abc', 3.14, False, True]"
            ]
          },
          "metadata": {},
          "execution_count": 40
        }
      ]
    },
    {
      "cell_type": "code",
      "source": [
        "[1, 'Abc', 3.14, False, True] == list((1, 'Abc', 3.14, False, True))"
      ],
      "metadata": {
        "colab": {
          "base_uri": "https://localhost:8080/"
        },
        "id": "-P-lv1Fib9-5",
        "outputId": "ad44624a-0867-4072-ae0e-8cf2fa60ea23"
      },
      "execution_count": null,
      "outputs": [
        {
          "output_type": "execute_result",
          "data": {
            "text/plain": [
              "True"
            ]
          },
          "metadata": {},
          "execution_count": 58
        }
      ]
    },
    {
      "cell_type": "code",
      "source": [
        "#  Yeni bir değişken...\n",
        "l = [1, 'Abc', 3.14, False, True]\n",
        "l"
      ],
      "metadata": {
        "colab": {
          "base_uri": "https://localhost:8080/"
        },
        "id": "egETC_D6b_4e",
        "outputId": "97cea2c4-3969-4a5d-e345-491bafea342c"
      },
      "execution_count": null,
      "outputs": [
        {
          "output_type": "execute_result",
          "data": {
            "text/plain": [
              "[1, 'Abc', 3.14, False, True]"
            ]
          },
          "metadata": {},
          "execution_count": 59
        }
      ]
    },
    {
      "cell_type": "code",
      "source": [
        "#  Listemizin 3. üyesini güncelleyelim\n",
        "l[2]"
      ],
      "metadata": {
        "colab": {
          "base_uri": "https://localhost:8080/"
        },
        "id": "GghQW3DxcdQx",
        "outputId": "8b663abd-eabf-4104-9323-df4fdea39049"
      },
      "execution_count": null,
      "outputs": [
        {
          "output_type": "execute_result",
          "data": {
            "text/plain": [
              "3.14"
            ]
          },
          "metadata": {},
          "execution_count": 64
        }
      ]
    },
    {
      "cell_type": "code",
      "source": [
        "l[2] = 2.71\n",
        "l"
      ],
      "metadata": {
        "colab": {
          "base_uri": "https://localhost:8080/"
        },
        "id": "X4HeB0eYdHxc",
        "outputId": "09954851-1ab6-4dd2-dce5-f1f9f0ae7ff1"
      },
      "execution_count": null,
      "outputs": [
        {
          "output_type": "execute_result",
          "data": {
            "text/plain": [
              "[1, 'Abc', 2.71, False, True]"
            ]
          },
          "metadata": {},
          "execution_count": 65
        }
      ]
    },
    {
      "cell_type": "code",
      "source": [
        "l.append('Burak')\n",
        "l"
      ],
      "metadata": {
        "colab": {
          "base_uri": "https://localhost:8080/"
        },
        "id": "ApoqAbXHUyws",
        "outputId": "1a454752-8c8e-44cc-b2a6-cd0962df3016"
      },
      "execution_count": null,
      "outputs": [
        {
          "output_type": "execute_result",
          "data": {
            "text/plain": [
              "[1, 'Abc', 2.71, False, True, 'Burak']"
            ]
          },
          "metadata": {},
          "execution_count": 67
        }
      ]
    },
    {
      "cell_type": "code",
      "source": [
        "#  Listemizin sonuna yeni bir üye ekleyelim\n",
        "l.append('Yeni üye')\n",
        "l"
      ],
      "metadata": {
        "colab": {
          "base_uri": "https://localhost:8080/"
        },
        "id": "qqGLLgAxdKq-",
        "outputId": "53645d08-e0e5-46e7-bfe5-c19ab40657f1"
      },
      "execution_count": null,
      "outputs": [
        {
          "output_type": "execute_result",
          "data": {
            "text/plain": [
              "[1, 'Abc', 2.71, False, True, 'Burak', 'Yeni üye']"
            ]
          },
          "metadata": {},
          "execution_count": 68
        }
      ]
    },
    {
      "cell_type": "code",
      "source": [
        "#  Listemizin son elemanını silelim\n",
        "l.pop()"
      ],
      "metadata": {
        "colab": {
          "base_uri": "https://localhost:8080/",
          "height": 36
        },
        "id": "ACLIqhXedWBs",
        "outputId": "054fea95-68c3-4d69-9ceb-303203773bb7"
      },
      "execution_count": null,
      "outputs": [
        {
          "output_type": "execute_result",
          "data": {
            "text/plain": [
              "'Yeni üye'"
            ],
            "application/vnd.google.colaboratory.intrinsic+json": {
              "type": "string"
            }
          },
          "metadata": {},
          "execution_count": 69
        }
      ]
    },
    {
      "cell_type": "code",
      "source": [
        "l"
      ],
      "metadata": {
        "colab": {
          "base_uri": "https://localhost:8080/"
        },
        "id": "rdmTsdoOVL2l",
        "outputId": "6d7a61bb-e4b6-488b-ba13-48e6780af2de"
      },
      "execution_count": null,
      "outputs": [
        {
          "output_type": "execute_result",
          "data": {
            "text/plain": [
              "[1, 'Abc', 2.71, False, True, 'Burak']"
            ]
          },
          "metadata": {},
          "execution_count": 70
        }
      ]
    },
    {
      "cell_type": "markdown",
      "source": [
        "liste.pop() metodu, listenin son adres indisindeki elemanı siler ve hücre çıktısı olarak silinen elemanı yazdırır."
      ],
      "metadata": {
        "id": "q6P0mn7Hdg1v"
      }
    },
    {
      "cell_type": "code",
      "source": [
        "l = [1, 'Abc', 2.71, False, True, 'Burak']\n",
        "l"
      ],
      "metadata": {
        "colab": {
          "base_uri": "https://localhost:8080/"
        },
        "id": "gzbIwsfidbRz",
        "outputId": "cfb31306-f911-455e-e7ce-a4d676657006"
      },
      "execution_count": null,
      "outputs": [
        {
          "output_type": "execute_result",
          "data": {
            "text/plain": [
              "[1, 'Abc', 2.71, False, True, 'Burak']"
            ]
          },
          "metadata": {},
          "execution_count": 78
        }
      ]
    },
    {
      "cell_type": "code",
      "source": [
        "l.remove( l[3] )"
      ],
      "metadata": {
        "id": "gcHu15w4VVLM"
      },
      "execution_count": null,
      "outputs": []
    },
    {
      "cell_type": "code",
      "source": [
        "l"
      ],
      "metadata": {
        "colab": {
          "base_uri": "https://localhost:8080/"
        },
        "id": "iKUK031_ViIk",
        "outputId": "51039885-9325-4443-dcad-6f54dea0db91"
      },
      "execution_count": null,
      "outputs": [
        {
          "output_type": "execute_result",
          "data": {
            "text/plain": [
              "[1, 'Abc', 2.71, True, 'Burak']"
            ]
          },
          "metadata": {},
          "execution_count": 80
        }
      ]
    },
    {
      "cell_type": "code",
      "source": [
        "#  Listemizin ikinci elemanını silelim\n",
        "l[1]"
      ],
      "metadata": {
        "colab": {
          "base_uri": "https://localhost:8080/",
          "height": 35
        },
        "id": "riYTliWwdd1T",
        "outputId": "f1e97f60-c731-48f3-89c5-813a80169a1a"
      },
      "execution_count": null,
      "outputs": [
        {
          "output_type": "execute_result",
          "data": {
            "text/plain": [
              "'Abc'"
            ],
            "application/vnd.google.colaboratory.intrinsic+json": {
              "type": "string"
            }
          },
          "metadata": {},
          "execution_count": 51
        }
      ]
    },
    {
      "cell_type": "code",
      "source": [
        "l.remove('Abc')"
      ],
      "metadata": {
        "id": "m3ovokTjdc9G"
      },
      "execution_count": null,
      "outputs": []
    },
    {
      "cell_type": "code",
      "source": [
        "l"
      ],
      "metadata": {
        "colab": {
          "base_uri": "https://localhost:8080/"
        },
        "id": "MhYtB7IPd1RS",
        "outputId": "1a85c264-5fcf-4c74-c5e5-5b46b6dda8a1"
      },
      "execution_count": null,
      "outputs": [
        {
          "output_type": "execute_result",
          "data": {
            "text/plain": [
              "[1, 2.71, False, True]"
            ]
          },
          "metadata": {},
          "execution_count": 54
        }
      ]
    },
    {
      "cell_type": "markdown",
      "source": [
        "liste.remove() fonksiyonu içine değeri yazılan elemanı listeden siler."
      ],
      "metadata": {
        "id": "V5ya6HtNd9rB"
      }
    },
    {
      "cell_type": "code",
      "source": [
        "#  Aynı komutu yeniden çalıştıralım\n",
        "l.remove('Abc')"
      ],
      "metadata": {
        "colab": {
          "base_uri": "https://localhost:8080/",
          "height": 183
        },
        "id": "8qS20eVad7oB",
        "outputId": "d1d2adee-2504-46aa-d86b-cb70328402bd"
      },
      "execution_count": null,
      "outputs": [
        {
          "output_type": "error",
          "ename": "ValueError",
          "evalue": "ignored",
          "traceback": [
            "\u001b[0;31m---------------------------------------------------------------------------\u001b[0m",
            "\u001b[0;31mValueError\u001b[0m                                Traceback (most recent call last)",
            "\u001b[0;32m<ipython-input-55-d9cb26d27d2b>\u001b[0m in \u001b[0;36m<module>\u001b[0;34m\u001b[0m\n\u001b[1;32m      1\u001b[0m \u001b[0;31m#  Aynı komutu yeniden çalıştıralım\u001b[0m\u001b[0;34m\u001b[0m\u001b[0;34m\u001b[0m\u001b[0;34m\u001b[0m\u001b[0m\n\u001b[0;32m----> 2\u001b[0;31m \u001b[0ml\u001b[0m\u001b[0;34m.\u001b[0m\u001b[0mremove\u001b[0m\u001b[0;34m(\u001b[0m\u001b[0;34m'Abc'\u001b[0m\u001b[0;34m)\u001b[0m\u001b[0;34m\u001b[0m\u001b[0;34m\u001b[0m\u001b[0m\n\u001b[0m",
            "\u001b[0;31mValueError\u001b[0m: list.remove(x): x not in list"
          ]
        }
      ]
    },
    {
      "cell_type": "code",
      "source": [
        "l"
      ],
      "metadata": {
        "colab": {
          "base_uri": "https://localhost:8080/"
        },
        "id": "ScC8ofb8WbHR",
        "outputId": "16c93367-bf42-4a65-ee7f-596577e4c587"
      },
      "execution_count": null,
      "outputs": [
        {
          "output_type": "execute_result",
          "data": {
            "text/plain": [
              "[1, 'Abc', 2.71, True, 'Burak']"
            ]
          },
          "metadata": {},
          "execution_count": 81
        }
      ]
    },
    {
      "cell_type": "code",
      "source": [
        "l.pop()\n",
        "l"
      ],
      "metadata": {
        "colab": {
          "base_uri": "https://localhost:8080/"
        },
        "id": "uTOTSzVaWhmE",
        "outputId": "8b6c87fe-5688-4901-d100-5e50cc63dc50"
      },
      "execution_count": null,
      "outputs": [
        {
          "output_type": "execute_result",
          "data": {
            "text/plain": [
              "[1, 'Abc', 2.71, True]"
            ]
          },
          "metadata": {},
          "execution_count": 82
        }
      ]
    },
    {
      "cell_type": "code",
      "source": [
        "l.insert(0,'Burak')\n",
        "l"
      ],
      "metadata": {
        "colab": {
          "base_uri": "https://localhost:8080/"
        },
        "id": "7ZNINLu9Wjd2",
        "outputId": "ddd51844-6c70-4492-e218-c8f89e66235b"
      },
      "execution_count": null,
      "outputs": [
        {
          "output_type": "execute_result",
          "data": {
            "text/plain": [
              "['Burak', 1, 'Abc', 2.71, True]"
            ]
          },
          "metadata": {},
          "execution_count": 83
        }
      ]
    },
    {
      "cell_type": "markdown",
      "source": [
        "Listede bulunmayan bir elemanı .remove() metodu ile silemeyiz."
      ],
      "metadata": {
        "id": "ZZ39i1-VeHIi"
      }
    },
    {
      "cell_type": "code",
      "source": [
        "l.insert(1,'Abc')\n",
        "l"
      ],
      "metadata": {
        "colab": {
          "base_uri": "https://localhost:8080/"
        },
        "id": "-ci6aqXaeGJF",
        "outputId": "81faa51d-45a8-4bd8-fe7a-e1c8e0676caa"
      },
      "execution_count": null,
      "outputs": [
        {
          "output_type": "execute_result",
          "data": {
            "text/plain": [
              "[1, 'Abc', 2.71, False, True]"
            ]
          },
          "metadata": {},
          "execution_count": 56
        }
      ]
    },
    {
      "cell_type": "markdown",
      "source": [
        "liste.insert() metodu önce indis (adres) ve ardından bir virgülden sonra eklenecek üyenin değeri ile çalışır.<br>\n",
        "Bu metod ile listenin istenilen adresine istenilen değerde bir üye eklenebilir."
      ],
      "metadata": {
        "id": "jAzbwBVseUpM"
      }
    },
    {
      "cell_type": "code",
      "source": [
        "#  .remove() metodunu farklı bir biçimde kullanalım.\n",
        "l"
      ],
      "metadata": {
        "colab": {
          "base_uri": "https://localhost:8080/"
        },
        "id": "KgQ4n3jweTxT",
        "outputId": "2951c43d-8a10-4df3-e239-9141f7e364a5"
      },
      "execution_count": null,
      "outputs": [
        {
          "output_type": "execute_result",
          "data": {
            "text/plain": [
              "[1, 'Abc', 2.71, False, True]"
            ]
          },
          "metadata": {},
          "execution_count": 57
        }
      ]
    },
    {
      "cell_type": "code",
      "source": [
        "l.remove(l[1])\n",
        "l"
      ],
      "metadata": {
        "colab": {
          "base_uri": "https://localhost:8080/"
        },
        "id": "b1xoos1le79n",
        "outputId": "5a901618-7b72-485f-871d-da830e21ce59"
      },
      "execution_count": null,
      "outputs": [
        {
          "output_type": "execute_result",
          "data": {
            "text/plain": [
              "[1, 2.71, False, True]"
            ]
          },
          "metadata": {},
          "execution_count": 58
        }
      ]
    },
    {
      "cell_type": "code",
      "source": [
        "#  Karakter dizileri ve demetler listelere dönüştürülebilir\n",
        "#  Bir demetin listeye dönüştürülmesi\n",
        "list(değ)"
      ],
      "metadata": {
        "colab": {
          "base_uri": "https://localhost:8080/"
        },
        "id": "6kPghWW-e_Yh",
        "outputId": "c78775b5-93ba-4143-d1ae-fcecaf264e7d"
      },
      "execution_count": null,
      "outputs": [
        {
          "output_type": "execute_result",
          "data": {
            "text/plain": [
              "[1, 'Abc', 3.14, False, True]"
            ]
          },
          "metadata": {},
          "execution_count": 59
        }
      ]
    },
    {
      "cell_type": "code",
      "source": [
        "#  Bir karakter dizisinin listeye dönüştürülmesi\n",
        "list(\"Mustafa Mehmet BAYAR\")"
      ],
      "metadata": {
        "colab": {
          "base_uri": "https://localhost:8080/"
        },
        "id": "1NsjVIxZfI0u",
        "outputId": "827eade8-0667-4259-d7a2-d7ad9908c22d"
      },
      "execution_count": null,
      "outputs": [
        {
          "output_type": "execute_result",
          "data": {
            "text/plain": [
              "['M',\n",
              " 'u',\n",
              " 's',\n",
              " 't',\n",
              " 'a',\n",
              " 'f',\n",
              " 'a',\n",
              " ' ',\n",
              " 'M',\n",
              " 'e',\n",
              " 'h',\n",
              " 'm',\n",
              " 'e',\n",
              " 't',\n",
              " ' ',\n",
              " 'B',\n",
              " 'A',\n",
              " 'Y',\n",
              " 'A',\n",
              " 'R']"
            ]
          },
          "metadata": {},
          "execution_count": 61
        }
      ]
    },
    {
      "cell_type": "code",
      "source": [
        "#  Bir listenin nesne tipini type() fonksiyonu ile öğrenmek\n",
        "boş = []\n",
        "type(boş)"
      ],
      "metadata": {
        "colab": {
          "base_uri": "https://localhost:8080/"
        },
        "id": "OOvu_K6ofnNb",
        "outputId": "0b7ecba0-d2f6-462f-b324-f72630e381bb"
      },
      "execution_count": null,
      "outputs": [
        {
          "output_type": "execute_result",
          "data": {
            "text/plain": [
              "list"
            ]
          },
          "metadata": {},
          "execution_count": 84
        }
      ]
    },
    {
      "cell_type": "markdown",
      "source": [
        "###  **Dictionary (Sözlük)**<br><br>\n",
        "\n",
        "**Bir sözlüğü elinize alınız ve açıp bakınız...**<br>\n",
        "Sözlüğü incelerken sayfalar üzerinde bir dizi sözcüğü (anahtarı) ve bu sözcüğün anlamını (değerini) bulacaksınız.<br><br>\n",
        "Sözlük (dictionary) tipi gruplayıcı nesneler de benzer bir yapıda anahtar (key) ve değer (value) ikililerinden oluşur.<br><br>\n",
        "Bir anahtara sahip olmasıyla diğer gruplayıcılardan ayrışan sözlüklerin üyeleri adres bilgisi (indis) ile çağırılmaz; bunun yerine üyelerin değerleri anahtarları ile çağırılırlar."
      ],
      "metadata": {
        "id": "c_PSpLqQffXr"
      }
    },
    {
      "cell_type": "code",
      "source": [
        "sözlük = {'Ali':'İnşaat Mühendisi', 'Ayşe': 'Sosyolog'}\n",
        "sözlük"
      ],
      "metadata": {
        "colab": {
          "base_uri": "https://localhost:8080/"
        },
        "id": "w4MfIZ6VXiCF",
        "outputId": "7a3b773f-16ca-41d4-e180-4f1c2a55db29"
      },
      "execution_count": null,
      "outputs": [
        {
          "output_type": "execute_result",
          "data": {
            "text/plain": [
              "{'Ali': 'İnşaat Mühendisi', 'Ayşe': 'Sosyolog'}"
            ]
          },
          "metadata": {},
          "execution_count": 88
        }
      ]
    },
    {
      "cell_type": "code",
      "source": [
        "sözlük['Ayşe']"
      ],
      "metadata": {
        "colab": {
          "base_uri": "https://localhost:8080/",
          "height": 36
        },
        "id": "QQOzX9a9YDA0",
        "outputId": "1f8b099b-0abe-4b75-e4ca-31b11baad078"
      },
      "execution_count": null,
      "outputs": [
        {
          "output_type": "execute_result",
          "data": {
            "text/plain": [
              "'Sosyolog'"
            ],
            "application/vnd.google.colaboratory.intrinsic+json": {
              "type": "string"
            }
          },
          "metadata": {},
          "execution_count": 90
        }
      ]
    },
    {
      "cell_type": "code",
      "source": [
        "#  Bir sözlük oluşturalım ve bir değişkene atayalım.\n",
        "s = {'Mehmet':'CB',\n",
        "'Tomris':'AA',\n",
        "'Safir':'DC',\n",
        "'Irmak':'BA'}\n",
        "\n",
        "s"
      ],
      "metadata": {
        "colab": {
          "base_uri": "https://localhost:8080/"
        },
        "id": "WXw-lZBgfM4S",
        "outputId": "b3887f65-3957-464d-f6fc-78ba30cae62f"
      },
      "execution_count": null,
      "outputs": [
        {
          "output_type": "execute_result",
          "data": {
            "text/plain": [
              "{'Mehmet': 'CB', 'Tomris': 'AA', 'Safir': 'DC', 'Irmak': 'BA'}"
            ]
          },
          "metadata": {},
          "execution_count": 91
        }
      ]
    },
    {
      "cell_type": "code",
      "source": [
        "#  Sözlüğün ilk üyesini adresi ile çağırmaya çalışalım\n",
        "s[0]"
      ],
      "metadata": {
        "colab": {
          "base_uri": "https://localhost:8080/",
          "height": 182
        },
        "id": "dj7mL2OtmVvT",
        "outputId": "50a09194-cf4f-4d24-cd5e-d60f9565ac0b"
      },
      "execution_count": null,
      "outputs": [
        {
          "output_type": "error",
          "ename": "KeyError",
          "evalue": "ignored",
          "traceback": [
            "\u001b[0;31m---------------------------------------------------------------------------\u001b[0m",
            "\u001b[0;31mKeyError\u001b[0m                                  Traceback (most recent call last)",
            "\u001b[0;32m<ipython-input-92-2efb6afb55a2>\u001b[0m in \u001b[0;36m<module>\u001b[0;34m\u001b[0m\n\u001b[1;32m      1\u001b[0m \u001b[0;31m#  Sözlüğün ilk üyesini adresi ile çağırmaya çalışalım\u001b[0m\u001b[0;34m\u001b[0m\u001b[0;34m\u001b[0m\u001b[0m\n\u001b[0;32m----> 2\u001b[0;31m \u001b[0ms\u001b[0m\u001b[0;34m[\u001b[0m\u001b[0;36m0\u001b[0m\u001b[0;34m]\u001b[0m\u001b[0;34m\u001b[0m\u001b[0;34m\u001b[0m\u001b[0m\n\u001b[0m",
            "\u001b[0;31mKeyError\u001b[0m: 0"
          ]
        }
      ]
    },
    {
      "cell_type": "code",
      "source": [
        "list(sözlük.values())"
      ],
      "metadata": {
        "colab": {
          "base_uri": "https://localhost:8080/"
        },
        "id": "vbCrxPXHZE6z",
        "outputId": "4d737ed9-3e10-4818-99e9-fbe704565e4b"
      },
      "execution_count": null,
      "outputs": [
        {
          "output_type": "execute_result",
          "data": {
            "text/plain": [
              "['İnşaat Mühendisi', 'Sosyolog']"
            ]
          },
          "metadata": {},
          "execution_count": 97
        }
      ]
    },
    {
      "cell_type": "code",
      "source": [
        "list(sözlük.keys())"
      ],
      "metadata": {
        "colab": {
          "base_uri": "https://localhost:8080/"
        },
        "id": "I18pRdxuZKqK",
        "outputId": "5d7f58b6-80c5-4c9b-cae2-ef047f532fef"
      },
      "execution_count": null,
      "outputs": [
        {
          "output_type": "execute_result",
          "data": {
            "text/plain": [
              "['Ali', 'Ayşe']"
            ]
          },
          "metadata": {},
          "execution_count": 96
        }
      ]
    },
    {
      "cell_type": "code",
      "source": [
        "#  Sözlüğün ilk üyesini adresi ile çağırmaya çalışalım\n",
        "list( s.keys() )[0]"
      ],
      "metadata": {
        "colab": {
          "base_uri": "https://localhost:8080/",
          "height": 35
        },
        "id": "z2UkQykemzoX",
        "outputId": "3bccd8f5-277a-4ac4-8881-c9decffc794d"
      },
      "execution_count": null,
      "outputs": [
        {
          "output_type": "execute_result",
          "data": {
            "text/plain": [
              "'Mehmet'"
            ],
            "application/vnd.google.colaboratory.intrinsic+json": {
              "type": "string"
            }
          },
          "metadata": {},
          "execution_count": 77
        }
      ]
    },
    {
      "cell_type": "code",
      "source": [
        "s[ list( s.keys() )[0] ]"
      ],
      "metadata": {
        "colab": {
          "base_uri": "https://localhost:8080/",
          "height": 35
        },
        "id": "VjJZEtebm72M",
        "outputId": "63008caa-6bcd-4ce2-c596-c3e00e4462d7"
      },
      "execution_count": null,
      "outputs": [
        {
          "output_type": "execute_result",
          "data": {
            "text/plain": [
              "'CB'"
            ],
            "application/vnd.google.colaboratory.intrinsic+json": {
              "type": "string"
            }
          },
          "metadata": {},
          "execution_count": 78
        }
      ]
    },
    {
      "cell_type": "code",
      "source": [
        "#  Sözlük üyelerinin değerleri anahtarlar üzerinden çağırılır.\n",
        "#  Bakalım kedim hangi notu almış...\n",
        "s['Safir']"
      ],
      "metadata": {
        "colab": {
          "base_uri": "https://localhost:8080/",
          "height": 36
        },
        "id": "bsM9vJLCnLZv",
        "outputId": "a5409f8d-2cce-4798-f96a-f2a242663040"
      },
      "execution_count": null,
      "outputs": [
        {
          "output_type": "execute_result",
          "data": {
            "text/plain": [
              "'DC'"
            ],
            "application/vnd.google.colaboratory.intrinsic+json": {
              "type": "string"
            }
          },
          "metadata": {},
          "execution_count": 98
        }
      ]
    },
    {
      "cell_type": "code",
      "source": [
        "#  Belki de kedimin notunu yanlış hesaplamışımdır...\n",
        "s['Safir'] = 'FF'\n",
        "s"
      ],
      "metadata": {
        "colab": {
          "base_uri": "https://localhost:8080/"
        },
        "id": "hXF_dZ-BpmJ8",
        "outputId": "18fa9999-6e5b-4102-da79-ca55a955f778"
      },
      "execution_count": null,
      "outputs": [
        {
          "output_type": "execute_result",
          "data": {
            "text/plain": [
              "{'Mehmet': 'CB', 'Tomris': 'AA', 'Safir': 'FF', 'Irmak': 'BA'}"
            ]
          },
          "metadata": {},
          "execution_count": 99
        }
      ]
    },
    {
      "cell_type": "code",
      "source": [
        "#  Sonradan farkettim ki Safinaz'ın notunu girmeyi unutmuşum...\n",
        "s['Safinaz'] = 'CC'\n",
        "s"
      ],
      "metadata": {
        "colab": {
          "base_uri": "https://localhost:8080/"
        },
        "id": "HUtYl2rVpweu",
        "outputId": "1e62d05a-e537-4ba5-ad39-b32d69c7e515"
      },
      "execution_count": null,
      "outputs": [
        {
          "output_type": "execute_result",
          "data": {
            "text/plain": [
              "{'Mehmet': 'CB', 'Tomris': 'AA', 'Safir': 'FF', 'Irmak': 'BA', 'Safinaz': 'CC'}"
            ]
          },
          "metadata": {},
          "execution_count": 100
        }
      ]
    },
    {
      "cell_type": "code",
      "source": [
        "#  Sözlüklerde sözlük.pop() metodu, içine anahtarı girilen \n",
        "#  sözlük üyesini siler.\n",
        "#  Listelerdeki gibi son üyeyi silmediğine dikkat ediniz.\n",
        "s.pop('Safinaz')\n",
        "s"
      ],
      "metadata": {
        "colab": {
          "base_uri": "https://localhost:8080/"
        },
        "id": "jMt_vJxKu3nC",
        "outputId": "bc6e1a47-27b8-4ceb-a6d0-3a397fcecb21"
      },
      "execution_count": null,
      "outputs": [
        {
          "output_type": "execute_result",
          "data": {
            "text/plain": [
              "{'Mehmet': 'CB', 'Tomris': 'AA', 'Safir': 'FF', 'Irmak': 'BA'}"
            ]
          },
          "metadata": {},
          "execution_count": 101
        }
      ]
    },
    {
      "cell_type": "code",
      "source": [
        "s"
      ],
      "metadata": {
        "colab": {
          "base_uri": "https://localhost:8080/"
        },
        "id": "5AoXYp9lZ13H",
        "outputId": "477aa9f6-1abb-446c-eaac-9030ad29bdf4"
      },
      "execution_count": null,
      "outputs": [
        {
          "output_type": "execute_result",
          "data": {
            "text/plain": [
              "{'Mehmet': 'CB', 'Tomris': 'AA', 'Safir': 'FF', 'Irmak': 'BA'}"
            ]
          },
          "metadata": {},
          "execution_count": 102
        }
      ]
    },
    {
      "cell_type": "code",
      "source": [
        "adı_değişenin_notu = s['Safir']"
      ],
      "metadata": {
        "id": "eDuNY6LRZ6Ty"
      },
      "execution_count": null,
      "outputs": []
    },
    {
      "cell_type": "code",
      "source": [
        "s.pop('Safir')"
      ],
      "metadata": {
        "colab": {
          "base_uri": "https://localhost:8080/",
          "height": 36
        },
        "id": "xCBsCbr7Z6Xb",
        "outputId": "40b3d9f5-9a2e-47dc-89dd-4ded0bae8928"
      },
      "execution_count": null,
      "outputs": [
        {
          "output_type": "execute_result",
          "data": {
            "text/plain": [
              "'FF'"
            ],
            "application/vnd.google.colaboratory.intrinsic+json": {
              "type": "string"
            }
          },
          "metadata": {},
          "execution_count": 105
        }
      ]
    },
    {
      "cell_type": "code",
      "source": [
        "s"
      ],
      "metadata": {
        "colab": {
          "base_uri": "https://localhost:8080/"
        },
        "id": "eAU1FeQuaG9E",
        "outputId": "da1d48c3-ce86-4342-f737-b3c3b61e0491"
      },
      "execution_count": null,
      "outputs": [
        {
          "output_type": "execute_result",
          "data": {
            "text/plain": [
              "{'Mehmet': 'CB', 'Tomris': 'AA', 'Irmak': 'BA'}"
            ]
          },
          "metadata": {},
          "execution_count": 106
        }
      ]
    },
    {
      "cell_type": "code",
      "source": [
        "s['Topak'] = adı_değişenin_notu\n",
        "s"
      ],
      "metadata": {
        "colab": {
          "base_uri": "https://localhost:8080/"
        },
        "id": "PNX_3wmBaIhs",
        "outputId": "4b3eb25c-a880-4be1-f181-666f3f8edc4d"
      },
      "execution_count": null,
      "outputs": [
        {
          "output_type": "execute_result",
          "data": {
            "text/plain": [
              "{'Mehmet': 'CB', 'Tomris': 'AA', 'Irmak': 'BA', 'Topak': 'FF'}"
            ]
          },
          "metadata": {},
          "execution_count": 107
        }
      ]
    },
    {
      "cell_type": "code",
      "source": [
        "type(sözlük)"
      ],
      "metadata": {
        "colab": {
          "base_uri": "https://localhost:8080/"
        },
        "id": "8GBZ5RG6akP7",
        "outputId": "ea64b0b7-b66d-443c-bcc3-4a2aebe934f7"
      },
      "execution_count": null,
      "outputs": [
        {
          "output_type": "execute_result",
          "data": {
            "text/plain": [
              "dict"
            ]
          },
          "metadata": {},
          "execution_count": 108
        }
      ]
    },
    {
      "cell_type": "markdown",
      "source": [
        "Bir gruplayıcı değişken kullanmak istediğinizde %95 olasılıkla liste ya da sözlük kullanıyor olacaksınız. Bu iki nesneyi kullanmaya alışmanızı öneririm."
      ],
      "metadata": {
        "id": "BS6g9qYlyjmI"
      }
    },
    {
      "cell_type": "code",
      "source": [
        "#  Bir s değişkenine atanan değerin nesne tipini type()\n",
        "#  fonksiyonunu kullanarak bulalım.\n",
        "\n",
        "type(s)"
      ],
      "metadata": {
        "colab": {
          "base_uri": "https://localhost:8080/"
        },
        "id": "0qBHpwK5zm4g",
        "outputId": "3d71cf11-df84-4cd7-cf3a-81b760b8f9a2"
      },
      "execution_count": null,
      "outputs": [
        {
          "output_type": "execute_result",
          "data": {
            "text/plain": [
              "dict"
            ]
          },
          "metadata": {},
          "execution_count": 109
        }
      ]
    },
    {
      "cell_type": "markdown",
      "source": [
        "###  **Set (Küme)**<br><br>\n",
        "\n",
        "Demetlerde ve listelerde üyeler tekrarlanabilirler"
      ],
      "metadata": {
        "id": "2ESbUWzJzg1_"
      }
    },
    {
      "cell_type": "code",
      "source": [
        "ad = 'Mustafa Mehmet Bayar'\n",
        "ad"
      ],
      "metadata": {
        "colab": {
          "base_uri": "https://localhost:8080/",
          "height": 36
        },
        "id": "A2JqDoArbNRn",
        "outputId": "296327bb-e31d-45f4-8a73-c5c71b5ab61e"
      },
      "execution_count": null,
      "outputs": [
        {
          "output_type": "execute_result",
          "data": {
            "text/plain": [
              "'Mustafa Mehmet Bayar'"
            ],
            "application/vnd.google.colaboratory.intrinsic+json": {
              "type": "string"
            }
          },
          "metadata": {},
          "execution_count": 111
        }
      ]
    },
    {
      "cell_type": "code",
      "source": [
        "list(ad)"
      ],
      "metadata": {
        "colab": {
          "base_uri": "https://localhost:8080/"
        },
        "id": "fOx-P1BkbXF1",
        "outputId": "4cb37a82-c74e-48b2-b6b7-c02f9b118eeb"
      },
      "execution_count": null,
      "outputs": [
        {
          "output_type": "execute_result",
          "data": {
            "text/plain": [
              "['M',\n",
              " 'u',\n",
              " 's',\n",
              " 't',\n",
              " 'a',\n",
              " 'f',\n",
              " 'a',\n",
              " ' ',\n",
              " 'M',\n",
              " 'e',\n",
              " 'h',\n",
              " 'm',\n",
              " 'e',\n",
              " 't',\n",
              " ' ',\n",
              " 'B',\n",
              " 'a',\n",
              " 'y',\n",
              " 'a',\n",
              " 'r']"
            ]
          },
          "metadata": {},
          "execution_count": 112
        }
      ]
    },
    {
      "cell_type": "code",
      "source": [
        "set( ad )"
      ],
      "metadata": {
        "colab": {
          "base_uri": "https://localhost:8080/"
        },
        "id": "tWo3tzLFbkTv",
        "outputId": "a624ecfc-5a9c-450b-87e7-74c64caf6528"
      },
      "execution_count": null,
      "outputs": [
        {
          "output_type": "execute_result",
          "data": {
            "text/plain": [
              "{' ', 'B', 'M', 'a', 'e', 'f', 'h', 'm', 'r', 's', 't', 'u', 'y'}"
            ]
          },
          "metadata": {},
          "execution_count": 113
        }
      ]
    },
    {
      "cell_type": "code",
      "source": [],
      "metadata": {
        "id": "gDvX4jBVbXIH"
      },
      "execution_count": null,
      "outputs": []
    },
    {
      "cell_type": "code",
      "source": [
        "(1,1,2,3,5,8,13)"
      ],
      "metadata": {
        "colab": {
          "base_uri": "https://localhost:8080/"
        },
        "id": "O70ODcBXw6qe",
        "outputId": "cdc2e6d4-7e79-473b-d004-c1da5faa8196"
      },
      "execution_count": null,
      "outputs": [
        {
          "output_type": "execute_result",
          "data": {
            "text/plain": [
              "(1, 1, 2, 3, 5, 8, 13)"
            ]
          },
          "metadata": {},
          "execution_count": 91
        }
      ]
    },
    {
      "cell_type": "code",
      "source": [
        "[1,1,2,3,5,8,13]"
      ],
      "metadata": {
        "colab": {
          "base_uri": "https://localhost:8080/"
        },
        "id": "jFux-FNS0a8g",
        "outputId": "3590eff7-3b15-46ef-ef7d-e3e8ffd9af2b"
      },
      "execution_count": null,
      "outputs": [
        {
          "output_type": "execute_result",
          "data": {
            "text/plain": [
              "[1, 1, 2, 3, 5, 8, 13]"
            ]
          },
          "metadata": {},
          "execution_count": 92
        }
      ]
    },
    {
      "cell_type": "markdown",
      "source": [
        "Tekrarlanan üyelerin yalnızca bir defa izlendiği bir gruplayıcıya ihtiyaç duyuyorsanız kümeler size başka bir gruplayıcının biricik üyelerini verecektir."
      ],
      "metadata": {
        "id": "5cnXHuIs0fKb"
      }
    },
    {
      "cell_type": "code",
      "source": [
        "#  Bir listenin biricik üyelerini set() fonksiyonu ile bulalım\n",
        "k = set( (1,1,2,3,5,8,13) )\n",
        "k"
      ],
      "metadata": {
        "colab": {
          "base_uri": "https://localhost:8080/"
        },
        "id": "u5-f7C070eMB",
        "outputId": "9f7da29c-ee55-42dc-f292-b60fc28f0fc3"
      },
      "execution_count": null,
      "outputs": [
        {
          "output_type": "execute_result",
          "data": {
            "text/plain": [
              "{1, 2, 3, 5, 8, 13}"
            ]
          },
          "metadata": {},
          "execution_count": 114
        }
      ]
    },
    {
      "cell_type": "markdown",
      "source": [
        "####  **Sınıfiçi çalışma**\n",
        "\n",
        "Bir gruplayıcı içerisindeki birbirinden farklı (biricik) değerli üye sayısı nedir?"
      ],
      "metadata": {
        "id": "XNDBdXQY16OF"
      }
    },
    {
      "cell_type": "code",
      "source": [
        "#  İnceleyeceğiniz gruplayıcı şöyledir:\n",
        "\n",
        "g = [1,23,2,3,56,45,3,6,9,23,1,4,56,32,0,2,54,6,3,0,4,5,6,2,145,6,3,2,1,5,23,1,45,6,5,8,9,6,23,6,9,87,45,2,]"
      ],
      "metadata": {
        "id": "z80r-YWE1SXY"
      },
      "execution_count": null,
      "outputs": []
    },
    {
      "cell_type": "code",
      "source": [
        "g"
      ],
      "metadata": {
        "id": "EYT06FvFdUH0",
        "outputId": "8b36fe01-1ba8-4e73-b44f-1317d760f500",
        "colab": {
          "base_uri": "https://localhost:8080/"
        }
      },
      "execution_count": null,
      "outputs": [
        {
          "output_type": "execute_result",
          "data": {
            "text/plain": [
              "[1,\n",
              " 23,\n",
              " 2,\n",
              " 3,\n",
              " 56,\n",
              " 45,\n",
              " 3,\n",
              " 6,\n",
              " 9,\n",
              " 23,\n",
              " 1,\n",
              " 4,\n",
              " 56,\n",
              " 32,\n",
              " 0,\n",
              " 2,\n",
              " 54,\n",
              " 6,\n",
              " 3,\n",
              " 0,\n",
              " 4,\n",
              " 5,\n",
              " 6,\n",
              " 2,\n",
              " 145,\n",
              " 6,\n",
              " 3,\n",
              " 2,\n",
              " 1,\n",
              " 5,\n",
              " 23,\n",
              " 1,\n",
              " 45,\n",
              " 6,\n",
              " 5,\n",
              " 8,\n",
              " 9,\n",
              " 6,\n",
              " 23,\n",
              " 6,\n",
              " 9,\n",
              " 87,\n",
              " 45,\n",
              " 2]"
            ]
          },
          "metadata": {},
          "execution_count": 122
        }
      ]
    },
    {
      "cell_type": "code",
      "source": [
        "g = set( g )"
      ],
      "metadata": {
        "id": "zOoOBnMpcHxA"
      },
      "execution_count": null,
      "outputs": []
    },
    {
      "cell_type": "code",
      "source": [
        "g"
      ],
      "metadata": {
        "colab": {
          "base_uri": "https://localhost:8080/"
        },
        "id": "tEoNOS7QcH2m",
        "outputId": "85312449-a01d-4a9f-a6f0-6195e4c6a94f"
      },
      "execution_count": null,
      "outputs": [
        {
          "output_type": "execute_result",
          "data": {
            "text/plain": [
              "{0, 1, 2, 3, 4, 5, 6, 8, 9, 23, 32, 45, 54, 56, 87, 145}"
            ]
          },
          "metadata": {},
          "execution_count": 119
        }
      ]
    },
    {
      "cell_type": "code",
      "source": [
        "len( g )"
      ],
      "metadata": {
        "colab": {
          "base_uri": "https://localhost:8080/"
        },
        "id": "CSd1qcGhc5DK",
        "outputId": "ca9a9d3b-6f35-490d-f8e6-bf436ea69b08"
      },
      "execution_count": null,
      "outputs": [
        {
          "output_type": "execute_result",
          "data": {
            "text/plain": [
              "16"
            ]
          },
          "metadata": {},
          "execution_count": 120
        }
      ]
    },
    {
      "cell_type": "markdown",
      "source": [
        "#  <br><br><br>**HAFTA 4**<br><br><br>"
      ],
      "metadata": {
        "id": "A7dXO0cYTfGA"
      }
    },
    {
      "cell_type": "markdown",
      "source": [
        "## **Döngüler**<br>\n",
        "- **\"for\" Döngüleri**,\n",
        "- **\"while\" Döngüleri**<br><br>\n",
        "\n",
        "Python için bu derste size sunulacak iki tip döngü vardır: for döngüleri ve while döngüleri.<br><br>\n",
        "For döngüleri bir gruplayıcı Python nesnesi içerisindeki herbir üyeyi belirli bir kurala göre (indis sırası, anahtar yaratım sırası, vb.) tek tek döngü içinde tanımlanan sürece sokan ve gruplayıcı nesne içerisinde artık işlenebilecek bir üye kalmadığında sonlanan bir döngüdür.<br>\n",
        "For döngülerinde gruplayıcı nesne içerisindeki üyeler yalnızca birer defa işlenirler.<br>\n",
        "For döngüleri, veri bilimi ve makine öğrenmesi bakış açısından bakıldığında, bir defalık çalışacak projelerde sıklıkla kullanacağınız bir araçtır. Otomasyon süreçlerinin en çok tercih edilen aracıdır.<br><br>\n",
        "While döngüleri ise belirtilen bir önermenin değeri \"True\" (doğru) olduğu sürece çalışan ve önerme eğer \"False\" (yanlış) değerini alamazsa sonsuza kadar çalışmaya devam edecek döngülerdir.<br>\n",
        "While döngüleri kullanılırken sıklıkla bir adım sayacı değişkeni tanımlanır ve herbir döngü işleminde (adımda) sayaç değeri 1 artırılarak güncellenir.<br>\n",
        "Sonsuza kadar çalışan while döngüleri, tekrarlanan projeler için (nesne tanıma ile otonom araçların yön bulma kararlarının üretilmesi, vb.) sıklıkla kullanılır ancak; bu derste sizin için büyük olasılıkla arzu edilmeyen bir durumdur.<br>\n",
        "Sonsuza kadar çalışan while döngülerini sonlandırmak için \"Ctrl + C\"yi kullanabilirsiniz."
      ],
      "metadata": {
        "id": "JoR-F34UTles"
      }
    },
    {
      "cell_type": "code",
      "source": [
        "#  Yeni bir gruplayıcı Python nesnesi: range()\n",
        "\n",
        "range(0,10+1,2), type( range(0,10+1,2) )"
      ],
      "metadata": {
        "id": "hwONR7lr2QKQ",
        "colab": {
          "base_uri": "https://localhost:8080/"
        },
        "outputId": "719eaffd-1497-4012-d876-a9110c72533b"
      },
      "execution_count": null,
      "outputs": [
        {
          "output_type": "execute_result",
          "data": {
            "text/plain": [
              "(range(0, 11, 2), range)"
            ]
          },
          "metadata": {},
          "execution_count": 2
        }
      ]
    },
    {
      "cell_type": "code",
      "source": [
        "#  Bir range nesnesinin bir liste nesnesine dönüştülmesi\n",
        "\n",
        "list( range(0,10+1,2) )"
      ],
      "metadata": {
        "colab": {
          "base_uri": "https://localhost:8080/"
        },
        "id": "HxRPMNrPWMl4",
        "outputId": "e22a0cf4-1e4c-4d78-e133-881028f698cd"
      },
      "execution_count": null,
      "outputs": [
        {
          "output_type": "execute_result",
          "data": {
            "text/plain": [
              "[0, 2, 4, 6, 8, 10]"
            ]
          },
          "metadata": {},
          "execution_count": 5
        }
      ]
    },
    {
      "cell_type": "code",
      "source": [
        "#  iki gruplayıcının birleştirilmesi yoluyla bir sözlük nesnesinin üretimi: zip() ve dict () fonksiyonları\n",
        "\n",
        "dict(\n",
        "    zip(\n",
        "        range(0,5+1,1),\n",
        "        ['A','B','C','D','E']\n",
        "        )\n",
        "    )"
      ],
      "metadata": {
        "colab": {
          "base_uri": "https://localhost:8080/"
        },
        "id": "-HqdoKAHWXjh",
        "outputId": "aac72b84-a55e-4917-bafb-0763dac1d317"
      },
      "execution_count": null,
      "outputs": [
        {
          "output_type": "execute_result",
          "data": {
            "text/plain": [
              "{0: 'A', 1: 'B', 2: 'C', 3: 'D', 4: 'E'}"
            ]
          },
          "metadata": {},
          "execution_count": 7
        }
      ]
    },
    {
      "cell_type": "code",
      "source": [
        "#  İlk \"for\" döngümüz: bir demetin tüm üyelerinin yazdırılması\n",
        "\n",
        "#    d değişkenine bir demet atıyoruz\n",
        "d = (1,2,3)\n",
        "\n",
        "#    for döngüsü 1. üslup\n",
        "for üye in d:\n",
        "  print(üye)"
      ],
      "metadata": {
        "colab": {
          "base_uri": "https://localhost:8080/"
        },
        "id": "bkbQgCqlaSBV",
        "outputId": "b72126c7-8241-4579-dc5a-ed2b300f37bf"
      },
      "execution_count": null,
      "outputs": [
        {
          "output_type": "stream",
          "name": "stdout",
          "text": [
            "1\n",
            "2\n",
            "3\n"
          ]
        }
      ]
    },
    {
      "cell_type": "code",
      "source": [
        "#    for döngüsü 2. üslup\n",
        "for indis in range( len(d) ):\n",
        "  print( d[indis] )"
      ],
      "metadata": {
        "colab": {
          "base_uri": "https://localhost:8080/"
        },
        "id": "k78k5MaQbM2U",
        "outputId": "fb015141-0b2b-47fa-9ba2-4dafbf08d8e9"
      },
      "execution_count": null,
      "outputs": [
        {
          "output_type": "stream",
          "name": "stdout",
          "text": [
            "1\n",
            "2\n",
            "3\n"
          ]
        }
      ]
    },
    {
      "cell_type": "code",
      "source": [
        "#  Bir listenin tüm üyelerin kümülatif olarak artışının izlenmesi ve her adımda değerlerin yazdırılması\n",
        "\n",
        "#    l değişkenine bir liste atıyoruz\n",
        "l = list( range(0,10+1,1) )\n",
        "\n",
        "#  för döngüsü 2. üslup\n",
        "kümülatif_toplam = 0\n",
        "for indis in range( len(l) ):\n",
        "  kümülatif_toplam += l[indis]\n",
        "  print( kümülatif_toplam )"
      ],
      "metadata": {
        "colab": {
          "base_uri": "https://localhost:8080/"
        },
        "id": "SH8-zTvWbcfk",
        "outputId": "a0dcca81-329d-48d4-84ee-e6a59c7f6f3c"
      },
      "execution_count": null,
      "outputs": [
        {
          "output_type": "stream",
          "name": "stdout",
          "text": [
            "0\n",
            "1\n",
            "3\n",
            "6\n",
            "10\n",
            "15\n",
            "21\n",
            "28\n",
            "36\n",
            "45\n",
            "55\n"
          ]
        }
      ]
    },
    {
      "cell_type": "markdown",
      "source": [
        "**try:**<br>\n",
        "- ilk deneme\n",
        "\n",
        "**except:**\n",
        " - ikinci deneme\n",
        "\n",
        "Döngüleri, hata verebilecek durumların yönetilerek döngülerin sürdürülebilmesi için kullanılan bir araçtır.<br><br>\n",
        "**try:** döngüsü altında hata verebilecek senaryo işlenir ve eğer bu senaryo hata verirse işletilecek B planı **except:** döngüsü içerisinde işlenir.<br>\n",
        "Eğer bir C planına ihtiyaç duyuluyorsa bu araca bir **finally:** döngüsü ilave edilebilir."
      ],
      "metadata": {
        "id": "v9aTlmeneZVn"
      }
    },
    {
      "cell_type": "code",
      "source": [
        "#  10 üyeli bir Fibonacci Serisi kesitinin bir liste olarak oluşturulması ve yazdırılması\n",
        "\n",
        "#    10 üyeli bir sayaç oluşturuyoruz\n",
        "sayaç = range(1,9+1,1)\n",
        "\n",
        "#    içinde yalnızca 1 üyesi bulunan bir liste tanımluyoruz\n",
        "fib = [1]\n",
        "\n",
        "#    for döngüsü\n",
        "for i in sayaç:\n",
        "  try:\n",
        "    fib.append( fib[-1] + bool(i)*fib[-2] )\n",
        "  except:\n",
        "    fib.append( fib[-1] )\n",
        "\n",
        "#    listenin son hali\n",
        "fib"
      ],
      "metadata": {
        "colab": {
          "base_uri": "https://localhost:8080/"
        },
        "id": "rXUCIPE8csjN",
        "outputId": "d40824bd-48a5-487b-f7e0-726f0a3a1dd4"
      },
      "execution_count": null,
      "outputs": [
        {
          "output_type": "execute_result",
          "data": {
            "text/plain": [
              "[1, 1, 2, 3, 5, 8, 13, 21, 34, 55]"
            ]
          },
          "metadata": {},
          "execution_count": 18
        }
      ]
    },
    {
      "cell_type": "markdown",
      "source": [
        "**pass, continue, break Komutları**<br><br>\n",
        "\n",
        " - **pass** komutu bir döngü adımı içerisinde yürütülen işlemlerden birini es geçerek adımın sürdürülmesi gerektiğinde kullanılan bir komuttur.<br><br>\n",
        " - **continue** komutu da bir döngü adımının sonlandırılarak döngünün sonraki adımdan devam etmesini sağlayan bir komuttur.<br><br>\n",
        " - **break** komutu ise bir döngünün tamamen sonlandırılmasını sağlar."
      ],
      "metadata": {
        "id": "ifUwfrFgfZtX"
      }
    },
    {
      "cell_type": "code",
      "source": [
        "#  pass komutu işleyişini anlamak\n",
        "\n",
        "for i in [1,2,3]:\n",
        "  print(i)\n",
        "  pass\n",
        "  print(i+1)"
      ],
      "metadata": {
        "colab": {
          "base_uri": "https://localhost:8080/"
        },
        "id": "DoUHFuEFds7R",
        "outputId": "e2dbed50-42f2-4c85-f972-7454730a7800"
      },
      "execution_count": null,
      "outputs": [
        {
          "output_type": "stream",
          "name": "stdout",
          "text": [
            "1\n",
            "2\n",
            "2\n",
            "3\n",
            "3\n",
            "4\n"
          ]
        }
      ]
    },
    {
      "cell_type": "code",
      "source": [
        "#  continue komutu işleyişini anlamak\n",
        "\n",
        "for i in [1,2,3]:\n",
        "  print(i)\n",
        "  continue\n",
        "  print(i+1)"
      ],
      "metadata": {
        "colab": {
          "base_uri": "https://localhost:8080/"
        },
        "id": "UECxrQimgIi2",
        "outputId": "a79dcec4-b71c-4ff8-d2f3-54d31729a7c5"
      },
      "execution_count": null,
      "outputs": [
        {
          "output_type": "stream",
          "name": "stdout",
          "text": [
            "1\n",
            "2\n",
            "3\n"
          ]
        }
      ]
    },
    {
      "cell_type": "code",
      "source": [
        "#  break komutu işleyişini anlamak\n",
        "\n",
        "for i in [1,2,3]:\n",
        "  print(i)\n",
        "  break\n",
        "  print(i+1)"
      ],
      "metadata": {
        "colab": {
          "base_uri": "https://localhost:8080/"
        },
        "id": "M5eAhN5-gqZq",
        "outputId": "0cbf07f1-9581-419c-e545-b3e3edf3a677"
      },
      "execution_count": null,
      "outputs": [
        {
          "output_type": "stream",
          "name": "stdout",
          "text": [
            "1\n"
          ]
        }
      ]
    },
    {
      "cell_type": "code",
      "source": [
        "#  Bir sözlüğün üyelerinin for döngüsü ile yazdırılması deneyi\n",
        "\n",
        "#    s değişkenine bir sözlük atıyoruz\n",
        "s = {'A':'Ankara',\n",
        "     'B':'Bursa',\n",
        "     'İ':'İzmir'}\n",
        "\n",
        "#    döngü\n",
        "for i in s:\n",
        "  print(i)"
      ],
      "metadata": {
        "colab": {
          "base_uri": "https://localhost:8080/"
        },
        "id": "EIcNnDs8hOAn",
        "outputId": "c4d7c487-efa7-4b2e-f186-e0a5b2c7f243"
      },
      "execution_count": null,
      "outputs": [
        {
          "output_type": "stream",
          "name": "stdout",
          "text": [
            "A\n",
            "B\n",
            "İ\n"
          ]
        }
      ]
    },
    {
      "cell_type": "markdown",
      "source": [
        "For döngüleri liste üyelerinin yazdırıldığı biçimde sözlüklere uygulanırsa döngü çıktıları sözlüğün anahtarları olacaktır.<br><br>\n",
        "Eğer sözlüğün değerleri yazdırılmak isteniliyorsa sözlük.values() gruplayıcısı içinde döngü çalıştırılmalıdır."
      ],
      "metadata": {
        "id": "zunrVMGRh4Fu"
      }
    },
    {
      "cell_type": "code",
      "source": [
        "for i in s.values():\n",
        "  print(i)"
      ],
      "metadata": {
        "colab": {
          "base_uri": "https://localhost:8080/"
        },
        "id": "CGh2X8Qhhu9u",
        "outputId": "3772aa12-c254-440e-8668-caddee35ca75"
      },
      "execution_count": null,
      "outputs": [
        {
          "output_type": "stream",
          "name": "stdout",
          "text": [
            "Ankara\n",
            "Bursa\n",
            "İzmir\n"
          ]
        }
      ]
    },
    {
      "cell_type": "markdown",
      "source": [
        "Eğer sözlüğün anahtar - değer ikilileri yazdırılmak isteniliyorsa bu gruplayıcılar zip() fonksiyonu içine konularak for döngüsü uygulanmalıdır."
      ],
      "metadata": {
        "id": "L2CmiUunjSto"
      }
    },
    {
      "cell_type": "code",
      "source": [
        "for i in zip( s.keys(), s.values() ):\n",
        "  print(i)"
      ],
      "metadata": {
        "colab": {
          "base_uri": "https://localhost:8080/"
        },
        "id": "zffVg4iTjQvi",
        "outputId": "ab750069-67f2-4ccb-b276-03d32b861782"
      },
      "execution_count": null,
      "outputs": [
        {
          "output_type": "stream",
          "name": "stdout",
          "text": [
            "('A', 'Ankara')\n",
            "('B', 'Bursa')\n",
            "('İ', 'İzmir')\n"
          ]
        }
      ]
    },
    {
      "cell_type": "markdown",
      "source": [
        "ya da ikililer anahtar ve \"anahtar ile elde edilen değer\" kullanılarak yazılabilir"
      ],
      "metadata": {
        "id": "pFxnwahFjlvM"
      }
    },
    {
      "cell_type": "code",
      "source": [
        "for i in s:\n",
        "  print( (i, s[i]) )"
      ],
      "metadata": {
        "colab": {
          "base_uri": "https://localhost:8080/"
        },
        "id": "_u35_dLpjkFu",
        "outputId": "9b6e980b-05f2-4641-e9dc-49cc7af0ac79"
      },
      "execution_count": null,
      "outputs": [
        {
          "output_type": "stream",
          "name": "stdout",
          "text": [
            "('A', 'Ankara')\n",
            "('B', 'Bursa')\n",
            "('İ', 'İzmir')\n"
          ]
        }
      ]
    },
    {
      "cell_type": "code",
      "source": [
        "#  bir sözlük elemanının (Ankara) kaçıncı üye olduğunu bulmak\n",
        "s"
      ],
      "metadata": {
        "colab": {
          "base_uri": "https://localhost:8080/"
        },
        "id": "OzjaPViej_yX",
        "outputId": "ca686058-5b62-40a7-bf64-7a6c2a90a606"
      },
      "execution_count": null,
      "outputs": [
        {
          "output_type": "execute_result",
          "data": {
            "text/plain": [
              "{'A': 'Ankara', 'B': 'Bursa', 'İ': 'İzmir'}"
            ]
          },
          "metadata": {},
          "execution_count": 32
        }
      ]
    },
    {
      "cell_type": "code",
      "source": [
        "#  sözlüğün değerleri gruplayıcısı:\n",
        "s.values()"
      ],
      "metadata": {
        "colab": {
          "base_uri": "https://localhost:8080/"
        },
        "id": "losJI0IskXwt",
        "outputId": "cd9c5f0e-9999-4158-d9e3-ae5f361989ae"
      },
      "execution_count": null,
      "outputs": [
        {
          "output_type": "execute_result",
          "data": {
            "text/plain": [
              "dict_values(['Ankara', 'Bursa', 'İzmir'])"
            ]
          },
          "metadata": {},
          "execution_count": 33
        }
      ]
    },
    {
      "cell_type": "code",
      "source": [
        "#   sözlüğün değerlerinin listeye dönüştürülmesi\n",
        "list( s.values() )"
      ],
      "metadata": {
        "colab": {
          "base_uri": "https://localhost:8080/"
        },
        "id": "wnLMtyeikgOk",
        "outputId": "9f2f5f91-0528-4dcd-f372-6c7458fe4f46"
      },
      "execution_count": null,
      "outputs": [
        {
          "output_type": "execute_result",
          "data": {
            "text/plain": [
              "['Ankara', 'Bursa', 'İzmir']"
            ]
          },
          "metadata": {},
          "execution_count": 34
        }
      ]
    },
    {
      "cell_type": "code",
      "source": [
        "#  sözlüğün değerleri listesinde .index() metodunun kullanımı\n",
        "list( s.values() ).index('Ankara')"
      ],
      "metadata": {
        "colab": {
          "base_uri": "https://localhost:8080/"
        },
        "id": "PFiXqJRqkrVl",
        "outputId": "162ac0cd-3901-48d7-9c0e-fca6e82d360b"
      },
      "execution_count": null,
      "outputs": [
        {
          "output_type": "execute_result",
          "data": {
            "text/plain": [
              "0"
            ]
          },
          "metadata": {},
          "execution_count": 35
        }
      ]
    },
    {
      "cell_type": "code",
      "source": [
        "#  Üçüncü sıradaki sözlük değerinin çağırılması\n",
        "\n",
        "s[ list(s.keys())[2] ]"
      ],
      "metadata": {
        "colab": {
          "base_uri": "https://localhost:8080/",
          "height": 35
        },
        "id": "kzQIcwd-kzhg",
        "outputId": "b677a68f-5d6e-469c-8be3-828953908b57"
      },
      "execution_count": null,
      "outputs": [
        {
          "output_type": "execute_result",
          "data": {
            "text/plain": [
              "'İzmir'"
            ],
            "application/vnd.google.colaboratory.intrinsic+json": {
              "type": "string"
            }
          },
          "metadata": {},
          "execution_count": 36
        }
      ]
    },
    {
      "cell_type": "markdown",
      "source": [
        "### **while** Döngüleri <br><br>"
      ],
      "metadata": {
        "id": "QeVyRLZNAJXN"
      }
    },
    {
      "cell_type": "code",
      "source": [
        "#  while döngüleri bir önerme üzerinden çalışır.\n",
        "#    önerme doğru olduğu sürece döngü bir adım daha çalışır ve\n",
        "#    önerme yanlış olduğunda da mevcut adımı gerçekleştirmeden\n",
        "#    döngüyü sonlandırır.\n",
        "\n",
        "#      while döngüleri genelde bir sayaç değişkeni ile beraber kullanılır.\n",
        "\n",
        "sayaç = 0\n",
        "\n",
        "while sayaç != 10:\n",
        "  print(sayaç)\n",
        "  sayaç += 1      #  += 1 Python'da kullanılan bir kısayoldur: sayaç = sayaç + 1'in kısaltması"
      ],
      "metadata": {
        "id": "f6Fz_lZvlDM_",
        "colab": {
          "base_uri": "https://localhost:8080/"
        },
        "outputId": "8d3500b7-5220-472d-8189-16786bf39b93"
      },
      "execution_count": null,
      "outputs": [
        {
          "output_type": "stream",
          "name": "stdout",
          "text": [
            "0\n",
            "1\n",
            "2\n",
            "3\n",
            "4\n",
            "5\n",
            "6\n",
            "7\n",
            "8\n",
            "9\n"
          ]
        }
      ]
    },
    {
      "cell_type": "markdown",
      "source": [
        "**DİKKAT:**<br>sayaç değişkeni 10 değerli olduğunda bu değer yazdırılmadan ve tüm while döngüsünün sonlandırıldığını farkettiniz mi?"
      ],
      "metadata": {
        "id": "UPGDFV4IB9Wf"
      }
    },
    {
      "cell_type": "code",
      "source": [
        "sayaç"
      ],
      "metadata": {
        "colab": {
          "base_uri": "https://localhost:8080/"
        },
        "id": "rnEEXiXSC6oD",
        "outputId": "6e9513fa-153b-4b3c-e2f4-c492f9e0ddc9"
      },
      "execution_count": null,
      "outputs": [
        {
          "output_type": "execute_result",
          "data": {
            "text/plain": [
              "10"
            ]
          },
          "metadata": {},
          "execution_count": 2
        }
      ]
    },
    {
      "cell_type": "code",
      "source": [
        "#  while döngüleri önerme doğru olduğu sürece çalışmaya devam eder\n",
        "\n",
        "while True:\n",
        "  pass"
      ],
      "metadata": {
        "colab": {
          "base_uri": "https://localhost:8080/",
          "height": 200
        },
        "id": "EhIjqiIPB5d6",
        "outputId": "a7feb578-e13e-477f-9806-d3942760fabf"
      },
      "execution_count": null,
      "outputs": [
        {
          "output_type": "error",
          "ename": "KeyboardInterrupt",
          "evalue": "ignored",
          "traceback": [
            "\u001b[0;31m---------------------------------------------------------------------------\u001b[0m",
            "\u001b[0;31mKeyboardInterrupt\u001b[0m                         Traceback (most recent call last)",
            "\u001b[0;32m<ipython-input-3-6073f1da7bd7>\u001b[0m in \u001b[0;36m<module>\u001b[0;34m\u001b[0m\n\u001b[1;32m      2\u001b[0m \u001b[0;34m\u001b[0m\u001b[0m\n\u001b[1;32m      3\u001b[0m \u001b[0;32mwhile\u001b[0m \u001b[0;32mTrue\u001b[0m\u001b[0;34m:\u001b[0m\u001b[0;34m\u001b[0m\u001b[0;34m\u001b[0m\u001b[0m\n\u001b[0;32m----> 4\u001b[0;31m   \u001b[0;32mpass\u001b[0m\u001b[0;34m\u001b[0m\u001b[0;34m\u001b[0m\u001b[0m\n\u001b[0m",
            "\u001b[0;31mKeyboardInterrupt\u001b[0m: "
          ]
        }
      ]
    },
    {
      "cell_type": "markdown",
      "source": [
        "**SONSUZ WHILE DÖNGÜLERİ NASIL SONLANDIRILIR?**<br>\n",
        "Sonsuz while döngülerini sonlandırmak için;<br>\n",
        " - Çalışma Zamanı/\n",
        "   -  Yürütmeyi Kes\n",
        "\n",
        "Eğer başka bir Python çalıştırma ortamındaysanız muhtemelen CTRL + C işe yarayacaktır."
      ],
      "metadata": {
        "id": "BkjB4tRiDY5C"
      }
    },
    {
      "cell_type": "code",
      "source": [
        "#  While döngüsü ile Fibanacci Serisinin ilk 10 üyesini içeren bir liste oluşturmak\n",
        "\n",
        "#    Önce boş liste oluşturuyoruz.\n",
        "Fibonacci = list()\n",
        "\n",
        "#    İlk iki eleman dizinin genel kuralına uymuyor; onlar için ayrı bir kural uyguluyoruz:\n",
        "#    ilk iki eleman 1 olmalı\n",
        "while len(Fibonacci) < 2:\n",
        "  Fibonacci.append(1)\n",
        "\n",
        "#    Dizinin üçüncü elemanından itibaren düzen:\n",
        "#    Dizinin son elemanı, kendisinden önceki iki elemanın toplamıdır.\n",
        "while len(Fibonacci) <= 10:\n",
        "  Fibonacci.append(\n",
        "      Fibonacci[-1]+Fibonacci[-2]\n",
        "  )\n",
        "\n",
        "Fibonacci"
      ],
      "metadata": {
        "colab": {
          "base_uri": "https://localhost:8080/"
        },
        "id": "YwKv5pj9DA-p",
        "outputId": "3a64e0a7-5506-4012-b1d0-f6543d892026"
      },
      "execution_count": null,
      "outputs": [
        {
          "output_type": "execute_result",
          "data": {
            "text/plain": [
              "[1, 1, 2, 3, 5, 8, 13, 21, 34, 55, 89]"
            ]
          },
          "metadata": {},
          "execution_count": 6
        }
      ]
    },
    {
      "cell_type": "markdown",
      "source": [
        "**Alternatif:**<br>\n",
        "İç içe döngü kullanarak da bu işi yapabilirdik."
      ],
      "metadata": {
        "id": "ca4k7yI1GoFc"
      }
    },
    {
      "cell_type": "code",
      "source": [
        "Fibonacci = list()\n",
        "\n",
        "while len(Fibonacci) <= 10:\n",
        "\n",
        "  #  ilk iki elemana dair döngüyü genel dönügünün içine gömebiliriz\n",
        "  while len(Fibonacci) < 2:\n",
        "    Fibonacci.append(1)\n",
        "\n",
        "  Fibonacci.append(\n",
        "      Fibonacci[-1]+Fibonacci[-2]\n",
        "  )\n",
        "\n",
        "Fibonacci"
      ],
      "metadata": {
        "colab": {
          "base_uri": "https://localhost:8080/"
        },
        "id": "QnwPDGsQFpuq",
        "outputId": "8cfb616e-4c3b-4a32-d359-2b3d308c63fc"
      },
      "execution_count": null,
      "outputs": [
        {
          "output_type": "execute_result",
          "data": {
            "text/plain": [
              "[1, 1, 2, 3, 5, 8, 13, 21, 34, 55, 89]"
            ]
          },
          "metadata": {},
          "execution_count": 7
        }
      ]
    },
    {
      "cell_type": "markdown",
      "source": [
        "**DİKKAT:**<br>\n",
        "Bu while döngüsünde sayaç kullanmadık; farkettiniz mi?<br>\n",
        "Sayaç bizzat listenin eleman sayısıydı..."
      ],
      "metadata": {
        "id": "jS1pNTpKG_1K"
      }
    },
    {
      "cell_type": "markdown",
      "source": [
        "#  <br><br><br>**HAFTA 5**<br><br><br>"
      ],
      "metadata": {
        "id": "lJFLsXiyWY8V"
      }
    },
    {
      "cell_type": "markdown",
      "source": [
        "## **Koşullu ifadeler:**<br>\n",
        "- **if (..... ise .....)**,\n",
        "- **elif (..... değil ancak; ..... ise .....)**,\n",
        "- **else (bu koşulların hiçbiri değil ise .....)**<br><br>\n",
        "\n",
        "Döngüleri işledik. While döngülerinin belirli bir önerme doğru olduğu sürece çalışan bir yapı olduğundan bahsettik.<br><br>\n",
        "Koşullu ifadeler ile for döngülerini de while döngülerinin bu özelliği ile güçlendirmek gibi çok çeşitli faydalar sunan koşullu önerme süzgeçlerini bu derste tanıyacağız.<br><br>\n",
        "\"***if + önerme + :***\" koşullu ifadesi kendisinden sonraki işlemin ancak ve ancak if'i takip eden önerme doğru ise işletilmesini sağlar.<br><br>\n",
        "***elif + önerme + :*** koşullu ifadesi ise if'i takip eden ilk önerme doğru olmadığında ikinci bir süzgeç olarak devreye girer.<br>if'i takip eden önerme yanlış ve elif'i takip eden önerme doğru olduğunda kendisinden sonraki işlemin işletilmesini sağlar.<br><br>\n",
        "***else + :*** koşullu ifadesi ise kendisinden önce if'i ve tüm elif'leri takip eden önermeler yanlış olduğunda devreye girer ve kendisinden sonraki işlem bu halde işletilmesini sağlar."
      ],
      "metadata": {
        "id": "ldDFLgdvYQsO"
      }
    },
    {
      "cell_type": "code",
      "source": [
        "#  if koşullu ifadesinin bir örnek kullanımı\n",
        "\n",
        "#  rakalar içerisinde çift olanların yazdırılması\n",
        "for i in range(0,9+1,1):\n",
        "  if i%2 == 0:\n",
        "    print(i)"
      ],
      "metadata": {
        "id": "oSwPaC6rG3Jq",
        "colab": {
          "base_uri": "https://localhost:8080/"
        },
        "outputId": "e8c06c99-65dc-456d-945b-fb5c393c470f"
      },
      "execution_count": null,
      "outputs": [
        {
          "output_type": "stream",
          "name": "stdout",
          "text": [
            "0\n",
            "2\n",
            "4\n",
            "6\n",
            "8\n"
          ]
        }
      ]
    },
    {
      "cell_type": "code",
      "source": [
        "#  if ve elif ifadelerinin beraber kullanımı\n",
        "\n",
        "#  birden 30'a kadar sayıları tek veya çift olarak ayırmak\n",
        "tek = list()\n",
        "çift = list()\n",
        "\n",
        "for i in range(1,30+1,1):\n",
        "  if i%2 == 0:\n",
        "    çift.append(i)\n",
        "  elif i%2 > 0:\n",
        "    tek.append(i)\n",
        "\n",
        "print(\n",
        "    'tek =: ', tek\n",
        ")\n",
        "print(\n",
        "    'çift =: ', çift\n",
        ")"
      ],
      "metadata": {
        "colab": {
          "base_uri": "https://localhost:8080/"
        },
        "id": "ob5PBiX_g1jo",
        "outputId": "f721d8e3-4b1d-4b40-c3e0-e11002ebe8e2"
      },
      "execution_count": null,
      "outputs": [
        {
          "output_type": "stream",
          "name": "stdout",
          "text": [
            "tek =:  [1, 3, 5, 7, 9, 11, 13, 15, 17, 19, 21, 23, 25, 27, 29]\n",
            "çift =:  [2, 4, 6, 8, 10, 12, 14, 16, 18, 20, 22, 24, 26, 28, 30]\n"
          ]
        }
      ]
    },
    {
      "cell_type": "code",
      "source": [
        "#  if, elif ve else ifadelerinin beraber kullanımı\n",
        "\n",
        "#    0'dan 100'e kadar olan asal sayıların sayısının bulunması\n",
        "asal = list()\n",
        "\n",
        "for i in range(0,100+1,1):\n",
        "  \n",
        "  #  en küçük asal sayı 2 olduğu için daha küçük değerleri incelemiyoruz\n",
        "  if i < 2:\n",
        "    continue\n",
        "  #  ilk asal sayımız 2\n",
        "  elif i == 2:\n",
        "    asal.append(i)\n",
        "  #  ikiden büyük sayılarda 1'den büyük kendisinden küçük tam bölen sayısına bakarız\n",
        "  elif i > 2:\n",
        "    #  tam bölen sayısı\n",
        "    k = 0\n",
        "    for j in range(2,i,1):\n",
        "      if i%j == 0:\n",
        "        k += 1\n",
        "\n",
        "    #  tam böleni yoksa asaldır    \n",
        "    if k == 0:\n",
        "      asal.append(i)\n",
        "\n",
        "    #  hafıza (ram) tasarrufu yapalım, artık k'ya ihtiyacımız yok.\n",
        "    del k\n",
        "\n",
        "len(asal)"
      ],
      "metadata": {
        "colab": {
          "base_uri": "https://localhost:8080/"
        },
        "id": "5hInWMXa8D87",
        "outputId": "f18c4b33-6c20-42ba-f4fc-d865397ec619"
      },
      "execution_count": null,
      "outputs": [
        {
          "output_type": "execute_result",
          "data": {
            "text/plain": [
              "25"
            ]
          },
          "metadata": {},
          "execution_count": 11
        }
      ]
    }
  ]
}