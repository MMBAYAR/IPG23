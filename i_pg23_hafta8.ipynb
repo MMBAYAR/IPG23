{
  "nbformat": 4,
  "nbformat_minor": 0,
  "metadata": {
    "colab": {
      "provenance": [],
      "authorship_tag": "ABX9TyPoxztideVN5a510VfDhvWQ",
      "include_colab_link": true
    },
    "kernelspec": {
      "name": "python3",
      "display_name": "Python 3"
    },
    "language_info": {
      "name": "python"
    }
  },
  "cells": [
    {
      "cell_type": "markdown",
      "metadata": {
        "id": "view-in-github",
        "colab_type": "text"
      },
      "source": [
        "<a href=\"https://colab.research.google.com/github/MMBAYAR/IPG23/blob/main/i_pg23_hafta8.ipynb\" target=\"_parent\"><img src=\"https://colab.research.google.com/assets/colab-badge.svg\" alt=\"Open In Colab\"/></a>"
      ]
    },
    {
      "cell_type": "code",
      "execution_count": null,
      "metadata": {
        "id": "mTRrnTio5QeL"
      },
      "outputs": [],
      "source": []
    },
    {
      "cell_type": "markdown",
      "source": [
        "# **VERİ BİLİMİ/MAKİNE ÖĞRENMESİ KÜPHANELERİNE GİRİŞ**\n",
        "\n",
        "##  **1. NumPy**\n",
        "\n",
        "**NumPy**; \n",
        "- numpy.array() fonksiyonu altında tek boyutlu (vektör) ya da çok boyutlu (matris/Tensör) diziler biçiminde gruplayıcı Python nesneleri üretebilir,\n",
        "- diziler üzerinden for/while döngüleri kullanımına gerek olmadan doğrusal cebir işlemlerini kolaylıkla yapabilir,\n",
        "- ortalama, ortanca, standart sapma, vb. betimsel istatistikleri veri kümeleri için kolaylıkla hesaplayabilir,\n",
        "<br>ve\n",
        "- rassal sayı türetimi, rassal seçim işlemlerini yapabilir.\n",
        "\n",
        "<br><br>\n",
        "**NumPy**, en sık kullandığımız kütüphanelerden biridir.\n",
        "<br><br>\n",
        "### **Kütüphane nedir? Neden kullanılır?**\n",
        "\n",
        "Önceki dersimizde ***fonksiyon/lambda*** kullanımını gördük. Fonksiyonları var olan Python fonksiyonları yerine bunların özelleştirilmiş versiyonlarını üretmek ya da henüz var olmayan (ya da varlığından haberdar olmadığımız) fonksiyonlar ile arzu ettiğimiz işlemleri gerçekleştirmek üzere tanımlıyorduk.<br><br>\n",
        "Python kütüphaneleri genellikle belirli bir tema etrafında oluşturulmuş olan optimize fonksiyonların derlendiği bloklardır.<br>\n",
        "Yapmakta olduğunuz çalışmaya özel olarak bu blokları bilgisayarınızın belleğine (RAM) çağırarak arzu ettiğiniz işlemleri kolaylaştırmak üzere tasarlanmışlardır.<br><br>\n",
        "Google Colab arayüzü ile eriştiğiniz uzak bilgisayarda birçok Python kütüphanesi önceden kurulmuş durumdadır ve bu kütüphaneleri yalnızca çağırarak çalışmalarınızı kolaylıkla yürütebilirsiniz.<br><br>\n",
        "Ancak; kütüphanelerin her zaman kurulu olduğunu varsayamayız. Özellikle de Python kodlarımızı yerel cihazımız üzerinden oluşturuyor ve çalıştırıyorsak. Bu durumda kütüphaneleri çağırabilmek için öncesinde yüklemiş olmak zorundayız.<br>"
      ],
      "metadata": {
        "id": "rcXYlSxU5Tg4"
      }
    },
    {
      "cell_type": "markdown",
      "source": [
        "####**Bir kütüphanenin kurulumu örneği: Gurobi**\n",
        "\n",
        "Gurobi, dünyanın en hızlı doğrusal programlama çözücüsüdür. Google Colab'e Gurobi'yi kurabilirsiniz ancak; kurulum emri verdiğinizde ücretsiz sürüm kurulacaktır.<br>"
      ],
      "metadata": {
        "id": "OchEtR5E5TpZ"
      }
    },
    {
      "cell_type": "code",
      "source": [
        "#  GUROBI kurulumu\n",
        "\n",
        "!pip install gurobipy"
      ],
      "metadata": {
        "colab": {
          "base_uri": "https://localhost:8080/"
        },
        "id": "bQc81yRV9POQ",
        "outputId": "0dcff1f7-8f51-47fd-b80a-8b3295369e4f"
      },
      "execution_count": 2,
      "outputs": [
        {
          "output_type": "stream",
          "name": "stdout",
          "text": [
            "Looking in indexes: https://pypi.org/simple, https://us-python.pkg.dev/colab-wheels/public/simple/\n",
            "Collecting gurobipy\n",
            "  Downloading gurobipy-10.0.1-cp39-cp39-manylinux2014_x86_64.whl (12.8 MB)\n",
            "\u001b[2K     \u001b[90m━━━━━━━━━━━━━━━━━━━━━━━━━━━━━━━━━━━━━━━━\u001b[0m \u001b[32m12.8/12.8 MB\u001b[0m \u001b[31m48.3 MB/s\u001b[0m eta \u001b[36m0:00:00\u001b[0m\n",
            "\u001b[?25hInstalling collected packages: gurobipy\n",
            "Successfully installed gurobipy-10.0.1\n"
          ]
        }
      ]
    },
    {
      "cell_type": "markdown",
      "source": [
        "<br>Bu kod parçası, Python versiyonu ile GUROBI'nin sunulan en güncel sürümünü uzak bilgisayara kurdu.<br><br>\n",
        "- Kullandığımız \"!\" linux cihazda bir terminal kodu yazdığımızı bilgisayara bildirdi.\n",
        "- \"!pip\" ifadesi ise \"Python Package Installer\"a erişim başlattı.\n",
        "- \"install gurobipy\" ifadesi ile de ilgili kütüphanenin kurulum komutunu verdik.\n",
        "\n",
        "<br><br>\n",
        "Zaten kurulu olan bir kütüphane için bu emri vermiş olsaydık; kod çıktısı bize \"Bu gereksinimler zaten sağlanmıştır\" diyecektir:<br>"
      ],
      "metadata": {
        "id": "5haNSSfE9kJH"
      }
    },
    {
      "cell_type": "code",
      "source": [
        "#  Zaten kurulu olan bir kütüphane (NumPy) için kurulum emri vermek\n",
        "\n",
        "!pip install numpy"
      ],
      "metadata": {
        "colab": {
          "base_uri": "https://localhost:8080/"
        },
        "id": "xwvhpp6o-so9",
        "outputId": "7ade9694-9705-4105-fdcb-78b4e6e141f7"
      },
      "execution_count": 3,
      "outputs": [
        {
          "output_type": "stream",
          "name": "stdout",
          "text": [
            "Looking in indexes: https://pypi.org/simple, https://us-python.pkg.dev/colab-wheels/public/simple/\n",
            "Requirement already satisfied: numpy in /usr/local/lib/python3.9/dist-packages (1.22.4)\n"
          ]
        }
      ]
    },
    {
      "cell_type": "markdown",
      "source": [
        "<br>Artık, henüz cihazınızda olmayan bir kütüphaneyi kurmayı ve kurulu olmadığını sandığınız bir kütüphanenin zaten kurulu olup olmadığını bilmeyi öğrendiniz.<br><br>\n",
        "Şimdi de kurulu bir kütüphaneyi Python oturumumuza (belleğe) çağıralım.<br>\n"
      ],
      "metadata": {
        "id": "7Dx56qo8-51M"
      }
    },
    {
      "cell_type": "code",
      "source": [
        "#  Kurulu bir kütüphaneyi belleğe çağırmak: NumPy\n",
        "\n",
        "import numpy"
      ],
      "metadata": {
        "id": "w0JIds2n9Z8_"
      },
      "execution_count": null,
      "outputs": []
    },
    {
      "cell_type": "code",
      "source": [
        "#  Kurulu bir kütüphaneyi belleğe istediğiniz bir ad vererek çağırmak\n",
        "\n",
        "import numpy as Hüdaverdi\n",
        "\n",
        "#  NumPy kütüphanesi için standart kısaltma: \"np\"\n",
        "\n",
        "import numpy as np"
      ],
      "metadata": {
        "id": "m210xoBm9uqX"
      },
      "execution_count": null,
      "outputs": []
    },
    {
      "cell_type": "code",
      "source": [
        "#  Kurulu olmayan bir kütüphaneyi belleğe çağırmaya çalışmak: Arch\n",
        "\n",
        "import arch"
      ],
      "metadata": {
        "colab": {
          "base_uri": "https://localhost:8080/",
          "height": 339
        },
        "id": "CyyVRRyJ-Pi5",
        "outputId": "2d423fb9-129b-46c7-aecf-d8a0f7edb18e"
      },
      "execution_count": 1,
      "outputs": [
        {
          "output_type": "error",
          "ename": "ModuleNotFoundError",
          "evalue": "ignored",
          "traceback": [
            "\u001b[0;31m---------------------------------------------------------------------------\u001b[0m",
            "\u001b[0;31mModuleNotFoundError\u001b[0m                       Traceback (most recent call last)",
            "\u001b[0;32m<ipython-input-1-f1dbd2f326e0>\u001b[0m in \u001b[0;36m<cell line: 3>\u001b[0;34m()\u001b[0m\n\u001b[1;32m      1\u001b[0m \u001b[0;31m#  Kurulu olmayan bir kütüphaneyi belleğe çağırmaya çalışmak: Arch\u001b[0m\u001b[0;34m\u001b[0m\u001b[0;34m\u001b[0m\u001b[0m\n\u001b[1;32m      2\u001b[0m \u001b[0;34m\u001b[0m\u001b[0m\n\u001b[0;32m----> 3\u001b[0;31m \u001b[0;32mimport\u001b[0m \u001b[0march\u001b[0m\u001b[0;34m\u001b[0m\u001b[0;34m\u001b[0m\u001b[0m\n\u001b[0m",
            "\u001b[0;31mModuleNotFoundError\u001b[0m: No module named 'arch'",
            "",
            "\u001b[0;31m---------------------------------------------------------------------------\u001b[0;32m\nNOTE: If your import is failing due to a missing package, you can\nmanually install dependencies using either !pip or !apt.\n\nTo view examples of installing some common dependencies, click the\n\"Open Examples\" button below.\n\u001b[0;31m---------------------------------------------------------------------------\u001b[0m\n"
          ],
          "errorDetails": {
            "actions": [
              {
                "action": "open_url",
                "actionText": "Open Examples",
                "url": "/notebooks/snippets/importing_libraries.ipynb"
              }
            ]
          }
        }
      ]
    },
    {
      "cell_type": "markdown",
      "source": [
        "<br>\n",
        "Bazen bir kütüphaneyi belleğe tamamen çağırmak yerine içinden belirli bir alt temaya ait bloğu çağırmak isteyebilirsiniz.\n",
        "<br><br>\n",
        "Böylece belleği kullanmayacağınız fonksiyonlarla işgal etmemiş olursunuz.\n",
        "<br><br>\n"
      ],
      "metadata": {
        "id": "k7qbzzOB-bpN"
      }
    },
    {
      "cell_type": "code",
      "source": [
        " #  NumPy kütüphanesi içinden rassal türetim fonksiyonları bloğunu çağırmak\n",
        "\n",
        " from numpy import random\n",
        "\n",
        "#    3 defa yazı-ture atmak\n",
        "random.choice( ['Yazı', 'Tura'], size = 3, p = [0.5, 0.5] )"
      ],
      "metadata": {
        "colab": {
          "base_uri": "https://localhost:8080/"
        },
        "id": "LIvJVo9x_KP2",
        "outputId": "659e69f9-1c53-4a1d-e870-979ebd689e8d"
      },
      "execution_count": 3,
      "outputs": [
        {
          "output_type": "execute_result",
          "data": {
            "text/plain": [
              "array(['Yazı', 'Yazı', 'Tura'], dtype='<U4')"
            ]
          },
          "metadata": {},
          "execution_count": 3
        }
      ]
    },
    {
      "cell_type": "markdown",
      "source": [
        "<br>\n",
        "Eğer bir kütüphane içindeki tüm fonksiyonları çağırmak istiyorsanız \"*\" ifadesini kullanın\n",
        "<br><br>"
      ],
      "metadata": {
        "id": "WOxTG_lI5TsV"
      }
    },
    {
      "cell_type": "code",
      "source": [
        "#  NumPy kütüphanesi içindeki tüm fonksiyonları çağırmak\n",
        "\n",
        "from numpy import*\n",
        "\n",
        "#    numpy.linalg bloğu içinden eig fonksiyonunu çağırdık ancak; nasıl kullanılır bilmiyoruz...\n",
        "#    ilgili fonksiyonunun yanına \"?\" koyarak çalıştırmak ilgili yardım notlarını çağırır.\n",
        "linalg.eig?"
      ],
      "metadata": {
        "id": "VJcAKOgtBpvG"
      },
      "execution_count": 4,
      "outputs": []
    },
    {
      "cell_type": "code",
      "source": [
        "#  3x3 bir matris yaratalım\n",
        "matris = array( [\n",
        "    [11,9,7],\n",
        "    [0,5,10],\n",
        "    [-1,0,1]\n",
        "] )\n",
        "\n",
        "#  şimdi de bu matrisin özdeğerlerine bakalım\n",
        "linalg.eig( matris )[0]"
      ],
      "metadata": {
        "colab": {
          "base_uri": "https://localhost:8080/"
        },
        "id": "EXuIOz7rCJ0L",
        "outputId": "c41a38dc-e7ae-4c84-b8ed-2a332ef190ce"
      },
      "execution_count": 6,
      "outputs": [
        {
          "output_type": "execute_result",
          "data": {
            "text/plain": [
              "array([4.13975808e-16+0.j        , 8.50000000e+00+2.39791576j,\n",
              "       8.50000000e+00-2.39791576j])"
            ]
          },
          "metadata": {},
          "execution_count": 6
        }
      ]
    },
    {
      "cell_type": "markdown",
      "source": [
        "###  **Olasılık Sorularının Çözümünde Simülasyon Yaklaşımı**\n",
        "Rassal sayı türetimi veya seçimler üzerinden gerçekleştirilen bir olasılık deneyini çok sayıda tekrarlamak, olasılık uzayında ortalama, vb. istatistiklerin kestirimine olanak verebilir.\n",
        "<br><br>\n",
        "**Problem 1:**<br>\n",
        "2023 yılında mezuniyet törenine katılabilecek 148 İşletme Lisans Programı'na kayıtlı öğrenci vardır.<br>\n",
        "Öğrenciler, mezuniyet töreninde en çok 3 misafir çağırabilmektedir ve davet edeceği misafirleri için davetiye almaktadırlar.<br>\n",
        "Geçmiş yıllarda ortalama olarak;\n",
        "- öğrencilerin %5'i misafir çağırmamıştır,\n",
        "- öğrencilerin %25'i 1 misafir çağırmıştır,\n",
        "- öğrencilerin yine %30'u 2 misafir çağırmıştır<br>\n",
        "ve\n",
        "- öğrencilerin %40'ı da 3 misafir çağırmıştır.\n",
        "\n",
        "Okul yönetimi, 300 oturma kapasiteli \"Asır Konferans Salonu\"nda bu töreni gerçekleştirmeyi planlamaktadır ve eşanlı olarak öğrencileri 40'arlı gruplar halinde oturtup kalan kapasiteyi öğrencilerin misafirlerine ayıracaktır.\n",
        "<br><br>\n",
        "Okulun talebi siz analistlerden bu salonun tüm misafirlere yetme olasılığını araştırmanızdır.\n",
        "<br><br>\n",
        "**1000000 tekrarlı bir deney içeren bir simülasyonla analiz ediniz.**\n"
      ],
      "metadata": {
        "id": "fBM2-wkTDhvv"
      }
    },
    {
      "cell_type": "code",
      "source": [
        "#  NumPy kütüphanesini çağıralım\n",
        "import numpy\n",
        "\n",
        "\n",
        "#  1 milyon iterasyon yapacağız. Bu tekrar sayısını bir değişkene atayalım.\n",
        "tekrar = 10**6\n",
        "\n",
        "\n",
        "#  Tekrar sayısınca elemanı olan bir gruplayıcı oluşturalım. \n",
        "#    Bellek verimliliği ve işlem kolaylığı adına bu gruplayıcı başlangıçta tüm \n",
        "#    elemanları 0 olan bir NumPy dizisi olsun..\n",
        "#    (numpy.zeros( eleman_sayısı ) fonksiyonu bu iş için birebir!) \n",
        "#    Bu diziyi de bir değişkene atayalım.\n",
        "#    Bu diziye daha sonra ilgili rassal değişken değerlerini atayacağız...\n",
        "x = numpy.zeros( tekrar )\n",
        "\n",
        "\n",
        "#  Şimdi tekrar sayısınca deney yapalım\n",
        "for i in range(tekrar):\n",
        "\n",
        "\n",
        "  #  148 adet öğrenci, farklı sayılarda davetiye içinden seçim yapacaktır\n",
        "  #    bu davetiyelerin seçim olasılıkları geçmiş yıllardaki gözlemlere \n",
        "  #    dayandırılabilir:\n",
        "  davetiyeler = numpy.random.choice(\n",
        "      [0,1,2,3],\n",
        "      size = 148,\n",
        "      p = [0.05, 0.25, 0.30, 0.40]\n",
        "  )\n",
        "  #    artık \"davetiyeler\" dizisi 148 ayrı öğrencinin kaçar misafiri olacağının\n",
        "  #    bir temsilidir.\n",
        "\n",
        "\n",
        "  #  Bu deneyde çağırılan toplam misafir sayısı i. deneyin verisi olarak \n",
        "  #    x dizisinin i. elemanı olarak kaydedilsin:\n",
        "  x[i] = davetiyeler.sum()\n",
        "\n",
        "\n",
        "#  Şimdi x dizisi 1 milyon ayrı deneyde çağırılan toplam misafir sayılarının \n",
        "#    verisidir.\n",
        "#    Bu veri dizisi içinde kaç elemanın \n",
        "#    \"Toplam Kapasite - İçerideki Öğrenciler\"den fazla olmadığını bulacağız.\n",
        "len( [i for i in x if i <= (300 - 40)] )"
      ],
      "metadata": {
        "colab": {
          "base_uri": "https://localhost:8080/"
        },
        "id": "6w66MBPgCsok",
        "outputId": "0e2ec92e-eb7e-4688-dece-32526867fd77"
      },
      "execution_count": 8,
      "outputs": [
        {
          "output_type": "execute_result",
          "data": {
            "text/plain": [
              "87"
            ]
          },
          "metadata": {},
          "execution_count": 8
        }
      ]
    },
    {
      "cell_type": "code",
      "source": [
        "#  Şimdi 300 kişilik oturma kapasitene yeten gözlem oranına bakalım:\n",
        "len( [i for i in x if i <= (300 - 40)] ) / tekrar"
      ],
      "metadata": {
        "colab": {
          "base_uri": "https://localhost:8080/"
        },
        "id": "jY7awBbkJIXg",
        "outputId": "04d0c974-cd71-41bf-dd6d-42a88a648d94"
      },
      "execution_count": 9,
      "outputs": [
        {
          "output_type": "execute_result",
          "data": {
            "text/plain": [
              "8.7e-05"
            ]
          },
          "metadata": {},
          "execution_count": 9
        }
      ]
    },
    {
      "cell_type": "code",
      "source": [
        "#  Öğrenciler ortalamada kaç misafir çağırırlar?\n",
        "x.mean()"
      ],
      "metadata": {
        "colab": {
          "base_uri": "https://localhost:8080/"
        },
        "id": "EzN5ULFsO74j",
        "outputId": "10f82e2f-7234-4baf-d278-b7763310b497"
      },
      "execution_count": 10,
      "outputs": [
        {
          "output_type": "execute_result",
          "data": {
            "text/plain": [
              "303.40289"
            ]
          },
          "metadata": {},
          "execution_count": 10
        }
      ]
    },
    {
      "cell_type": "markdown",
      "source": [
        "Bu sayıyı anlayalım: <br>\n",
        "8.7e-05 $=8.7(10^{-5})=0.000087$"
      ],
      "metadata": {
        "id": "kY1uckL-Mo6m"
      }
    },
    {
      "cell_type": "markdown",
      "source": [
        "Anlaşıldığı üzere, \"Asır Konferans Salonu\"na sığma olasılığımız neredeyse yokmuş.<br><br>\n",
        "Belki de okul yönetimine davetiye sayısını daha da sınırlandırması gerektiğini ya da daha büyük bir salon seçilmesi gerektiği geri bildirimi yapılabilir..."
      ],
      "metadata": {
        "id": "4dYG7hicNAD0"
      }
    },
    {
      "cell_type": "markdown",
      "source": [
        "<br><br>\n",
        "**Alıştırma:**<br>\n",
        "Öğrencilerin tümü salonda ayakta bekleseydi okul yönetiminin \"Asır Konferans Salonu\" seçimini nasıl değerlendirirdiniz?<br><br>\n"
      ],
      "metadata": {
        "id": "kyAedwUNNmrK"
      }
    },
    {
      "cell_type": "markdown",
      "source": [
        "**Problem 2:**<br>\n",
        "Biri erkek biri dişi, toplamda iki tane çok renkli kediniz var. Dişi kediniz her doğurduğunda tek yavru doğurmaktadır ve bu yavrunun kürkü;\n",
        "- %20 olasılıkla tekir (brindle),\n",
        "- %20 olasılıkla sarı,\n",
        "- %2 olasılıkla bembeyaz,\n",
        "- %3 olasılıkla simsiyah,\n",
        "- %55 olasılıkla da çok renkli\n",
        "\n",
        "olmaktadır.<br>\n",
        "Sonunda her renkten yavru alana dek kediniz doğuracak olsaydı;\n",
        "- Kedinizin ortalamada kaç defa doğum yapması gerekirdi?\n",
        "- 5 doğumda tüm renklerden yavru alma olasılığı nedir? (Alıştırma olarak bırakılmıştır)"
      ],
      "metadata": {
        "id": "CConocXMOUEM"
      }
    },
    {
      "cell_type": "code",
      "source": [
        "tekrar = 10**4\n",
        "x = numpy.zeros( tekrar )\n",
        "\n",
        "kürk_renkleri = ['tekir', 'sarı', 'beyaz', 'siyah', 'çok renkli']\n",
        "\n",
        "for i in range(tekrar):\n",
        "\n",
        "  #  Elimizdeki yavruların bir listesini oluşturalım\n",
        "  #    henüz kedimiz doğum yapmadı...\n",
        "  koleksiyon = []\n",
        "\n",
        "  #  Şimdi kedimiz, elimizde birbirinden farklı 5 yavru rengi olana dek \n",
        "  #    doğuracak\n",
        "  doğum = 0\n",
        "  while len( set(koleksiyon) ) < len(kürk_renkleri):\n",
        "    #  Kedimiz doğurdu\n",
        "    doğum += 1\n",
        "    #    doğan yavruyu koleksiyona ekleyelim\n",
        "    koleksiyon.append(\n",
        "        numpy.random.choice( kürk_renkleri, p = [.2, .2, .02, .03, .55] )\n",
        "    )\n",
        "    #    elimizde aynı renkten 1'den çok yavru varsa 1'ini alıp diğerlerini \n",
        "    #      sahiplendirdiğimizi varsayalım. \n",
        "    #      Bu varsayım bellek tasarrufu sağlayacaktır.\n",
        "    koleksiyon = list( set(koleksiyon) )\n",
        "  \n",
        "  #  Tüm renklerden yavru alana dek kedimiz kaç defa doğurduysa i. deneyin \n",
        "  #    verisi olarak kaydedelim\n",
        "  x[i] = doğum\n",
        "\n",
        "#  Tüm renklerden yavru alabilmek için ortalamada kaç doğum olmuş?\n",
        "x.mean()\n",
        "\n",
        "  "
      ],
      "metadata": {
        "colab": {
          "base_uri": "https://localhost:8080/"
        },
        "id": "o0q3SXyOMkbh",
        "outputId": "b940bcbb-c79a-449d-d6f3-2ebe1d40ec4d"
      },
      "execution_count": 12,
      "outputs": [
        {
          "output_type": "execute_result",
          "data": {
            "text/plain": [
              "62.9896"
            ]
          },
          "metadata": {},
          "execution_count": 12
        }
      ]
    },
    {
      "cell_type": "markdown",
      "source": [
        "zavallı kedicik...<br><br><br>\n",
        "**Alıştırma**<br>\n",
        "Kedimiz her defasında 3'er yavru doğursaydı ortalamada kaç doğum gerekirdi?"
      ],
      "metadata": {
        "id": "_VlKTI6dT_1x"
      }
    },
    {
      "cell_type": "code",
      "source": [
        "tekrar = 10**4\n",
        "x = numpy.zeros( tekrar )\n",
        "\n",
        "kürk_renkleri = ['tekir', 'sarı', 'beyaz', 'siyah', 'çok renkli']\n",
        "\n",
        "for i in range(tekrar):\n",
        "\n",
        "  #  Elimizdeki yavruların bir listesini oluşturalım\n",
        "  #    henüz kedimiz doğum yapmadı...\n",
        "  koleksiyon = []\n",
        "\n",
        "  #  Şimdi kedimiz, elimizde birbirinden farklı 5 yavru rengi olana dek \n",
        "  #    doğuracak\n",
        "  doğum = 0\n",
        "  while len( set(koleksiyon) ) < len(kürk_renkleri):\n",
        "    #  Kedimiz doğurdu\n",
        "    doğum += 1\n",
        "    #    doğan yavruyu koleksiyona ekleyelim\n",
        "    for j in range(3):\n",
        "      koleksiyon.append(\n",
        "          numpy.random.choice( kürk_renkleri, p = [.2, .2, .02, .03, .55] )[j]\n",
        "      )\n",
        "    #    elimizde aynı renkten 1'den çok yavru varsa 1'ini alıp diğerlerini \n",
        "    #      sahiplendirdiğimizi varsayalım. \n",
        "    #      Bu varsayım bellek tasarrufu sağlayacaktır.\n",
        "    koleksiyon = list( set(koleksiyon) )\n",
        "  \n",
        "  #  Tüm renklerden yavru alana dek kedimiz kaç defa doğurduysa i. deneyin \n",
        "  #    verisi olarak kaydedelim\n",
        "  x[i] = doğum\n",
        "\n",
        "#  Tüm renklerden yavru alabilmek için ortalamada kaç doğum olmuş?\n",
        "x.mean()\n",
        "\n",
        "  "
      ],
      "metadata": {
        "colab": {
          "base_uri": "https://localhost:8080/"
        },
        "id": "BQy92KbpTvb2",
        "outputId": "7eb4543c-d4e5-4db3-8d2f-001909082645"
      },
      "execution_count": 15,
      "outputs": [
        {
          "output_type": "execute_result",
          "data": {
            "text/plain": [
              "2.6342"
            ]
          },
          "metadata": {},
          "execution_count": 15
        }
      ]
    },
    {
      "cell_type": "code",
      "source": [],
      "metadata": {
        "id": "u3gUFyq-UclV"
      },
      "execution_count": null,
      "outputs": []
    }
  ]
}