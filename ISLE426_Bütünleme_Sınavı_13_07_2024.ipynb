{
  "nbformat": 4,
  "nbformat_minor": 0,
  "metadata": {
    "colab": {
      "provenance": [],
      "authorship_tag": "ABX9TyMO/2x4Hh7VVugcA7wWiwGK",
      "include_colab_link": true
    },
    "kernelspec": {
      "name": "python3",
      "display_name": "Python 3"
    },
    "language_info": {
      "name": "python"
    }
  },
  "cells": [
    {
      "cell_type": "markdown",
      "metadata": {
        "id": "view-in-github",
        "colab_type": "text"
      },
      "source": [
        "<a href=\"https://colab.research.google.com/github/MMBAYAR/IPG23/blob/main/ISLE426_B%C3%BCt%C3%BCnleme_S%C4%B1nav%C4%B1_13_07_2024.ipynb\" target=\"_parent\"><img src=\"https://colab.research.google.com/assets/colab-badge.svg\" alt=\"Open In Colab\"/></a>"
      ]
    },
    {
      "cell_type": "code",
      "source": [
        "#. Bu hücreyi çalıştırınız.\n",
        "#. Bu hücreyi çalıştırdığınızda hata verecektir.\n",
        "#. Runtime(Çalışma Zamanı)/Restart Session (Oturmu Yeniden Başlat) seçeneklerini izleyiniz.\n",
        "#. Bu hücreyi yeniden çalıştırınız; bu defa hata vermeyecektir.\n",
        "#. (0 Puan)\n",
        "!pip install -U ppscore\n",
        "\n",
        "import numpy as np\n",
        "import pandas as pd\n",
        "import matplotlib.pyplot as plt\n",
        "import seaborn as sns\n",
        "\n",
        "import ppscore as pps\n",
        "\n",
        "from sklearn.neighbors import KNeighborsRegressor\n",
        "from sklearn.metrics import mean_squared_error\n",
        "\n",
        "plt.rcParams['font.size'] = 12\n",
        "\n",
        "plt.rcParams['figure.figsize'] = [6.3,4.725]\n",
        "plt.rcParams['figure.dpi'] = 200\n",
        "plt.rcParams[\"axes.spines.right\"] = False\n",
        "plt.rcParams[\"axes.spines.top\"] = False"
      ],
      "metadata": {
        "id": "1WDt7uQkVHDg"
      },
      "execution_count": null,
      "outputs": []
    },
    {
      "cell_type": "code",
      "execution_count": null,
      "metadata": {
        "id": "SMQI8n3XUSt7"
      },
      "outputs": [],
      "source": [
        "#. https://www.statlearning.com/s/Auto.csv adresinden veri kümesini bilgisayarınıza indiriniz.\n",
        "#. Bilgisayarınıza indirdiğiniz veri kümesini bu colab oturumuna yükleyiniz (upload).\n",
        "#. Colab oturumuna yüklediğiniz veri kümesini \"df\" adındaki bir değişkenin değerini pandas.DataFrame objesi olacak biçimde tanımlayınız.\n",
        "#. (10 Puan)"
      ]
    },
    {
      "cell_type": "code",
      "source": [
        "#. Verinizi bir seaborn.pairplot olarak görselleştiriniz.\n",
        "#. (10 Puan)"
      ],
      "metadata": {
        "id": "T5sVp_UWVweJ"
      },
      "execution_count": null,
      "outputs": []
    },
    {
      "cell_type": "code",
      "source": [
        "#. Aşağıdaki hücreyi çalıştınız\n",
        "#. (0 Puan)\n",
        "n = len(df.columns)\n",
        "\n",
        "sns.heatmap(\n",
        "            pd.DataFrame(\n",
        "                        index = [i[:3]+'.' for i in df.columns],\n",
        "                        columns = df.columns,\n",
        "                        data = np.round(\n",
        "                                        pps.matrix(df).set_index(['x','y']).ppscore.values, 2\n",
        "                                        ).reshape(n,n),\n",
        "                        ).T,\n",
        "            cmap = 'Greys',\n",
        "            annot = True,\n",
        "            )\n",
        "\n",
        "plt.xlabel('Tahmileyici\\nDeğişkenler')\n",
        "plt.ylabel('Bağımsız\\nDeğişken')"
      ],
      "metadata": {
        "id": "cy_5LGrGWAuA"
      },
      "execution_count": null,
      "outputs": []
    },
    {
      "cell_type": "markdown",
      "source": [
        "## Bu metin hücresinin içine yorumlarınızı yazınız (Çift tıklayıp düzenleyiniz).\n",
        "* Pairplot ve PPS ısı haritalarını incelediğinizde \"mpg\" değişkenini en iyi açıklayan 3 ve en kötü açıklayan 3 değişken hangileridir? Bu değerlendirmenizi gerekçelendirerek açıklayınız \\(30 Puan).\n",
        "\n",
        "Yanıtınız..."
      ],
      "metadata": {
        "id": "D7fK5_55W2E0"
      }
    },
    {
      "cell_type": "code",
      "source": [
        "#. Verinizi \"X\" adındaki değişkenler tahminleyici değişkenler ve \"y\" adındaki değişkenler mpg değişkeni olacak biçimde tanımlayınız.\n",
        "#. Verinizin %80'i öğrenme kümesi %20'si değerlendirme kümesi olacak biçimde ayrıştırınız.\n",
        "#. K en yakın komşuluk tahminleyicisini kullanarak mpg değerlerini tahminleyiniz.\n",
        "#. K en yakın komşuluk modellemesini farklı n_neighbors parametresi ile yeniden çalıştıracak bir döngü oluşturunuz ve {1,2,...20} değerleri için modeli çalıştırınız.\n",
        "#. Yukarıdaki adı geçen döngüde model performansını her bir komşu sayısı parametresini anahtar alan bir sözlük içinde mean_squared_error metrik değeri olarak kaydediniz.\n",
        "#. Sözlüğünüzü bir pandas.Series objesine dönüştürünüz ve \".sort_values()\" yöntemini kullanarak ideal komşu sayısını belirleyiniz.\n",
        "#. (60 Puan)"
      ],
      "metadata": {
        "id": "ZDQSC2JxXgUi"
      },
      "execution_count": null,
      "outputs": []
    },
    {
      "cell_type": "code",
      "source": [
        "#. Model tahimleri ile gerçek mpg değerlerini karşılaştıran bir seaborn.scatterplot oluşturunuz.\n",
        "#. Gerçek mpg değerleri ile gerçek mpg değerlerini karşılaştıran bir seaborn.lineplot oluşturunuz."
      ],
      "metadata": {
        "id": "yt5G4xRaZRLq"
      },
      "execution_count": null,
      "outputs": []
    },
    {
      "cell_type": "markdown",
      "source": [
        "## Bu metin hücresinin içine yorumlarınızı yazınız (Çift tıklayıp düzenleyiniz).\n",
        "* Model çıktılarını görselleştirdiniz. Modelinizin performansı hakkında yorum yapınız. Sizce modeliniz iyi mi? Nasıl bu kanıya ulaştınız? \\(10 Puan).\n",
        "\n",
        "Yanıtınız..."
      ],
      "metadata": {
        "id": "kZGvlaQEZi0a"
      }
    },
    {
      "cell_type": "code",
      "source": [],
      "metadata": {
        "id": "d-Q8WidiZxXB"
      },
      "execution_count": null,
      "outputs": []
    }
  ]
}