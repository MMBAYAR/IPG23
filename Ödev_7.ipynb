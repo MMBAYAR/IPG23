{
  "nbformat": 4,
  "nbformat_minor": 0,
  "metadata": {
    "colab": {
      "provenance": [],
      "authorship_tag": "ABX9TyM84Oh1rbsvDkD6E4vgRQaF",
      "include_colab_link": true
    },
    "kernelspec": {
      "name": "python3",
      "display_name": "Python 3"
    },
    "language_info": {
      "name": "python"
    }
  },
  "cells": [
    {
      "cell_type": "markdown",
      "metadata": {
        "id": "view-in-github",
        "colab_type": "text"
      },
      "source": [
        "<a href=\"https://colab.research.google.com/github/MMBAYAR/IPG23/blob/main/%C3%96dev_7.ipynb\" target=\"_parent\"><img src=\"https://colab.research.google.com/assets/colab-badge.svg\" alt=\"Open In Colab\"/></a>"
      ]
    },
    {
      "cell_type": "code",
      "execution_count": null,
      "metadata": {
        "id": "Pc1qnKnXp-nt"
      },
      "outputs": [],
      "source": [
        "#@title # **Eksik Verili Yeni Tablo Yaratma Kodu**<br>- Bu hücreyi çalıştırmadan önce [10. derste kullandığımız veri kümesini](https://docs.google.com/spreadsheets/d/1mI0AXQWc8vwm0fwLtpSaMSRSHhWd_dJ7/edit?usp=sharing&ouid=118070736600138175370&rtpof=true&sd=true), Colab'e \"data.xlsx\" adı ile yükleyiniz.<br>- Bu hücreyi çalıştırdığınızda, grupta seçtiğiniz bir üyenin öğrenci numarasını girmeniz istenecektir.<br>- Eksik veri içeren yeni veri kümeniz Colab'e \"eksik_data.xlsx\" adı ile yüklenecektir. (Kendi cihazınıza da indirmeniz önerilir.)<br>- Bu kod hücresi çalıştıktan sonra kullandığı tüm kütüphaneleri, oluşturduğu tüm değişkenleri silecektir.<br>- Ödev çalışmanızda tüm işinize \"*sıfırdan başlamanız*\" gerekecektir. { display-mode: \"form\" }\n",
        "import pandas\n",
        "import numpy\n",
        "\n",
        "dataset = pandas.read_excel( '/content/data.xlsx' ).iloc[ : , 1: ]\n",
        "\n",
        "value = int(input('Öğrenci numaranızı giriniz ve ardından \"Enter\"a basınız.')[-4:])\n",
        "\n",
        "\n",
        "k = 0\n",
        "for j in dataset.columns:\n",
        "  \n",
        "  dataset[j] = numpy.nan\n",
        "\n",
        "  numpy.random.seed(value + k)\n",
        "\n",
        "  non_empty = numpy.random.choice(\n",
        "      dataset.index,\n",
        "      size = int(.95*len(dataset)),\n",
        "      p = [1/len(dataset) for i in dataset.index]\n",
        "  )\n",
        "\n",
        "  dataset[j][non_empty] = pandas.read_excel( '/content/data.xlsx' ).iloc[ : , 1: ][j][non_empty]\n",
        "\n",
        "  k += 1\n",
        "\n",
        "dataset.to_excel( '/content/data_eksik.xlsx' )\n",
        "\n",
        "print('\\n\\n\\nKULLANILAN SEED DEĞERİ: \\t {}'.format(str(value)))\n",
        "\n",
        "del dataset\n",
        "del value\n",
        "del k\n",
        "del pandas, numpy"
      ]
    },
    {
      "cell_type": "markdown",
      "source": [
        "## Yukarıdaki kod hücresini çalıştırdığınızda eksik veri içeren \"**eksik_data.xlsx**\" dosyası oluşturuldu.<br>\n",
        "Yeni ve eksik veri içeren veri kümeniz için;\n",
        "- Sözel veri içeren sütunları sayısallaştınız ([10. derste](https://colab.research.google.com/github/MMBAYAR/IPG23/blob/main/i_pg23_hafta10.ipynb?authuser=0) gösterilen \"kukla değişken\" çalışmasına bakabilirsiniz),\n",
        "- Tamamı sayısal veri içeren veri kümeniz için \"betimsel istatistikleri\" elde ediniz,\n",
        "- Eksik veri yamama stratejilerini inceleyiniz,\n",
        "- Herbir strateji için yeni pandas veri tablosu oluşturunuz. Örneğin:\n",
        " - df_ortalama,\n",
        " - df.ortanca,\n",
        " - df.mod,\n",
        " - df.tahmin\n",
        "- İlgili veri tablosunda pandas'ın \"***.fillna()***\" metodunu kullanarak (nasıl kullanacağınızı kendi başınıza öğrenmelisiniz) eksik veriyi yamayınız.\n",
        "- Eksik verileri yamarken herbir veri sütunu ile ayrı ayrı çalıştığınızdan emin olunuz...\n",
        "- Herbir veri sütunu için elde ettiğiniz yamanmış veri ile \"data.xlsx\" veri kümeesinde yer alan orijinal ve tam veriyi \"Spearman Sıra Korelasyonu\" üzerinden karşılaştırınız;\n",
        " - *$\\rho$-değeri* üzerinden bulduğunuz korelasyon istatistiğinin anlamlı olup olmadığına dair yorum yapınız,\n",
        " - Elde ettiğiniz sıra korelasyonu istatistiğini yorumlayınız (orijinal veri ile yamanmış veri arasındaki korelasyon güçlü mü?),\n",
        " - Tüm veri sütunları için bu işlemi tekrarlayın,\n",
        " - Herbir veri sütunu özelinde hangi eksik veri yamama stratejisinin daha iyi olduğunu sıra korelasyonu üzerinden tartışınız (neden daha iyi ya da daha kötü?)\n",
        "- Tahmini veri ile yamama kısmını son hafta yapabileceksiniz. İzlencemizde \"regresyon\" konusu henüz işlenmedi, endişelenmeyiniz. \n",
        "\n",
        "##  **Bu ödevin teslimi için son gün ve saat henüz duyurulmamıştır; duyurulacaktır.**\n",
        "\n",
        "##  Bu ödevde herbir grup üyesinin hangi veri sütunu ile ilgili, hangi yamama stratejisine dair çalışma yaptığını belirten bir \"**İç Değerlendirme Raporu**\" yazmanızı da bekliyorum. Bu dosyayı bir [Google Document](https://docs.google.com) biçiminde ya da \"docx\" uzantılı bir Ms Word dosyası biçiminde üretebilirsiniz.\n",
        "\n",
        "##  **Bu ödev uzun bir çalışma süresi ve işbirliği gerektirecektir. Çalışmaya ve organize olmaya hemen başlayınız.**"
      ],
      "metadata": {
        "id": "a-tnzJef6ItY"
      }
    },
    {
      "cell_type": "code",
      "source": [],
      "metadata": {
        "id": "XJHYWvqK4Tz3"
      },
      "execution_count": null,
      "outputs": []
    }
  ]
}