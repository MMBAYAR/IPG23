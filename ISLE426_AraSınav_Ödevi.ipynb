{
  "nbformat": 4,
  "nbformat_minor": 0,
  "metadata": {
    "colab": {
      "provenance": [],
      "authorship_tag": "ABX9TyNcvKyEgnaPbk/xgx2pMBH3",
      "include_colab_link": true
    },
    "kernelspec": {
      "name": "python3",
      "display_name": "Python 3"
    },
    "language_info": {
      "name": "python"
    }
  },
  "cells": [
    {
      "cell_type": "markdown",
      "metadata": {
        "id": "view-in-github",
        "colab_type": "text"
      },
      "source": [
        "<a href=\"https://colab.research.google.com/github/MMBAYAR/IPG23/blob/main/ISLE426_AraS%C4%B1nav_%C3%96devi.ipynb\" target=\"_parent\"><img src=\"https://colab.research.google.com/assets/colab-badge.svg\" alt=\"Open In Colab\"/></a>"
      ]
    },
    {
      "cell_type": "markdown",
      "source": [
        "#### **08.04.2023**\n",
        "### **T.C.**<br>**Ankara Hacı Bayram Veli Üniversitesi**<br>**ISLE426 - Ara Sınav Ödevi**<br>\n",
        "\n"
      ],
      "metadata": {
        "id": "nWBUBIX4rPtm"
      }
    },
    {
      "cell_type": "markdown",
      "source": [
        " #### **Bu dosyayı Öğrenci Numaranızı ve \"_V\" ifadesini kullanarak aşağıdaki örnekte verildiği gibi adlandırınız.**<br><br> **Ör./ 22372100001_V**<br><br> **\"Dosya/İndir/.ipynb sürümünü indir\" işlemi ile indireceğiniz dosyayı 16.04.2023 tarihinde saat 17.oo'ye kadar mehmet.bayar@hbv.edu.tr adresine eposta atınız.**<br><br> **Aşağıda tanımlanan görevlerden 1 tanesini seçerek ilgili kod parçasını Python programlama dilinde yazıp kodu yazdığınız kod hücresini çalıştırınız.**\n",
        "<br><br><br><br>**1.** \"Ad\", \"Soyad\" ve \"Öğrenci Numarası\" adlarını vereceğiniz üç değişken oluşturunuz ve bu değişkenlere **birer karakter dizisi (String) tipinde Python nesnesi** olacak biçimde sırasıyla adınızı, soyadınızı ve **öğrenci numaranızı** giriniz. Son olarak bu üç değişkenin toplamını print() fonksiyonunu kullanarak yazdırınız."
      ],
      "metadata": {
        "id": "B9O0cw-SdSco"
      }
    },
    {
      "cell_type": "code",
      "source": [
        "#  SORU1 İÇİN HAZIRLAYACAĞINIZ KOD HÜCRESİ\n",
        "\n",
        "\n",
        "\n"
      ],
      "metadata": {
        "id": "EN3S4yHjtoAT"
      },
      "execution_count": null,
      "outputs": []
    },
    {
      "cell_type": "markdown",
      "source": [
        "<br><br><br><br>**2.** range() fonksiyonunu ve liste içlemi (list comprehension) yöntemini kullanarak 1'den başlan ve 100'e kadar olan sayılar içerisinde 5'e tam bölünenlerin bir listesini oluşturunuz."
      ],
      "metadata": {
        "id": "ehShjW0PgMtw"
      }
    },
    {
      "cell_type": "code",
      "source": [
        "#  SORU2 İÇİN HAZIRLAYACAĞINIZ KOD HÜCRESİ\n",
        "\n",
        "\n",
        "\n"
      ],
      "metadata": {
        "id": "a1o9LT1OgmUw"
      },
      "execution_count": null,
      "outputs": []
    },
    {
      "cell_type": "markdown",
      "source": [
        "<br><br><br><br>**3.** if, elif, else koşullu ifadelerini **kullanmadan** ve yalnızca while döngülerini kullanarak 50'den büyük 100'den küçük asal doğal sayıların bir listesini elde ediniz ve bu listeyi bir demete (tuple) dönüştürüp print() fonksiyonu içerisinde yazdırınız."
      ],
      "metadata": {
        "id": "5H4r_lOqgoem"
      }
    },
    {
      "cell_type": "code",
      "source": [
        "#  SORU3 İÇİN HAZIRLAYACAĞINIZ KOD HÜCRESİ\n",
        "\n",
        "\n",
        "\n"
      ],
      "metadata": {
        "id": "ifzdbHWego62"
      },
      "execution_count": null,
      "outputs": []
    }
  ]
}