{
  "nbformat": 4,
  "nbformat_minor": 0,
  "metadata": {
    "colab": {
      "provenance": [],
      "include_colab_link": true
    },
    "kernelspec": {
      "name": "python3",
      "display_name": "Python 3"
    },
    "language_info": {
      "name": "python"
    }
  },
  "cells": [
    {
      "cell_type": "markdown",
      "metadata": {
        "id": "view-in-github",
        "colab_type": "text"
      },
      "source": [
        "<a href=\"https://colab.research.google.com/github/MMBAYAR/IPG23/blob/main/ISLE426_MODERN_%C3%9CRET%C4%B0M_S%C4%B0STEMLER_EK_1_SINAVI.ipynb\" target=\"_parent\"><img src=\"https://colab.research.google.com/assets/colab-badge.svg\" alt=\"Open In Colab\"/></a>"
      ]
    },
    {
      "cell_type": "markdown",
      "source": [
        "###<div align=\"right\">08.08.2023<br>\n",
        "##<div align=\"center\">T.C.<br>\n",
        "##<div align=\"center\">ANKARA HACI BAYRAM VELİ ÜNİVERSİTESİ<br>\n",
        "##<div align=\"center\">İKİTSADİ ve İDARİ BİLİMLER FAKÜLTESİ - İŞLETME BÖLÜMÜ<br>\n",
        "##<div align=\"center\">ISLE426 MODERN ÜRETİM SİSTEMLERİ - EK-1 MEZUNİYET SINAVI<br><br>\n",
        "\n",
        "Bu *dönem sonu sınavı ödevinin* en geç **11.08.2023 Cuma günü saat 17.oo**'ye kadar mehmet.bayar@hbv.edu.tr adresine iletilmesi gerekmektedir.<br><br>\n",
        "\n",
        "**AÇIKLAMALAR:**<br>\n",
        "**1.** Aşağıdaki 3 soruyu dikkatle okuyunuz. Bu üç soru, üç ayrı kod hücresinde belirtilmiştir. Herbir kod hücresinde yorum satırları içerisinde belirtilmiş görevler ilgili soruyu oluşturmaktadır.<br>\n",
        "**2.** Bu üç sorudan yalnızca 1 tanesini seçiniz ve sorunun yer aldığı kod hücresi içerisinde gerekli kodu Python Programlama dilini kullanarak yazınız.<br>\n",
        "**3.** Yanıtladığınız - kodunu yazdığınız - kod hücresini çalıştırarak kod çıktısını elde ediniz. Soru içerisinde belirtilen görevlerle elde ettiğiniz kod çıktısının uyuştuğunu kontrol etmelisiniz.<br>\n",
        "**4.** Birden çok soruyu yanıtlayan bir öğrencinin ilk okunan yanıtı değerlendirilecek ve diğer yanıtları okunmayacaktır.<br>\n",
        "**5.** Sistemde ya da internet bağlantınızda yaşanabilecek aksaklıklar nedeniyle önerim, teslimi en geç **10.8.2023 Perşembe günü saat 23.59**'a kadar tamamlamanız, en az iki defa kontrol etmeniz ve mehmet.bayar@hbv.edu.tr adresine iletmenizdir.<br>\n",
        "**6.** Bilger'de kabul yüklemenize izin verilen dosya türleri arasında \"*.ipynb*\" uzantılı dosyalar yer almadığından dönem sonu sınavı ödevlerinizi bana yalnızca e-posta ile iletebileceksiniz."
      ],
      "metadata": {
        "id": "fYNA0cHE8xiU"
      }
    },
    {
      "cell_type": "code",
      "source": [
        "#  SORU 1:\n",
        "\n",
        "#  \"ad\", \"soyad\" ve \"öğrenci_numarası\" adlarını vereceğiniz üç değişken tanımlayınız ve bu değişkenlere \"None\" değeri giriniz.\n",
        "\n",
        "#  Bu değişkenlerin değerlerini; birer karakter dizisi (string) tipinde Python nesnesi olarak adınız, soyadınız ve öğrenci numaranız olarak güncelleyiniz.\n",
        "\n",
        "\n",
        "\n",
        "#  Bu üç değişkeni print() fonksiyonunu kullanarak yazdırınız. Bu kod çıktısında adınız, soyadınız ve öğrenci numaranız arasında birer boşluk olmalıdır.\n"
      ],
      "metadata": {
        "id": "8aDTBWGW8zn9"
      },
      "execution_count": 1,
      "outputs": []
    },
    {
      "cell_type": "code",
      "source": [
        "#  SORU 2:\n",
        "Liste = None\n",
        "Liste = [\"Ek-1 Sınavı\",\"Arda Abdulmuttalip\",\"ÖZDEMİR\",\"ISLE426 - Modern Üretim Sistemleri\"]\n",
        "#  Yukarıdaki kod satırlarında oluşturulmuş olan Liste adındaki listeye \".insert(sıra, yeni_üye)\" metodunu kullanarak\n",
        "#  2. sıraya Öğrenci Numaranızı Ekleyiniz\n",
        "\n",
        "#  Değişiklik yaptığınız listenizin 2. üyesini \"print()\" fonskiyonu yazdırınız\n"
      ],
      "metadata": {
        "id": "YXWzXeBwoyof"
      },
      "execution_count": 2,
      "outputs": []
    },
    {
      "cell_type": "code",
      "source": [
        "#  SORU 3:\n",
        "\n",
        "#  For döngüsü içerisinde soyadınızın herbir karakterini print() fonksiyonunu ve \".upper()\" metodunu kullanarak büyük harf olarak yazdırınız.\n",
        "\n"
      ],
      "metadata": {
        "id": "0F3_zB6HnzgL"
      },
      "execution_count": null,
      "outputs": []
    },
    {
      "cell_type": "markdown",
      "source": [
        "###<div align=\"right\">Başarılar,<br>\n",
        "###<div align=\"right\">Mustafa Mehmet BAYAR<br>"
      ],
      "metadata": {
        "id": "uAEgJrCFw_7F"
      }
    }
  ]
}