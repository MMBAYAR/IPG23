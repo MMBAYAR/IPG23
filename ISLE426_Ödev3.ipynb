{
  "nbformat": 4,
  "nbformat_minor": 0,
  "metadata": {
    "colab": {
      "provenance": [],
      "authorship_tag": "ABX9TyO3tkKOfkalH5NLfbRopU53",
      "include_colab_link": true
    },
    "kernelspec": {
      "name": "python3",
      "display_name": "Python 3"
    },
    "language_info": {
      "name": "python"
    }
  },
  "cells": [
    {
      "cell_type": "markdown",
      "metadata": {
        "id": "view-in-github",
        "colab_type": "text"
      },
      "source": [
        "<a href=\"https://colab.research.google.com/github/MMBAYAR/IPG23/blob/main/ISLE426_%C3%96dev3.ipynb\" target=\"_parent\"><img src=\"https://colab.research.google.com/assets/colab-badge.svg\" alt=\"Open In Colab\"/></a>"
      ]
    },
    {
      "cell_type": "markdown",
      "source": [
        "# **ÖDEV TALİMATLARI**<br><br>\n",
        "\n",
        "  -  **GÖREV 1:** Yukarıdaki dosya adı satırını \"öğrenci numaranızın\" sonuna \"_Ö3\" ekleyerek yeniden adlandırınız.<br>**ör./** \"2307220001_Ö3.ipynb\"<br>**NOT:** Derse izleyici olarak katılan öğrenciler adlandırmada öğrenci numarası yerine soyad kullanması rica olunur.\n",
        "  \n",
        "  -  **GÖREV 2:** Dosyayıyı kaydediniz (Dosya/Kaydet veya Ctrl+S).\n",
        "  -  **GÖREV 3:** Aşağıdaki hücrelerde belirtilen görevleri - *ilgili hücre içine gerekli kodu yazarak* - yerine getiriniz.<br>*(Doğru yaptığınız 2 görev 50'şer puan üzerinden değerlendirilecektir.)*\n",
        "  -  **GÖREV 5:** Dosyanızı indiriniz (Dosya/İndir/.ipynb sürümünü indir).\n",
        "  -  **GÖRE 6** Dosyanızı e-posta ile mehmet.bayar@hbv.edu.tr adresine konuya yalnızca \"ISLE426 - ÖDEV3\" yazarak iletiniz 31 Mart* tarihine kadar iletiniz.<br><br>\n",
        "\n",
        "----\n",
        "\n",
        "**(*):** Bu tarih özel durumlar değerlendirilerek bireysel olarak değiştirilebilir."
      ],
      "metadata": {
        "id": "syUQABY6UcGI"
      }
    },
    {
      "cell_type": "code",
      "execution_count": null,
      "metadata": {
        "id": "OjAR3ptFUPe_"
      },
      "outputs": [],
      "source": [
        "#  Boş değerli bir değişken oluşturunuz.\n",
        "\n",
        "#  Oluşturduğunu değişkenin değerini içinde hiçbir üye olmayan bir liste olarak güncelleyiniz\n",
        "\n",
        "#  15 adımlı bir while döngüsü içinde;\n",
        "#    Her bir i. adımda \"In virtute sunt multi ascensus. Cicero\" karakter dizisinin i-1'inci elemanını listenize .append() metodunu kullanarak ekleyiniz.\n",
        "\n",
        "#  Büyük ve küçük harf olarak tüm sesli harfleri içeren bir liste oluşturunuz ve bu listeyi \"sesli_harfler\" değişkenine atayınız.\n",
        "\n",
        "#  For döngüsü ya da for döngüleri kullarak (ve if, elif, else kullanmadan) \n",
        "#  \"In virtute sunt multi ascensus. Cicero\"'nun karakterlerini üyeleri olarak içeren ilk listenizdeki üyeleri sırayla geziniz.\n",
        "#  her bir adımda ilgili karakteri ve bu karakter sesli harf ise \"sesli bir harftir\" yazısını yazdıran, bu karakter sessiz harfse herhangi bir şey yazdırmayan\n",
        "#  bir döngü yapısı oluşturunuz ve çalıştırınız.\n"
      ]
    },
    {
      "cell_type": "code",
      "source": [
        "#  Yukarıda yaptığınız işlemi önce while yerine for döngüsü\n",
        "#  ve takip eden for döngüsü yerine de while döngüsü kullanarak yapınız.\n"
      ],
      "metadata": {
        "id": "kSpaBAHJz_6n"
      },
      "execution_count": null,
      "outputs": []
    },
    {
      "cell_type": "code",
      "source": [
        "#  iki haneli en büyük asal sayıyı;\n",
        "#  while döngüleri kullanrak oluşturduğunuz bir liste içinden indis adresi ile çağırarak belirleyiniz\n",
        "#  ve print() fonksiyonu kullanarak yazdırınız.\n",
        "\n",
        "#  100'den küçük kaç asal sayı olduğunu len() fonksiyonunu ve az önce oluşturduğunuz listeyi kullanarak bulunuz\n",
        "#  ve print() fonksiyonu ile yazdırınız.\n"
      ],
      "metadata": {
        "id": "gxDNlXKsVFpk"
      },
      "execution_count": null,
      "outputs": []
    },
    {
      "cell_type": "code",
      "source": [
        "#  Bu hücreyi çalıştırınız ve bilgisayaran hafızası dolup oturumunuz çökmeden durdurunuz\n",
        "\n",
        "liste = list()\n",
        "while True:\n",
        "  liste.append('')"
      ],
      "metadata": {
        "id": "vBs0nbymqtzO"
      },
      "execution_count": null,
      "outputs": []
    },
    {
      "cell_type": "code",
      "source": [],
      "metadata": {
        "id": "0qEUFYGZrHwx"
      },
      "execution_count": null,
      "outputs": []
    }
  ]
}