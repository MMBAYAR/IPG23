{
  "nbformat": 4,
  "nbformat_minor": 0,
  "metadata": {
    "colab": {
      "provenance": [],
      "authorship_tag": "ABX9TyPpTNsrnHXwWMkXupq1fcTV",
      "include_colab_link": true
    },
    "kernelspec": {
      "name": "python3",
      "display_name": "Python 3"
    },
    "language_info": {
      "name": "python"
    }
  },
  "cells": [
    {
      "cell_type": "markdown",
      "metadata": {
        "id": "view-in-github",
        "colab_type": "text"
      },
      "source": [
        "<a href=\"https://colab.research.google.com/github/MMBAYAR/IPG23/blob/main/i_pg23_hafta2.ipynb\" target=\"_parent\"><img src=\"https://colab.research.google.com/assets/colab-badge.svg\" alt=\"Open In Colab\"/></a>"
      ]
    },
    {
      "cell_type": "markdown",
      "source": [
        "## **Python Programlamaya Giriş**"
      ],
      "metadata": {
        "id": "y5akye2noYwL"
      }
    },
    {
      "cell_type": "markdown",
      "source": [
        "### ***Neden Python?***<br><br>\n",
        "- Python, \"*yazıldığı gibi okunan*\" bir dildir. İmla kuralları (syntax) neredeyse günlük dile benzer.\n",
        "- Python; nesne yönelimli ve dev bir topluluğun desteklediği bir yüksek dildir. Yani; karşılaştığınız sorunları yalnızca arama motorlarına yazarak bile çözüm bulma olasılığınız oldukça yüksektir.\n",
        "- Python *Veri Bilimi* ve *Makine Öğrenmesi* için anadillerden biridir.\n",
        "- Pyhton ile kod yazıp çalıştırabilmek için güçlü bir bilgisayara ihtiyacınız yoktur hatta; cihazlarınıza bir yazılım yüklemeye veya kurmaya da ihtiyacınız yoktur.\n",
        "\n",
        "Bu derste ihtiyacınız olan;\n",
        "- bir Google hesabı (kurumsal eposta adresleriniz birer Google hesabıdır),\n",
        "\n",
        "ve\n",
        "- internete erişimdir.\n",
        "\n",
        "Elbette ki bilgisayar kullanmak kolaylıklar sağlayacaktır ancak; bir akıllı telefon üzerinden bile çalışmalarınızı takip edebilir ve yürütebilirsiniz (telefon üzerinden çalışmanız önerilmez, klavye olmadan kodlamak kolay ya da yarayışlı değildir)."
      ],
      "metadata": {
        "id": "xBsJtbmTrpFJ"
      }
    },
    {
      "cell_type": "markdown",
      "source": [
        "## ***Google Colaboratory Arayüzü Tanıtımı***<br><br>\n",
        "\n",
        "Google Colaboratory ya da Colab, size - Iron Python Notebooks (.ipynb uzantılı dosyalar) dosyaları yaratabileceğiniz - bir bulut bilgisayara (linux bilgisayara) erişim olanağı veren bir çevrimiçi platformdur. Bu \"notebook\"ların içerisinde kod ve yazı (markdown) hücreleri oluşturabilirsiniz. Örneğin okumakta olduğunuz bu hücre bir yazı hücresidir.<br><br>\n",
        "Colab'in size sunduğu uzak bilgisayarda iki işlem birimi olan tek çekirdekli bir işlemci (en az 2Ghz gücünde) ve son derece güçlü ve pahalı bir grafik işlemcisi bulunur. Sunulan grafik işlemcide cuda işlemcileri bulunmaktadır ve bu işlemcileri GPU-computing için kullanabilirsiniz.<br>Ayrıca; Google size bu olanakları sağlarken (Colab'in bedava sürümünü kullandığınız sürece) sizden hiçbir ücret talep etmemektedir.<br><br>\n",
        "Kod hücrelerinde Python kodları yazabilir ve - tüm kod notebook'tak, kodu çalıştırmaksızın - bu parça kodu çalıştırabilirsiniz. Bu kodu parçar parça çalıştırabilme olanağının çok kullanışlı olduğunu zamanla farkedeceksiniz.<br><br>\n",
        "Yazı hücrelerine gelecek olursak, yazı hücreleri notebook içinde birer metin editörü programı (MS Word, vb.) gibidir.<br><br>\n",
        "Yazı hücrelerinin dışında kod hücreleri içerisinde de başına \"#\" koyarak tek satırlık yorumlar yazılabilir ya da başına üç tek tırnak (''') ya da üç çift tırnak (\"\"\") konularak çok satırlık yorumlar yazılabilir ve yorumun hemen ardından başlandığı biçimde 3 tırnak konulur.<br><br>\n",
        "Siz yazı hücreleri ya da kod hücreleri içerisinde çalışırken Colab çalışmalarınızı kişisel Google Drive'ınıza sürekli olarak kaydeder (manuel olarak da çalışmanızı kaydedebilirsiniz).<br><br>\n",
        "Eğer bir Notebook dosyasını silmek isterseniz, dosyayı Google Drive'ınızda bulmalı ve orada silmelisiniz.<br><br>\n",
        "Alternatif IDE'leri de deneyimlemek isteyebilirsiniz. Bazı öneriler:\n",
        "Jupyter Notebook (Colab'e benzer) ya da PyCharm, vb."
      ],
      "metadata": {
        "id": "UMI7PEgkrqcn"
      }
    },
    {
      "cell_type": "code",
      "execution_count": null,
      "metadata": {
        "id": "kPa_2pUsoUlF",
        "colab": {
          "base_uri": "https://localhost:8080/",
          "height": 54
        },
        "outputId": "d3bbaa36-6d69-4e83-83dd-f012c2cec530"
      },
      "outputs": [
        {
          "output_type": "execute_result",
          "data": {
            "text/plain": [
              "'\\nIf you do not write explanations to your code pieces, most probably, you will have a hard\\ntime remembering how and why you wrote that code piece.\\n'"
            ],
            "application/vnd.google.colaboratory.intrinsic+json": {
              "type": "string"
            }
          },
          "metadata": {},
          "execution_count": 1
        }
      ],
      "source": [
        "#Bu kod hücresi içerisinde tek satırlık bir yorumdur.\n",
        "'''\n",
        "Ve bu da\n",
        "kod hücresi içerisinde\n",
        "çok satırlık bir\n",
        "yorumdur.\n",
        "'''\n",
        "#  Kod parçalarına açıklamalar içeren yorumlar yazarak derli toplu kod hücreleri oluşturmayı alışkanlık edininiz.\n",
        "#  Uzun bir aradan sonra Notebook'unuzu incelemeniz gerektiğinde kod açıklamaları son derece kullanışlıdır.\n",
        "\"\"\"\n",
        "Kod açıklamaları yazmazsanız büyük olasılıkla o kodu neden ve nasıl yazdığınızı\n",
        "bir daha hatırlayamayacaksınız.\n",
        "\"\"\""
      ]
    },
    {
      "cell_type": "markdown",
      "source": [
        "## ***İlk (muhtemelen ilk) Python Kodunuz***<br><br>\n",
        "\n",
        "Burada *Python'un* \"print()\" *fonksiyonu*nu kullanarak bir kod hücresinden yazı tipinde çıktı elde ediyoruz.\n",
        "\n",
        "Bu örnekte, elde etmeye çalıştığımız yazı çıktısı \"Merhaba Dünya!\"."
      ],
      "metadata": {
        "id": "5KYgSMhDxxBR"
      }
    },
    {
      "cell_type": "code",
      "source": [
        "#  Tırnak işareti kullanmadan \"Merhaba Dünya!\" yazdırmaya çalışmak\n",
        "print(\n",
        "    Merhaba Dünya!\n",
        ")"
      ],
      "metadata": {
        "colab": {
          "base_uri": "https://localhost:8080/",
          "height": 135
        },
        "id": "-na1OA3Txpmb",
        "outputId": "31774317-128d-4e56-bf0b-3ebde66e29fb"
      },
      "execution_count": null,
      "outputs": [
        {
          "output_type": "error",
          "ename": "SyntaxError",
          "evalue": "ignored",
          "traceback": [
            "\u001b[0;36m  File \u001b[0;32m\"<ipython-input-1-8f5935473556>\"\u001b[0;36m, line \u001b[0;32m3\u001b[0m\n\u001b[0;31m    Merhaba Dünya!\u001b[0m\n\u001b[0m            ^\u001b[0m\n\u001b[0;31mSyntaxError\u001b[0m\u001b[0;31m:\u001b[0m invalid syntax\n"
          ]
        }
      ]
    },
    {
      "cell_type": "code",
      "source": [
        "#  Yazı biçiminde Python nesnelerini yazdırmanın doğru yolu (sınıf içi etkinlik)\n"
      ],
      "metadata": {
        "id": "afuKUT7aye4W"
      },
      "execution_count": null,
      "outputs": []
    },
    {
      "cell_type": "markdown",
      "source": [
        "Python dilinde yazı biçimindeki nesneler tek tırnak içinde ya da çift tırnak içinde tanımlanırlar.<br><br>\n",
        "Bu nesnelere \"*Sting*\"s (str) - Karakter Dizisi denir.."
      ],
      "metadata": {
        "id": "dtPlHLglyvxZ"
      }
    },
    {
      "cell_type": "code",
      "source": [
        "#  type() fonksiyonu ile bir Python nesnesinin türünü öğrenmek\n",
        "type(\n",
        "    \"Merhaba Dünya!\"\n",
        ")"
      ],
      "metadata": {
        "colab": {
          "base_uri": "https://localhost:8080/"
        },
        "id": "MA3N4K5PzVe8",
        "outputId": "52a651c9-2a49-44da-c753-272bbeb8e536"
      },
      "execution_count": null,
      "outputs": [
        {
          "output_type": "execute_result",
          "data": {
            "text/plain": [
              "str"
            ]
          },
          "metadata": {},
          "execution_count": 2
        }
      ]
    },
    {
      "cell_type": "code",
      "source": [
        "#  type() fonksiyonu ile bir Python nesnesinin türünü öğrenmek\n",
        "type(\n",
        "    'Merhaba Dünya!'\n",
        ")"
      ],
      "metadata": {
        "colab": {
          "base_uri": "https://localhost:8080/"
        },
        "id": "3MvYm35Izir2",
        "outputId": "6fa2f313-f4bf-412e-b7d4-18a19522ba7f"
      },
      "execution_count": null,
      "outputs": [
        {
          "output_type": "execute_result",
          "data": {
            "text/plain": [
              "str"
            ]
          },
          "metadata": {},
          "execution_count": 3
        }
      ]
    },
    {
      "cell_type": "code",
      "source": [
        "#  type() fonksiyonu ile bir Python nesnesinin türünü öğrenmek\n",
        "type(\n",
        "    \"Bir diğer yazı parçası...\"\n",
        ")"
      ],
      "metadata": {
        "colab": {
          "base_uri": "https://localhost:8080/"
        },
        "id": "BuZloYDPztQp",
        "outputId": "4fe84ee2-df0f-4d79-fa82-b75fc352b8df"
      },
      "execution_count": null,
      "outputs": [
        {
          "output_type": "execute_result",
          "data": {
            "text/plain": [
              "str"
            ]
          },
          "metadata": {},
          "execution_count": 4
        }
      ]
    },
    {
      "cell_type": "markdown",
      "source": [
        "#  <br><br><br>**HAFTA 2**<br><br><br>"
      ],
      "metadata": {
        "id": "E0ZDuFG9RtM_"
      }
    },
    {
      "cell_type": "markdown",
      "source": [
        "## **Temel Python Nesneleri A:**<br>\n",
        "- **String (Karakter Dizisi)**,\n",
        "- **Integer (Tam sayı)**,\n",
        "- **Floating Point (Ondalık sayı)**,\n",
        "- **Boolean (Bool sayısı)**<br><br>\n",
        "\n",
        "\"Merhaba Dünya!\" bir Python nesnesidir ve türünün **str** olduğunu belirledik. Karakter dizisi türünde nesneler için type() fonksiyonu çalıştırılacak olursa kod çıktısı \"str\" (String'in bir kısaltması) olacaktır.<br><br>\n",
        "Elbette ki çok sayıda başka Python nesnesi bulunmaktadır ancak; bu ders içeriğinde yalnızca bir kaç nesne türü tanırılacaktır..<br><br>"
      ],
      "metadata": {
        "id": "PX_HN0A_10n3"
      }
    },
    {
      "cell_type": "markdown",
      "source": [
        "### ***Integer - Tam sayı (int)***<br><br>\n",
        "\n",
        "Python'u matematik işlemleri için de kullanabilirsiniz. Öyleyse, işlem yapabilmek için sayı biçiminde nesnelere de ihtiyaç duyulmaktadır.<br><br>\n",
        "Matematik işlemlerinde girdiler de işlemin çıktıları da tam sayı olabilir.<br><br>"
      ],
      "metadata": {
        "id": "drU23Pvt3Rc_"
      }
    },
    {
      "cell_type": "code",
      "source": [
        "#  Bir sayı biçimli nesnenin türünü öğrenme\n",
        "type(217)"
      ],
      "metadata": {
        "id": "QaKt5-Yzz6DQ",
        "colab": {
          "base_uri": "https://localhost:8080/"
        },
        "outputId": "e83534b7-ba24-420e-e54f-7455a8391e57"
      },
      "execution_count": null,
      "outputs": [
        {
          "output_type": "execute_result",
          "data": {
            "text/plain": [
              "int"
            ]
          },
          "metadata": {},
          "execution_count": 6
        }
      ]
    },
    {
      "cell_type": "code",
      "source": [
        "#  Sonucu sayı biçimli bir işlemin türünü öğrenme\n",
        "type(200 + 17)"
      ],
      "metadata": {
        "colab": {
          "base_uri": "https://localhost:8080/"
        },
        "id": "M0iEekPgbFxX",
        "outputId": "bdf75a34-2068-465e-9ff5-555574ea50d9"
      },
      "execution_count": null,
      "outputs": [
        {
          "output_type": "execute_result",
          "data": {
            "text/plain": [
              "int"
            ]
          },
          "metadata": {},
          "execution_count": 7
        }
      ]
    },
    {
      "cell_type": "markdown",
      "source": [
        "### *Sonucu tam sayı olan her işlemin türü \"int\" midir?*"
      ],
      "metadata": {
        "id": "kodKbui9f_5R"
      }
    },
    {
      "cell_type": "code",
      "source": [
        "534/2"
      ],
      "metadata": {
        "colab": {
          "base_uri": "https://localhost:8080/"
        },
        "id": "TAzsBFDgbTHF",
        "outputId": "687f2158-e2db-4626-f39b-4c6fc7f9f9e6"
      },
      "execution_count": null,
      "outputs": [
        {
          "output_type": "execute_result",
          "data": {
            "text/plain": [
              "267.0"
            ]
          },
          "metadata": {},
          "execution_count": 9
        }
      ]
    },
    {
      "cell_type": "code",
      "source": [
        "type(534/2)"
      ],
      "metadata": {
        "colab": {
          "base_uri": "https://localhost:8080/"
        },
        "id": "SFu6Xr4WgJVa",
        "outputId": "c3000bb5-e43e-4c33-e5b3-fc6637498ecc"
      },
      "execution_count": null,
      "outputs": [
        {
          "output_type": "execute_result",
          "data": {
            "text/plain": [
              "float"
            ]
          },
          "metadata": {},
          "execution_count": 10
        }
      ]
    },
    {
      "cell_type": "markdown",
      "source": [
        "Bölme işleminin sonucunda ondalık sayılar elde edilebileceği için Python bölme işleminin sonucunda oluşan nesneleri otomatik olarak ondalık sayı olarak tanımlar; sonuç tam sayı olsa bile..."
      ],
      "metadata": {
        "id": "KwU8te3zgR2z"
      }
    },
    {
      "cell_type": "markdown",
      "source": [
        "## ***Floating Point - Ondalık Sayı (float)***\n",
        "\n",
        "Python'da bir diğer sayı biçimli nesne ondalık sayı nesneleridir. type() fonksiyonu içerisinde çalıştırıldığında \"float\" çıktısı veren bu nesenelerde en çok 16 ondalık basamağı gösterilebilir."
      ],
      "metadata": {
        "id": "FNHUgOLKio02"
      }
    },
    {
      "cell_type": "code",
      "source": [
        "#  Ondalık sayılarda en küçük basamak hanelerinde sıklıkla yuvarlama hatalarına rastlanabilir.\n",
        "#  Ancak; bu hatalar işlem sonuçlarını genel olarak etkilememektedir.\n",
        "\n",
        "10/3"
      ],
      "metadata": {
        "colab": {
          "base_uri": "https://localhost:8080/"
        },
        "id": "K-DLOh6DgNyH",
        "outputId": "73c4e764-9105-467f-934e-d2ebd20b5088"
      },
      "execution_count": null,
      "outputs": [
        {
          "output_type": "execute_result",
          "data": {
            "text/plain": [
              "3.3333333333333335"
            ]
          },
          "metadata": {},
          "execution_count": 11
        }
      ]
    },
    {
      "cell_type": "code",
      "source": [
        "type(10/3)"
      ],
      "metadata": {
        "colab": {
          "base_uri": "https://localhost:8080/"
        },
        "id": "f4oOUPpvjQUf",
        "outputId": "cd5eec56-9c72-44ff-c654-6c5bb0045a5d"
      },
      "execution_count": null,
      "outputs": [
        {
          "output_type": "execute_result",
          "data": {
            "text/plain": [
              "float"
            ]
          },
          "metadata": {},
          "execution_count": 12
        }
      ]
    },
    {
      "cell_type": "code",
      "source": [
        "#  Ondalık sayı oluşturabilmek için \".\" kullanılmalıdır.\n",
        "type(2.0)"
      ],
      "metadata": {
        "colab": {
          "base_uri": "https://localhost:8080/"
        },
        "id": "Wz5sBxK3jhxR",
        "outputId": "88a7bc74-6b51-40f1-9397-4f0c08dbc54b"
      },
      "execution_count": null,
      "outputs": [
        {
          "output_type": "execute_result",
          "data": {
            "text/plain": [
              "float"
            ]
          },
          "metadata": {},
          "execution_count": 13
        }
      ]
    },
    {
      "cell_type": "markdown",
      "source": [
        "### *int() fonksiyonu ile tam sayı nesnesi türetimi*"
      ],
      "metadata": {
        "id": "g5XLo6ZdkJH0"
      }
    },
    {
      "cell_type": "code",
      "source": [
        "#  float nesneleri int() fonksiyonu ile tam sayı nesnelerine dönüştürülebilir.\n",
        "int(2.0), int(2.09), int(2.99)"
      ],
      "metadata": {
        "colab": {
          "base_uri": "https://localhost:8080/"
        },
        "id": "7XR10ukFjsJA",
        "outputId": "ae152c55-c430-46a5-9db8-3f514c221c50"
      },
      "execution_count": null,
      "outputs": [
        {
          "output_type": "execute_result",
          "data": {
            "text/plain": [
              "(2, 2, 2)"
            ]
          },
          "metadata": {},
          "execution_count": 15
        }
      ]
    },
    {
      "cell_type": "code",
      "source": [
        "\"\"\"\n",
        "int() fonksiyonu ile tam sayı nesnesi türetilirken ondalık sayılarda yuvarlama işlemi yapılmaz.\n",
        "int() fonksiyonu bir ondalık sayının yalnızca tam sayı değerini ayrıştırır ve kesirli kısmın niceleğini değerlendirmez.\n",
        "\"\"\""
      ],
      "metadata": {
        "colab": {
          "base_uri": "https://localhost:8080/",
          "height": 54
        },
        "id": "bN9JxhFlkaF6",
        "outputId": "1264c0a8-acfc-4515-98be-a80a42a927cb"
      },
      "execution_count": null,
      "outputs": [
        {
          "output_type": "execute_result",
          "data": {
            "text/plain": [
              "'\\nint() fonksiyonu ile tam sayı nesnesi türetilirken ondalık sayılarda yuvarlama işlemi yapılmaz.\\nint() fonksiyonu bir ondalık sayının yalnızca tam sayı değerini ayrıştırır ve kesirli kısmın niceleğini değerlendirmez.\\n'"
            ],
            "application/vnd.google.colaboratory.intrinsic+json": {
              "type": "string"
            }
          },
          "metadata": {},
          "execution_count": 16
        }
      ]
    },
    {
      "cell_type": "code",
      "source": [
        "#  int() fonksiyonu ile içeriği tam sayı olan karakter dizisi nesneleri de tam sayı nesnelerine dönüştürülebilir.\n",
        "int(\"217.0\")"
      ],
      "metadata": {
        "colab": {
          "base_uri": "https://localhost:8080/",
          "height": 171
        },
        "id": "kHaznsinlXYX",
        "outputId": "2037f7d2-cebe-4e09-8a65-478fb0c5f42a"
      },
      "execution_count": null,
      "outputs": [
        {
          "output_type": "error",
          "ename": "ValueError",
          "evalue": "ignored",
          "traceback": [
            "\u001b[0;31m---------------------------------------------------------------------------\u001b[0m",
            "\u001b[0;31mValueError\u001b[0m                                Traceback (most recent call last)",
            "\u001b[0;32m<ipython-input-18-13d81691a89b>\u001b[0m in \u001b[0;36m<module>\u001b[0;34m\u001b[0m\n\u001b[0;32m----> 1\u001b[0;31m \u001b[0mint\u001b[0m\u001b[0;34m(\u001b[0m\u001b[0;34m\"217.0\"\u001b[0m\u001b[0;34m)\u001b[0m\u001b[0;34m\u001b[0m\u001b[0;34m\u001b[0m\u001b[0m\n\u001b[0m",
            "\u001b[0;31mValueError\u001b[0m: invalid literal for int() with base 10: '217.0'"
          ]
        }
      ]
    },
    {
      "cell_type": "code",
      "source": [
        "#  int() fonksiyonu ile içeriği tam sayı olan karakter dizisi nesneleri de tam sayı nesnelerine dönüştürülebilir.\n",
        "int(\"217\")"
      ],
      "metadata": {
        "colab": {
          "base_uri": "https://localhost:8080/"
        },
        "id": "48HeUXrLlctm",
        "outputId": "f4c737fe-9d32-4248-82ca-9f31ec0455c9"
      },
      "execution_count": null,
      "outputs": [
        {
          "output_type": "execute_result",
          "data": {
            "text/plain": [
              "217"
            ]
          },
          "metadata": {},
          "execution_count": 20
        }
      ]
    },
    {
      "cell_type": "markdown",
      "source": [
        "### *float() fonksiyonu ile ondalık sayı nesnesi türetimi*"
      ],
      "metadata": {
        "id": "UMldfoZTk8EV"
      }
    },
    {
      "cell_type": "code",
      "source": [
        "#  tam sayı nesneleri float() fonksiyonu ile ondalık sayı nesnelerine dönüştürülebilir.\n",
        "float(2)"
      ],
      "metadata": {
        "colab": {
          "base_uri": "https://localhost:8080/"
        },
        "id": "-_d0GeQRk2Q3",
        "outputId": "69361416-f4ae-4f78-8cbc-3fe1533d3d6f"
      },
      "execution_count": null,
      "outputs": [
        {
          "output_type": "execute_result",
          "data": {
            "text/plain": [
              "2.0"
            ]
          },
          "metadata": {},
          "execution_count": 17
        }
      ]
    },
    {
      "cell_type": "code",
      "source": [
        "#  sayısallaştırılabilir karakter dizileri de float() fonksiyonu ile ondalık sayı nesnelerine dönüştürülebilir.\n",
        "float('217.0')"
      ],
      "metadata": {
        "colab": {
          "base_uri": "https://localhost:8080/"
        },
        "id": "2z_aJflHMaJr",
        "outputId": "6828fd09-cb3e-4f58-ec4a-3c2e1d1b6adc"
      },
      "execution_count": null,
      "outputs": [
        {
          "output_type": "execute_result",
          "data": {
            "text/plain": [
              "217.0"
            ]
          },
          "metadata": {},
          "execution_count": 1
        }
      ]
    },
    {
      "cell_type": "markdown",
      "source": [
        "## ***Bool cebiri ve Bool nesneleri***<br><br>\n",
        "En basit hali ile Bool cebiri, önermelerin doğruluğu ya da yanlışlığını inceleyen bir matematik alt dalıdır.<br><br>\n",
        "Python'da Bool nesneleri temel olarak \"doğruluk\" ya da \"yanlışlık\" bilgisini saklarlar."
      ],
      "metadata": {
        "id": "N01vPxVplQOv"
      }
    },
    {
      "cell_type": "code",
      "source": [
        "#  Bir önerme:\n",
        "#      3; 4'ten büyüktür:\n",
        "\n",
        "3 > 4"
      ],
      "metadata": {
        "id": "nc1Ojo6ilIi2",
        "colab": {
          "base_uri": "https://localhost:8080/"
        },
        "outputId": "c7901f0c-abd4-45fd-e683-ad7cae8baa16"
      },
      "execution_count": null,
      "outputs": [
        {
          "output_type": "execute_result",
          "data": {
            "text/plain": [
              "False"
            ]
          },
          "metadata": {},
          "execution_count": 2
        }
      ]
    },
    {
      "cell_type": "code",
      "source": [
        "type( 3 > 4 )"
      ],
      "metadata": {
        "colab": {
          "base_uri": "https://localhost:8080/"
        },
        "id": "ONVefpTqN-qX",
        "outputId": "fdbe8b39-ecc9-4c37-f976-17566784bf01"
      },
      "execution_count": null,
      "outputs": [
        {
          "output_type": "execute_result",
          "data": {
            "text/plain": [
              "bool"
            ]
          },
          "metadata": {},
          "execution_count": 3
        }
      ]
    },
    {
      "cell_type": "code",
      "source": [
        "#  Bir diğer önerme:\n",
        "#      2; 2'den büyük veya eşittir:\n",
        "\n",
        "2 >= 2"
      ],
      "metadata": {
        "colab": {
          "base_uri": "https://localhost:8080/"
        },
        "id": "WFNiSUT6OBrU",
        "outputId": "64e36bc1-4abc-4907-a35e-54ce97c17f6d"
      },
      "execution_count": null,
      "outputs": [
        {
          "output_type": "execute_result",
          "data": {
            "text/plain": [
              "True"
            ]
          },
          "metadata": {},
          "execution_count": 4
        }
      ]
    },
    {
      "cell_type": "code",
      "source": [
        "type( 2 >= 2 )"
      ],
      "metadata": {
        "colab": {
          "base_uri": "https://localhost:8080/"
        },
        "id": "3o-o5KCAOMQE",
        "outputId": "2c3f6e6f-e767-43c4-e6ec-fa64b9c3c10f"
      },
      "execution_count": null,
      "outputs": [
        {
          "output_type": "execute_result",
          "data": {
            "text/plain": [
              "bool"
            ]
          },
          "metadata": {},
          "execution_count": 5
        }
      ]
    },
    {
      "cell_type": "code",
      "source": [
        "#  Bool nesneleri yalnızca doğruluk ya da yanlışlık bilgisi taşırlar; orijinal önermeye dair bilgi taşımazlar.\n",
        "\n",
        "#  2 == 2, 1 < 3\n",
        "\n",
        "(2==2) == (1 < 3)"
      ],
      "metadata": {
        "colab": {
          "base_uri": "https://localhost:8080/"
        },
        "id": "YMs70KWhOPux",
        "outputId": "8449b048-6642-45c8-f128-06f820423e38"
      },
      "execution_count": null,
      "outputs": [
        {
          "output_type": "execute_result",
          "data": {
            "text/plain": [
              "True"
            ]
          },
          "metadata": {},
          "execution_count": 9
        }
      ]
    },
    {
      "cell_type": "markdown",
      "source": [
        "###  *bool() fonksiyonu*"
      ],
      "metadata": {
        "id": "oad-RMFROzNC"
      }
    },
    {
      "cell_type": "code",
      "source": [
        "#  bool() fonksiyonu ile diğer sayı nesnelerini dönüştürmek\n",
        "bool(-7), bool(0), bool(21)"
      ],
      "metadata": {
        "colab": {
          "base_uri": "https://localhost:8080/"
        },
        "id": "AKSICOSNOlNm",
        "outputId": "db7aae47-d027-4c39-b72d-8abf77a8820f"
      },
      "execution_count": null,
      "outputs": [
        {
          "output_type": "execute_result",
          "data": {
            "text/plain": [
              "(True, False, True)"
            ]
          },
          "metadata": {},
          "execution_count": 11
        }
      ]
    },
    {
      "cell_type": "markdown",
      "source": [
        "**bool() fonksiyonu;**<br>\n",
        "yalnızca eşiti \"0\" olan sayı nesneleri için **Yanlış (False)** bilgisine dönüştürebilirken sıfırdan farklı değeri olan tüm sayı nesnelerini **Doğru (True)** bilgisine dönüştürmektedir."
      ],
      "metadata": {
        "id": "o55zRq2MPG-8"
      }
    },
    {
      "cell_type": "markdown",
      "source": [
        "##  ***Python'da Bazı Matematik İşlemleri***<br><br>\n",
        "###  **4 İşlem**"
      ],
      "metadata": {
        "id": "lonRXLHcQRaz"
      }
    },
    {
      "cell_type": "code",
      "source": [
        "#  Toplama\n",
        "3 + 7.21"
      ],
      "metadata": {
        "colab": {
          "base_uri": "https://localhost:8080/"
        },
        "id": "nDql8KoyOvSh",
        "outputId": "7e069040-eb91-493f-d426-c962f5c8cfd4"
      },
      "execution_count": null,
      "outputs": [
        {
          "output_type": "execute_result",
          "data": {
            "text/plain": [
              "10.21"
            ]
          },
          "metadata": {},
          "execution_count": 12
        }
      ]
    },
    {
      "cell_type": "markdown",
      "source": [
        "Karakter dizileri için toplama işlemi yapılabilir mi?"
      ],
      "metadata": {
        "id": "xjLiRmxhSkfi"
      }
    },
    {
      "cell_type": "code",
      "source": [
        "\"ABC\" + ' ' + 'DEF ' + 'GHI'"
      ],
      "metadata": {
        "colab": {
          "base_uri": "https://localhost:8080/",
          "height": 35
        },
        "id": "SYDVUgF3Sp-H",
        "outputId": "016e211e-3d4e-4234-ba79-98be2850d961"
      },
      "execution_count": 28,
      "outputs": [
        {
          "output_type": "execute_result",
          "data": {
            "text/plain": [
              "'ABC DEF GHI'"
            ],
            "application/vnd.google.colaboratory.intrinsic+json": {
              "type": "string"
            }
          },
          "metadata": {},
          "execution_count": 28
        }
      ]
    },
    {
      "cell_type": "code",
      "source": [
        "#  Çıkarma\n",
        "11 - 23.6"
      ],
      "metadata": {
        "colab": {
          "base_uri": "https://localhost:8080/"
        },
        "id": "1ridimoUQiOX",
        "outputId": "92b72ee3-b8e1-408d-967e-e9e0be52dcaf"
      },
      "execution_count": null,
      "outputs": [
        {
          "output_type": "execute_result",
          "data": {
            "text/plain": [
              "-12.600000000000001"
            ]
          },
          "metadata": {},
          "execution_count": 13
        }
      ]
    },
    {
      "cell_type": "code",
      "source": [
        "#  Çarpma\n",
        "2 * 3"
      ],
      "metadata": {
        "colab": {
          "base_uri": "https://localhost:8080/"
        },
        "id": "eqmrmu5lQnDc",
        "outputId": "8a6e5202-d3d1-46bd-ce12-d5db9aeca832"
      },
      "execution_count": null,
      "outputs": [
        {
          "output_type": "execute_result",
          "data": {
            "text/plain": [
              "6"
            ]
          },
          "metadata": {},
          "execution_count": 14
        }
      ]
    },
    {
      "cell_type": "code",
      "source": [
        "#  Bölme\n",
        "3 / 2"
      ],
      "metadata": {
        "colab": {
          "base_uri": "https://localhost:8080/"
        },
        "id": "MWqeGZJ1QrPN",
        "outputId": "7f7eecdf-d785-4626-8f68-5d0199f49566"
      },
      "execution_count": null,
      "outputs": [
        {
          "output_type": "execute_result",
          "data": {
            "text/plain": [
              "1.5"
            ]
          },
          "metadata": {},
          "execution_count": 15
        }
      ]
    },
    {
      "cell_type": "markdown",
      "source": [
        "###  **Bazı Özel İşlemler**"
      ],
      "metadata": {
        "id": "TyD9a94eRuv_"
      }
    },
    {
      "cell_type": "code",
      "source": [
        "#  Üs Alma\n",
        "2 ** 3"
      ],
      "metadata": {
        "colab": {
          "base_uri": "https://localhost:8080/"
        },
        "id": "2QC9THYqQulm",
        "outputId": "47314b86-aa8d-48de-a692-32a9f96a96f1"
      },
      "execution_count": null,
      "outputs": [
        {
          "output_type": "execute_result",
          "data": {
            "text/plain": [
              "8"
            ]
          },
          "metadata": {},
          "execution_count": 17
        }
      ]
    },
    {
      "cell_type": "code",
      "source": [
        "#  Kalan Bulma\n",
        "11 / 3, 11 % 3"
      ],
      "metadata": {
        "colab": {
          "base_uri": "https://localhost:8080/"
        },
        "id": "-4gnWRwKQz4p",
        "outputId": "6c94c304-77c8-4ea0-e7a3-dc5acfb8404d"
      },
      "execution_count": null,
      "outputs": [
        {
          "output_type": "execute_result",
          "data": {
            "text/plain": [
              "(3.6666666666666665, 2)"
            ]
          },
          "metadata": {},
          "execution_count": 25
        }
      ]
    },
    {
      "cell_type": "code",
      "source": [
        "#  Bölümün Tam Sayı Kısmını Bulma\n",
        "11 / 3, 11 // 3"
      ],
      "metadata": {
        "colab": {
          "base_uri": "https://localhost:8080/"
        },
        "id": "zx9gXSUcRI-7",
        "outputId": "c2fe2277-800a-4b70-860b-e02250867d0a"
      },
      "execution_count": null,
      "outputs": [
        {
          "output_type": "execute_result",
          "data": {
            "text/plain": [
              "(3.6666666666666665, 3)"
            ]
          },
          "metadata": {},
          "execution_count": 23
        }
      ]
    },
    {
      "cell_type": "markdown",
      "source": [
        "#  <br><br><br>**HAFTA 3**<br><br><br>"
      ],
      "metadata": {
        "id": "E4gZcwEwR52B"
      }
    },
    {
      "cell_type": "markdown",
      "source": [
        "## **Temel Python Nesneleri B:**<br>\n",
        "- **Tuple (Demet)**,\n",
        "- **List (Liste)**,\n",
        "- **Dictionary (Sözlük)**,\n",
        "- **Set (Küme)**<br><br>\n",
        "\n",
        "\"*Temel Python Nesneleri A*\" başlığı altında tek veri taşıyan (karakter dizileri hariç) bazı seçilmiş nesneler ile sizleri tanıştırdık.<br><br>\n",
        "**Temel Python Nesneleri B** başlığı altında da çoklu veri taşıyabilen gruplayıcı bazı nesneler ile sizleri tanıştıracağız. Bu gruplayıcı nesneler içindeki üyelerin bir kurala göre işlenmesi üzerine tanımlanan döngüler (3., 4. ve 5. haftalarda ayrıntılı olarak ele alınacaktır) otomasyonun en temel yaklaşımlarından biridir.<br><br>\n",
        "Bu başlık altında anılan ve anlatımı sunulacak 4 Python nesnesi, çeşitli özellikleri bakımından birbirinden ayrışan ve kodlayıcının amacına ve üslubuna göre kullanabileceği temel alternatifleri oluşturmaktadır."
      ],
      "metadata": {
        "id": "Bm0hVQjTFsqQ"
      }
    },
    {
      "cell_type": "markdown",
      "source": [
        "###  **Tuple (Demet)**<br><br>\n",
        "\n",
        "Demetler, içerisinde çok çeşitli nesneleri bulundurabilen özel bir gruplayıcıdır. Demetleri özel yapan, demetler içinde tanımlanan üyelerin daha sonrada değiştirilemez olmasıdır.<br>\n",
        "Bu değiştirilemezlik hem bir tercih nedeni hem de bir risk unsurudur.<br>\n",
        "  -  Bilgilerin dinamik olduğu ve bu gerekçe ile verilerin güncellenmesi gereken durumlarda demetlerin kullanımı uygun olmayacaktır.\n",
        "  -  Öte yandan bilgilerin statik olduğu, birden fazla kodlayıcının sistem içerisinde aktif olduğu ve kritik verilerin korunması gerektiği hallerde de demetlerin kullanımı oldukça mantıklıdır.\n",
        "  -  Kişisel tercihim ise demetlerin yerine listelerin kullanımıdır."
      ],
      "metadata": {
        "id": "Lpwtsm6rIXTD"
      }
    },
    {
      "cell_type": "code",
      "source": [
        "#  Arzu ettiğim biçimde adlandırabileceğim bir değişkeni boş olarak \n",
        "#  tanımlıyorum ve değerini hücre çıktısı olarak izliyorum.\n",
        "\n",
        "değ = None\n",
        "\n",
        "değ"
      ],
      "metadata": {
        "id": "eZTknBMORT8r"
      },
      "execution_count": 2,
      "outputs": []
    },
    {
      "cell_type": "markdown",
      "source": [
        "Değişkenler, değeri her türlü Python nesnesi olarak kararlaştırılabilecek ve sonradan güncellenebilen veya silinebilen kod unsurlarıdır.<br>\n",
        "Değişkenleri seviyoruz; değişkenler,yazımı uzun olan nesneleri kısa ve kullanışlı paketleme araçlarıdır.<br>\n",
        "Değişkenlerin değerini print() fonksiyonu ile izleyebileceğimiz gibi hücrelerin son satırında adını yazarak da izleyebiliriz."
      ],
      "metadata": {
        "id": "TKsm9Vt2KpuG"
      }
    },
    {
      "cell_type": "code",
      "source": [
        "#  Değişkenimin değerini güncelliyorum.\n",
        "değ = 123\n",
        "\n",
        "değ"
      ],
      "metadata": {
        "colab": {
          "base_uri": "https://localhost:8080/"
        },
        "id": "3YDtNOEEKeAy",
        "outputId": "60c37f9b-5079-4ba7-fb60-7b01952e250b"
      },
      "execution_count": 3,
      "outputs": [
        {
          "output_type": "execute_result",
          "data": {
            "text/plain": [
              "123"
            ]
          },
          "metadata": {},
          "execution_count": 3
        }
      ]
    },
    {
      "cell_type": "code",
      "source": [
        "#  Değişkenimi - hafıza tasarrufu yapabilmek için - \n",
        "#  artık kullanmayacağım için siliyorum.\n",
        "\n",
        "del değ"
      ],
      "metadata": {
        "id": "4KgW6kMoLX5z"
      },
      "execution_count": 4,
      "outputs": []
    },
    {
      "cell_type": "code",
      "source": [
        "#  Değişkenim artık var olmadığı için değerini de izleyemem.\n",
        "\n",
        "değ"
      ],
      "metadata": {
        "colab": {
          "base_uri": "https://localhost:8080/",
          "height": 201
        },
        "id": "DLIm8lvILmdP",
        "outputId": "c5cb160b-9ce1-4230-c216-cb8e9311b63f"
      },
      "execution_count": 6,
      "outputs": [
        {
          "output_type": "error",
          "ename": "NameError",
          "evalue": "ignored",
          "traceback": [
            "\u001b[0;31m---------------------------------------------------------------------------\u001b[0m",
            "\u001b[0;31mNameError\u001b[0m                                 Traceback (most recent call last)",
            "\u001b[0;32m<ipython-input-6-8f9a53b2fb7d>\u001b[0m in \u001b[0;36m<module>\u001b[0;34m\u001b[0m\n\u001b[1;32m      1\u001b[0m \u001b[0;31m#  Değişkenim artık var olmadığı için değerini de izleyemem.\u001b[0m\u001b[0;34m\u001b[0m\u001b[0;34m\u001b[0m\u001b[0;34m\u001b[0m\u001b[0m\n\u001b[1;32m      2\u001b[0m \u001b[0;34m\u001b[0m\u001b[0m\n\u001b[0;32m----> 3\u001b[0;31m \u001b[0mdeğ\u001b[0m\u001b[0;34m\u001b[0m\u001b[0;34m\u001b[0m\u001b[0m\n\u001b[0m",
            "\u001b[0;31mNameError\u001b[0m: name 'değ' is not defined"
          ]
        }
      ]
    },
    {
      "cell_type": "code",
      "source": [
        "#  Bir değişkenin silinmiş olması onu yeniden oluşturamayacağım\n",
        "#  anlamına gelmez.\n",
        "\n",
        "değ =  \"Yeniden Merhaba!\"\n",
        "\n",
        "değ"
      ],
      "metadata": {
        "colab": {
          "base_uri": "https://localhost:8080/",
          "height": 35
        },
        "id": "rpLxnYwbLnUT",
        "outputId": "220948ad-7733-47b6-9389-641f500452df"
      },
      "execution_count": 7,
      "outputs": [
        {
          "output_type": "execute_result",
          "data": {
            "text/plain": [
              "'Yeniden Merhaba!'"
            ],
            "application/vnd.google.colaboratory.intrinsic+json": {
              "type": "string"
            }
          },
          "metadata": {},
          "execution_count": 7
        }
      ]
    },
    {
      "cell_type": "code",
      "source": [
        "#  Şimdi değişkenimin değerini bir DEMET olarak tanımlıyorum.\n",
        "\n",
        "değ = (1,'Abc',3.14,0 in (1,1,2,3,5,8,13,),bool(-21))\n",
        "değ"
      ],
      "metadata": {
        "colab": {
          "base_uri": "https://localhost:8080/"
        },
        "id": "3gTEpQh0L2qC",
        "outputId": "c808c42d-e60c-4b92-d1a7-9ed69f2fe09f"
      },
      "execution_count": 9,
      "outputs": [
        {
          "output_type": "execute_result",
          "data": {
            "text/plain": [
              "(1, 'Abc', 3.14, False, True)"
            ]
          },
          "metadata": {},
          "execution_count": 9
        }
      ]
    },
    {
      "cell_type": "markdown",
      "source": [
        "\"değ\" adını verdiğimiz değişkenin değerini içinde beş üye (veri) olan bir demet olarak tanımladık.<br>\n",
        "Bu demetin elemanları sırasıyla bir tam sayı, bir karakter dizisi, bir ondalık sayı ve biri yanlış diğeri doğru değerli iki Bool sayısı biçimindedir.<br><br>\n",
        "\n",
        "**NOT:** 0'dan farklı Bool sayılarının değeri her zaman için doğru kabul edilir."
      ],
      "metadata": {
        "id": "Pbknxx2SNRk1"
      }
    },
    {
      "cell_type": "code",
      "source": [
        "#  0'dan farklı Bool sayılarının değeri her zaman için doğru \n",
        "#  kabul edilir.\n",
        "\n",
        "bool(101), bool(1) == bool(-3), bool(0), bool(0) == False"
      ],
      "metadata": {
        "colab": {
          "base_uri": "https://localhost:8080/"
        },
        "id": "HpY8BFNDM8Nh",
        "outputId": "552d0214-6109-453c-cff9-367a4490d422"
      },
      "execution_count": 12,
      "outputs": [
        {
          "output_type": "execute_result",
          "data": {
            "text/plain": [
              "(True, True, False, True)"
            ]
          },
          "metadata": {},
          "execution_count": 12
        }
      ]
    },
    {
      "cell_type": "markdown",
      "source": [
        "Gruplayıcı nesnelerin üyeleri, 0. üyeden başlayarak sayarak adreslenirler ve bu adresle çağırılabilirler."
      ],
      "metadata": {
        "id": "TaFdOXKKOmRK"
      }
    },
    {
      "cell_type": "code",
      "source": [
        "değ"
      ],
      "metadata": {
        "colab": {
          "base_uri": "https://localhost:8080/"
        },
        "id": "OdJntNAOOZRP",
        "outputId": "10ea28ec-a55c-4918-fd49-6191cec9b787"
      },
      "execution_count": 13,
      "outputs": [
        {
          "output_type": "execute_result",
          "data": {
            "text/plain": [
              "(1, 'Abc', 3.14, False, True)"
            ]
          },
          "metadata": {},
          "execution_count": 13
        }
      ]
    },
    {
      "cell_type": "code",
      "source": [
        "#  değ'in ilk elemanını çağırıyorum.\n",
        "değ[0]"
      ],
      "metadata": {
        "colab": {
          "base_uri": "https://localhost:8080/"
        },
        "id": "35h1NsiaOyou",
        "outputId": "012e5c1f-fff0-46b2-d3bf-29bc3410b186"
      },
      "execution_count": 14,
      "outputs": [
        {
          "output_type": "execute_result",
          "data": {
            "text/plain": [
              "1"
            ]
          },
          "metadata": {},
          "execution_count": 14
        }
      ]
    },
    {
      "cell_type": "code",
      "source": [
        "#  değ'in ikinci elemanının son elemanını çağırıyorum.\n",
        "değ[1][-1]"
      ],
      "metadata": {
        "colab": {
          "base_uri": "https://localhost:8080/",
          "height": 35
        },
        "id": "XkNVukPGO3QN",
        "outputId": "f15703cf-1fbe-49ef-fad4-ede4297bce99"
      },
      "execution_count": 15,
      "outputs": [
        {
          "output_type": "execute_result",
          "data": {
            "text/plain": [
              "'c'"
            ],
            "application/vnd.google.colaboratory.intrinsic+json": {
              "type": "string"
            }
          },
          "metadata": {},
          "execution_count": 15
        }
      ]
    },
    {
      "cell_type": "markdown",
      "source": [
        "Yeniden ifa edelim. Demetlerin üyeleri güncellenemez."
      ],
      "metadata": {
        "id": "RVEFwruXO-l4"
      }
    },
    {
      "cell_type": "code",
      "source": [
        "değ[1]"
      ],
      "metadata": {
        "colab": {
          "base_uri": "https://localhost:8080/",
          "height": 35
        },
        "id": "L3fpRtruO8pF",
        "outputId": "54df6bde-31d4-4278-bd77-0557f52478c0"
      },
      "execution_count": 16,
      "outputs": [
        {
          "output_type": "execute_result",
          "data": {
            "text/plain": [
              "'Abc'"
            ],
            "application/vnd.google.colaboratory.intrinsic+json": {
              "type": "string"
            }
          },
          "metadata": {},
          "execution_count": 16
        }
      ]
    },
    {
      "cell_type": "code",
      "source": [
        "#  değ'in ikinci elemanını \"Vyz\" olarak güncellemeyi deniyorum.\n",
        "değ[1] = \"Vyz\""
      ],
      "metadata": {
        "colab": {
          "base_uri": "https://localhost:8080/",
          "height": 183
        },
        "id": "uh4V-tvPPJuK",
        "outputId": "ad691e4a-db3b-404f-f2b6-d38a024a8b23"
      },
      "execution_count": 17,
      "outputs": [
        {
          "output_type": "error",
          "ename": "TypeError",
          "evalue": "ignored",
          "traceback": [
            "\u001b[0;31m---------------------------------------------------------------------------\u001b[0m",
            "\u001b[0;31mTypeError\u001b[0m                                 Traceback (most recent call last)",
            "\u001b[0;32m<ipython-input-17-c90e1e3078c7>\u001b[0m in \u001b[0;36m<module>\u001b[0;34m\u001b[0m\n\u001b[1;32m      1\u001b[0m \u001b[0;31m#  değ'in ikinci elemanını \"Vyz\" olarak güncellemeyi deniyorum.\u001b[0m\u001b[0;34m\u001b[0m\u001b[0;34m\u001b[0m\u001b[0;34m\u001b[0m\u001b[0m\n\u001b[0;32m----> 2\u001b[0;31m \u001b[0mdeğ\u001b[0m\u001b[0;34m[\u001b[0m\u001b[0;36m1\u001b[0m\u001b[0;34m]\u001b[0m \u001b[0;34m=\u001b[0m \u001b[0;34m\"Vyz\"\u001b[0m\u001b[0;34m\u001b[0m\u001b[0;34m\u001b[0m\u001b[0m\n\u001b[0m",
            "\u001b[0;31mTypeError\u001b[0m: 'tuple' object does not support item assignment"
          ]
        }
      ]
    },
    {
      "cell_type": "markdown",
      "source": [
        "Biz biraz önce bir karakter dizisinin içindeki herbir karakeri (harf, boşluk, sayı) adresi ile çağırabileceğimizi mi gördük?"
      ],
      "metadata": {
        "id": "4YYyK4fPPlQQ"
      }
    },
    {
      "cell_type": "code",
      "source": [
        "#  yeni bir değişken...\n",
        "d = \"Mustafa Mehmet BAYAR\"\n",
        "d"
      ],
      "metadata": {
        "colab": {
          "base_uri": "https://localhost:8080/",
          "height": 35
        },
        "id": "qdsqN5t0PR-T",
        "outputId": "27d3d3e5-f722-4434-efcd-37aaa001554f"
      },
      "execution_count": 18,
      "outputs": [
        {
          "output_type": "execute_result",
          "data": {
            "text/plain": [
              "'Mustafa Mehmet BAYAR'"
            ],
            "application/vnd.google.colaboratory.intrinsic+json": {
              "type": "string"
            }
          },
          "metadata": {},
          "execution_count": 18
        }
      ]
    },
    {
      "cell_type": "code",
      "source": [
        "d[0]"
      ],
      "metadata": {
        "colab": {
          "base_uri": "https://localhost:8080/",
          "height": 35
        },
        "id": "JW8jQjdGP3lb",
        "outputId": "bd98fe57-57a8-4401-85a5-7a84d057a563"
      },
      "execution_count": 19,
      "outputs": [
        {
          "output_type": "execute_result",
          "data": {
            "text/plain": [
              "'M'"
            ],
            "application/vnd.google.colaboratory.intrinsic+json": {
              "type": "string"
            }
          },
          "metadata": {},
          "execution_count": 19
        }
      ]
    },
    {
      "cell_type": "code",
      "source": [
        "#  d içinde tanımlı karakter dizisi içindeki ilk sözcüğü \n",
        "#  çağırıyorum. Bunun için ilk sözcüğün kaçıncı karakterde bittiğini\n",
        "#  sayıyorum.\n",
        "\n",
        "d[0:6]\n"
      ],
      "metadata": {
        "colab": {
          "base_uri": "https://localhost:8080/",
          "height": 35
        },
        "id": "zS9HHBfNP6AG",
        "outputId": "f4c0874d-0181-40d9-8454-fca0ed85942d"
      },
      "execution_count": 21,
      "outputs": [
        {
          "output_type": "execute_result",
          "data": {
            "text/plain": [
              "'Mustaf'"
            ],
            "application/vnd.google.colaboratory.intrinsic+json": {
              "type": "string"
            }
          },
          "metadata": {},
          "execution_count": 21
        }
      ]
    },
    {
      "cell_type": "markdown",
      "source": [
        "Köşeli parantez içinde bir adres aralığı belirtilerek bu adres aralığındaki tüm veri çağırılabilir.<br>\n",
        "**DİKKAT:** Adres aralığı verildiğinde ilk adresteki üye çağırılırken son adresteki üye çağırılmaz.<br>\n",
        "**ÖNERİ:** Adres aralığı kullanırken bir yazım üslubunu alışkanlık edininiz ve bunu değiştirmeyiniz. Ör. d[0:6+1]"
      ],
      "metadata": {
        "id": "Lg8nutG2QPaX"
      }
    },
    {
      "cell_type": "code",
      "source": [
        "#  d[0:6+1] yazımı\n",
        "d[0:6+1]"
      ],
      "metadata": {
        "colab": {
          "base_uri": "https://localhost:8080/",
          "height": 35
        },
        "id": "fWUDAW0bQMw2",
        "outputId": "a21f4293-4df3-4e97-aa3a-9e157f112494"
      },
      "execution_count": 22,
      "outputs": [
        {
          "output_type": "execute_result",
          "data": {
            "text/plain": [
              "'Mustafa'"
            ],
            "application/vnd.google.colaboratory.intrinsic+json": {
              "type": "string"
            }
          },
          "metadata": {},
          "execution_count": 22
        }
      ]
    },
    {
      "cell_type": "code",
      "source": [
        "#  Acaba karakter dizilerinin içindeki üyeler \n",
        "#  değiştirilebilir mi? \n",
        "#  Yoksa demetler gibi değişitilemiyorlar mı?\n",
        "\n",
        "d[0:6+1] = 'Dr. M.'\n",
        "d"
      ],
      "metadata": {
        "colab": {
          "base_uri": "https://localhost:8080/",
          "height": 218
        },
        "id": "Dxk0f4d4QxWG",
        "outputId": "3b7ff527-2c54-4e70-dcdf-42aee99562a6"
      },
      "execution_count": 23,
      "outputs": [
        {
          "output_type": "error",
          "ename": "TypeError",
          "evalue": "ignored",
          "traceback": [
            "\u001b[0;31m---------------------------------------------------------------------------\u001b[0m",
            "\u001b[0;31mTypeError\u001b[0m                                 Traceback (most recent call last)",
            "\u001b[0;32m<ipython-input-23-999d7b8e3469>\u001b[0m in \u001b[0;36m<module>\u001b[0;34m\u001b[0m\n\u001b[1;32m      3\u001b[0m \u001b[0;31m#  Yoksa demetler gibi değişitilemiyorlar mı?\u001b[0m\u001b[0;34m\u001b[0m\u001b[0;34m\u001b[0m\u001b[0;34m\u001b[0m\u001b[0m\n\u001b[1;32m      4\u001b[0m \u001b[0;34m\u001b[0m\u001b[0m\n\u001b[0;32m----> 5\u001b[0;31m \u001b[0md\u001b[0m\u001b[0;34m[\u001b[0m\u001b[0;36m0\u001b[0m\u001b[0;34m:\u001b[0m\u001b[0;36m6\u001b[0m\u001b[0;34m+\u001b[0m\u001b[0;36m1\u001b[0m\u001b[0;34m]\u001b[0m \u001b[0;34m=\u001b[0m \u001b[0;34m'Dr. M.'\u001b[0m\u001b[0;34m\u001b[0m\u001b[0;34m\u001b[0m\u001b[0m\n\u001b[0m\u001b[1;32m      6\u001b[0m \u001b[0md\u001b[0m\u001b[0;34m\u001b[0m\u001b[0;34m\u001b[0m\u001b[0m\n",
            "\u001b[0;31mTypeError\u001b[0m: 'str' object does not support item assignment"
          ]
        }
      ]
    },
    {
      "cell_type": "code",
      "source": [],
      "metadata": {
        "id": "k07etIUoRXiv"
      },
      "execution_count": null,
      "outputs": []
    }
  ]
}