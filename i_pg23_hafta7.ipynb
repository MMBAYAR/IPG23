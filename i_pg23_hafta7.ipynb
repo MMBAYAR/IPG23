{
  "nbformat": 4,
  "nbformat_minor": 0,
  "metadata": {
    "colab": {
      "provenance": [],
      "authorship_tag": "ABX9TyO2WuoJYJO1zbSqN7aiphcc",
      "include_colab_link": true
    },
    "kernelspec": {
      "name": "python3",
      "display_name": "Python 3"
    },
    "language_info": {
      "name": "python"
    }
  },
  "cells": [
    {
      "cell_type": "markdown",
      "metadata": {
        "id": "view-in-github",
        "colab_type": "text"
      },
      "source": [
        "<a href=\"https://colab.research.google.com/github/MMBAYAR/IPG23/blob/main/i_pg23_hafta7.ipynb\" target=\"_parent\"><img src=\"https://colab.research.google.com/assets/colab-badge.svg\" alt=\"Open In Colab\"/></a>"
      ]
    },
    {
      "cell_type": "markdown",
      "source": [
        "## **Python Programlamaya Giriş**"
      ],
      "metadata": {
        "id": "y5akye2noYwL"
      }
    },
    {
      "cell_type": "markdown",
      "source": [
        "### ***Neden Python?***<br><br>\n",
        "- Python, \"*yazıldığı gibi okunan*\" bir dildir. İmla kuralları (syntax) neredeyse günlük dile benzer.\n",
        "- Python; nesne yönelimli ve dev bir topluluğun desteklediği bir yüksek dildir. Yani; karşılaştığınız sorunları yalnızca arama motorlarına yazarak bile çözüm bulma olasılığınız oldukça yüksektir.\n",
        "- Python *Veri Bilimi* ve *Makine Öğrenmesi* için anadillerden biridir.\n",
        "- Pyhton ile kod yazıp çalıştırabilmek için güçlü bir bilgisayara ihtiyacınız yoktur hatta; cihazlarınıza bir yazılım yüklemeye veya kurmaya da ihtiyacınız yoktur.\n",
        "\n",
        "Bu derste ihtiyacınız olan;\n",
        "- bir Google hesabı (kurumsal eposta adresleriniz birer Google hesabıdır),\n",
        "\n",
        "ve\n",
        "- internete erişimdir.\n",
        "\n",
        "Elbette ki bilgisayar kullanmak kolaylıklar sağlayacaktır ancak; bir akıllı telefon üzerinden bile çalışmalarınızı takip edebilir ve yürütebilirsiniz (telefon üzerinden çalışmanız önerilmez, klavye olmadan kodlamak kolay ya da yarayışlı değildir)."
      ],
      "metadata": {
        "id": "xBsJtbmTrpFJ"
      }
    },
    {
      "cell_type": "markdown",
      "source": [
        "## ***Google Colaboratory Arayüzü Tanıtımı***<br><br>\n",
        "\n",
        "Google Colaboratory ya da Colab, size - Iron Python Notebooks (.ipynb uzantılı dosyalar) dosyaları yaratabileceğiniz - bir bulut bilgisayara (linux bilgisayara) erişim olanağı veren bir çevrimiçi platformdur. Bu \"notebook\"ların içerisinde kod ve yazı (markdown) hücreleri oluşturabilirsiniz. Örneğin okumakta olduğunuz bu hücre bir yazı hücresidir.<br><br>\n",
        "Colab'in size sunduğu uzak bilgisayarda iki işlem birimi olan tek çekirdekli bir işlemci (en az 2Ghz gücünde) ve son derece güçlü ve pahalı bir grafik işlemcisi bulunur. Sunulan grafik işlemcide cuda işlemcileri bulunmaktadır ve bu işlemcileri GPU-computing için kullanabilirsiniz.<br>Ayrıca; Google size bu olanakları sağlarken (Colab'in bedava sürümünü kullandığınız sürece) sizden hiçbir ücret talep etmemektedir.<br><br>\n",
        "Kod hücrelerinde Python kodları yazabilir ve - tüm kod notebook'tak, kodu çalıştırmaksızın - bu parça kodu çalıştırabilirsiniz. Bu kodu parçar parça çalıştırabilme olanağının çok kullanışlı olduğunu zamanla farkedeceksiniz.<br><br>\n",
        "Yazı hücrelerine gelecek olursak, yazı hücreleri notebook içinde birer metin editörü programı (MS Word, vb.) gibidir.<br><br>\n",
        "Yazı hücrelerinin dışında kod hücreleri içerisinde de başına \"#\" koyarak tek satırlık yorumlar yazılabilir ya da başına üç tek tırnak (''') ya da üç çift tırnak (\"\"\") konularak çok satırlık yorumlar yazılabilir ve yorumun hemen ardından başlandığı biçimde 3 tırnak konulur.<br><br>\n",
        "Siz yazı hücreleri ya da kod hücreleri içerisinde çalışırken Colab çalışmalarınızı kişisel Google Drive'ınıza sürekli olarak kaydeder (manuel olarak da çalışmanızı kaydedebilirsiniz).<br><br>\n",
        "Eğer bir Notebook dosyasını silmek isterseniz, dosyayı Google Drive'ınızda bulmalı ve orada silmelisiniz.<br><br>\n",
        "Alternatif IDE'leri de deneyimlemek isteyebilirsiniz. Bazı öneriler:\n",
        "Jupyter Notebook (Colab'e benzer) ya da PyCharm, vb."
      ],
      "metadata": {
        "id": "UMI7PEgkrqcn"
      }
    },
    {
      "cell_type": "code",
      "execution_count": null,
      "metadata": {
        "id": "kPa_2pUsoUlF",
        "colab": {
          "base_uri": "https://localhost:8080/",
          "height": 54
        },
        "outputId": "d3bbaa36-6d69-4e83-83dd-f012c2cec530"
      },
      "outputs": [
        {
          "output_type": "execute_result",
          "data": {
            "text/plain": [
              "'\\nIf you do not write explanations to your code pieces, most probably, you will have a hard\\ntime remembering how and why you wrote that code piece.\\n'"
            ],
            "application/vnd.google.colaboratory.intrinsic+json": {
              "type": "string"
            }
          },
          "metadata": {},
          "execution_count": 1
        }
      ],
      "source": [
        "#Bu kod hücresi içerisinde tek satırlık bir yorumdur.\n",
        "'''\n",
        "Ve bu da\n",
        "kod hücresi içerisinde\n",
        "çok satırlık bir\n",
        "yorumdur.\n",
        "'''\n",
        "#  Kod parçalarına açıklamalar içeren yorumlar yazarak derli toplu kod hücreleri oluşturmayı alışkanlık edininiz.\n",
        "#  Uzun bir aradan sonra Notebook'unuzu incelemeniz gerektiğinde kod açıklamaları son derece kullanışlıdır.\n",
        "\"\"\"\n",
        "Kod açıklamaları yazmazsanız büyük olasılıkla o kodu neden ve nasıl yazdığınızı\n",
        "bir daha hatırlayamayacaksınız.\n",
        "\"\"\""
      ]
    },
    {
      "cell_type": "markdown",
      "source": [
        "## ***İlk (muhtemelen ilk) Python Kodunuz***<br><br>\n",
        "\n",
        "Burada *Python'un* \"print()\" *fonksiyonu*nu kullanarak bir kod hücresinden yazı tipinde çıktı elde ediyoruz.\n",
        "\n",
        "Bu örnekte, elde etmeye çalıştığımız yazı çıktısı \"Merhaba Dünya!\"."
      ],
      "metadata": {
        "id": "5KYgSMhDxxBR"
      }
    },
    {
      "cell_type": "code",
      "source": [
        "#  Tırnak işareti kullanmadan \"Merhaba Dünya!\" yazdırmaya çalışmak\n",
        "print(\n",
        "    Merhaba Dünya!\n",
        ")"
      ],
      "metadata": {
        "colab": {
          "base_uri": "https://localhost:8080/",
          "height": 135
        },
        "id": "-na1OA3Txpmb",
        "outputId": "31774317-128d-4e56-bf0b-3ebde66e29fb"
      },
      "execution_count": null,
      "outputs": [
        {
          "output_type": "error",
          "ename": "SyntaxError",
          "evalue": "ignored",
          "traceback": [
            "\u001b[0;36m  File \u001b[0;32m\"<ipython-input-1-8f5935473556>\"\u001b[0;36m, line \u001b[0;32m3\u001b[0m\n\u001b[0;31m    Merhaba Dünya!\u001b[0m\n\u001b[0m            ^\u001b[0m\n\u001b[0;31mSyntaxError\u001b[0m\u001b[0;31m:\u001b[0m invalid syntax\n"
          ]
        }
      ]
    },
    {
      "cell_type": "code",
      "source": [
        "#  Yazı biçiminde Python nesnelerini yazdırmanın doğru yolu (sınıf içi etkinlik)\n"
      ],
      "metadata": {
        "id": "afuKUT7aye4W"
      },
      "execution_count": null,
      "outputs": []
    },
    {
      "cell_type": "markdown",
      "source": [
        "Python dilinde yazı biçimindeki nesneler tek tırnak içinde ya da çift tırnak içinde tanımlanırlar.<br><br>\n",
        "Bu nesnelere \"*Sting*\"s (str) - Karakter Dizisi denir.."
      ],
      "metadata": {
        "id": "dtPlHLglyvxZ"
      }
    },
    {
      "cell_type": "code",
      "source": [
        "#  type() fonksiyonu ile bir Python nesnesinin türünü öğrenmek\n",
        "type(\n",
        "    \"Merhaba Dünya!\"\n",
        ")"
      ],
      "metadata": {
        "colab": {
          "base_uri": "https://localhost:8080/"
        },
        "id": "MA3N4K5PzVe8",
        "outputId": "52a651c9-2a49-44da-c753-272bbeb8e536"
      },
      "execution_count": null,
      "outputs": [
        {
          "output_type": "execute_result",
          "data": {
            "text/plain": [
              "str"
            ]
          },
          "metadata": {},
          "execution_count": 2
        }
      ]
    },
    {
      "cell_type": "code",
      "source": [
        "#  type() fonksiyonu ile bir Python nesnesinin türünü öğrenmek\n",
        "type(\n",
        "    'Merhaba Dünya!'\n",
        ")"
      ],
      "metadata": {
        "colab": {
          "base_uri": "https://localhost:8080/"
        },
        "id": "3MvYm35Izir2",
        "outputId": "6fa2f313-f4bf-412e-b7d4-18a19522ba7f"
      },
      "execution_count": null,
      "outputs": [
        {
          "output_type": "execute_result",
          "data": {
            "text/plain": [
              "str"
            ]
          },
          "metadata": {},
          "execution_count": 3
        }
      ]
    },
    {
      "cell_type": "code",
      "source": [
        "#  type() fonksiyonu ile bir Python nesnesinin türünü öğrenmek\n",
        "type(\n",
        "    \"Bir diğer yazı parçası...\"\n",
        ")"
      ],
      "metadata": {
        "colab": {
          "base_uri": "https://localhost:8080/"
        },
        "id": "BuZloYDPztQp",
        "outputId": "4fe84ee2-df0f-4d79-fa82-b75fc352b8df"
      },
      "execution_count": null,
      "outputs": [
        {
          "output_type": "execute_result",
          "data": {
            "text/plain": [
              "str"
            ]
          },
          "metadata": {},
          "execution_count": 4
        }
      ]
    },
    {
      "cell_type": "markdown",
      "source": [
        "#  <br><br><br>**HAFTA 2**<br><br><br>"
      ],
      "metadata": {
        "id": "E0ZDuFG9RtM_"
      }
    },
    {
      "cell_type": "markdown",
      "source": [
        "## **Temel Python Nesneleri A:**<br>\n",
        "- **String (Karakter Dizisi)**,\n",
        "- **Integer (Tam sayı)**,\n",
        "- **Floating Point (Ondalık sayı)**,\n",
        "- **Boolean (Bool sayısı)**<br><br>\n",
        "\n",
        "\"Merhaba Dünya!\" bir Python nesnesidir ve türünün **str** olduğunu belirledik. Karakter dizisi türünde nesneler için type() fonksiyonu çalıştırılacak olursa kod çıktısı \"str\" (String'in bir kısaltması) olacaktır.<br><br>\n",
        "Elbette ki çok sayıda başka Python nesnesi bulunmaktadır ancak; bu ders içeriğinde yalnızca bir kaç nesne türü tanırılacaktır..<br><br>"
      ],
      "metadata": {
        "id": "PX_HN0A_10n3"
      }
    },
    {
      "cell_type": "markdown",
      "source": [
        "### ***Integer - Tam sayı (int)***<br><br>\n",
        "\n",
        "Python'u matematik işlemleri için de kullanabilirsiniz. Öyleyse, işlem yapabilmek için sayı biçiminde nesnelere de ihtiyaç duyulmaktadır.<br><br>\n",
        "Matematik işlemlerinde girdiler de işlemin çıktıları da tam sayı olabilir.<br><br>"
      ],
      "metadata": {
        "id": "drU23Pvt3Rc_"
      }
    },
    {
      "cell_type": "code",
      "source": [
        "#  Bir sayı biçimli nesnenin türünü öğrenme\n",
        "type(217)"
      ],
      "metadata": {
        "id": "QaKt5-Yzz6DQ",
        "colab": {
          "base_uri": "https://localhost:8080/"
        },
        "outputId": "e83534b7-ba24-420e-e54f-7455a8391e57"
      },
      "execution_count": null,
      "outputs": [
        {
          "output_type": "execute_result",
          "data": {
            "text/plain": [
              "int"
            ]
          },
          "metadata": {},
          "execution_count": 6
        }
      ]
    },
    {
      "cell_type": "code",
      "source": [
        "#  Sonucu sayı biçimli bir işlemin türünü öğrenme\n",
        "type(200 + 17)"
      ],
      "metadata": {
        "colab": {
          "base_uri": "https://localhost:8080/"
        },
        "id": "M0iEekPgbFxX",
        "outputId": "bdf75a34-2068-465e-9ff5-555574ea50d9"
      },
      "execution_count": null,
      "outputs": [
        {
          "output_type": "execute_result",
          "data": {
            "text/plain": [
              "int"
            ]
          },
          "metadata": {},
          "execution_count": 7
        }
      ]
    },
    {
      "cell_type": "markdown",
      "source": [
        "### *Sonucu tam sayı olan her işlemin türü \"int\" midir?*"
      ],
      "metadata": {
        "id": "kodKbui9f_5R"
      }
    },
    {
      "cell_type": "code",
      "source": [
        "534/2"
      ],
      "metadata": {
        "colab": {
          "base_uri": "https://localhost:8080/"
        },
        "id": "TAzsBFDgbTHF",
        "outputId": "687f2158-e2db-4626-f39b-4c6fc7f9f9e6"
      },
      "execution_count": null,
      "outputs": [
        {
          "output_type": "execute_result",
          "data": {
            "text/plain": [
              "267.0"
            ]
          },
          "metadata": {},
          "execution_count": 9
        }
      ]
    },
    {
      "cell_type": "code",
      "source": [
        "type(534/2)"
      ],
      "metadata": {
        "colab": {
          "base_uri": "https://localhost:8080/"
        },
        "id": "SFu6Xr4WgJVa",
        "outputId": "c3000bb5-e43e-4c33-e5b3-fc6637498ecc"
      },
      "execution_count": null,
      "outputs": [
        {
          "output_type": "execute_result",
          "data": {
            "text/plain": [
              "float"
            ]
          },
          "metadata": {},
          "execution_count": 10
        }
      ]
    },
    {
      "cell_type": "markdown",
      "source": [
        "Bölme işleminin sonucunda ondalık sayılar elde edilebileceği için Python bölme işleminin sonucunda oluşan nesneleri otomatik olarak ondalık sayı olarak tanımlar; sonuç tam sayı olsa bile..."
      ],
      "metadata": {
        "id": "KwU8te3zgR2z"
      }
    },
    {
      "cell_type": "markdown",
      "source": [
        "## ***Floating Point - Ondalık Sayı (float)***\n",
        "\n",
        "Python'da bir diğer sayı biçimli nesne ondalık sayı nesneleridir. type() fonksiyonu içerisinde çalıştırıldığında \"float\" çıktısı veren bu nesenelerde en çok 16 ondalık basamağı gösterilebilir."
      ],
      "metadata": {
        "id": "FNHUgOLKio02"
      }
    },
    {
      "cell_type": "code",
      "source": [
        "#  Ondalık sayılarda en küçük basamak hanelerinde sıklıkla yuvarlama hatalarına rastlanabilir.\n",
        "#  Ancak; bu hatalar işlem sonuçlarını genel olarak etkilememektedir.\n",
        "\n",
        "10/3"
      ],
      "metadata": {
        "colab": {
          "base_uri": "https://localhost:8080/"
        },
        "id": "K-DLOh6DgNyH",
        "outputId": "73c4e764-9105-467f-934e-d2ebd20b5088"
      },
      "execution_count": null,
      "outputs": [
        {
          "output_type": "execute_result",
          "data": {
            "text/plain": [
              "3.3333333333333335"
            ]
          },
          "metadata": {},
          "execution_count": 11
        }
      ]
    },
    {
      "cell_type": "code",
      "source": [
        "type(10/3)"
      ],
      "metadata": {
        "colab": {
          "base_uri": "https://localhost:8080/"
        },
        "id": "f4oOUPpvjQUf",
        "outputId": "cd5eec56-9c72-44ff-c654-6c5bb0045a5d"
      },
      "execution_count": null,
      "outputs": [
        {
          "output_type": "execute_result",
          "data": {
            "text/plain": [
              "float"
            ]
          },
          "metadata": {},
          "execution_count": 12
        }
      ]
    },
    {
      "cell_type": "code",
      "source": [
        "#  Ondalık sayı oluşturabilmek için \".\" kullanılmalıdır.\n",
        "type(2.0)"
      ],
      "metadata": {
        "colab": {
          "base_uri": "https://localhost:8080/"
        },
        "id": "Wz5sBxK3jhxR",
        "outputId": "88a7bc74-6b51-40f1-9397-4f0c08dbc54b"
      },
      "execution_count": null,
      "outputs": [
        {
          "output_type": "execute_result",
          "data": {
            "text/plain": [
              "float"
            ]
          },
          "metadata": {},
          "execution_count": 13
        }
      ]
    },
    {
      "cell_type": "markdown",
      "source": [
        "### *int() fonksiyonu ile tam sayı nesnesi türetimi*"
      ],
      "metadata": {
        "id": "g5XLo6ZdkJH0"
      }
    },
    {
      "cell_type": "code",
      "source": [
        "#  float nesneleri int() fonksiyonu ile tam sayı nesnelerine dönüştürülebilir.\n",
        "int(2.0), int(2.09), int(2.99)"
      ],
      "metadata": {
        "colab": {
          "base_uri": "https://localhost:8080/"
        },
        "id": "7XR10ukFjsJA",
        "outputId": "ae152c55-c430-46a5-9db8-3f514c221c50"
      },
      "execution_count": null,
      "outputs": [
        {
          "output_type": "execute_result",
          "data": {
            "text/plain": [
              "(2, 2, 2)"
            ]
          },
          "metadata": {},
          "execution_count": 15
        }
      ]
    },
    {
      "cell_type": "code",
      "source": [
        "\"\"\"\n",
        "int() fonksiyonu ile tam sayı nesnesi türetilirken ondalık sayılarda yuvarlama işlemi yapılmaz.\n",
        "int() fonksiyonu bir ondalık sayının yalnızca tam sayı değerini ayrıştırır ve kesirli kısmın niceleğini değerlendirmez.\n",
        "\"\"\""
      ],
      "metadata": {
        "colab": {
          "base_uri": "https://localhost:8080/",
          "height": 54
        },
        "id": "bN9JxhFlkaF6",
        "outputId": "1264c0a8-acfc-4515-98be-a80a42a927cb"
      },
      "execution_count": null,
      "outputs": [
        {
          "output_type": "execute_result",
          "data": {
            "text/plain": [
              "'\\nint() fonksiyonu ile tam sayı nesnesi türetilirken ondalık sayılarda yuvarlama işlemi yapılmaz.\\nint() fonksiyonu bir ondalık sayının yalnızca tam sayı değerini ayrıştırır ve kesirli kısmın niceleğini değerlendirmez.\\n'"
            ],
            "application/vnd.google.colaboratory.intrinsic+json": {
              "type": "string"
            }
          },
          "metadata": {},
          "execution_count": 16
        }
      ]
    },
    {
      "cell_type": "code",
      "source": [
        "#  int() fonksiyonu ile içeriği tam sayı olan karakter dizisi nesneleri de tam sayı nesnelerine dönüştürülebilir.\n",
        "int(\"217.0\")"
      ],
      "metadata": {
        "colab": {
          "base_uri": "https://localhost:8080/",
          "height": 171
        },
        "id": "kHaznsinlXYX",
        "outputId": "2037f7d2-cebe-4e09-8a65-478fb0c5f42a"
      },
      "execution_count": null,
      "outputs": [
        {
          "output_type": "error",
          "ename": "ValueError",
          "evalue": "ignored",
          "traceback": [
            "\u001b[0;31m---------------------------------------------------------------------------\u001b[0m",
            "\u001b[0;31mValueError\u001b[0m                                Traceback (most recent call last)",
            "\u001b[0;32m<ipython-input-18-13d81691a89b>\u001b[0m in \u001b[0;36m<module>\u001b[0;34m\u001b[0m\n\u001b[0;32m----> 1\u001b[0;31m \u001b[0mint\u001b[0m\u001b[0;34m(\u001b[0m\u001b[0;34m\"217.0\"\u001b[0m\u001b[0;34m)\u001b[0m\u001b[0;34m\u001b[0m\u001b[0;34m\u001b[0m\u001b[0m\n\u001b[0m",
            "\u001b[0;31mValueError\u001b[0m: invalid literal for int() with base 10: '217.0'"
          ]
        }
      ]
    },
    {
      "cell_type": "code",
      "source": [
        "#  int() fonksiyonu ile içeriği tam sayı olan karakter dizisi nesneleri de tam sayı nesnelerine dönüştürülebilir.\n",
        "int(\"217\")"
      ],
      "metadata": {
        "colab": {
          "base_uri": "https://localhost:8080/"
        },
        "id": "48HeUXrLlctm",
        "outputId": "f4c737fe-9d32-4248-82ca-9f31ec0455c9"
      },
      "execution_count": null,
      "outputs": [
        {
          "output_type": "execute_result",
          "data": {
            "text/plain": [
              "217"
            ]
          },
          "metadata": {},
          "execution_count": 20
        }
      ]
    },
    {
      "cell_type": "markdown",
      "source": [
        "### *float() fonksiyonu ile ondalık sayı nesnesi türetimi*"
      ],
      "metadata": {
        "id": "UMldfoZTk8EV"
      }
    },
    {
      "cell_type": "code",
      "source": [
        "#  tam sayı nesneleri float() fonksiyonu ile ondalık sayı nesnelerine dönüştürülebilir.\n",
        "float(2)"
      ],
      "metadata": {
        "colab": {
          "base_uri": "https://localhost:8080/"
        },
        "id": "-_d0GeQRk2Q3",
        "outputId": "69361416-f4ae-4f78-8cbc-3fe1533d3d6f"
      },
      "execution_count": null,
      "outputs": [
        {
          "output_type": "execute_result",
          "data": {
            "text/plain": [
              "2.0"
            ]
          },
          "metadata": {},
          "execution_count": 17
        }
      ]
    },
    {
      "cell_type": "code",
      "source": [
        "#  sayısallaştırılabilir karakter dizileri de float() fonksiyonu ile ondalık sayı nesnelerine dönüştürülebilir.\n",
        "float('217.0')"
      ],
      "metadata": {
        "colab": {
          "base_uri": "https://localhost:8080/"
        },
        "id": "2z_aJflHMaJr",
        "outputId": "6828fd09-cb3e-4f58-ec4a-3c2e1d1b6adc"
      },
      "execution_count": null,
      "outputs": [
        {
          "output_type": "execute_result",
          "data": {
            "text/plain": [
              "217.0"
            ]
          },
          "metadata": {},
          "execution_count": 1
        }
      ]
    },
    {
      "cell_type": "markdown",
      "source": [
        "## ***Bool cebiri ve Bool nesneleri***<br><br>\n",
        "En basit hali ile Bool cebiri, önermelerin doğruluğu ya da yanlışlığını inceleyen bir matematik alt dalıdır.<br><br>\n",
        "Python'da Bool nesneleri temel olarak \"doğruluk\" ya da \"yanlışlık\" bilgisini saklarlar."
      ],
      "metadata": {
        "id": "N01vPxVplQOv"
      }
    },
    {
      "cell_type": "code",
      "source": [
        "#  Bir önerme:\n",
        "#      3; 4'ten büyüktür:\n",
        "\n",
        "3 > 4"
      ],
      "metadata": {
        "id": "nc1Ojo6ilIi2",
        "colab": {
          "base_uri": "https://localhost:8080/"
        },
        "outputId": "c7901f0c-abd4-45fd-e683-ad7cae8baa16"
      },
      "execution_count": null,
      "outputs": [
        {
          "output_type": "execute_result",
          "data": {
            "text/plain": [
              "False"
            ]
          },
          "metadata": {},
          "execution_count": 2
        }
      ]
    },
    {
      "cell_type": "code",
      "source": [
        "type( 3 > 4 )"
      ],
      "metadata": {
        "colab": {
          "base_uri": "https://localhost:8080/"
        },
        "id": "ONVefpTqN-qX",
        "outputId": "fdbe8b39-ecc9-4c37-f976-17566784bf01"
      },
      "execution_count": null,
      "outputs": [
        {
          "output_type": "execute_result",
          "data": {
            "text/plain": [
              "bool"
            ]
          },
          "metadata": {},
          "execution_count": 3
        }
      ]
    },
    {
      "cell_type": "code",
      "source": [
        "#  Bir diğer önerme:\n",
        "#      2; 2'den büyük veya eşittir:\n",
        "\n",
        "2 >= 2"
      ],
      "metadata": {
        "colab": {
          "base_uri": "https://localhost:8080/"
        },
        "id": "WFNiSUT6OBrU",
        "outputId": "64e36bc1-4abc-4907-a35e-54ce97c17f6d"
      },
      "execution_count": null,
      "outputs": [
        {
          "output_type": "execute_result",
          "data": {
            "text/plain": [
              "True"
            ]
          },
          "metadata": {},
          "execution_count": 4
        }
      ]
    },
    {
      "cell_type": "code",
      "source": [
        "type( 2 >= 2 )"
      ],
      "metadata": {
        "colab": {
          "base_uri": "https://localhost:8080/"
        },
        "id": "3o-o5KCAOMQE",
        "outputId": "2c3f6e6f-e767-43c4-e6ec-fa64b9c3c10f"
      },
      "execution_count": null,
      "outputs": [
        {
          "output_type": "execute_result",
          "data": {
            "text/plain": [
              "bool"
            ]
          },
          "metadata": {},
          "execution_count": 5
        }
      ]
    },
    {
      "cell_type": "code",
      "source": [
        "#  Bool nesneleri yalnızca doğruluk ya da yanlışlık bilgisi taşırlar; orijinal önermeye dair bilgi taşımazlar.\n",
        "\n",
        "#  2 == 2, 1 < 3\n",
        "\n",
        "(2==2) == (1 < 3)"
      ],
      "metadata": {
        "colab": {
          "base_uri": "https://localhost:8080/"
        },
        "id": "YMs70KWhOPux",
        "outputId": "8449b048-6642-45c8-f128-06f820423e38"
      },
      "execution_count": null,
      "outputs": [
        {
          "output_type": "execute_result",
          "data": {
            "text/plain": [
              "True"
            ]
          },
          "metadata": {},
          "execution_count": 9
        }
      ]
    },
    {
      "cell_type": "markdown",
      "source": [
        "###  *bool() fonksiyonu*"
      ],
      "metadata": {
        "id": "oad-RMFROzNC"
      }
    },
    {
      "cell_type": "code",
      "source": [
        "#  bool() fonksiyonu ile diğer sayı nesnelerini dönüştürmek\n",
        "bool(-7), bool(0), bool(21)"
      ],
      "metadata": {
        "colab": {
          "base_uri": "https://localhost:8080/"
        },
        "id": "AKSICOSNOlNm",
        "outputId": "db7aae47-d027-4c39-b72d-8abf77a8820f"
      },
      "execution_count": null,
      "outputs": [
        {
          "output_type": "execute_result",
          "data": {
            "text/plain": [
              "(True, False, True)"
            ]
          },
          "metadata": {},
          "execution_count": 11
        }
      ]
    },
    {
      "cell_type": "markdown",
      "source": [
        "**bool() fonksiyonu;**<br>\n",
        "yalnızca eşiti \"0\" olan sayı nesneleri için **Yanlış (False)** bilgisine dönüştürebilirken sıfırdan farklı değeri olan tüm sayı nesnelerini **Doğru (True)** bilgisine dönüştürmektedir."
      ],
      "metadata": {
        "id": "o55zRq2MPG-8"
      }
    },
    {
      "cell_type": "markdown",
      "source": [
        "##  ***Python'da Bazı Matematik İşlemleri***<br><br>\n",
        "###  **4 İşlem**"
      ],
      "metadata": {
        "id": "lonRXLHcQRaz"
      }
    },
    {
      "cell_type": "code",
      "source": [
        "#  Toplama\n",
        "3 + 7.21"
      ],
      "metadata": {
        "colab": {
          "base_uri": "https://localhost:8080/"
        },
        "id": "nDql8KoyOvSh",
        "outputId": "7e069040-eb91-493f-d426-c962f5c8cfd4"
      },
      "execution_count": null,
      "outputs": [
        {
          "output_type": "execute_result",
          "data": {
            "text/plain": [
              "10.21"
            ]
          },
          "metadata": {},
          "execution_count": 12
        }
      ]
    },
    {
      "cell_type": "markdown",
      "source": [
        "Karakter dizileri için toplama işlemi yapılabilir mi?"
      ],
      "metadata": {
        "id": "xjLiRmxhSkfi"
      }
    },
    {
      "cell_type": "code",
      "source": [
        "\"ABC\" + ' ' + 'DEF ' + 'GHI'"
      ],
      "metadata": {
        "colab": {
          "base_uri": "https://localhost:8080/",
          "height": 35
        },
        "id": "SYDVUgF3Sp-H",
        "outputId": "016e211e-3d4e-4234-ba79-98be2850d961"
      },
      "execution_count": null,
      "outputs": [
        {
          "output_type": "execute_result",
          "data": {
            "text/plain": [
              "'ABC DEF GHI'"
            ],
            "application/vnd.google.colaboratory.intrinsic+json": {
              "type": "string"
            }
          },
          "metadata": {},
          "execution_count": 28
        }
      ]
    },
    {
      "cell_type": "code",
      "source": [
        "#  Çıkarma\n",
        "11 - 23.6"
      ],
      "metadata": {
        "colab": {
          "base_uri": "https://localhost:8080/"
        },
        "id": "1ridimoUQiOX",
        "outputId": "92b72ee3-b8e1-408d-967e-e9e0be52dcaf"
      },
      "execution_count": null,
      "outputs": [
        {
          "output_type": "execute_result",
          "data": {
            "text/plain": [
              "-12.600000000000001"
            ]
          },
          "metadata": {},
          "execution_count": 13
        }
      ]
    },
    {
      "cell_type": "code",
      "source": [
        "#  Çarpma\n",
        "2 * 3"
      ],
      "metadata": {
        "colab": {
          "base_uri": "https://localhost:8080/"
        },
        "id": "eqmrmu5lQnDc",
        "outputId": "8a6e5202-d3d1-46bd-ce12-d5db9aeca832"
      },
      "execution_count": null,
      "outputs": [
        {
          "output_type": "execute_result",
          "data": {
            "text/plain": [
              "6"
            ]
          },
          "metadata": {},
          "execution_count": 14
        }
      ]
    },
    {
      "cell_type": "code",
      "source": [
        "#  Bölme\n",
        "3 / 2"
      ],
      "metadata": {
        "colab": {
          "base_uri": "https://localhost:8080/"
        },
        "id": "MWqeGZJ1QrPN",
        "outputId": "7f7eecdf-d785-4626-8f68-5d0199f49566"
      },
      "execution_count": null,
      "outputs": [
        {
          "output_type": "execute_result",
          "data": {
            "text/plain": [
              "1.5"
            ]
          },
          "metadata": {},
          "execution_count": 15
        }
      ]
    },
    {
      "cell_type": "markdown",
      "source": [
        "###  **Bazı Özel İşlemler**"
      ],
      "metadata": {
        "id": "TyD9a94eRuv_"
      }
    },
    {
      "cell_type": "code",
      "source": [
        "#  Üs Alma\n",
        "2 ** 3"
      ],
      "metadata": {
        "colab": {
          "base_uri": "https://localhost:8080/"
        },
        "id": "2QC9THYqQulm",
        "outputId": "47314b86-aa8d-48de-a692-32a9f96a96f1"
      },
      "execution_count": null,
      "outputs": [
        {
          "output_type": "execute_result",
          "data": {
            "text/plain": [
              "8"
            ]
          },
          "metadata": {},
          "execution_count": 17
        }
      ]
    },
    {
      "cell_type": "code",
      "source": [
        "#  Kalan Bulma\n",
        "11 / 3, 11 % 3"
      ],
      "metadata": {
        "colab": {
          "base_uri": "https://localhost:8080/"
        },
        "id": "-4gnWRwKQz4p",
        "outputId": "6c94c304-77c8-4ea0-e7a3-dc5acfb8404d"
      },
      "execution_count": null,
      "outputs": [
        {
          "output_type": "execute_result",
          "data": {
            "text/plain": [
              "(3.6666666666666665, 2)"
            ]
          },
          "metadata": {},
          "execution_count": 25
        }
      ]
    },
    {
      "cell_type": "code",
      "source": [
        "#  Bölümün Tam Sayı Kısmını Bulma\n",
        "11 / 3, 11 // 3"
      ],
      "metadata": {
        "colab": {
          "base_uri": "https://localhost:8080/"
        },
        "id": "zx9gXSUcRI-7",
        "outputId": "c2fe2277-800a-4b70-860b-e02250867d0a"
      },
      "execution_count": null,
      "outputs": [
        {
          "output_type": "execute_result",
          "data": {
            "text/plain": [
              "(3.6666666666666665, 3)"
            ]
          },
          "metadata": {},
          "execution_count": 23
        }
      ]
    },
    {
      "cell_type": "markdown",
      "source": [
        "#  <br><br><br>**HAFTA 3**<br><br><br>"
      ],
      "metadata": {
        "id": "E4gZcwEwR52B"
      }
    },
    {
      "cell_type": "markdown",
      "source": [
        "## **Temel Python Nesneleri B:**<br>\n",
        "- **Tuple (Demet)**,\n",
        "- **List (Liste)**,\n",
        "- **Dictionary (Sözlük)**,\n",
        "- **Set (Küme)**<br><br>\n",
        "\n",
        "\"*Temel Python Nesneleri A*\" başlığı altında tek veri taşıyan (karakter dizileri hariç) bazı seçilmiş nesneler ile sizleri tanıştırdık.<br><br>\n",
        "**Temel Python Nesneleri B** başlığı altında da çoklu veri taşıyabilen gruplayıcı bazı nesneler ile sizleri tanıştıracağız. Bu gruplayıcı nesneler içindeki üyelerin bir kurala göre işlenmesi üzerine tanımlanan döngüler (3., 4. ve 5. haftalarda ayrıntılı olarak ele alınacaktır) otomasyonun en temel yaklaşımlarından biridir.<br><br>\n",
        "Bu başlık altında anılan ve anlatımı sunulacak 4 Python nesnesi, çeşitli özellikleri bakımından birbirinden ayrışan ve kodlayıcının amacına ve üslubuna göre kullanabileceği temel alternatifleri oluşturmaktadır."
      ],
      "metadata": {
        "id": "Bm0hVQjTFsqQ"
      }
    },
    {
      "cell_type": "markdown",
      "source": [
        "###  **Tuple (Demet)**<br><br>\n",
        "\n",
        "Demetler, içerisinde çok çeşitli nesneleri bulundurabilen özel bir gruplayıcıdır. Demetleri özel yapan, demetler içinde tanımlanan üyelerin daha sonrada değiştirilemez olmasıdır.<br>\n",
        "Bu değiştirilemezlik hem bir tercih nedeni hem de bir risk unsurudur.<br>\n",
        "  -  Bilgilerin dinamik olduğu ve bu gerekçe ile verilerin güncellenmesi gereken durumlarda demetlerin kullanımı uygun olmayacaktır.\n",
        "  -  Öte yandan bilgilerin statik olduğu, birden fazla kodlayıcının sistem içerisinde aktif olduğu ve kritik verilerin korunması gerektiği hallerde de demetlerin kullanımı oldukça mantıklıdır.\n",
        "  -  Kişisel tercihim ise demetlerin yerine listelerin kullanımıdır."
      ],
      "metadata": {
        "id": "Lpwtsm6rIXTD"
      }
    },
    {
      "cell_type": "code",
      "source": [
        "d_1 = \"aslşjkasdşfjadlşkmasdicfkıadpfjdsşifaksdfpoıduvjhna,sdipoağpvjsvş ilkfsşidfkaqş\""
      ],
      "metadata": {
        "id": "YYUagPYbIbd2"
      },
      "execution_count": null,
      "outputs": []
    },
    {
      "cell_type": "code",
      "source": [
        "del d_1"
      ],
      "metadata": {
        "id": "kwsKJekqJHOP"
      },
      "execution_count": null,
      "outputs": []
    },
    {
      "cell_type": "code",
      "source": [
        "print(d_1)"
      ],
      "metadata": {
        "colab": {
          "base_uri": "https://localhost:8080/",
          "height": 165
        },
        "id": "-QApVH1eIjbO",
        "outputId": "02a5bd5a-d22d-45f7-d769-ccff3ebf1fcc"
      },
      "execution_count": null,
      "outputs": [
        {
          "output_type": "error",
          "ename": "NameError",
          "evalue": "ignored",
          "traceback": [
            "\u001b[0;31m---------------------------------------------------------------------------\u001b[0m",
            "\u001b[0;31mNameError\u001b[0m                                 Traceback (most recent call last)",
            "\u001b[0;32m<ipython-input-11-53759942c22a>\u001b[0m in \u001b[0;36m<module>\u001b[0;34m\u001b[0m\n\u001b[0;32m----> 1\u001b[0;31m \u001b[0mprint\u001b[0m\u001b[0;34m(\u001b[0m\u001b[0md_1\u001b[0m\u001b[0;34m)\u001b[0m\u001b[0;34m\u001b[0m\u001b[0;34m\u001b[0m\u001b[0m\n\u001b[0m",
            "\u001b[0;31mNameError\u001b[0m: name 'd_1' is not defined"
          ]
        }
      ]
    },
    {
      "cell_type": "code",
      "source": [
        "#  Arzu ettiğim biçimde adlandırabileceğim bir değişkeni boş olarak \n",
        "#  tanımlıyorum ve değerini hücre çıktısı olarak izliyorum.\n",
        "\n",
        "değ = None\n",
        "\n",
        "değ"
      ],
      "metadata": {
        "id": "eZTknBMORT8r"
      },
      "execution_count": null,
      "outputs": []
    },
    {
      "cell_type": "markdown",
      "source": [
        "Değişkenler, değeri her türlü Python nesnesi olarak kararlaştırılabilecek ve sonradan güncellenebilen veya silinebilen kod unsurlarıdır.<br>\n",
        "Değişkenleri seviyoruz; değişkenler,yazımı uzun olan nesneleri kısa ve kullanışlı paketleme araçlarıdır.<br>\n",
        "Değişkenlerin değerini print() fonksiyonu ile izleyebileceğimiz gibi hücrelerin son satırında adını yazarak da izleyebiliriz."
      ],
      "metadata": {
        "id": "TKsm9Vt2KpuG"
      }
    },
    {
      "cell_type": "code",
      "source": [
        "#  Değişkenimin değerini güncelliyorum.\n",
        "değ = 123\n",
        "\n",
        "değ"
      ],
      "metadata": {
        "colab": {
          "base_uri": "https://localhost:8080/"
        },
        "id": "3YDtNOEEKeAy",
        "outputId": "9feaf339-64b0-433a-9203-fb18deda8333"
      },
      "execution_count": null,
      "outputs": [
        {
          "output_type": "execute_result",
          "data": {
            "text/plain": [
              "123"
            ]
          },
          "metadata": {},
          "execution_count": 13
        }
      ]
    },
    {
      "cell_type": "code",
      "source": [
        "#  Değişkenimi - hafıza tasarrufu yapabilmek için - \n",
        "#  artık kullanmayacağım için siliyorum.\n",
        "\n",
        "del değ"
      ],
      "metadata": {
        "id": "4KgW6kMoLX5z"
      },
      "execution_count": null,
      "outputs": []
    },
    {
      "cell_type": "code",
      "source": [
        "#  Değişkenim artık var olmadığı için değerini de izleyemem.\n",
        "\n",
        "değ"
      ],
      "metadata": {
        "colab": {
          "base_uri": "https://localhost:8080/",
          "height": 201
        },
        "id": "DLIm8lvILmdP",
        "outputId": "c5cb160b-9ce1-4230-c216-cb8e9311b63f"
      },
      "execution_count": null,
      "outputs": [
        {
          "output_type": "error",
          "ename": "NameError",
          "evalue": "ignored",
          "traceback": [
            "\u001b[0;31m---------------------------------------------------------------------------\u001b[0m",
            "\u001b[0;31mNameError\u001b[0m                                 Traceback (most recent call last)",
            "\u001b[0;32m<ipython-input-6-8f9a53b2fb7d>\u001b[0m in \u001b[0;36m<module>\u001b[0;34m\u001b[0m\n\u001b[1;32m      1\u001b[0m \u001b[0;31m#  Değişkenim artık var olmadığı için değerini de izleyemem.\u001b[0m\u001b[0;34m\u001b[0m\u001b[0;34m\u001b[0m\u001b[0;34m\u001b[0m\u001b[0m\n\u001b[1;32m      2\u001b[0m \u001b[0;34m\u001b[0m\u001b[0m\n\u001b[0;32m----> 3\u001b[0;31m \u001b[0mdeğ\u001b[0m\u001b[0;34m\u001b[0m\u001b[0;34m\u001b[0m\u001b[0m\n\u001b[0m",
            "\u001b[0;31mNameError\u001b[0m: name 'değ' is not defined"
          ]
        }
      ]
    },
    {
      "cell_type": "code",
      "source": [
        "#  Bir değişkenin silinmiş olması onu yeniden oluşturamayacağım\n",
        "#  anlamına gelmez.\n",
        "\n",
        "değ =  \"Yeniden Merhaba!\"\n",
        "\n",
        "değ"
      ],
      "metadata": {
        "colab": {
          "base_uri": "https://localhost:8080/",
          "height": 35
        },
        "id": "rpLxnYwbLnUT",
        "outputId": "220948ad-7733-47b6-9389-641f500452df"
      },
      "execution_count": null,
      "outputs": [
        {
          "output_type": "execute_result",
          "data": {
            "text/plain": [
              "'Yeniden Merhaba!'"
            ],
            "application/vnd.google.colaboratory.intrinsic+json": {
              "type": "string"
            }
          },
          "metadata": {},
          "execution_count": 7
        }
      ]
    },
    {
      "cell_type": "code",
      "source": [
        "3.14 in ('Mehmet',92,3.14,('A','B','C'),False,bool(1))"
      ],
      "metadata": {
        "colab": {
          "base_uri": "https://localhost:8080/"
        },
        "id": "ABvcMmaLJtIR",
        "outputId": "9141fd1c-b116-4490-9cff-cf2c3681ccfa"
      },
      "execution_count": null,
      "outputs": [
        {
          "output_type": "execute_result",
          "data": {
            "text/plain": [
              "True"
            ]
          },
          "metadata": {},
          "execution_count": 19
        }
      ]
    },
    {
      "cell_type": "code",
      "source": [
        "#  Şimdi değişkenimin değerini bir DEMET olarak tanımlıyorum.\n",
        "\n",
        "değ = (1,'Abc',3.14,0 in (1,1,2,3,5,8,13,),bool(-21))\n",
        "değ"
      ],
      "metadata": {
        "colab": {
          "base_uri": "https://localhost:8080/"
        },
        "id": "3gTEpQh0L2qC",
        "outputId": "2ad241ab-b2f4-49cf-dfbe-a0bea0cfe882"
      },
      "execution_count": null,
      "outputs": [
        {
          "output_type": "execute_result",
          "data": {
            "text/plain": [
              "(1, 'Abc', 3.14, False, True)"
            ]
          },
          "metadata": {},
          "execution_count": 24
        }
      ]
    },
    {
      "cell_type": "markdown",
      "source": [
        "\"değ\" adını verdiğimiz değişkenin değerini içinde beş üye (veri) olan bir demet olarak tanımladık.<br>\n",
        "Bu demetin elemanları sırasıyla bir tam sayı, bir karakter dizisi, bir ondalık sayı ve biri yanlış diğeri doğru değerli iki Bool sayısı biçimindedir.<br><br>\n",
        "\n",
        "**NOT:** 0'dan farklı Bool sayılarının değeri her zaman için doğru kabul edilir."
      ],
      "metadata": {
        "id": "Pbknxx2SNRk1"
      }
    },
    {
      "cell_type": "code",
      "source": [
        "bool(3.62)"
      ],
      "metadata": {
        "colab": {
          "base_uri": "https://localhost:8080/"
        },
        "id": "6lW6wlfaL1v4",
        "outputId": "dc2ab245-391b-4d34-e17a-686d60fa54ca"
      },
      "execution_count": null,
      "outputs": [
        {
          "output_type": "execute_result",
          "data": {
            "text/plain": [
              "True"
            ]
          },
          "metadata": {},
          "execution_count": 23
        }
      ]
    },
    {
      "cell_type": "code",
      "source": [
        "#  0'dan farklı Bool sayılarının değeri her zaman için doğru \n",
        "#  kabul edilir.\n",
        "\n",
        "bool(101), bool(1) == bool(-3), bool(0), bool(0) == False"
      ],
      "metadata": {
        "colab": {
          "base_uri": "https://localhost:8080/"
        },
        "id": "HpY8BFNDM8Nh",
        "outputId": "552d0214-6109-453c-cff9-367a4490d422"
      },
      "execution_count": null,
      "outputs": [
        {
          "output_type": "execute_result",
          "data": {
            "text/plain": [
              "(True, True, False, True)"
            ]
          },
          "metadata": {},
          "execution_count": 12
        }
      ]
    },
    {
      "cell_type": "markdown",
      "source": [
        "Gruplayıcı nesnelerin üyeleri, 0. üyeden başlayarak sayarak adreslenirler ve bu adresle çağırılabilirler."
      ],
      "metadata": {
        "id": "TaFdOXKKOmRK"
      }
    },
    {
      "cell_type": "code",
      "source": [
        "değ"
      ],
      "metadata": {
        "colab": {
          "base_uri": "https://localhost:8080/"
        },
        "id": "OdJntNAOOZRP",
        "outputId": "10ea28ec-a55c-4918-fd49-6191cec9b787"
      },
      "execution_count": null,
      "outputs": [
        {
          "output_type": "execute_result",
          "data": {
            "text/plain": [
              "(1, 'Abc', 3.14, False, True)"
            ]
          },
          "metadata": {},
          "execution_count": 13
        }
      ]
    },
    {
      "cell_type": "code",
      "source": [
        "değ[2]"
      ],
      "metadata": {
        "colab": {
          "base_uri": "https://localhost:8080/"
        },
        "id": "Sqo6wz3ZMyL9",
        "outputId": "ed67e52e-0261-4c8f-f9f0-be1bc6c7d84c"
      },
      "execution_count": null,
      "outputs": [
        {
          "output_type": "execute_result",
          "data": {
            "text/plain": [
              "3.14"
            ]
          },
          "metadata": {},
          "execution_count": 27
        }
      ]
    },
    {
      "cell_type": "code",
      "source": [
        "#  değ'in ilk elemanını çağırıyorum.\n",
        "değ[0]"
      ],
      "metadata": {
        "colab": {
          "base_uri": "https://localhost:8080/"
        },
        "id": "35h1NsiaOyou",
        "outputId": "3d51fcc3-7ea4-42d4-f786-a09fc0c35716"
      },
      "execution_count": null,
      "outputs": [
        {
          "output_type": "execute_result",
          "data": {
            "text/plain": [
              "1"
            ]
          },
          "metadata": {},
          "execution_count": 28
        }
      ]
    },
    {
      "cell_type": "code",
      "source": [
        "#  değ değişkeninin son elemanını çağırıyorum.\n",
        "değ[-3]"
      ],
      "metadata": {
        "colab": {
          "base_uri": "https://localhost:8080/"
        },
        "id": "0fpkp0o7NIjV",
        "outputId": "2ef8ea2d-b3ea-4007-ec20-98b413b172a0"
      },
      "execution_count": null,
      "outputs": [
        {
          "output_type": "execute_result",
          "data": {
            "text/plain": [
              "3.14"
            ]
          },
          "metadata": {},
          "execution_count": 30
        }
      ]
    },
    {
      "cell_type": "code",
      "source": [
        "#  değ'in ikinci elemanının son elemanını çağırıyorum.\n",
        "değ[1][-1]"
      ],
      "metadata": {
        "colab": {
          "base_uri": "https://localhost:8080/",
          "height": 36
        },
        "id": "XkNVukPGO3QN",
        "outputId": "63604243-56e1-4758-ddb6-0d5532190f28"
      },
      "execution_count": null,
      "outputs": [
        {
          "output_type": "execute_result",
          "data": {
            "text/plain": [
              "'b'"
            ],
            "application/vnd.google.colaboratory.intrinsic+json": {
              "type": "string"
            }
          },
          "metadata": {},
          "execution_count": 35
        }
      ]
    },
    {
      "cell_type": "code",
      "source": [
        "değ[0] = 3"
      ],
      "metadata": {
        "colab": {
          "base_uri": "https://localhost:8080/",
          "height": 165
        },
        "id": "E843rQ12OBup",
        "outputId": "ad22b3a5-9dd9-457f-a4a5-27c7c7ad304c"
      },
      "execution_count": null,
      "outputs": [
        {
          "output_type": "error",
          "ename": "TypeError",
          "evalue": "ignored",
          "traceback": [
            "\u001b[0;31m---------------------------------------------------------------------------\u001b[0m",
            "\u001b[0;31mTypeError\u001b[0m                                 Traceback (most recent call last)",
            "\u001b[0;32m<ipython-input-37-3df7aab8edd2>\u001b[0m in \u001b[0;36m<module>\u001b[0;34m\u001b[0m\n\u001b[0;32m----> 1\u001b[0;31m \u001b[0mdeğ\u001b[0m\u001b[0;34m[\u001b[0m\u001b[0;36m0\u001b[0m\u001b[0;34m]\u001b[0m \u001b[0;34m=\u001b[0m \u001b[0;36m3\u001b[0m\u001b[0;34m\u001b[0m\u001b[0;34m\u001b[0m\u001b[0m\n\u001b[0m",
            "\u001b[0;31mTypeError\u001b[0m: 'tuple' object does not support item assignment"
          ]
        }
      ]
    },
    {
      "cell_type": "markdown",
      "source": [
        "Yeniden ifa edelim. Demetlerin üyeleri güncellenemez."
      ],
      "metadata": {
        "id": "RVEFwruXO-l4"
      }
    },
    {
      "cell_type": "code",
      "source": [
        "değ[1]"
      ],
      "metadata": {
        "colab": {
          "base_uri": "https://localhost:8080/",
          "height": 35
        },
        "id": "L3fpRtruO8pF",
        "outputId": "54df6bde-31d4-4278-bd77-0557f52478c0"
      },
      "execution_count": null,
      "outputs": [
        {
          "output_type": "execute_result",
          "data": {
            "text/plain": [
              "'Abc'"
            ],
            "application/vnd.google.colaboratory.intrinsic+json": {
              "type": "string"
            }
          },
          "metadata": {},
          "execution_count": 16
        }
      ]
    },
    {
      "cell_type": "code",
      "source": [
        "#  değ'in ikinci elemanını \"Vyz\" olarak güncellemeyi deniyorum.\n",
        "değ[1] = \"Vyz\""
      ],
      "metadata": {
        "colab": {
          "base_uri": "https://localhost:8080/",
          "height": 183
        },
        "id": "uh4V-tvPPJuK",
        "outputId": "ad691e4a-db3b-404f-f2b6-d38a024a8b23"
      },
      "execution_count": null,
      "outputs": [
        {
          "output_type": "error",
          "ename": "TypeError",
          "evalue": "ignored",
          "traceback": [
            "\u001b[0;31m---------------------------------------------------------------------------\u001b[0m",
            "\u001b[0;31mTypeError\u001b[0m                                 Traceback (most recent call last)",
            "\u001b[0;32m<ipython-input-17-c90e1e3078c7>\u001b[0m in \u001b[0;36m<module>\u001b[0;34m\u001b[0m\n\u001b[1;32m      1\u001b[0m \u001b[0;31m#  değ'in ikinci elemanını \"Vyz\" olarak güncellemeyi deniyorum.\u001b[0m\u001b[0;34m\u001b[0m\u001b[0;34m\u001b[0m\u001b[0;34m\u001b[0m\u001b[0m\n\u001b[0;32m----> 2\u001b[0;31m \u001b[0mdeğ\u001b[0m\u001b[0;34m[\u001b[0m\u001b[0;36m1\u001b[0m\u001b[0;34m]\u001b[0m \u001b[0;34m=\u001b[0m \u001b[0;34m\"Vyz\"\u001b[0m\u001b[0;34m\u001b[0m\u001b[0;34m\u001b[0m\u001b[0m\n\u001b[0m",
            "\u001b[0;31mTypeError\u001b[0m: 'tuple' object does not support item assignment"
          ]
        }
      ]
    },
    {
      "cell_type": "markdown",
      "source": [
        "Biz biraz önce bir karakter dizisinin içindeki herbir karakeri (harf, boşluk, sayı) adresi ile çağırabileceğimizi mi gördük?"
      ],
      "metadata": {
        "id": "4YYyK4fPPlQQ"
      }
    },
    {
      "cell_type": "code",
      "source": [
        "#  yeni bir değişken...\n",
        "d = \"Mustafa Mehmet BAYAR\"\n",
        "d"
      ],
      "metadata": {
        "colab": {
          "base_uri": "https://localhost:8080/",
          "height": 36
        },
        "id": "qdsqN5t0PR-T",
        "outputId": "18909342-58c4-457a-dd8b-15fbeefb1aef"
      },
      "execution_count": null,
      "outputs": [
        {
          "output_type": "execute_result",
          "data": {
            "text/plain": [
              "'Mustafa Mehmet BAYAR'"
            ],
            "application/vnd.google.colaboratory.intrinsic+json": {
              "type": "string"
            }
          },
          "metadata": {},
          "execution_count": 38
        }
      ]
    },
    {
      "cell_type": "code",
      "source": [
        "d[8:13+1]"
      ],
      "metadata": {
        "colab": {
          "base_uri": "https://localhost:8080/",
          "height": 36
        },
        "id": "JW8jQjdGP3lb",
        "outputId": "47d1699f-3160-4cc0-9cbd-c8c42163f699"
      },
      "execution_count": null,
      "outputs": [
        {
          "output_type": "execute_result",
          "data": {
            "text/plain": [
              "'Mehmet'"
            ],
            "application/vnd.google.colaboratory.intrinsic+json": {
              "type": "string"
            }
          },
          "metadata": {},
          "execution_count": 46
        }
      ]
    },
    {
      "cell_type": "code",
      "source": [
        "#  d içinde tanımlı karakter dizisi içindeki ilk sözcüğü \n",
        "#  çağırıyorum. Bunun için ilk sözcüğün kaçıncı karakterde bittiğini\n",
        "#  sayıyorum.\n",
        "\n",
        "d[0:6]\n"
      ],
      "metadata": {
        "colab": {
          "base_uri": "https://localhost:8080/",
          "height": 35
        },
        "id": "zS9HHBfNP6AG",
        "outputId": "f4c0874d-0181-40d9-8454-fca0ed85942d"
      },
      "execution_count": null,
      "outputs": [
        {
          "output_type": "execute_result",
          "data": {
            "text/plain": [
              "'Mustaf'"
            ],
            "application/vnd.google.colaboratory.intrinsic+json": {
              "type": "string"
            }
          },
          "metadata": {},
          "execution_count": 21
        }
      ]
    },
    {
      "cell_type": "markdown",
      "source": [
        "Köşeli parantez içinde bir adres aralığı belirtilerek bu adres aralığındaki tüm veri çağırılabilir.<br>\n",
        "**DİKKAT:** Adres aralığı verildiğinde ilk adresteki üye çağırılırken son adresteki üye çağırılmaz.<br>\n",
        "**ÖNERİ:** Adres aralığı kullanırken bir yazım üslubunu alışkanlık edininiz ve bunu değiştirmeyiniz. Ör. d[0:6+1]"
      ],
      "metadata": {
        "id": "Lg8nutG2QPaX"
      }
    },
    {
      "cell_type": "code",
      "source": [
        "#  d[0:6+1] yazımı\n",
        "d[0:6+1]"
      ],
      "metadata": {
        "colab": {
          "base_uri": "https://localhost:8080/",
          "height": 36
        },
        "id": "fWUDAW0bQMw2",
        "outputId": "8a6722c1-2183-4639-bb3c-f346a15e8857"
      },
      "execution_count": null,
      "outputs": [
        {
          "output_type": "execute_result",
          "data": {
            "text/plain": [
              "'Mustafa'"
            ],
            "application/vnd.google.colaboratory.intrinsic+json": {
              "type": "string"
            }
          },
          "metadata": {},
          "execution_count": 47
        }
      ]
    },
    {
      "cell_type": "code",
      "source": [
        "#  Acaba karakter dizilerinin içindeki üyeler \n",
        "#  değiştirilebilir mi? \n",
        "#  Yoksa demetler gibi değiştilemiyorlar mı?\n",
        "\n",
        "d[0:6+1] = 'Dr. M.'\n",
        "d"
      ],
      "metadata": {
        "colab": {
          "base_uri": "https://localhost:8080/",
          "height": 217
        },
        "id": "Dxk0f4d4QxWG",
        "outputId": "01d05ce9-4018-4b1e-c405-7546272f2ef9"
      },
      "execution_count": null,
      "outputs": [
        {
          "output_type": "error",
          "ename": "TypeError",
          "evalue": "ignored",
          "traceback": [
            "\u001b[0;31m---------------------------------------------------------------------------\u001b[0m",
            "\u001b[0;31mTypeError\u001b[0m                                 Traceback (most recent call last)",
            "\u001b[0;32m<ipython-input-48-6daedcfe632a>\u001b[0m in \u001b[0;36m<module>\u001b[0;34m\u001b[0m\n\u001b[1;32m      3\u001b[0m \u001b[0;31m#  Yoksa demetler gibi değiştilemiyorlar mı?\u001b[0m\u001b[0;34m\u001b[0m\u001b[0;34m\u001b[0m\u001b[0m\n\u001b[1;32m      4\u001b[0m \u001b[0;34m\u001b[0m\u001b[0m\n\u001b[0;32m----> 5\u001b[0;31m \u001b[0md\u001b[0m\u001b[0;34m[\u001b[0m\u001b[0;36m0\u001b[0m\u001b[0;34m:\u001b[0m\u001b[0;36m6\u001b[0m\u001b[0;34m+\u001b[0m\u001b[0;36m1\u001b[0m\u001b[0;34m]\u001b[0m \u001b[0;34m=\u001b[0m \u001b[0;34m'Dr. M.'\u001b[0m\u001b[0;34m\u001b[0m\u001b[0;34m\u001b[0m\u001b[0m\n\u001b[0m\u001b[1;32m      6\u001b[0m \u001b[0md\u001b[0m\u001b[0;34m\u001b[0m\u001b[0;34m\u001b[0m\u001b[0m\n",
            "\u001b[0;31mTypeError\u001b[0m: 'str' object does not support item assignment"
          ]
        }
      ]
    },
    {
      "cell_type": "code",
      "source": [
        "d = \"Dr. \" + d"
      ],
      "metadata": {
        "id": "Jl4Ky-4jPKBI"
      },
      "execution_count": null,
      "outputs": []
    },
    {
      "cell_type": "code",
      "source": [
        "d"
      ],
      "metadata": {
        "colab": {
          "base_uri": "https://localhost:8080/",
          "height": 36
        },
        "id": "9knNYWbwPS0P",
        "outputId": "fe419981-8651-444f-8092-a26f4ea77fcc"
      },
      "execution_count": null,
      "outputs": [
        {
          "output_type": "execute_result",
          "data": {
            "text/plain": [
              "'Dr. Mustafa Mehmet BAYAR'"
            ],
            "application/vnd.google.colaboratory.intrinsic+json": {
              "type": "string"
            }
          },
          "metadata": {},
          "execution_count": 52
        }
      ]
    },
    {
      "cell_type": "markdown",
      "source": [
        "Demetlere ekleme yapılamaz ve demet üyelerinin değerleri güncellenemez.<br><br>\n",
        "Karakter dizilerinin de üyeleri güncellenemez ancak; ekleme yapılabilir (bkz. Toplama işlemi)."
      ],
      "metadata": {
        "id": "Tg2GIaYVW_NO"
      }
    },
    {
      "cell_type": "code",
      "source": [
        "değ"
      ],
      "metadata": {
        "colab": {
          "base_uri": "https://localhost:8080/"
        },
        "id": "2w9iNUqVXhXn",
        "outputId": "5c4123bf-48fa-4562-c5f9-326c8680fa93"
      },
      "execution_count": null,
      "outputs": [
        {
          "output_type": "execute_result",
          "data": {
            "text/plain": [
              "(1, 'Abc', 3.14, False, True)"
            ]
          },
          "metadata": {},
          "execution_count": 53
        }
      ]
    },
    {
      "cell_type": "code",
      "source": [
        "#  Bir demetin ne tipte bir nesne olduğunu type() fonksiyonu ile bulalım.\n",
        "\n",
        "type(değ)"
      ],
      "metadata": {
        "colab": {
          "base_uri": "https://localhost:8080/"
        },
        "id": "k07etIUoRXiv",
        "outputId": "078e3421-b26f-454b-f55e-ae8d61443c44"
      },
      "execution_count": null,
      "outputs": [
        {
          "output_type": "execute_result",
          "data": {
            "text/plain": [
              "tuple"
            ]
          },
          "metadata": {},
          "execution_count": 54
        }
      ]
    },
    {
      "cell_type": "markdown",
      "source": [
        "###  **List (Liste)**<br><br>\n",
        "\n",
        "Listeler, demetlere son derece benzeyen Python nesneleridir. Liste ve demet arasındaki en önemli fark, demetler tanımlandıktan sonra bir daha değiştirilemeyen statik nesnelerken listeler;\n",
        "- Sonradan üye eklenebilen,\n",
        "- Mevcut üyeleri listeden çıkarılabilen,\n",
        "- Üyeleri güncellenebilen\n",
        "yani dinamik gruplayıcı nesnelerdir."
      ],
      "metadata": {
        "id": "Y2NpyiifX939"
      }
    },
    {
      "cell_type": "code",
      "source": [
        "#  Önceden tanımladığımız değişken içindeki demeti hatırlayalım.\n",
        "\n",
        "değ"
      ],
      "metadata": {
        "colab": {
          "base_uri": "https://localhost:8080/"
        },
        "id": "2-fJzCn2Xbnq",
        "outputId": "bee8b411-3215-47d5-888d-819142194293"
      },
      "execution_count": null,
      "outputs": [
        {
          "output_type": "execute_result",
          "data": {
            "text/plain": [
              "(1, 'Abc', 3.14, False, True)"
            ]
          },
          "metadata": {},
          "execution_count": 55
        }
      ]
    },
    {
      "cell_type": "code",
      "source": [
        "#  Bu üyeleri içeren bir liste tanımlayalım.\n",
        "#  Yöntem 1: list() fonksiyonu kullanımı\n",
        "\n",
        "list(\n",
        "    (1, 'Abc', 3.14, False, True)\n",
        "    )"
      ],
      "metadata": {
        "colab": {
          "base_uri": "https://localhost:8080/"
        },
        "id": "v-F5lSmRa45U",
        "outputId": "6fd839d4-4a8c-4bac-ef7c-65c6ab5f345b"
      },
      "execution_count": null,
      "outputs": [
        {
          "output_type": "execute_result",
          "data": {
            "text/plain": [
              "[1, 'Abc', 3.14, False, True]"
            ]
          },
          "metadata": {},
          "execution_count": 56
        }
      ]
    },
    {
      "cell_type": "code",
      "source": [
        "['Ayşe Nur', 'Mariama', 'Fatma', 'Gülfidan', 'Nisanur', 'Zemzem', ]"
      ],
      "metadata": {
        "colab": {
          "base_uri": "https://localhost:8080/"
        },
        "id": "MTIN1WlfTxMh",
        "outputId": "8fa4a508-1c82-4f5a-942c-3b8d663b7af8"
      },
      "execution_count": null,
      "outputs": [
        {
          "output_type": "execute_result",
          "data": {
            "text/plain": [
              "['Ayşe Nur', 'Mariama', 'Fatma', 'Gülfidan', 'Nisanur', 'Zemzem']"
            ]
          },
          "metadata": {},
          "execution_count": 57
        }
      ]
    },
    {
      "cell_type": "code",
      "source": [
        "#  Yöntem 2: köşeli parantez kullanımı\n",
        "[1, 'Abc', 3.14, False, True]"
      ],
      "metadata": {
        "colab": {
          "base_uri": "https://localhost:8080/"
        },
        "id": "xcjFPLypb8yg",
        "outputId": "e6d79ead-2610-4f6b-8973-4fe2efabbfb6"
      },
      "execution_count": null,
      "outputs": [
        {
          "output_type": "execute_result",
          "data": {
            "text/plain": [
              "[1, 'Abc', 3.14, False, True]"
            ]
          },
          "metadata": {},
          "execution_count": 40
        }
      ]
    },
    {
      "cell_type": "code",
      "source": [
        "[1, 'Abc', 3.14, False, True] == list((1, 'Abc', 3.14, False, True))"
      ],
      "metadata": {
        "colab": {
          "base_uri": "https://localhost:8080/"
        },
        "id": "-P-lv1Fib9-5",
        "outputId": "ad44624a-0867-4072-ae0e-8cf2fa60ea23"
      },
      "execution_count": null,
      "outputs": [
        {
          "output_type": "execute_result",
          "data": {
            "text/plain": [
              "True"
            ]
          },
          "metadata": {},
          "execution_count": 58
        }
      ]
    },
    {
      "cell_type": "code",
      "source": [
        "#  Yeni bir değişken...\n",
        "l = [1, 'Abc', 3.14, False, True]\n",
        "l"
      ],
      "metadata": {
        "colab": {
          "base_uri": "https://localhost:8080/"
        },
        "id": "egETC_D6b_4e",
        "outputId": "97cea2c4-3969-4a5d-e345-491bafea342c"
      },
      "execution_count": null,
      "outputs": [
        {
          "output_type": "execute_result",
          "data": {
            "text/plain": [
              "[1, 'Abc', 3.14, False, True]"
            ]
          },
          "metadata": {},
          "execution_count": 59
        }
      ]
    },
    {
      "cell_type": "code",
      "source": [
        "#  Listemizin 3. üyesini güncelleyelim\n",
        "l[2]"
      ],
      "metadata": {
        "colab": {
          "base_uri": "https://localhost:8080/"
        },
        "id": "GghQW3DxcdQx",
        "outputId": "8b663abd-eabf-4104-9323-df4fdea39049"
      },
      "execution_count": null,
      "outputs": [
        {
          "output_type": "execute_result",
          "data": {
            "text/plain": [
              "3.14"
            ]
          },
          "metadata": {},
          "execution_count": 64
        }
      ]
    },
    {
      "cell_type": "code",
      "source": [
        "l[2] = 2.71\n",
        "l"
      ],
      "metadata": {
        "colab": {
          "base_uri": "https://localhost:8080/"
        },
        "id": "X4HeB0eYdHxc",
        "outputId": "09954851-1ab6-4dd2-dce5-f1f9f0ae7ff1"
      },
      "execution_count": null,
      "outputs": [
        {
          "output_type": "execute_result",
          "data": {
            "text/plain": [
              "[1, 'Abc', 2.71, False, True]"
            ]
          },
          "metadata": {},
          "execution_count": 65
        }
      ]
    },
    {
      "cell_type": "code",
      "source": [
        "l.append('Burak')\n",
        "l"
      ],
      "metadata": {
        "colab": {
          "base_uri": "https://localhost:8080/"
        },
        "id": "ApoqAbXHUyws",
        "outputId": "1a454752-8c8e-44cc-b2a6-cd0962df3016"
      },
      "execution_count": null,
      "outputs": [
        {
          "output_type": "execute_result",
          "data": {
            "text/plain": [
              "[1, 'Abc', 2.71, False, True, 'Burak']"
            ]
          },
          "metadata": {},
          "execution_count": 67
        }
      ]
    },
    {
      "cell_type": "code",
      "source": [
        "#  Listemizin sonuna yeni bir üye ekleyelim\n",
        "l.append('Yeni üye')\n",
        "l"
      ],
      "metadata": {
        "colab": {
          "base_uri": "https://localhost:8080/"
        },
        "id": "qqGLLgAxdKq-",
        "outputId": "53645d08-e0e5-46e7-bfe5-c19ab40657f1"
      },
      "execution_count": null,
      "outputs": [
        {
          "output_type": "execute_result",
          "data": {
            "text/plain": [
              "[1, 'Abc', 2.71, False, True, 'Burak', 'Yeni üye']"
            ]
          },
          "metadata": {},
          "execution_count": 68
        }
      ]
    },
    {
      "cell_type": "code",
      "source": [
        "#  Listemizin son elemanını silelim\n",
        "l.pop()"
      ],
      "metadata": {
        "colab": {
          "base_uri": "https://localhost:8080/",
          "height": 36
        },
        "id": "ACLIqhXedWBs",
        "outputId": "054fea95-68c3-4d69-9ceb-303203773bb7"
      },
      "execution_count": null,
      "outputs": [
        {
          "output_type": "execute_result",
          "data": {
            "text/plain": [
              "'Yeni üye'"
            ],
            "application/vnd.google.colaboratory.intrinsic+json": {
              "type": "string"
            }
          },
          "metadata": {},
          "execution_count": 69
        }
      ]
    },
    {
      "cell_type": "code",
      "source": [
        "l"
      ],
      "metadata": {
        "colab": {
          "base_uri": "https://localhost:8080/"
        },
        "id": "rdmTsdoOVL2l",
        "outputId": "6d7a61bb-e4b6-488b-ba13-48e6780af2de"
      },
      "execution_count": null,
      "outputs": [
        {
          "output_type": "execute_result",
          "data": {
            "text/plain": [
              "[1, 'Abc', 2.71, False, True, 'Burak']"
            ]
          },
          "metadata": {},
          "execution_count": 70
        }
      ]
    },
    {
      "cell_type": "markdown",
      "source": [
        "liste.pop() metodu, listenin son adres indisindeki elemanı siler ve hücre çıktısı olarak silinen elemanı yazdırır."
      ],
      "metadata": {
        "id": "q6P0mn7Hdg1v"
      }
    },
    {
      "cell_type": "code",
      "source": [
        "l = [1, 'Abc', 2.71, False, True, 'Burak']\n",
        "l"
      ],
      "metadata": {
        "colab": {
          "base_uri": "https://localhost:8080/"
        },
        "id": "gzbIwsfidbRz",
        "outputId": "cfb31306-f911-455e-e7ce-a4d676657006"
      },
      "execution_count": null,
      "outputs": [
        {
          "output_type": "execute_result",
          "data": {
            "text/plain": [
              "[1, 'Abc', 2.71, False, True, 'Burak']"
            ]
          },
          "metadata": {},
          "execution_count": 78
        }
      ]
    },
    {
      "cell_type": "code",
      "source": [
        "l.remove( l[3] )"
      ],
      "metadata": {
        "id": "gcHu15w4VVLM"
      },
      "execution_count": null,
      "outputs": []
    },
    {
      "cell_type": "code",
      "source": [
        "l"
      ],
      "metadata": {
        "colab": {
          "base_uri": "https://localhost:8080/"
        },
        "id": "iKUK031_ViIk",
        "outputId": "51039885-9325-4443-dcad-6f54dea0db91"
      },
      "execution_count": null,
      "outputs": [
        {
          "output_type": "execute_result",
          "data": {
            "text/plain": [
              "[1, 'Abc', 2.71, True, 'Burak']"
            ]
          },
          "metadata": {},
          "execution_count": 80
        }
      ]
    },
    {
      "cell_type": "code",
      "source": [
        "#  Listemizin ikinci elemanını silelim\n",
        "l[1]"
      ],
      "metadata": {
        "colab": {
          "base_uri": "https://localhost:8080/",
          "height": 35
        },
        "id": "riYTliWwdd1T",
        "outputId": "f1e97f60-c731-48f3-89c5-813a80169a1a"
      },
      "execution_count": null,
      "outputs": [
        {
          "output_type": "execute_result",
          "data": {
            "text/plain": [
              "'Abc'"
            ],
            "application/vnd.google.colaboratory.intrinsic+json": {
              "type": "string"
            }
          },
          "metadata": {},
          "execution_count": 51
        }
      ]
    },
    {
      "cell_type": "code",
      "source": [
        "l.remove('Abc')"
      ],
      "metadata": {
        "id": "m3ovokTjdc9G"
      },
      "execution_count": null,
      "outputs": []
    },
    {
      "cell_type": "code",
      "source": [
        "l"
      ],
      "metadata": {
        "colab": {
          "base_uri": "https://localhost:8080/"
        },
        "id": "MhYtB7IPd1RS",
        "outputId": "1a85c264-5fcf-4c74-c5e5-5b46b6dda8a1"
      },
      "execution_count": null,
      "outputs": [
        {
          "output_type": "execute_result",
          "data": {
            "text/plain": [
              "[1, 2.71, False, True]"
            ]
          },
          "metadata": {},
          "execution_count": 54
        }
      ]
    },
    {
      "cell_type": "markdown",
      "source": [
        "liste.remove() fonksiyonu içine değeri yazılan elemanı listeden siler."
      ],
      "metadata": {
        "id": "V5ya6HtNd9rB"
      }
    },
    {
      "cell_type": "code",
      "source": [
        "#  Aynı komutu yeniden çalıştıralım\n",
        "l.remove('Abc')"
      ],
      "metadata": {
        "colab": {
          "base_uri": "https://localhost:8080/",
          "height": 183
        },
        "id": "8qS20eVad7oB",
        "outputId": "d1d2adee-2504-46aa-d86b-cb70328402bd"
      },
      "execution_count": null,
      "outputs": [
        {
          "output_type": "error",
          "ename": "ValueError",
          "evalue": "ignored",
          "traceback": [
            "\u001b[0;31m---------------------------------------------------------------------------\u001b[0m",
            "\u001b[0;31mValueError\u001b[0m                                Traceback (most recent call last)",
            "\u001b[0;32m<ipython-input-55-d9cb26d27d2b>\u001b[0m in \u001b[0;36m<module>\u001b[0;34m\u001b[0m\n\u001b[1;32m      1\u001b[0m \u001b[0;31m#  Aynı komutu yeniden çalıştıralım\u001b[0m\u001b[0;34m\u001b[0m\u001b[0;34m\u001b[0m\u001b[0;34m\u001b[0m\u001b[0m\n\u001b[0;32m----> 2\u001b[0;31m \u001b[0ml\u001b[0m\u001b[0;34m.\u001b[0m\u001b[0mremove\u001b[0m\u001b[0;34m(\u001b[0m\u001b[0;34m'Abc'\u001b[0m\u001b[0;34m)\u001b[0m\u001b[0;34m\u001b[0m\u001b[0;34m\u001b[0m\u001b[0m\n\u001b[0m",
            "\u001b[0;31mValueError\u001b[0m: list.remove(x): x not in list"
          ]
        }
      ]
    },
    {
      "cell_type": "code",
      "source": [
        "l"
      ],
      "metadata": {
        "colab": {
          "base_uri": "https://localhost:8080/"
        },
        "id": "ScC8ofb8WbHR",
        "outputId": "16c93367-bf42-4a65-ee7f-596577e4c587"
      },
      "execution_count": null,
      "outputs": [
        {
          "output_type": "execute_result",
          "data": {
            "text/plain": [
              "[1, 'Abc', 2.71, True, 'Burak']"
            ]
          },
          "metadata": {},
          "execution_count": 81
        }
      ]
    },
    {
      "cell_type": "code",
      "source": [
        "l.pop()\n",
        "l"
      ],
      "metadata": {
        "colab": {
          "base_uri": "https://localhost:8080/"
        },
        "id": "uTOTSzVaWhmE",
        "outputId": "8b6c87fe-5688-4901-d100-5e50cc63dc50"
      },
      "execution_count": null,
      "outputs": [
        {
          "output_type": "execute_result",
          "data": {
            "text/plain": [
              "[1, 'Abc', 2.71, True]"
            ]
          },
          "metadata": {},
          "execution_count": 82
        }
      ]
    },
    {
      "cell_type": "code",
      "source": [
        "l.insert(0,'Burak')\n",
        "l"
      ],
      "metadata": {
        "colab": {
          "base_uri": "https://localhost:8080/"
        },
        "id": "7ZNINLu9Wjd2",
        "outputId": "ddd51844-6c70-4492-e218-c8f89e66235b"
      },
      "execution_count": null,
      "outputs": [
        {
          "output_type": "execute_result",
          "data": {
            "text/plain": [
              "['Burak', 1, 'Abc', 2.71, True]"
            ]
          },
          "metadata": {},
          "execution_count": 83
        }
      ]
    },
    {
      "cell_type": "markdown",
      "source": [
        "Listede bulunmayan bir elemanı .remove() metodu ile silemeyiz."
      ],
      "metadata": {
        "id": "ZZ39i1-VeHIi"
      }
    },
    {
      "cell_type": "code",
      "source": [
        "l.insert(1,'Abc')\n",
        "l"
      ],
      "metadata": {
        "colab": {
          "base_uri": "https://localhost:8080/"
        },
        "id": "-ci6aqXaeGJF",
        "outputId": "81faa51d-45a8-4bd8-fe7a-e1c8e0676caa"
      },
      "execution_count": null,
      "outputs": [
        {
          "output_type": "execute_result",
          "data": {
            "text/plain": [
              "[1, 'Abc', 2.71, False, True]"
            ]
          },
          "metadata": {},
          "execution_count": 56
        }
      ]
    },
    {
      "cell_type": "markdown",
      "source": [
        "liste.insert() metodu önce indis (adres) ve ardından bir virgülden sonra eklenecek üyenin değeri ile çalışır.<br>\n",
        "Bu metod ile listenin istenilen adresine istenilen değerde bir üye eklenebilir."
      ],
      "metadata": {
        "id": "jAzbwBVseUpM"
      }
    },
    {
      "cell_type": "code",
      "source": [
        "#  .remove() metodunu farklı bir biçimde kullanalım.\n",
        "l"
      ],
      "metadata": {
        "colab": {
          "base_uri": "https://localhost:8080/"
        },
        "id": "KgQ4n3jweTxT",
        "outputId": "2951c43d-8a10-4df3-e239-9141f7e364a5"
      },
      "execution_count": null,
      "outputs": [
        {
          "output_type": "execute_result",
          "data": {
            "text/plain": [
              "[1, 'Abc', 2.71, False, True]"
            ]
          },
          "metadata": {},
          "execution_count": 57
        }
      ]
    },
    {
      "cell_type": "code",
      "source": [
        "l.remove(l[1])\n",
        "l"
      ],
      "metadata": {
        "colab": {
          "base_uri": "https://localhost:8080/"
        },
        "id": "b1xoos1le79n",
        "outputId": "5a901618-7b72-485f-871d-da830e21ce59"
      },
      "execution_count": null,
      "outputs": [
        {
          "output_type": "execute_result",
          "data": {
            "text/plain": [
              "[1, 2.71, False, True]"
            ]
          },
          "metadata": {},
          "execution_count": 58
        }
      ]
    },
    {
      "cell_type": "code",
      "source": [
        "#  Karakter dizileri ve demetler listelere dönüştürülebilir\n",
        "#  Bir demetin listeye dönüştürülmesi\n",
        "list(değ)"
      ],
      "metadata": {
        "colab": {
          "base_uri": "https://localhost:8080/"
        },
        "id": "6kPghWW-e_Yh",
        "outputId": "c78775b5-93ba-4143-d1ae-fcecaf264e7d"
      },
      "execution_count": null,
      "outputs": [
        {
          "output_type": "execute_result",
          "data": {
            "text/plain": [
              "[1, 'Abc', 3.14, False, True]"
            ]
          },
          "metadata": {},
          "execution_count": 59
        }
      ]
    },
    {
      "cell_type": "code",
      "source": [
        "#  Bir karakter dizisinin listeye dönüştürülmesi\n",
        "list(\"Mustafa Mehmet BAYAR\")"
      ],
      "metadata": {
        "colab": {
          "base_uri": "https://localhost:8080/"
        },
        "id": "1NsjVIxZfI0u",
        "outputId": "827eade8-0667-4259-d7a2-d7ad9908c22d"
      },
      "execution_count": null,
      "outputs": [
        {
          "output_type": "execute_result",
          "data": {
            "text/plain": [
              "['M',\n",
              " 'u',\n",
              " 's',\n",
              " 't',\n",
              " 'a',\n",
              " 'f',\n",
              " 'a',\n",
              " ' ',\n",
              " 'M',\n",
              " 'e',\n",
              " 'h',\n",
              " 'm',\n",
              " 'e',\n",
              " 't',\n",
              " ' ',\n",
              " 'B',\n",
              " 'A',\n",
              " 'Y',\n",
              " 'A',\n",
              " 'R']"
            ]
          },
          "metadata": {},
          "execution_count": 61
        }
      ]
    },
    {
      "cell_type": "code",
      "source": [
        "#  Bir listenin nesne tipini type() fonksiyonu ile öğrenmek\n",
        "boş = []\n",
        "type(boş)"
      ],
      "metadata": {
        "colab": {
          "base_uri": "https://localhost:8080/"
        },
        "id": "OOvu_K6ofnNb",
        "outputId": "0b7ecba0-d2f6-462f-b324-f72630e381bb"
      },
      "execution_count": null,
      "outputs": [
        {
          "output_type": "execute_result",
          "data": {
            "text/plain": [
              "list"
            ]
          },
          "metadata": {},
          "execution_count": 84
        }
      ]
    },
    {
      "cell_type": "markdown",
      "source": [
        "###  **Dictionary (Sözlük)**<br><br>\n",
        "\n",
        "**Bir sözlüğü elinize alınız ve açıp bakınız...**<br>\n",
        "Sözlüğü incelerken sayfalar üzerinde bir dizi sözcüğü (anahtarı) ve bu sözcüğün anlamını (değerini) bulacaksınız.<br><br>\n",
        "Sözlük (dictionary) tipi gruplayıcı nesneler de benzer bir yapıda anahtar (key) ve değer (value) ikililerinden oluşur.<br><br>\n",
        "Bir anahtara sahip olmasıyla diğer gruplayıcılardan ayrışan sözlüklerin üyeleri adres bilgisi (indis) ile çağırılmaz; bunun yerine üyelerin değerleri anahtarları ile çağırılırlar."
      ],
      "metadata": {
        "id": "c_PSpLqQffXr"
      }
    },
    {
      "cell_type": "code",
      "source": [
        "sözlük = {'Ali':'İnşaat Mühendisi', 'Ayşe': 'Sosyolog'}\n",
        "sözlük"
      ],
      "metadata": {
        "colab": {
          "base_uri": "https://localhost:8080/"
        },
        "id": "w4MfIZ6VXiCF",
        "outputId": "7a3b773f-16ca-41d4-e180-4f1c2a55db29"
      },
      "execution_count": null,
      "outputs": [
        {
          "output_type": "execute_result",
          "data": {
            "text/plain": [
              "{'Ali': 'İnşaat Mühendisi', 'Ayşe': 'Sosyolog'}"
            ]
          },
          "metadata": {},
          "execution_count": 88
        }
      ]
    },
    {
      "cell_type": "code",
      "source": [
        "sözlük['Ayşe']"
      ],
      "metadata": {
        "colab": {
          "base_uri": "https://localhost:8080/",
          "height": 36
        },
        "id": "QQOzX9a9YDA0",
        "outputId": "1f8b099b-0abe-4b75-e4ca-31b11baad078"
      },
      "execution_count": null,
      "outputs": [
        {
          "output_type": "execute_result",
          "data": {
            "text/plain": [
              "'Sosyolog'"
            ],
            "application/vnd.google.colaboratory.intrinsic+json": {
              "type": "string"
            }
          },
          "metadata": {},
          "execution_count": 90
        }
      ]
    },
    {
      "cell_type": "code",
      "source": [
        "#  Bir sözlük oluşturalım ve bir değişkene atayalım.\n",
        "s = {'Mehmet':'CB',\n",
        "'Tomris':'AA',\n",
        "'Safir':'DC',\n",
        "'Irmak':'BA'}\n",
        "\n",
        "s"
      ],
      "metadata": {
        "colab": {
          "base_uri": "https://localhost:8080/"
        },
        "id": "WXw-lZBgfM4S",
        "outputId": "b3887f65-3957-464d-f6fc-78ba30cae62f"
      },
      "execution_count": null,
      "outputs": [
        {
          "output_type": "execute_result",
          "data": {
            "text/plain": [
              "{'Mehmet': 'CB', 'Tomris': 'AA', 'Safir': 'DC', 'Irmak': 'BA'}"
            ]
          },
          "metadata": {},
          "execution_count": 91
        }
      ]
    },
    {
      "cell_type": "code",
      "source": [
        "#  Sözlüğün ilk üyesini adresi ile çağırmaya çalışalım\n",
        "s[0]"
      ],
      "metadata": {
        "colab": {
          "base_uri": "https://localhost:8080/",
          "height": 182
        },
        "id": "dj7mL2OtmVvT",
        "outputId": "50a09194-cf4f-4d24-cd5e-d60f9565ac0b"
      },
      "execution_count": null,
      "outputs": [
        {
          "output_type": "error",
          "ename": "KeyError",
          "evalue": "ignored",
          "traceback": [
            "\u001b[0;31m---------------------------------------------------------------------------\u001b[0m",
            "\u001b[0;31mKeyError\u001b[0m                                  Traceback (most recent call last)",
            "\u001b[0;32m<ipython-input-92-2efb6afb55a2>\u001b[0m in \u001b[0;36m<module>\u001b[0;34m\u001b[0m\n\u001b[1;32m      1\u001b[0m \u001b[0;31m#  Sözlüğün ilk üyesini adresi ile çağırmaya çalışalım\u001b[0m\u001b[0;34m\u001b[0m\u001b[0;34m\u001b[0m\u001b[0m\n\u001b[0;32m----> 2\u001b[0;31m \u001b[0ms\u001b[0m\u001b[0;34m[\u001b[0m\u001b[0;36m0\u001b[0m\u001b[0;34m]\u001b[0m\u001b[0;34m\u001b[0m\u001b[0;34m\u001b[0m\u001b[0m\n\u001b[0m",
            "\u001b[0;31mKeyError\u001b[0m: 0"
          ]
        }
      ]
    },
    {
      "cell_type": "code",
      "source": [
        "list(sözlük.values())"
      ],
      "metadata": {
        "colab": {
          "base_uri": "https://localhost:8080/"
        },
        "id": "vbCrxPXHZE6z",
        "outputId": "4d737ed9-3e10-4818-99e9-fbe704565e4b"
      },
      "execution_count": null,
      "outputs": [
        {
          "output_type": "execute_result",
          "data": {
            "text/plain": [
              "['İnşaat Mühendisi', 'Sosyolog']"
            ]
          },
          "metadata": {},
          "execution_count": 97
        }
      ]
    },
    {
      "cell_type": "code",
      "source": [
        "list(sözlük.keys())"
      ],
      "metadata": {
        "colab": {
          "base_uri": "https://localhost:8080/"
        },
        "id": "I18pRdxuZKqK",
        "outputId": "5d7f58b6-80c5-4c9b-cae2-ef047f532fef"
      },
      "execution_count": null,
      "outputs": [
        {
          "output_type": "execute_result",
          "data": {
            "text/plain": [
              "['Ali', 'Ayşe']"
            ]
          },
          "metadata": {},
          "execution_count": 96
        }
      ]
    },
    {
      "cell_type": "code",
      "source": [
        "#  Sözlüğün ilk üyesini adresi ile çağırmaya çalışalım\n",
        "list( s.keys() )[0]"
      ],
      "metadata": {
        "colab": {
          "base_uri": "https://localhost:8080/",
          "height": 35
        },
        "id": "z2UkQykemzoX",
        "outputId": "3bccd8f5-277a-4ac4-8881-c9decffc794d"
      },
      "execution_count": null,
      "outputs": [
        {
          "output_type": "execute_result",
          "data": {
            "text/plain": [
              "'Mehmet'"
            ],
            "application/vnd.google.colaboratory.intrinsic+json": {
              "type": "string"
            }
          },
          "metadata": {},
          "execution_count": 77
        }
      ]
    },
    {
      "cell_type": "code",
      "source": [
        "s[ list( s.keys() )[0] ]"
      ],
      "metadata": {
        "colab": {
          "base_uri": "https://localhost:8080/",
          "height": 35
        },
        "id": "VjJZEtebm72M",
        "outputId": "63008caa-6bcd-4ce2-c596-c3e00e4462d7"
      },
      "execution_count": null,
      "outputs": [
        {
          "output_type": "execute_result",
          "data": {
            "text/plain": [
              "'CB'"
            ],
            "application/vnd.google.colaboratory.intrinsic+json": {
              "type": "string"
            }
          },
          "metadata": {},
          "execution_count": 78
        }
      ]
    },
    {
      "cell_type": "code",
      "source": [
        "#  Sözlük üyelerinin değerleri anahtarlar üzerinden çağırılır.\n",
        "#  Bakalım kedim hangi notu almış...\n",
        "s['Safir']"
      ],
      "metadata": {
        "colab": {
          "base_uri": "https://localhost:8080/",
          "height": 36
        },
        "id": "bsM9vJLCnLZv",
        "outputId": "a5409f8d-2cce-4798-f96a-f2a242663040"
      },
      "execution_count": null,
      "outputs": [
        {
          "output_type": "execute_result",
          "data": {
            "text/plain": [
              "'DC'"
            ],
            "application/vnd.google.colaboratory.intrinsic+json": {
              "type": "string"
            }
          },
          "metadata": {},
          "execution_count": 98
        }
      ]
    },
    {
      "cell_type": "code",
      "source": [
        "#  Belki de kedimin notunu yanlış hesaplamışımdır...\n",
        "s['Safir'] = 'FF'\n",
        "s"
      ],
      "metadata": {
        "colab": {
          "base_uri": "https://localhost:8080/"
        },
        "id": "hXF_dZ-BpmJ8",
        "outputId": "18fa9999-6e5b-4102-da79-ca55a955f778"
      },
      "execution_count": null,
      "outputs": [
        {
          "output_type": "execute_result",
          "data": {
            "text/plain": [
              "{'Mehmet': 'CB', 'Tomris': 'AA', 'Safir': 'FF', 'Irmak': 'BA'}"
            ]
          },
          "metadata": {},
          "execution_count": 99
        }
      ]
    },
    {
      "cell_type": "code",
      "source": [
        "#  Sonradan farkettim ki Safinaz'ın notunu girmeyi unutmuşum...\n",
        "s['Safinaz'] = 'CC'\n",
        "s"
      ],
      "metadata": {
        "colab": {
          "base_uri": "https://localhost:8080/"
        },
        "id": "HUtYl2rVpweu",
        "outputId": "1e62d05a-e537-4ba5-ad39-b32d69c7e515"
      },
      "execution_count": null,
      "outputs": [
        {
          "output_type": "execute_result",
          "data": {
            "text/plain": [
              "{'Mehmet': 'CB', 'Tomris': 'AA', 'Safir': 'FF', 'Irmak': 'BA', 'Safinaz': 'CC'}"
            ]
          },
          "metadata": {},
          "execution_count": 100
        }
      ]
    },
    {
      "cell_type": "code",
      "source": [
        "#  Sözlüklerde sözlük.pop() metodu, içine anahtarı girilen \n",
        "#  sözlük üyesini siler.\n",
        "#  Listelerdeki gibi son üyeyi silmediğine dikkat ediniz.\n",
        "s.pop('Safinaz')\n",
        "s"
      ],
      "metadata": {
        "colab": {
          "base_uri": "https://localhost:8080/"
        },
        "id": "jMt_vJxKu3nC",
        "outputId": "bc6e1a47-27b8-4ceb-a6d0-3a397fcecb21"
      },
      "execution_count": null,
      "outputs": [
        {
          "output_type": "execute_result",
          "data": {
            "text/plain": [
              "{'Mehmet': 'CB', 'Tomris': 'AA', 'Safir': 'FF', 'Irmak': 'BA'}"
            ]
          },
          "metadata": {},
          "execution_count": 101
        }
      ]
    },
    {
      "cell_type": "code",
      "source": [
        "s"
      ],
      "metadata": {
        "colab": {
          "base_uri": "https://localhost:8080/"
        },
        "id": "5AoXYp9lZ13H",
        "outputId": "477aa9f6-1abb-446c-eaac-9030ad29bdf4"
      },
      "execution_count": null,
      "outputs": [
        {
          "output_type": "execute_result",
          "data": {
            "text/plain": [
              "{'Mehmet': 'CB', 'Tomris': 'AA', 'Safir': 'FF', 'Irmak': 'BA'}"
            ]
          },
          "metadata": {},
          "execution_count": 102
        }
      ]
    },
    {
      "cell_type": "code",
      "source": [
        "adı_değişenin_notu = s['Safir']"
      ],
      "metadata": {
        "id": "eDuNY6LRZ6Ty"
      },
      "execution_count": null,
      "outputs": []
    },
    {
      "cell_type": "code",
      "source": [
        "s.pop('Safir')"
      ],
      "metadata": {
        "colab": {
          "base_uri": "https://localhost:8080/",
          "height": 36
        },
        "id": "xCBsCbr7Z6Xb",
        "outputId": "40b3d9f5-9a2e-47dc-89dd-4ded0bae8928"
      },
      "execution_count": null,
      "outputs": [
        {
          "output_type": "execute_result",
          "data": {
            "text/plain": [
              "'FF'"
            ],
            "application/vnd.google.colaboratory.intrinsic+json": {
              "type": "string"
            }
          },
          "metadata": {},
          "execution_count": 105
        }
      ]
    },
    {
      "cell_type": "code",
      "source": [
        "s"
      ],
      "metadata": {
        "colab": {
          "base_uri": "https://localhost:8080/"
        },
        "id": "eAU1FeQuaG9E",
        "outputId": "da1d48c3-ce86-4342-f737-b3c3b61e0491"
      },
      "execution_count": null,
      "outputs": [
        {
          "output_type": "execute_result",
          "data": {
            "text/plain": [
              "{'Mehmet': 'CB', 'Tomris': 'AA', 'Irmak': 'BA'}"
            ]
          },
          "metadata": {},
          "execution_count": 106
        }
      ]
    },
    {
      "cell_type": "code",
      "source": [
        "s['Topak'] = adı_değişenin_notu\n",
        "s"
      ],
      "metadata": {
        "colab": {
          "base_uri": "https://localhost:8080/"
        },
        "id": "PNX_3wmBaIhs",
        "outputId": "4b3eb25c-a880-4be1-f181-666f3f8edc4d"
      },
      "execution_count": null,
      "outputs": [
        {
          "output_type": "execute_result",
          "data": {
            "text/plain": [
              "{'Mehmet': 'CB', 'Tomris': 'AA', 'Irmak': 'BA', 'Topak': 'FF'}"
            ]
          },
          "metadata": {},
          "execution_count": 107
        }
      ]
    },
    {
      "cell_type": "code",
      "source": [
        "type(sözlük)"
      ],
      "metadata": {
        "colab": {
          "base_uri": "https://localhost:8080/"
        },
        "id": "8GBZ5RG6akP7",
        "outputId": "ea64b0b7-b66d-443c-bcc3-4a2aebe934f7"
      },
      "execution_count": null,
      "outputs": [
        {
          "output_type": "execute_result",
          "data": {
            "text/plain": [
              "dict"
            ]
          },
          "metadata": {},
          "execution_count": 108
        }
      ]
    },
    {
      "cell_type": "markdown",
      "source": [
        "Bir gruplayıcı değişken kullanmak istediğinizde %95 olasılıkla liste ya da sözlük kullanıyor olacaksınız. Bu iki nesneyi kullanmaya alışmanızı öneririm."
      ],
      "metadata": {
        "id": "BS6g9qYlyjmI"
      }
    },
    {
      "cell_type": "code",
      "source": [
        "#  Bir s değişkenine atanan değerin nesne tipini type()\n",
        "#  fonksiyonunu kullanarak bulalım.\n",
        "\n",
        "type(s)"
      ],
      "metadata": {
        "colab": {
          "base_uri": "https://localhost:8080/"
        },
        "id": "0qBHpwK5zm4g",
        "outputId": "3d71cf11-df84-4cd7-cf3a-81b760b8f9a2"
      },
      "execution_count": null,
      "outputs": [
        {
          "output_type": "execute_result",
          "data": {
            "text/plain": [
              "dict"
            ]
          },
          "metadata": {},
          "execution_count": 109
        }
      ]
    },
    {
      "cell_type": "markdown",
      "source": [
        "###  **Set (Küme)**<br><br>\n",
        "\n",
        "Demetlerde ve listelerde üyeler tekrarlanabilirler"
      ],
      "metadata": {
        "id": "2ESbUWzJzg1_"
      }
    },
    {
      "cell_type": "code",
      "source": [
        "ad = 'Mustafa Mehmet Bayar'\n",
        "ad"
      ],
      "metadata": {
        "colab": {
          "base_uri": "https://localhost:8080/",
          "height": 36
        },
        "id": "A2JqDoArbNRn",
        "outputId": "296327bb-e31d-45f4-8a73-c5c71b5ab61e"
      },
      "execution_count": null,
      "outputs": [
        {
          "output_type": "execute_result",
          "data": {
            "text/plain": [
              "'Mustafa Mehmet Bayar'"
            ],
            "application/vnd.google.colaboratory.intrinsic+json": {
              "type": "string"
            }
          },
          "metadata": {},
          "execution_count": 111
        }
      ]
    },
    {
      "cell_type": "code",
      "source": [
        "list(ad)"
      ],
      "metadata": {
        "colab": {
          "base_uri": "https://localhost:8080/"
        },
        "id": "fOx-P1BkbXF1",
        "outputId": "4cb37a82-c74e-48b2-b6b7-c02f9b118eeb"
      },
      "execution_count": null,
      "outputs": [
        {
          "output_type": "execute_result",
          "data": {
            "text/plain": [
              "['M',\n",
              " 'u',\n",
              " 's',\n",
              " 't',\n",
              " 'a',\n",
              " 'f',\n",
              " 'a',\n",
              " ' ',\n",
              " 'M',\n",
              " 'e',\n",
              " 'h',\n",
              " 'm',\n",
              " 'e',\n",
              " 't',\n",
              " ' ',\n",
              " 'B',\n",
              " 'a',\n",
              " 'y',\n",
              " 'a',\n",
              " 'r']"
            ]
          },
          "metadata": {},
          "execution_count": 112
        }
      ]
    },
    {
      "cell_type": "code",
      "source": [
        "set( ad )"
      ],
      "metadata": {
        "colab": {
          "base_uri": "https://localhost:8080/"
        },
        "id": "tWo3tzLFbkTv",
        "outputId": "a624ecfc-5a9c-450b-87e7-74c64caf6528"
      },
      "execution_count": null,
      "outputs": [
        {
          "output_type": "execute_result",
          "data": {
            "text/plain": [
              "{' ', 'B', 'M', 'a', 'e', 'f', 'h', 'm', 'r', 's', 't', 'u', 'y'}"
            ]
          },
          "metadata": {},
          "execution_count": 113
        }
      ]
    },
    {
      "cell_type": "code",
      "source": [],
      "metadata": {
        "id": "gDvX4jBVbXIH"
      },
      "execution_count": null,
      "outputs": []
    },
    {
      "cell_type": "code",
      "source": [
        "(1,1,2,3,5,8,13)"
      ],
      "metadata": {
        "colab": {
          "base_uri": "https://localhost:8080/"
        },
        "id": "O70ODcBXw6qe",
        "outputId": "cdc2e6d4-7e79-473b-d004-c1da5faa8196"
      },
      "execution_count": null,
      "outputs": [
        {
          "output_type": "execute_result",
          "data": {
            "text/plain": [
              "(1, 1, 2, 3, 5, 8, 13)"
            ]
          },
          "metadata": {},
          "execution_count": 91
        }
      ]
    },
    {
      "cell_type": "code",
      "source": [
        "[1,1,2,3,5,8,13]"
      ],
      "metadata": {
        "colab": {
          "base_uri": "https://localhost:8080/"
        },
        "id": "jFux-FNS0a8g",
        "outputId": "3590eff7-3b15-46ef-ef7d-e3e8ffd9af2b"
      },
      "execution_count": null,
      "outputs": [
        {
          "output_type": "execute_result",
          "data": {
            "text/plain": [
              "[1, 1, 2, 3, 5, 8, 13]"
            ]
          },
          "metadata": {},
          "execution_count": 92
        }
      ]
    },
    {
      "cell_type": "markdown",
      "source": [
        "Tekrarlanan üyelerin yalnızca bir defa izlendiği bir gruplayıcıya ihtiyaç duyuyorsanız kümeler size başka bir gruplayıcının biricik üyelerini verecektir."
      ],
      "metadata": {
        "id": "5cnXHuIs0fKb"
      }
    },
    {
      "cell_type": "code",
      "source": [
        "#  Bir listenin biricik üyelerini set() fonksiyonu ile bulalım\n",
        "k = set( (1,1,2,3,5,8,13) )\n",
        "k"
      ],
      "metadata": {
        "colab": {
          "base_uri": "https://localhost:8080/"
        },
        "id": "u5-f7C070eMB",
        "outputId": "9f7da29c-ee55-42dc-f292-b60fc28f0fc3"
      },
      "execution_count": null,
      "outputs": [
        {
          "output_type": "execute_result",
          "data": {
            "text/plain": [
              "{1, 2, 3, 5, 8, 13}"
            ]
          },
          "metadata": {},
          "execution_count": 114
        }
      ]
    },
    {
      "cell_type": "markdown",
      "source": [
        "####  **Sınıfiçi çalışma**\n",
        "\n",
        "Bir gruplayıcı içerisindeki birbirinden farklı (biricik) değerli üye sayısı nedir?"
      ],
      "metadata": {
        "id": "XNDBdXQY16OF"
      }
    },
    {
      "cell_type": "code",
      "source": [
        "#  İnceleyeceğiniz gruplayıcı şöyledir:\n",
        "\n",
        "g = [1,23,2,3,56,45,3,6,9,23,1,4,56,32,0,2,54,6,3,0,4,5,6,2,145,6,3,2,1,5,23,1,45,6,5,8,9,6,23,6,9,87,45,2,]"
      ],
      "metadata": {
        "id": "z80r-YWE1SXY"
      },
      "execution_count": null,
      "outputs": []
    },
    {
      "cell_type": "code",
      "source": [
        "g"
      ],
      "metadata": {
        "id": "EYT06FvFdUH0",
        "outputId": "8b36fe01-1ba8-4e73-b44f-1317d760f500",
        "colab": {
          "base_uri": "https://localhost:8080/"
        }
      },
      "execution_count": null,
      "outputs": [
        {
          "output_type": "execute_result",
          "data": {
            "text/plain": [
              "[1,\n",
              " 23,\n",
              " 2,\n",
              " 3,\n",
              " 56,\n",
              " 45,\n",
              " 3,\n",
              " 6,\n",
              " 9,\n",
              " 23,\n",
              " 1,\n",
              " 4,\n",
              " 56,\n",
              " 32,\n",
              " 0,\n",
              " 2,\n",
              " 54,\n",
              " 6,\n",
              " 3,\n",
              " 0,\n",
              " 4,\n",
              " 5,\n",
              " 6,\n",
              " 2,\n",
              " 145,\n",
              " 6,\n",
              " 3,\n",
              " 2,\n",
              " 1,\n",
              " 5,\n",
              " 23,\n",
              " 1,\n",
              " 45,\n",
              " 6,\n",
              " 5,\n",
              " 8,\n",
              " 9,\n",
              " 6,\n",
              " 23,\n",
              " 6,\n",
              " 9,\n",
              " 87,\n",
              " 45,\n",
              " 2]"
            ]
          },
          "metadata": {},
          "execution_count": 122
        }
      ]
    },
    {
      "cell_type": "code",
      "source": [
        "g = set( g )"
      ],
      "metadata": {
        "id": "zOoOBnMpcHxA"
      },
      "execution_count": null,
      "outputs": []
    },
    {
      "cell_type": "code",
      "source": [
        "g"
      ],
      "metadata": {
        "colab": {
          "base_uri": "https://localhost:8080/"
        },
        "id": "tEoNOS7QcH2m",
        "outputId": "85312449-a01d-4a9f-a6f0-6195e4c6a94f"
      },
      "execution_count": null,
      "outputs": [
        {
          "output_type": "execute_result",
          "data": {
            "text/plain": [
              "{0, 1, 2, 3, 4, 5, 6, 8, 9, 23, 32, 45, 54, 56, 87, 145}"
            ]
          },
          "metadata": {},
          "execution_count": 119
        }
      ]
    },
    {
      "cell_type": "code",
      "source": [
        "len( g )"
      ],
      "metadata": {
        "colab": {
          "base_uri": "https://localhost:8080/"
        },
        "id": "CSd1qcGhc5DK",
        "outputId": "ca9a9d3b-6f35-490d-f8e6-bf436ea69b08"
      },
      "execution_count": null,
      "outputs": [
        {
          "output_type": "execute_result",
          "data": {
            "text/plain": [
              "16"
            ]
          },
          "metadata": {},
          "execution_count": 120
        }
      ]
    },
    {
      "cell_type": "markdown",
      "source": [
        "#  <br><br><br>**HAFTA 4**<br><br><br>"
      ],
      "metadata": {
        "id": "A7dXO0cYTfGA"
      }
    },
    {
      "cell_type": "markdown",
      "source": [
        "## **Döngüler**<br>\n",
        "- **\"for\" Döngüleri**,\n",
        "- **\"while\" Döngüleri**<br><br>\n",
        "\n",
        "Python için bu derste size sunulacak iki tip döngü vardır: for döngüleri ve while döngüleri.<br><br>\n",
        "For döngüleri bir gruplayıcı Python nesnesi içerisindeki herbir üyeyi belirli bir kurala göre (indis sırası, anahtar yaratım sırası, vb.) tek tek döngü içinde tanımlanan sürece sokan ve gruplayıcı nesne içerisinde artık işlenebilecek bir üye kalmadığında sonlanan bir döngüdür.<br>\n",
        "For döngülerinde gruplayıcı nesne içerisindeki üyeler yalnızca birer defa işlenirler.<br>\n",
        "For döngüleri, veri bilimi ve makine öğrenmesi bakış açısından bakıldığında, bir defalık çalışacak projelerde sıklıkla kullanacağınız bir araçtır. Otomasyon süreçlerinin en çok tercih edilen aracıdır.<br><br>\n",
        "While döngüleri ise belirtilen bir önermenin değeri \"True\" (doğru) olduğu sürece çalışan ve önerme eğer \"False\" (yanlış) değerini alamazsa sonsuza kadar çalışmaya devam edecek döngülerdir.<br>\n",
        "While döngüleri kullanılırken sıklıkla bir adım sayacı değişkeni tanımlanır ve herbir döngü işleminde (adımda) sayaç değeri 1 artırılarak güncellenir.<br>\n",
        "Sonsuza kadar çalışan while döngüleri, tekrarlanan projeler için (nesne tanıma ile otonom araçların yön bulma kararlarının üretilmesi, vb.) sıklıkla kullanılır ancak; bu derste sizin için büyük olasılıkla arzu edilmeyen bir durumdur.<br>\n",
        "Sonsuza kadar çalışan while döngülerini sonlandırmak için \"Ctrl + C\"yi kullanabilirsiniz."
      ],
      "metadata": {
        "id": "JoR-F34UTles"
      }
    },
    {
      "cell_type": "code",
      "source": [
        "#  Yeni bir gruplayıcı Python nesnesi: range()\n",
        "\n",
        "range(0,10+1,2), type( range(0,10+1,2) )"
      ],
      "metadata": {
        "id": "hwONR7lr2QKQ",
        "colab": {
          "base_uri": "https://localhost:8080/"
        },
        "outputId": "719eaffd-1497-4012-d876-a9110c72533b"
      },
      "execution_count": null,
      "outputs": [
        {
          "output_type": "execute_result",
          "data": {
            "text/plain": [
              "(range(0, 11, 2), range)"
            ]
          },
          "metadata": {},
          "execution_count": 2
        }
      ]
    },
    {
      "cell_type": "code",
      "source": [
        "#  Bir range nesnesinin bir liste nesnesine dönüştülmesi\n",
        "\n",
        "list( range(0,10+1,2) )"
      ],
      "metadata": {
        "colab": {
          "base_uri": "https://localhost:8080/"
        },
        "id": "HxRPMNrPWMl4",
        "outputId": "e22a0cf4-1e4c-4d78-e133-881028f698cd"
      },
      "execution_count": null,
      "outputs": [
        {
          "output_type": "execute_result",
          "data": {
            "text/plain": [
              "[0, 2, 4, 6, 8, 10]"
            ]
          },
          "metadata": {},
          "execution_count": 5
        }
      ]
    },
    {
      "cell_type": "code",
      "source": [
        "#  iki gruplayıcının birleştirilmesi yoluyla bir sözlük nesnesinin üretimi: zip() ve dict () fonksiyonları\n",
        "\n",
        "dict(\n",
        "    zip(\n",
        "        range(0,5+1,1),\n",
        "        ['A','B','C','D','E']\n",
        "        )\n",
        "    )"
      ],
      "metadata": {
        "colab": {
          "base_uri": "https://localhost:8080/"
        },
        "id": "-HqdoKAHWXjh",
        "outputId": "aac72b84-a55e-4917-bafb-0763dac1d317"
      },
      "execution_count": null,
      "outputs": [
        {
          "output_type": "execute_result",
          "data": {
            "text/plain": [
              "{0: 'A', 1: 'B', 2: 'C', 3: 'D', 4: 'E'}"
            ]
          },
          "metadata": {},
          "execution_count": 7
        }
      ]
    },
    {
      "cell_type": "code",
      "source": [
        "#  İlk \"for\" döngümüz: bir demetin tüm üyelerinin yazdırılması\n",
        "\n",
        "#    d değişkenine bir demet atıyoruz\n",
        "d = (1,2,3)\n",
        "\n",
        "#    for döngüsü 1. üslup\n",
        "for üye in d:\n",
        "  print(üye)"
      ],
      "metadata": {
        "colab": {
          "base_uri": "https://localhost:8080/"
        },
        "id": "bkbQgCqlaSBV",
        "outputId": "b72126c7-8241-4579-dc5a-ed2b300f37bf"
      },
      "execution_count": null,
      "outputs": [
        {
          "output_type": "stream",
          "name": "stdout",
          "text": [
            "1\n",
            "2\n",
            "3\n"
          ]
        }
      ]
    },
    {
      "cell_type": "code",
      "source": [
        "#    for döngüsü 2. üslup\n",
        "for indis in range( len(d) ):\n",
        "  print( d[indis] )"
      ],
      "metadata": {
        "colab": {
          "base_uri": "https://localhost:8080/"
        },
        "id": "k78k5MaQbM2U",
        "outputId": "fb015141-0b2b-47fa-9ba2-4dafbf08d8e9"
      },
      "execution_count": null,
      "outputs": [
        {
          "output_type": "stream",
          "name": "stdout",
          "text": [
            "1\n",
            "2\n",
            "3\n"
          ]
        }
      ]
    },
    {
      "cell_type": "code",
      "source": [
        "#  Bir listenin tüm üyelerin kümülatif olarak artışının izlenmesi ve her adımda değerlerin yazdırılması\n",
        "\n",
        "#    l değişkenine bir liste atıyoruz\n",
        "l = list( range(0,10+1,1) )\n",
        "\n",
        "#  för döngüsü 2. üslup\n",
        "kümülatif_toplam = 0\n",
        "for indis in range( len(l) ):\n",
        "  kümülatif_toplam += l[indis]\n",
        "  print( kümülatif_toplam )"
      ],
      "metadata": {
        "colab": {
          "base_uri": "https://localhost:8080/"
        },
        "id": "SH8-zTvWbcfk",
        "outputId": "a0dcca81-329d-48d4-84ee-e6a59c7f6f3c"
      },
      "execution_count": null,
      "outputs": [
        {
          "output_type": "stream",
          "name": "stdout",
          "text": [
            "0\n",
            "1\n",
            "3\n",
            "6\n",
            "10\n",
            "15\n",
            "21\n",
            "28\n",
            "36\n",
            "45\n",
            "55\n"
          ]
        }
      ]
    },
    {
      "cell_type": "markdown",
      "source": [
        "**try:**<br>\n",
        "- ilk deneme\n",
        "\n",
        "**except:**\n",
        " - ikinci deneme\n",
        "\n",
        "Döngüleri, hata verebilecek durumların yönetilerek döngülerin sürdürülebilmesi için kullanılan bir araçtır.<br><br>\n",
        "**try:** döngüsü altında hata verebilecek senaryo işlenir ve eğer bu senaryo hata verirse işletilecek B planı **except:** döngüsü içerisinde işlenir.<br>\n",
        "Eğer bir C planına ihtiyaç duyuluyorsa bu araca bir **finally:** döngüsü ilave edilebilir."
      ],
      "metadata": {
        "id": "v9aTlmeneZVn"
      }
    },
    {
      "cell_type": "code",
      "source": [
        "#  10 üyeli bir Fibonacci Serisi kesitinin bir liste olarak oluşturulması ve yazdırılması\n",
        "\n",
        "#    10 üyeli bir sayaç oluşturuyoruz\n",
        "sayaç = range(1,9+1,1)\n",
        "\n",
        "#    içinde yalnızca 1 üyesi bulunan bir liste tanımluyoruz\n",
        "fib = [1]\n",
        "\n",
        "#    for döngüsü\n",
        "for i in sayaç:\n",
        "  try:\n",
        "    fib.append( fib[-1] + bool(i)*fib[-2] )\n",
        "  except:\n",
        "    fib.append( fib[-1] )\n",
        "\n",
        "#    listenin son hali\n",
        "fib"
      ],
      "metadata": {
        "colab": {
          "base_uri": "https://localhost:8080/"
        },
        "id": "rXUCIPE8csjN",
        "outputId": "d40824bd-48a5-487b-f7e0-726f0a3a1dd4"
      },
      "execution_count": null,
      "outputs": [
        {
          "output_type": "execute_result",
          "data": {
            "text/plain": [
              "[1, 1, 2, 3, 5, 8, 13, 21, 34, 55]"
            ]
          },
          "metadata": {},
          "execution_count": 18
        }
      ]
    },
    {
      "cell_type": "markdown",
      "source": [
        "**pass, continue, break Komutları**<br><br>\n",
        "\n",
        " - **pass** komutu bir döngü adımı içerisinde yürütülen işlemlerden birini es geçerek adımın sürdürülmesi gerektiğinde kullanılan bir komuttur.<br><br>\n",
        " - **continue** komutu da bir döngü adımının sonlandırılarak döngünün sonraki adımdan devam etmesini sağlayan bir komuttur.<br><br>\n",
        " - **break** komutu ise bir döngünün tamamen sonlandırılmasını sağlar."
      ],
      "metadata": {
        "id": "ifUwfrFgfZtX"
      }
    },
    {
      "cell_type": "code",
      "source": [
        "#  pass komutu işleyişini anlamak\n",
        "\n",
        "for i in [1,2,3]:\n",
        "  print(i)\n",
        "  pass\n",
        "  print(i+1)"
      ],
      "metadata": {
        "colab": {
          "base_uri": "https://localhost:8080/"
        },
        "id": "DoUHFuEFds7R",
        "outputId": "e2dbed50-42f2-4c85-f972-7454730a7800"
      },
      "execution_count": null,
      "outputs": [
        {
          "output_type": "stream",
          "name": "stdout",
          "text": [
            "1\n",
            "2\n",
            "2\n",
            "3\n",
            "3\n",
            "4\n"
          ]
        }
      ]
    },
    {
      "cell_type": "code",
      "source": [
        "#  continue komutu işleyişini anlamak\n",
        "\n",
        "for i in [1,2,3]:\n",
        "  print(i)\n",
        "  continue\n",
        "  print(i+1)"
      ],
      "metadata": {
        "colab": {
          "base_uri": "https://localhost:8080/"
        },
        "id": "UECxrQimgIi2",
        "outputId": "a79dcec4-b71c-4ff8-d2f3-54d31729a7c5"
      },
      "execution_count": null,
      "outputs": [
        {
          "output_type": "stream",
          "name": "stdout",
          "text": [
            "1\n",
            "2\n",
            "3\n"
          ]
        }
      ]
    },
    {
      "cell_type": "code",
      "source": [
        "#  break komutu işleyişini anlamak\n",
        "\n",
        "for i in [1,2,3]:\n",
        "  print(i)\n",
        "  break\n",
        "  print(i+1)"
      ],
      "metadata": {
        "colab": {
          "base_uri": "https://localhost:8080/"
        },
        "id": "M5eAhN5-gqZq",
        "outputId": "0cbf07f1-9581-419c-e545-b3e3edf3a677"
      },
      "execution_count": null,
      "outputs": [
        {
          "output_type": "stream",
          "name": "stdout",
          "text": [
            "1\n"
          ]
        }
      ]
    },
    {
      "cell_type": "code",
      "source": [
        "#  Bir sözlüğün üyelerinin for döngüsü ile yazdırılması deneyi\n",
        "\n",
        "#    s değişkenine bir sözlük atıyoruz\n",
        "s = {'A':'Ankara',\n",
        "     'B':'Bursa',\n",
        "     'İ':'İzmir'}\n",
        "\n",
        "#    döngü\n",
        "for i in s:\n",
        "  print(i)"
      ],
      "metadata": {
        "colab": {
          "base_uri": "https://localhost:8080/"
        },
        "id": "EIcNnDs8hOAn",
        "outputId": "c4d7c487-efa7-4b2e-f186-e0a5b2c7f243"
      },
      "execution_count": null,
      "outputs": [
        {
          "output_type": "stream",
          "name": "stdout",
          "text": [
            "A\n",
            "B\n",
            "İ\n"
          ]
        }
      ]
    },
    {
      "cell_type": "markdown",
      "source": [
        "For döngüleri liste üyelerinin yazdırıldığı biçimde sözlüklere uygulanırsa döngü çıktıları sözlüğün anahtarları olacaktır.<br><br>\n",
        "Eğer sözlüğün değerleri yazdırılmak isteniliyorsa sözlük.values() gruplayıcısı içinde döngü çalıştırılmalıdır."
      ],
      "metadata": {
        "id": "zunrVMGRh4Fu"
      }
    },
    {
      "cell_type": "code",
      "source": [
        "for i in s.values():\n",
        "  print(i)"
      ],
      "metadata": {
        "colab": {
          "base_uri": "https://localhost:8080/"
        },
        "id": "CGh2X8Qhhu9u",
        "outputId": "3772aa12-c254-440e-8668-caddee35ca75"
      },
      "execution_count": null,
      "outputs": [
        {
          "output_type": "stream",
          "name": "stdout",
          "text": [
            "Ankara\n",
            "Bursa\n",
            "İzmir\n"
          ]
        }
      ]
    },
    {
      "cell_type": "markdown",
      "source": [
        "Eğer sözlüğün anahtar - değer ikilileri yazdırılmak isteniliyorsa bu gruplayıcılar zip() fonksiyonu içine konularak for döngüsü uygulanmalıdır."
      ],
      "metadata": {
        "id": "L2CmiUunjSto"
      }
    },
    {
      "cell_type": "code",
      "source": [
        "for i in zip( s.keys(), s.values() ):\n",
        "  print(i)"
      ],
      "metadata": {
        "colab": {
          "base_uri": "https://localhost:8080/"
        },
        "id": "zffVg4iTjQvi",
        "outputId": "ab750069-67f2-4ccb-b276-03d32b861782"
      },
      "execution_count": null,
      "outputs": [
        {
          "output_type": "stream",
          "name": "stdout",
          "text": [
            "('A', 'Ankara')\n",
            "('B', 'Bursa')\n",
            "('İ', 'İzmir')\n"
          ]
        }
      ]
    },
    {
      "cell_type": "markdown",
      "source": [
        "ya da ikililer anahtar ve \"anahtar ile elde edilen değer\" kullanılarak yazılabilir"
      ],
      "metadata": {
        "id": "pFxnwahFjlvM"
      }
    },
    {
      "cell_type": "code",
      "source": [
        "for i in s:\n",
        "  print( (i, s[i]) )"
      ],
      "metadata": {
        "colab": {
          "base_uri": "https://localhost:8080/"
        },
        "id": "_u35_dLpjkFu",
        "outputId": "9b6e980b-05f2-4641-e9dc-49cc7af0ac79"
      },
      "execution_count": null,
      "outputs": [
        {
          "output_type": "stream",
          "name": "stdout",
          "text": [
            "('A', 'Ankara')\n",
            "('B', 'Bursa')\n",
            "('İ', 'İzmir')\n"
          ]
        }
      ]
    },
    {
      "cell_type": "code",
      "source": [
        "#  bir sözlük elemanının (Ankara) kaçıncı üye olduğunu bulmak\n",
        "s"
      ],
      "metadata": {
        "colab": {
          "base_uri": "https://localhost:8080/"
        },
        "id": "OzjaPViej_yX",
        "outputId": "ca686058-5b62-40a7-bf64-7a6c2a90a606"
      },
      "execution_count": null,
      "outputs": [
        {
          "output_type": "execute_result",
          "data": {
            "text/plain": [
              "{'A': 'Ankara', 'B': 'Bursa', 'İ': 'İzmir'}"
            ]
          },
          "metadata": {},
          "execution_count": 32
        }
      ]
    },
    {
      "cell_type": "code",
      "source": [
        "#  sözlüğün değerleri gruplayıcısı:\n",
        "s.values()"
      ],
      "metadata": {
        "colab": {
          "base_uri": "https://localhost:8080/"
        },
        "id": "losJI0IskXwt",
        "outputId": "cd9c5f0e-9999-4158-d9e3-ae5f361989ae"
      },
      "execution_count": null,
      "outputs": [
        {
          "output_type": "execute_result",
          "data": {
            "text/plain": [
              "dict_values(['Ankara', 'Bursa', 'İzmir'])"
            ]
          },
          "metadata": {},
          "execution_count": 33
        }
      ]
    },
    {
      "cell_type": "code",
      "source": [
        "#   sözlüğün değerlerinin listeye dönüştürülmesi\n",
        "list( s.values() )"
      ],
      "metadata": {
        "colab": {
          "base_uri": "https://localhost:8080/"
        },
        "id": "wnLMtyeikgOk",
        "outputId": "9f2f5f91-0528-4dcd-f372-6c7458fe4f46"
      },
      "execution_count": null,
      "outputs": [
        {
          "output_type": "execute_result",
          "data": {
            "text/plain": [
              "['Ankara', 'Bursa', 'İzmir']"
            ]
          },
          "metadata": {},
          "execution_count": 34
        }
      ]
    },
    {
      "cell_type": "code",
      "source": [
        "#  sözlüğün değerleri listesinde .index() metodunun kullanımı\n",
        "list( s.values() ).index('Ankara')"
      ],
      "metadata": {
        "colab": {
          "base_uri": "https://localhost:8080/"
        },
        "id": "PFiXqJRqkrVl",
        "outputId": "162ac0cd-3901-48d7-9c0e-fca6e82d360b"
      },
      "execution_count": null,
      "outputs": [
        {
          "output_type": "execute_result",
          "data": {
            "text/plain": [
              "0"
            ]
          },
          "metadata": {},
          "execution_count": 35
        }
      ]
    },
    {
      "cell_type": "code",
      "source": [
        "#  Üçüncü sıradaki sözlük değerinin çağırılması\n",
        "\n",
        "s[ list(s.keys())[2] ]"
      ],
      "metadata": {
        "colab": {
          "base_uri": "https://localhost:8080/",
          "height": 35
        },
        "id": "kzQIcwd-kzhg",
        "outputId": "b677a68f-5d6e-469c-8be3-828953908b57"
      },
      "execution_count": null,
      "outputs": [
        {
          "output_type": "execute_result",
          "data": {
            "text/plain": [
              "'İzmir'"
            ],
            "application/vnd.google.colaboratory.intrinsic+json": {
              "type": "string"
            }
          },
          "metadata": {},
          "execution_count": 36
        }
      ]
    },
    {
      "cell_type": "markdown",
      "source": [
        "### **while** Döngüleri <br><br>"
      ],
      "metadata": {
        "id": "QeVyRLZNAJXN"
      }
    },
    {
      "cell_type": "code",
      "source": [
        "#  while döngüleri bir önerme üzerinden çalışır.\n",
        "#    önerme doğru olduğu sürece döngü bir adım daha çalışır ve\n",
        "#    önerme yanlış olduğunda da mevcut adımı gerçekleştirmeden\n",
        "#    döngüyü sonlandırır.\n",
        "\n",
        "#      while döngüleri genelde bir sayaç değişkeni ile beraber kullanılır.\n",
        "\n",
        "sayaç = 0\n",
        "\n",
        "while sayaç != 10:\n",
        "  print(sayaç)\n",
        "  sayaç += 1      #  += 1 Python'da kullanılan bir kısayoldur: sayaç = sayaç + 1'in kısaltması"
      ],
      "metadata": {
        "id": "f6Fz_lZvlDM_",
        "colab": {
          "base_uri": "https://localhost:8080/"
        },
        "outputId": "8d3500b7-5220-472d-8189-16786bf39b93"
      },
      "execution_count": null,
      "outputs": [
        {
          "output_type": "stream",
          "name": "stdout",
          "text": [
            "0\n",
            "1\n",
            "2\n",
            "3\n",
            "4\n",
            "5\n",
            "6\n",
            "7\n",
            "8\n",
            "9\n"
          ]
        }
      ]
    },
    {
      "cell_type": "markdown",
      "source": [
        "**DİKKAT:**<br>sayaç değişkeni 10 değerli olduğunda bu değer yazdırılmadan ve tüm while döngüsünün sonlandırıldığını farkettiniz mi?"
      ],
      "metadata": {
        "id": "UPGDFV4IB9Wf"
      }
    },
    {
      "cell_type": "code",
      "source": [
        "sayaç"
      ],
      "metadata": {
        "colab": {
          "base_uri": "https://localhost:8080/"
        },
        "id": "rnEEXiXSC6oD",
        "outputId": "6e9513fa-153b-4b3c-e2f4-c492f9e0ddc9"
      },
      "execution_count": null,
      "outputs": [
        {
          "output_type": "execute_result",
          "data": {
            "text/plain": [
              "10"
            ]
          },
          "metadata": {},
          "execution_count": 2
        }
      ]
    },
    {
      "cell_type": "code",
      "source": [
        "#  while döngüleri önerme doğru olduğu sürece çalışmaya devam eder\n",
        "\n",
        "while True:\n",
        "  pass"
      ],
      "metadata": {
        "colab": {
          "base_uri": "https://localhost:8080/",
          "height": 200
        },
        "id": "EhIjqiIPB5d6",
        "outputId": "a7feb578-e13e-477f-9806-d3942760fabf"
      },
      "execution_count": null,
      "outputs": [
        {
          "output_type": "error",
          "ename": "KeyboardInterrupt",
          "evalue": "ignored",
          "traceback": [
            "\u001b[0;31m---------------------------------------------------------------------------\u001b[0m",
            "\u001b[0;31mKeyboardInterrupt\u001b[0m                         Traceback (most recent call last)",
            "\u001b[0;32m<ipython-input-3-6073f1da7bd7>\u001b[0m in \u001b[0;36m<module>\u001b[0;34m\u001b[0m\n\u001b[1;32m      2\u001b[0m \u001b[0;34m\u001b[0m\u001b[0m\n\u001b[1;32m      3\u001b[0m \u001b[0;32mwhile\u001b[0m \u001b[0;32mTrue\u001b[0m\u001b[0;34m:\u001b[0m\u001b[0;34m\u001b[0m\u001b[0;34m\u001b[0m\u001b[0m\n\u001b[0;32m----> 4\u001b[0;31m   \u001b[0;32mpass\u001b[0m\u001b[0;34m\u001b[0m\u001b[0;34m\u001b[0m\u001b[0m\n\u001b[0m",
            "\u001b[0;31mKeyboardInterrupt\u001b[0m: "
          ]
        }
      ]
    },
    {
      "cell_type": "markdown",
      "source": [
        "**SONSUZ WHILE DÖNGÜLERİ NASIL SONLANDIRILIR?**<br>\n",
        "Sonsuz while döngülerini sonlandırmak için;<br>\n",
        " - Çalışma Zamanı/\n",
        "   -  Yürütmeyi Kes\n",
        "\n",
        "Eğer başka bir Python çalıştırma ortamındaysanız muhtemelen CTRL + C işe yarayacaktır."
      ],
      "metadata": {
        "id": "BkjB4tRiDY5C"
      }
    },
    {
      "cell_type": "code",
      "source": [
        "#  While döngüsü ile Fibanacci Serisinin ilk 10 üyesini içeren bir liste oluşturmak\n",
        "\n",
        "#    Önce boş liste oluşturuyoruz.\n",
        "Fibonacci = list()\n",
        "\n",
        "#    İlk iki eleman dizinin genel kuralına uymuyor; onlar için ayrı bir kural uyguluyoruz:\n",
        "#    ilk iki eleman 1 olmalı\n",
        "while len(Fibonacci) < 2:\n",
        "  Fibonacci.append(1)\n",
        "\n",
        "#    Dizinin üçüncü elemanından itibaren düzen:\n",
        "#    Dizinin son elemanı, kendisinden önceki iki elemanın toplamıdır.\n",
        "while len(Fibonacci) <= 10:\n",
        "  Fibonacci.append(\n",
        "      Fibonacci[-1]+Fibonacci[-2]\n",
        "  )\n",
        "\n",
        "Fibonacci"
      ],
      "metadata": {
        "colab": {
          "base_uri": "https://localhost:8080/"
        },
        "id": "YwKv5pj9DA-p",
        "outputId": "3a64e0a7-5506-4012-b1d0-f6543d892026"
      },
      "execution_count": null,
      "outputs": [
        {
          "output_type": "execute_result",
          "data": {
            "text/plain": [
              "[1, 1, 2, 3, 5, 8, 13, 21, 34, 55, 89]"
            ]
          },
          "metadata": {},
          "execution_count": 6
        }
      ]
    },
    {
      "cell_type": "markdown",
      "source": [
        "**Alternatif:**<br>\n",
        "İç içe döngü kullanarak da bu işi yapabilirdik."
      ],
      "metadata": {
        "id": "ca4k7yI1GoFc"
      }
    },
    {
      "cell_type": "code",
      "source": [
        "Fibonacci = list()\n",
        "\n",
        "while len(Fibonacci) <= 10:\n",
        "\n",
        "  #  ilk iki elemana dair döngüyü genel dönügünün içine gömebiliriz\n",
        "  while len(Fibonacci) < 2:\n",
        "    Fibonacci.append(1)\n",
        "\n",
        "  Fibonacci.append(\n",
        "      Fibonacci[-1]+Fibonacci[-2]\n",
        "  )\n",
        "\n",
        "Fibonacci"
      ],
      "metadata": {
        "colab": {
          "base_uri": "https://localhost:8080/"
        },
        "id": "QnwPDGsQFpuq",
        "outputId": "8cfb616e-4c3b-4a32-d359-2b3d308c63fc"
      },
      "execution_count": null,
      "outputs": [
        {
          "output_type": "execute_result",
          "data": {
            "text/plain": [
              "[1, 1, 2, 3, 5, 8, 13, 21, 34, 55, 89]"
            ]
          },
          "metadata": {},
          "execution_count": 7
        }
      ]
    },
    {
      "cell_type": "markdown",
      "source": [
        "**DİKKAT:**<br>\n",
        "Bu while döngüsünde sayaç kullanmadık; farkettiniz mi?<br>\n",
        "Sayaç bizzat listenin eleman sayısıydı..."
      ],
      "metadata": {
        "id": "jS1pNTpKG_1K"
      }
    },
    {
      "cell_type": "markdown",
      "source": [
        "#  <br><br><br>**HAFTA 5**<br><br><br>"
      ],
      "metadata": {
        "id": "lJFLsXiyWY8V"
      }
    },
    {
      "cell_type": "markdown",
      "source": [
        "## **Koşullu ifadeler:**<br>\n",
        "- **if (..... ise .....)**,\n",
        "- **elif (..... değil ancak; ..... ise .....)**,\n",
        "- **else (bu koşulların hiçbiri değil ise .....)**<br><br>\n",
        "\n",
        "Döngüleri işledik. While döngülerinin belirli bir önerme doğru olduğu sürece çalışan bir yapı olduğundan bahsettik.<br><br>\n",
        "Koşullu ifadeler ile for döngülerini de while döngülerinin bu özelliği ile güçlendirmek gibi çok çeşitli faydalar sunan koşullu önerme süzgeçlerini bu derste tanıyacağız.<br><br>\n",
        "\"***if + önerme + :***\" koşullu ifadesi kendisinden sonraki işlemin ancak ve ancak if'i takip eden önerme doğru ise işletilmesini sağlar.<br><br>\n",
        "***elif + önerme + :*** koşullu ifadesi ise if'i takip eden ilk önerme doğru olmadığında ikinci bir süzgeç olarak devreye girer.<br>if'i takip eden önerme yanlış ve elif'i takip eden önerme doğru olduğunda kendisinden sonraki işlemin işletilmesini sağlar.<br><br>\n",
        "***else + :*** koşullu ifadesi ise kendisinden önce if'i ve tüm elif'leri takip eden önermeler yanlış olduğunda devreye girer ve kendisinden sonraki işlem bu halde işletilmesini sağlar."
      ],
      "metadata": {
        "id": "ldDFLgdvYQsO"
      }
    },
    {
      "cell_type": "code",
      "source": [
        "#  if koşullu ifadesinin bir örnek kullanımı\n",
        "\n",
        "#  rakalar içerisinde çift olanların yazdırılması\n",
        "for i in range(0,9+1,1):\n",
        "  if i%2 == 0:\n",
        "    print(i)"
      ],
      "metadata": {
        "id": "oSwPaC6rG3Jq",
        "colab": {
          "base_uri": "https://localhost:8080/"
        },
        "outputId": "e8c06c99-65dc-456d-945b-fb5c393c470f"
      },
      "execution_count": null,
      "outputs": [
        {
          "output_type": "stream",
          "name": "stdout",
          "text": [
            "0\n",
            "2\n",
            "4\n",
            "6\n",
            "8\n"
          ]
        }
      ]
    },
    {
      "cell_type": "code",
      "source": [
        "#  if ve elif ifadelerinin beraber kullanımı\n",
        "\n",
        "#  birden 30'a kadar sayıları tek veya çift olarak ayırmak\n",
        "tek = list()\n",
        "çift = list()\n",
        "\n",
        "for i in range(1,30+1,1):\n",
        "  if i%2 == 0:\n",
        "    çift.append(i)\n",
        "  elif i%2 > 0:\n",
        "    tek.append(i)\n",
        "\n",
        "print(\n",
        "    'tek =: ', tek\n",
        ")\n",
        "print(\n",
        "    'çift =: ', çift\n",
        ")"
      ],
      "metadata": {
        "colab": {
          "base_uri": "https://localhost:8080/"
        },
        "id": "ob5PBiX_g1jo",
        "outputId": "f721d8e3-4b1d-4b40-c3e0-e11002ebe8e2"
      },
      "execution_count": null,
      "outputs": [
        {
          "output_type": "stream",
          "name": "stdout",
          "text": [
            "tek =:  [1, 3, 5, 7, 9, 11, 13, 15, 17, 19, 21, 23, 25, 27, 29]\n",
            "çift =:  [2, 4, 6, 8, 10, 12, 14, 16, 18, 20, 22, 24, 26, 28, 30]\n"
          ]
        }
      ]
    },
    {
      "cell_type": "code",
      "source": [
        "#  if, elif ve else ifadelerinin beraber kullanımı\n",
        "\n",
        "#    0'dan 100'e kadar olan asal sayıların sayısının bulunması\n",
        "asal = list()\n",
        "\n",
        "for i in range(0,100+1,1):\n",
        "  \n",
        "  #  en küçük asal sayı 2 olduğu için daha küçük değerleri incelemiyoruz\n",
        "  if i < 2:\n",
        "    continue\n",
        "  #  ilk asal sayımız 2\n",
        "  elif i == 2:\n",
        "    asal.append(i)\n",
        "  #  ikiden büyük sayılarda 1'den büyük kendisinden küçük tam bölen sayısına bakarız\n",
        "  elif i > 2:\n",
        "    #  tam bölen sayısı\n",
        "    k = 0\n",
        "    for j in range(2,i,1):\n",
        "      if i % j == 0:\n",
        "        k += 1\n",
        "\n",
        "    #  tam böleni yoksa asaldır    \n",
        "    if k == 0:\n",
        "      asal.append(i)\n",
        "\n",
        "    #  hafıza (ram) tasarrufu yapalım, artık k'ya ihtiyacımız yok.\n",
        "    del k\n",
        "\n",
        "len(asal)"
      ],
      "metadata": {
        "colab": {
          "base_uri": "https://localhost:8080/"
        },
        "id": "5hInWMXa8D87",
        "outputId": "b9728ce2-efac-4e2d-a4c4-c63ebc2d339e"
      },
      "execution_count": null,
      "outputs": [
        {
          "output_type": "execute_result",
          "data": {
            "text/plain": [
              "25"
            ]
          },
          "metadata": {},
          "execution_count": 14
        }
      ]
    },
    {
      "cell_type": "markdown",
      "source": [
        "#  <br><br><br>**HAFTA 6**<br><br><br>"
      ],
      "metadata": {
        "id": "EBVhTZoV-a3j"
      }
    },
    {
      "cell_type": "markdown",
      "source": [
        "## **Gruplayıcı Python Nesnelerini İçlem Yöntemi ile Oluşturma:**<br>\n",
        "- **List comprehension (Liste İçlemi)**,\n",
        "- **Dictionar Comprehension (Sözlük İçlemi)**<br><br>\n"
      ],
      "metadata": {
        "id": "NOMYZfH9-c1t"
      }
    },
    {
      "cell_type": "markdown",
      "source": [
        "**İçlem** yöntemi, çeşitli gruplayıcı Python nesnelerinin (demet, liste, sözlük, numpy dizisi) tek satırlık bir kod içinde yaratılmasıdır."
      ],
      "metadata": {
        "id": "guOBEUbv_byQ"
      }
    },
    {
      "cell_type": "code",
      "source": [
        "#  Bir listeyi içlemle oluşturalım\n",
        "\n",
        "rakamlar = [üye for üye in range(0,9+1,1)]\n",
        "rakamlar"
      ],
      "metadata": {
        "colab": {
          "base_uri": "https://localhost:8080/"
        },
        "id": "DyTFxTLj-Z5Q",
        "outputId": "918f39c2-7b09-4e24-f118-053d6c1195c8"
      },
      "execution_count": null,
      "outputs": [
        {
          "output_type": "execute_result",
          "data": {
            "text/plain": [
              "[0, 1, 2, 3, 4, 5, 6, 7, 8, 9]"
            ]
          },
          "metadata": {},
          "execution_count": 10
        }
      ]
    },
    {
      "cell_type": "markdown",
      "source": [
        "Bir gruplayıcıyı içlemle oluştururken kod içine **\"if\"** koşullu ifadesi yardımıyla filtreler konulabilir."
      ],
      "metadata": {
        "id": "w2-wJPqhBxjR"
      }
    },
    {
      "cell_type": "code",
      "source": [
        "#  Çift rakamların bir listesini oluşturalım\n",
        "\n",
        "çift_rakamlar = [üye for üye in range(0,9+1,1) if üye % 2 == 0]\n",
        "çift_rakamlar"
      ],
      "metadata": {
        "colab": {
          "base_uri": "https://localhost:8080/"
        },
        "id": "bERF3lHdBv0i",
        "outputId": "595d0a52-c25e-4b1c-f624-ee3acaffe525"
      },
      "execution_count": null,
      "outputs": [
        {
          "output_type": "execute_result",
          "data": {
            "text/plain": [
              "[0, 2, 4, 6, 8]"
            ]
          },
          "metadata": {},
          "execution_count": 11
        }
      ]
    },
    {
      "cell_type": "markdown",
      "source": [
        "Aslında biz içlemle ürettiğimiz gruplayıcıları bir değişkene atamak zorunda da değiliz."
      ],
      "metadata": {
        "id": "sFoVvxRFCfEJ"
      }
    },
    {
      "cell_type": "code",
      "source": [
        "#  Rakamlar alt kümesinden bir alt küme çıkardık: Tek Rakamlar\n",
        "\n",
        "[üye for üye in rakamlar if üye % 2 != 0] "
      ],
      "metadata": {
        "colab": {
          "base_uri": "https://localhost:8080/"
        },
        "id": "7wPzV0tFCYZQ",
        "outputId": "3d6759dc-b425-432f-8b87-916ee3d62225"
      },
      "execution_count": null,
      "outputs": [
        {
          "output_type": "execute_result",
          "data": {
            "text/plain": [
              "[1, 3, 5, 7, 9]"
            ]
          },
          "metadata": {},
          "execution_count": 12
        }
      ]
    },
    {
      "cell_type": "markdown",
      "source": [
        "<br><br>\" ***Zaten elimde var olan bir gruplayıcının içinden işlem yapmak istediğim bir alt kümesini filtreledim ve bu hücre işletildikten sonra hafızadan silinecek bir gruplayıcıyı oluşturdum.*** \"<br><br>\n",
        "\n",
        "Elimizdeki bir veri bankasından belirli bir alt küme için işlemler yapmak istediğimizde - *örneğin; Gazi Üniversitesi'nin tüm öğrencilerine ait bir veri bankası içerisinden İşletme bölümü öğrencilerini süzerken* - içlemlerle türetilmiş geçici gruplayıcılar hız ve hafıza yönetimi bakımından son derece kullanışlıdır.<br><br>"
      ],
      "metadata": {
        "id": "qodP5BFCDuPI"
      }
    },
    {
      "cell_type": "code",
      "source": [
        "#  Hadi bir de sözlük içlemi yapalım\n",
        "\n",
        "{anahtar: değer for (anahtar,değer) in zip(range(0,9+1,1), ['Sıfır','Bir','İki','Üç','Dört','Beş','Altı','Yedi','Sekiz','Dokuz'])}"
      ],
      "metadata": {
        "colab": {
          "base_uri": "https://localhost:8080/"
        },
        "id": "RytvcC6pNbwO",
        "outputId": "8cc746ca-34ed-4563-bdb0-49affede7a7d"
      },
      "execution_count": null,
      "outputs": [
        {
          "output_type": "execute_result",
          "data": {
            "text/plain": [
              "{0: 'Sıfır',\n",
              " 1: 'Bir',\n",
              " 2: 'İki',\n",
              " 3: 'Üç',\n",
              " 4: 'Dört',\n",
              " 5: 'Beş',\n",
              " 6: 'Altı',\n",
              " 7: 'Yedi',\n",
              " 8: 'Sekiz',\n",
              " 9: 'Dokuz'}"
            ]
          },
          "metadata": {},
          "execution_count": 13
        }
      ]
    },
    {
      "cell_type": "code",
      "source": [
        "#  Eğer anahtarlarımız listelerde indisler gibi işleyecekse sözlük içlemini böyle de yazabiliriz\n",
        "\n",
        "değer = ['Sıfır','Bir','İki','Üç','Dört','Beş','Altı','Yedi','Sekiz','Dokuz']\n",
        "\n",
        "{i:değer[i] for i in range(len(değer))}"
      ],
      "metadata": {
        "colab": {
          "base_uri": "https://localhost:8080/"
        },
        "id": "lb401bBSgZ9a",
        "outputId": "93a0ca84-b0b6-488b-ca3d-7c2d64b15739"
      },
      "execution_count": null,
      "outputs": [
        {
          "output_type": "execute_result",
          "data": {
            "text/plain": [
              "{0: 'Sıfır',\n",
              " 1: 'Bir',\n",
              " 2: 'İki',\n",
              " 3: 'Üç',\n",
              " 4: 'Dört',\n",
              " 5: 'Beş',\n",
              " 6: 'Altı',\n",
              " 7: 'Yedi',\n",
              " 8: 'Sekiz',\n",
              " 9: 'Dokuz'}"
            ]
          },
          "metadata": {},
          "execution_count": 14
        }
      ]
    },
    {
      "cell_type": "code",
      "source": [
        "#  Hadi bir de filtre uygulayalım\n",
        "\n",
        "{i:değer[i] for i in range(len(değer)) if i % 2 == 0}"
      ],
      "metadata": {
        "colab": {
          "base_uri": "https://localhost:8080/"
        },
        "id": "nJ8ZHl2Eg8rd",
        "outputId": "899b2707-aa7e-4cbb-98a9-d24ffbc3d598"
      },
      "execution_count": null,
      "outputs": [
        {
          "output_type": "execute_result",
          "data": {
            "text/plain": [
              "{0: 'Sıfır', 2: 'İki', 4: 'Dört', 6: 'Altı', 8: 'Sekiz'}"
            ]
          },
          "metadata": {},
          "execution_count": 15
        }
      ]
    },
    {
      "cell_type": "code",
      "source": [
        "asal = list()\n",
        "\n",
        "i = 0\n",
        "\n",
        "while i < 100:\n",
        "\n",
        "  while i == 2:\n",
        "    asal.append(i)\n",
        "    break\n",
        "\n",
        "  while i > 2:\n",
        "    k = 0\n",
        "    j = 0\n",
        "    while j in range(len(asal)):\n",
        "      k += (i % asal[j] == 0)\n",
        "      j += 1\n",
        "    while k == 0:\n",
        "      asal.append(i)\n",
        "      break\n",
        "    break\n",
        "  i += 1\n",
        "\n",
        "asal"
      ],
      "metadata": {
        "id": "7kDip3kJhvBh",
        "outputId": "a9b8c752-9475-4be9-e6a3-4062b78a73e8",
        "colab": {
          "base_uri": "https://localhost:8080/"
        }
      },
      "execution_count": null,
      "outputs": [
        {
          "output_type": "execute_result",
          "data": {
            "text/plain": [
              "[2,\n",
              " 3,\n",
              " 5,\n",
              " 7,\n",
              " 11,\n",
              " 13,\n",
              " 17,\n",
              " 19,\n",
              " 23,\n",
              " 29,\n",
              " 31,\n",
              " 37,\n",
              " 41,\n",
              " 43,\n",
              " 47,\n",
              " 53,\n",
              " 59,\n",
              " 61,\n",
              " 67,\n",
              " 71,\n",
              " 73,\n",
              " 79,\n",
              " 83,\n",
              " 89,\n",
              " 97]"
            ]
          },
          "metadata": {},
          "execution_count": 6
        }
      ]
    },
    {
      "cell_type": "code",
      "source": [
        "from google.colab import drive\n",
        "drive.mount('/drive')\n",
        "\n",
        "import pandas as pd\n",
        "\n",
        "df = pd.read_excel('/drive/MyDrive/Proctor/2223F.xlsx',sheet_name='LİSTE')\n",
        "df.columns = [i for i in pd.read_excel('/drive/MyDrive/Proctor/2223F.xlsx',sheet_name='LİSTE').columns]\n",
        "\n",
        "df.sample(frac=1).head(30)"
      ],
      "metadata": {
        "id": "NJT9-eJF-AyI",
        "outputId": "95011d4e-7c0d-4c0f-d129-eecfee056102",
        "colab": {
          "base_uri": "https://localhost:8080/",
          "height": 1000
        }
      },
      "execution_count": null,
      "outputs": [
        {
          "output_type": "stream",
          "name": "stdout",
          "text": [
            "Drive already mounted at /drive; to attempt to forcibly remount, call drive.mount(\"/drive\", force_remount=True).\n"
          ]
        },
        {
          "output_type": "stream",
          "name": "stderr",
          "text": [
            "/usr/local/lib/python3.9/dist-packages/openpyxl/worksheet/_reader.py:312: UserWarning: Unknown extension is not supported and will be removed\n",
            "  warn(msg)\n",
            "/usr/local/lib/python3.9/dist-packages/openpyxl/worksheet/_reader.py:312: UserWarning: Unknown extension is not supported and will be removed\n",
            "  warn(msg)\n"
          ]
        },
        {
          "output_type": "execute_result",
          "data": {
            "text/plain": [
              "         KOD                                         ADI  SINIF  YARIYIL  \\\n",
              "274  EKON301                                EKONOMETRİ I      3        5   \n",
              "161  IKTI403                           TÜRKİYE EKONOMİSİ      4        7   \n",
              "453  IKTI205                               MİKRO İKTİSAT      2        3   \n",
              "131  ENFO101  INFORMATION AND COMMUNICATION TECHNOLOGIES      1        1   \n",
              "280  UTIC401              DIŞ TİCARET VE GÜMRÜK MEVZUATI      4        7   \n",
              "254  ISLE421                         SAYISAL YÖNTEMLER I      4        7   \n",
              "275  EKON315                    NİTEL VERİ ANALİZİ (SEÇ)      3        5   \n",
              "278  EKON107                                  İSTATİSTİK      1        1   \n",
              "301  ISLE202                        TİCARET HUKUKU (SEÇ)      3        5   \n",
              "102  EKON411                       PROJE DEĞERLEME (SEÇ)      4        7   \n",
              "338  KAMU207                                İDARE HUKUKU      2        3   \n",
              "37   ULUS323          ULUSLARARASI İLİŞKİLER TEORİLERİ I      3        5   \n",
              "227  EKON107               İSTATİSTİK VE OLASILIĞA GİRİŞ      2        3   \n",
              "410  IKTI403                     TÜRKİYE EKONOMİSİ (SEÇ)      4        7   \n",
              "445  KAMU313                       YÖNETİM VE ETİK (SEÇ)      3        5   \n",
              "500  CALI337                         ENDÜSTRİ İLİŞKİLERİ      3        5   \n",
              "285  ENFO101           BİLİŞİM VE İLETİŞİM TEKNOLOJİLERİ      1        1   \n",
              "189  MALI405                     MALİYE POLİTİKASI (SEÇ)      3        5   \n",
              "439  ISLE205                          FİNANSAL YÖNETİM I      2        3   \n",
              "152  BUAD305                    OPERATIONS MANAGEMENT II      3        5   \n",
              "372  MALI315             GELİR ÜZERİNDEN ALINAN VERGİLER      3        5   \n",
              "40   BUAD421                      QUANTITATIVE METHODS I      4        7   \n",
              "222  MALI103                         KAMU MALİYESİ (SEÇ)      2        3   \n",
              "485  EKON101             İSTATİSTİK VE OLASILIĞA GİRİŞ I      2        3   \n",
              "292    IR443                          FOREIGN LANGUAGE I      4        7   \n",
              "464  CALI203             ÇALIŞMA İLİŞKİLERİ TARİHİ (SEÇ)      2        3   \n",
              "515  SAKI213     SAĞLIK İŞLETMELERİNDE ÖRGÜTSEL DAVRANIŞ      2        3   \n",
              "284  KAMU101                    HUKUKUN TEMEL KAVRAMLARI      1        1   \n",
              "211  MALI301                              DEVLET BÜTÇESİ      3        5   \n",
              "115    IR217               STATE AND GLOBALIZATION (OPT)      2        3   \n",
              "\n",
              "     ŞUBE  KREDİ DERS TURU                    ÖĞRETİM ÜYESİ  \\\n",
              "274     2      3   ZORUNLU  DR.ÖĞR.ÜYESİ YAĞMUR TOKATLIOĞLU   \n",
              "161     1      3   ZORUNLU               DOÇ.DR.UMUT ÇAKMAK   \n",
              "453     1      3   ZORUNLU            PROF.DR.MÜSLÜME NARİN   \n",
              "131     1      1   ZORUNLU      DOÇ.DR.MUHAMMED HANEFİ CALP   \n",
              "280     1      3   ZORUNLU                  ERDAL KARAHİSAR   \n",
              "254     3      3   ZORUNLU    DR.ÖĞR.ÜYESİ ÖZGE DİNÇ CAVLAK   \n",
              "275     1      3   SEÇMELİ  DR.ÖĞR.ÜYESİ YAĞMUR TOKATLIOĞLU   \n",
              "278     3      3   ZORUNLU  DR.ÖĞR.ÜYESİ YAĞMUR TOKATLIOĞLU   \n",
              "301     1      3   SEÇMELİ            ÖĞR.GÖR.HASAN OCAKTAN   \n",
              "102     1      3   SEÇMELİ                DOÇ.DR.HASAN TÜRE   \n",
              "338     1      3   ZORUNLU        PROF.DR.BAHTİYAR AKYILMAZ   \n",
              "37      1      3   ZORUNLU     ARŞ.GÖR.DR.KADİR ERTAÇ ÇELİK   \n",
              "227     1      3   ZORUNLU         DR.ÖĞR.ÜYESİ KÜBRA COŞAR   \n",
              "410     1      3   SEÇMELİ      PROF.DR.İBRAHİM TOKATLIOĞLU   \n",
              "445     1      3   SEÇMELİ           PROF.DR.MURAT AKÇAKAYA   \n",
              "500     2      3   ZORUNLU          PROF.DR.TÜRKER TOPALHAN   \n",
              "285     1      1   ZORUNLU            ÖĞR.GÖR.A.AZİZ YILDIZ   \n",
              "189     1      3   SEÇMELİ     DR.ÖĞR.ÜYESİ BİLGEN TAŞDOĞAN   \n",
              "439     1      3   ZORUNLU        PROF.DR.METİN KAMİL ERCAN   \n",
              "152     1      3   ZORUNLU              DOÇ.DR.SEDAT BELBAĞ   \n",
              "372     2      3   ZORUNLU          PROF.DR.FATİH SARAÇOĞLU   \n",
              "40      1      3   ZORUNLU  ARŞ.GÖR.DR.MUSTAFA MEHMET BAYAR   \n",
              "222     1      3   SEÇMELİ        DR.ÖĞR.ÜYESİ İSMAİL ENGİN   \n",
              "485     1      3   ZORUNLU               PROF.DR.SİBEL ATAN   \n",
              "292     1      3   ZORUNLU    ÖĞR.GÖR.DR.BÜŞRA ÖZER ERDOĞAN   \n",
              "464     1      3   SEÇMELİ             PROF.DR.OSMAN ŞİMŞEK   \n",
              "515     1      3   SEÇMELİ             PROF.DR.ZEKAİ ÖZTÜRK   \n",
              "284     1      3   ZORUNLU         ÖĞR. GÖR.DR.GÖKHAN ÖLMEZ   \n",
              "211     3      3   ZORUNLU  DR.ÖĞR.ÜYESİ HAYDAR LÜTFÜ EJDER   \n",
              "115     1      3   SEÇMELİ              DOÇ.DR.KÜRŞAD TURAN   \n",
              "\n",
              "                                        BÖLÜM  Kontenjan Vize Tarih Vize Saat  \\\n",
              "274                                EKONOMETRİ          5 2022-11-09     18:30   \n",
              "161                                    MALİYE         22 2022-11-08     16:30   \n",
              "453                                EKONOMETRİ         27 2022-11-12     09:30   \n",
              "131                       İŞLETME (İNGİLİZCE)         62 2022-11-10     11:30   \n",
              "280         ULUSLARARASI TİCARET VE FİNANSMAN         60 2022-11-13     17:30   \n",
              "254                          İŞLETME (TÜRKÇE)          2 2022-11-09     16:30   \n",
              "275                                EKONOMETRİ         59 2022-11-07     15:30   \n",
              "278                          İŞLETME (TÜRKÇE)         58 2022-11-10     16:30   \n",
              "301  SİYASET BİLİMİ VE KAMU YÖNETİMİ (TÜRKÇE)         50 2022-11-05     18:30   \n",
              "102                                EKONOMETRİ         70 2022-11-13     11:30   \n",
              "338  SİYASET BİLİMİ VE KAMU YÖNETİMİ (TÜRKÇE)         68 2022-11-08     09:30   \n",
              "37            ULUSLARARASI İLİŞKİLER (TÜRKÇE)         44 2022-11-11     12:30   \n",
              "227  ÇALIŞMA EKONOMİSİ VE ENDÜSTRİ İLİŞKİLERİ         33 2022-11-11     19:30   \n",
              "410                                EKONOMETRİ         53 2022-11-11     17:30   \n",
              "445  SİYASET BİLİMİ VE KAMU YÖNETİMİ (TÜRKÇE)         59 2022-11-05     16:30   \n",
              "500  ÇALIŞMA EKONOMİSİ VE ENDÜSTRİ İLİŞKİLERİ         60 2022-11-12     09:30   \n",
              "285                           SAĞLIK YÖNETİMİ          6 2022-11-11     08:30   \n",
              "189  SİYASET BİLİMİ VE KAMU YÖNETİMİ (TÜRKÇE)         78 2022-11-12     10:30   \n",
              "439                          İŞLETME (TÜRKÇE)         84 2022-11-08     15:30   \n",
              "152                       İŞLETME (İNGİLİZCE)         39 2022-11-07     09:30   \n",
              "372                                    MALİYE          4 2022-11-11     17:30   \n",
              "40                        İŞLETME (İNGİLİZCE)         61 2022-11-06     15:30   \n",
              "222                          İŞLETME (TÜRKÇE)         59 2022-11-10     11:30   \n",
              "485                                   İKTİSAT         61 2022-11-05     10:30   \n",
              "292        ULUSLARARASI İLİŞKİLER (İNGİLİZCE)         71 2022-11-11     11:30   \n",
              "464  ÇALIŞMA EKONOMİSİ VE ENDÜSTRİ İLİŞKİLERİ          1 2022-11-12     12:30   \n",
              "515                           SAĞLIK YÖNETİMİ         40 2022-11-09     11:30   \n",
              "284                                   İKTİSAT         32 2022-11-09     14:30   \n",
              "211                                    MALİYE         24 2022-11-13     18:30   \n",
              "115        ULUSLARARASI İLİŞKİLER (İNGİLİZCE)         53 2022-11-08     14:30   \n",
              "\n",
              "    Derslik 1 Derslik 2 Derslik 3 Derslik 4  SINAV SÜRESİ  LAB  Unnamed: 18  \n",
              "274  B AMFİ 2       NaN       NaN       NaN           NaN  NaN            0  \n",
              "161  B AMFİ 2       NaN       NaN       NaN           NaN  NaN            0  \n",
              "453       301       NaN       NaN       NaN          50.0  NaN            0  \n",
              "131       408       NaN       NaN       NaN           NaN  NaN            0  \n",
              "280       305       NaN       NaN       NaN          45.0  NaN            0  \n",
              "254  B AMFİ 2       NaN       NaN       NaN          50.0  NaN            0  \n",
              "275     B 202     B 203       NaN       NaN           NaN  NaN            0  \n",
              "278     B 103     B 104       NaN       NaN           NaN  NaN            0  \n",
              "301       406       NaN       NaN       NaN          30.0  NaN            0  \n",
              "102       402       NaN       NaN       NaN           NaN  NaN            0  \n",
              "338       203       204       NaN       NaN           NaN  NaN            0  \n",
              "37        406       NaN       NaN       NaN           NaN  NaN            0  \n",
              "227       406       NaN       NaN       NaN           NaN  NaN            0  \n",
              "410       408       NaN       NaN       NaN           NaN  NaN            0  \n",
              "445  B AMFİ 1       NaN       NaN       NaN           NaN  NaN            0  \n",
              "500       305       NaN       NaN       NaN          50.0  NaN            0  \n",
              "285  B AMFİ 2       NaN       NaN       NaN           NaN  NaN            0  \n",
              "189     B 104     B 105       NaN       NaN          70.0  NaN            0  \n",
              "439  B AMFİ 5  B AMFİ 6       NaN       NaN          50.0  NaN            0  \n",
              "152     B 105       NaN       NaN       NaN          40.0  NaN            0  \n",
              "372       206       NaN       NaN       NaN          45.0  NaN            0  \n",
              "40        305       NaN       NaN       NaN         100.0    1            1  \n",
              "222       301       303       NaN       NaN         100.0  NaN            0  \n",
              "485     B 203     B 204       NaN       NaN           NaN  NaN            0  \n",
              "292     B 202     B 203       NaN       NaN           NaN  NaN            0  \n",
              "464  B AMFİ 2       NaN       NaN       NaN          60.0  NaN            0  \n",
              "515     B 405       NaN       NaN       NaN           NaN  NaN            0  \n",
              "284       204       NaN       NaN       NaN           NaN  NaN            0  \n",
              "211  B AMFİ 3       NaN       NaN       NaN           NaN  NaN            0  \n",
              "115  B AMFİ 1       NaN       NaN       NaN           NaN  NaN            0  "
            ],
            "text/html": [
              "\n",
              "  <div id=\"df-c7945aa0-af2c-43b8-980e-6258b8039482\">\n",
              "    <div class=\"colab-df-container\">\n",
              "      <div>\n",
              "<style scoped>\n",
              "    .dataframe tbody tr th:only-of-type {\n",
              "        vertical-align: middle;\n",
              "    }\n",
              "\n",
              "    .dataframe tbody tr th {\n",
              "        vertical-align: top;\n",
              "    }\n",
              "\n",
              "    .dataframe thead th {\n",
              "        text-align: right;\n",
              "    }\n",
              "</style>\n",
              "<table border=\"1\" class=\"dataframe\">\n",
              "  <thead>\n",
              "    <tr style=\"text-align: right;\">\n",
              "      <th></th>\n",
              "      <th>KOD</th>\n",
              "      <th>ADI</th>\n",
              "      <th>SINIF</th>\n",
              "      <th>YARIYIL</th>\n",
              "      <th>ŞUBE</th>\n",
              "      <th>KREDİ</th>\n",
              "      <th>DERS TURU</th>\n",
              "      <th>ÖĞRETİM ÜYESİ</th>\n",
              "      <th>BÖLÜM</th>\n",
              "      <th>Kontenjan</th>\n",
              "      <th>Vize Tarih</th>\n",
              "      <th>Vize Saat</th>\n",
              "      <th>Derslik 1</th>\n",
              "      <th>Derslik 2</th>\n",
              "      <th>Derslik 3</th>\n",
              "      <th>Derslik 4</th>\n",
              "      <th>SINAV SÜRESİ</th>\n",
              "      <th>LAB</th>\n",
              "      <th>Unnamed: 18</th>\n",
              "    </tr>\n",
              "  </thead>\n",
              "  <tbody>\n",
              "    <tr>\n",
              "      <th>274</th>\n",
              "      <td>EKON301</td>\n",
              "      <td>EKONOMETRİ I</td>\n",
              "      <td>3</td>\n",
              "      <td>5</td>\n",
              "      <td>2</td>\n",
              "      <td>3</td>\n",
              "      <td>ZORUNLU</td>\n",
              "      <td>DR.ÖĞR.ÜYESİ YAĞMUR TOKATLIOĞLU</td>\n",
              "      <td>EKONOMETRİ</td>\n",
              "      <td>5</td>\n",
              "      <td>2022-11-09</td>\n",
              "      <td>18:30</td>\n",
              "      <td>B AMFİ 2</td>\n",
              "      <td>NaN</td>\n",
              "      <td>NaN</td>\n",
              "      <td>NaN</td>\n",
              "      <td>NaN</td>\n",
              "      <td>NaN</td>\n",
              "      <td>0</td>\n",
              "    </tr>\n",
              "    <tr>\n",
              "      <th>161</th>\n",
              "      <td>IKTI403</td>\n",
              "      <td>TÜRKİYE EKONOMİSİ</td>\n",
              "      <td>4</td>\n",
              "      <td>7</td>\n",
              "      <td>1</td>\n",
              "      <td>3</td>\n",
              "      <td>ZORUNLU</td>\n",
              "      <td>DOÇ.DR.UMUT ÇAKMAK</td>\n",
              "      <td>MALİYE</td>\n",
              "      <td>22</td>\n",
              "      <td>2022-11-08</td>\n",
              "      <td>16:30</td>\n",
              "      <td>B AMFİ 2</td>\n",
              "      <td>NaN</td>\n",
              "      <td>NaN</td>\n",
              "      <td>NaN</td>\n",
              "      <td>NaN</td>\n",
              "      <td>NaN</td>\n",
              "      <td>0</td>\n",
              "    </tr>\n",
              "    <tr>\n",
              "      <th>453</th>\n",
              "      <td>IKTI205</td>\n",
              "      <td>MİKRO İKTİSAT</td>\n",
              "      <td>2</td>\n",
              "      <td>3</td>\n",
              "      <td>1</td>\n",
              "      <td>3</td>\n",
              "      <td>ZORUNLU</td>\n",
              "      <td>PROF.DR.MÜSLÜME NARİN</td>\n",
              "      <td>EKONOMETRİ</td>\n",
              "      <td>27</td>\n",
              "      <td>2022-11-12</td>\n",
              "      <td>09:30</td>\n",
              "      <td>301</td>\n",
              "      <td>NaN</td>\n",
              "      <td>NaN</td>\n",
              "      <td>NaN</td>\n",
              "      <td>50.0</td>\n",
              "      <td>NaN</td>\n",
              "      <td>0</td>\n",
              "    </tr>\n",
              "    <tr>\n",
              "      <th>131</th>\n",
              "      <td>ENFO101</td>\n",
              "      <td>INFORMATION AND COMMUNICATION TECHNOLOGIES</td>\n",
              "      <td>1</td>\n",
              "      <td>1</td>\n",
              "      <td>1</td>\n",
              "      <td>1</td>\n",
              "      <td>ZORUNLU</td>\n",
              "      <td>DOÇ.DR.MUHAMMED HANEFİ CALP</td>\n",
              "      <td>İŞLETME (İNGİLİZCE)</td>\n",
              "      <td>62</td>\n",
              "      <td>2022-11-10</td>\n",
              "      <td>11:30</td>\n",
              "      <td>408</td>\n",
              "      <td>NaN</td>\n",
              "      <td>NaN</td>\n",
              "      <td>NaN</td>\n",
              "      <td>NaN</td>\n",
              "      <td>NaN</td>\n",
              "      <td>0</td>\n",
              "    </tr>\n",
              "    <tr>\n",
              "      <th>280</th>\n",
              "      <td>UTIC401</td>\n",
              "      <td>DIŞ TİCARET VE GÜMRÜK MEVZUATI</td>\n",
              "      <td>4</td>\n",
              "      <td>7</td>\n",
              "      <td>1</td>\n",
              "      <td>3</td>\n",
              "      <td>ZORUNLU</td>\n",
              "      <td>ERDAL KARAHİSAR</td>\n",
              "      <td>ULUSLARARASI TİCARET VE FİNANSMAN</td>\n",
              "      <td>60</td>\n",
              "      <td>2022-11-13</td>\n",
              "      <td>17:30</td>\n",
              "      <td>305</td>\n",
              "      <td>NaN</td>\n",
              "      <td>NaN</td>\n",
              "      <td>NaN</td>\n",
              "      <td>45.0</td>\n",
              "      <td>NaN</td>\n",
              "      <td>0</td>\n",
              "    </tr>\n",
              "    <tr>\n",
              "      <th>254</th>\n",
              "      <td>ISLE421</td>\n",
              "      <td>SAYISAL YÖNTEMLER I</td>\n",
              "      <td>4</td>\n",
              "      <td>7</td>\n",
              "      <td>3</td>\n",
              "      <td>3</td>\n",
              "      <td>ZORUNLU</td>\n",
              "      <td>DR.ÖĞR.ÜYESİ ÖZGE DİNÇ CAVLAK</td>\n",
              "      <td>İŞLETME (TÜRKÇE)</td>\n",
              "      <td>2</td>\n",
              "      <td>2022-11-09</td>\n",
              "      <td>16:30</td>\n",
              "      <td>B AMFİ 2</td>\n",
              "      <td>NaN</td>\n",
              "      <td>NaN</td>\n",
              "      <td>NaN</td>\n",
              "      <td>50.0</td>\n",
              "      <td>NaN</td>\n",
              "      <td>0</td>\n",
              "    </tr>\n",
              "    <tr>\n",
              "      <th>275</th>\n",
              "      <td>EKON315</td>\n",
              "      <td>NİTEL VERİ ANALİZİ (SEÇ)</td>\n",
              "      <td>3</td>\n",
              "      <td>5</td>\n",
              "      <td>1</td>\n",
              "      <td>3</td>\n",
              "      <td>SEÇMELİ</td>\n",
              "      <td>DR.ÖĞR.ÜYESİ YAĞMUR TOKATLIOĞLU</td>\n",
              "      <td>EKONOMETRİ</td>\n",
              "      <td>59</td>\n",
              "      <td>2022-11-07</td>\n",
              "      <td>15:30</td>\n",
              "      <td>B 202</td>\n",
              "      <td>B 203</td>\n",
              "      <td>NaN</td>\n",
              "      <td>NaN</td>\n",
              "      <td>NaN</td>\n",
              "      <td>NaN</td>\n",
              "      <td>0</td>\n",
              "    </tr>\n",
              "    <tr>\n",
              "      <th>278</th>\n",
              "      <td>EKON107</td>\n",
              "      <td>İSTATİSTİK</td>\n",
              "      <td>1</td>\n",
              "      <td>1</td>\n",
              "      <td>3</td>\n",
              "      <td>3</td>\n",
              "      <td>ZORUNLU</td>\n",
              "      <td>DR.ÖĞR.ÜYESİ YAĞMUR TOKATLIOĞLU</td>\n",
              "      <td>İŞLETME (TÜRKÇE)</td>\n",
              "      <td>58</td>\n",
              "      <td>2022-11-10</td>\n",
              "      <td>16:30</td>\n",
              "      <td>B 103</td>\n",
              "      <td>B 104</td>\n",
              "      <td>NaN</td>\n",
              "      <td>NaN</td>\n",
              "      <td>NaN</td>\n",
              "      <td>NaN</td>\n",
              "      <td>0</td>\n",
              "    </tr>\n",
              "    <tr>\n",
              "      <th>301</th>\n",
              "      <td>ISLE202</td>\n",
              "      <td>TİCARET HUKUKU (SEÇ)</td>\n",
              "      <td>3</td>\n",
              "      <td>5</td>\n",
              "      <td>1</td>\n",
              "      <td>3</td>\n",
              "      <td>SEÇMELİ</td>\n",
              "      <td>ÖĞR.GÖR.HASAN OCAKTAN</td>\n",
              "      <td>SİYASET BİLİMİ VE KAMU YÖNETİMİ (TÜRKÇE)</td>\n",
              "      <td>50</td>\n",
              "      <td>2022-11-05</td>\n",
              "      <td>18:30</td>\n",
              "      <td>406</td>\n",
              "      <td>NaN</td>\n",
              "      <td>NaN</td>\n",
              "      <td>NaN</td>\n",
              "      <td>30.0</td>\n",
              "      <td>NaN</td>\n",
              "      <td>0</td>\n",
              "    </tr>\n",
              "    <tr>\n",
              "      <th>102</th>\n",
              "      <td>EKON411</td>\n",
              "      <td>PROJE DEĞERLEME (SEÇ)</td>\n",
              "      <td>4</td>\n",
              "      <td>7</td>\n",
              "      <td>1</td>\n",
              "      <td>3</td>\n",
              "      <td>SEÇMELİ</td>\n",
              "      <td>DOÇ.DR.HASAN TÜRE</td>\n",
              "      <td>EKONOMETRİ</td>\n",
              "      <td>70</td>\n",
              "      <td>2022-11-13</td>\n",
              "      <td>11:30</td>\n",
              "      <td>402</td>\n",
              "      <td>NaN</td>\n",
              "      <td>NaN</td>\n",
              "      <td>NaN</td>\n",
              "      <td>NaN</td>\n",
              "      <td>NaN</td>\n",
              "      <td>0</td>\n",
              "    </tr>\n",
              "    <tr>\n",
              "      <th>338</th>\n",
              "      <td>KAMU207</td>\n",
              "      <td>İDARE HUKUKU</td>\n",
              "      <td>2</td>\n",
              "      <td>3</td>\n",
              "      <td>1</td>\n",
              "      <td>3</td>\n",
              "      <td>ZORUNLU</td>\n",
              "      <td>PROF.DR.BAHTİYAR AKYILMAZ</td>\n",
              "      <td>SİYASET BİLİMİ VE KAMU YÖNETİMİ (TÜRKÇE)</td>\n",
              "      <td>68</td>\n",
              "      <td>2022-11-08</td>\n",
              "      <td>09:30</td>\n",
              "      <td>203</td>\n",
              "      <td>204</td>\n",
              "      <td>NaN</td>\n",
              "      <td>NaN</td>\n",
              "      <td>NaN</td>\n",
              "      <td>NaN</td>\n",
              "      <td>0</td>\n",
              "    </tr>\n",
              "    <tr>\n",
              "      <th>37</th>\n",
              "      <td>ULUS323</td>\n",
              "      <td>ULUSLARARASI İLİŞKİLER TEORİLERİ I</td>\n",
              "      <td>3</td>\n",
              "      <td>5</td>\n",
              "      <td>1</td>\n",
              "      <td>3</td>\n",
              "      <td>ZORUNLU</td>\n",
              "      <td>ARŞ.GÖR.DR.KADİR ERTAÇ ÇELİK</td>\n",
              "      <td>ULUSLARARASI İLİŞKİLER (TÜRKÇE)</td>\n",
              "      <td>44</td>\n",
              "      <td>2022-11-11</td>\n",
              "      <td>12:30</td>\n",
              "      <td>406</td>\n",
              "      <td>NaN</td>\n",
              "      <td>NaN</td>\n",
              "      <td>NaN</td>\n",
              "      <td>NaN</td>\n",
              "      <td>NaN</td>\n",
              "      <td>0</td>\n",
              "    </tr>\n",
              "    <tr>\n",
              "      <th>227</th>\n",
              "      <td>EKON107</td>\n",
              "      <td>İSTATİSTİK VE OLASILIĞA GİRİŞ</td>\n",
              "      <td>2</td>\n",
              "      <td>3</td>\n",
              "      <td>1</td>\n",
              "      <td>3</td>\n",
              "      <td>ZORUNLU</td>\n",
              "      <td>DR.ÖĞR.ÜYESİ KÜBRA COŞAR</td>\n",
              "      <td>ÇALIŞMA EKONOMİSİ VE ENDÜSTRİ İLİŞKİLERİ</td>\n",
              "      <td>33</td>\n",
              "      <td>2022-11-11</td>\n",
              "      <td>19:30</td>\n",
              "      <td>406</td>\n",
              "      <td>NaN</td>\n",
              "      <td>NaN</td>\n",
              "      <td>NaN</td>\n",
              "      <td>NaN</td>\n",
              "      <td>NaN</td>\n",
              "      <td>0</td>\n",
              "    </tr>\n",
              "    <tr>\n",
              "      <th>410</th>\n",
              "      <td>IKTI403</td>\n",
              "      <td>TÜRKİYE EKONOMİSİ (SEÇ)</td>\n",
              "      <td>4</td>\n",
              "      <td>7</td>\n",
              "      <td>1</td>\n",
              "      <td>3</td>\n",
              "      <td>SEÇMELİ</td>\n",
              "      <td>PROF.DR.İBRAHİM TOKATLIOĞLU</td>\n",
              "      <td>EKONOMETRİ</td>\n",
              "      <td>53</td>\n",
              "      <td>2022-11-11</td>\n",
              "      <td>17:30</td>\n",
              "      <td>408</td>\n",
              "      <td>NaN</td>\n",
              "      <td>NaN</td>\n",
              "      <td>NaN</td>\n",
              "      <td>NaN</td>\n",
              "      <td>NaN</td>\n",
              "      <td>0</td>\n",
              "    </tr>\n",
              "    <tr>\n",
              "      <th>445</th>\n",
              "      <td>KAMU313</td>\n",
              "      <td>YÖNETİM VE ETİK (SEÇ)</td>\n",
              "      <td>3</td>\n",
              "      <td>5</td>\n",
              "      <td>1</td>\n",
              "      <td>3</td>\n",
              "      <td>SEÇMELİ</td>\n",
              "      <td>PROF.DR.MURAT AKÇAKAYA</td>\n",
              "      <td>SİYASET BİLİMİ VE KAMU YÖNETİMİ (TÜRKÇE)</td>\n",
              "      <td>59</td>\n",
              "      <td>2022-11-05</td>\n",
              "      <td>16:30</td>\n",
              "      <td>B AMFİ 1</td>\n",
              "      <td>NaN</td>\n",
              "      <td>NaN</td>\n",
              "      <td>NaN</td>\n",
              "      <td>NaN</td>\n",
              "      <td>NaN</td>\n",
              "      <td>0</td>\n",
              "    </tr>\n",
              "    <tr>\n",
              "      <th>500</th>\n",
              "      <td>CALI337</td>\n",
              "      <td>ENDÜSTRİ İLİŞKİLERİ</td>\n",
              "      <td>3</td>\n",
              "      <td>5</td>\n",
              "      <td>2</td>\n",
              "      <td>3</td>\n",
              "      <td>ZORUNLU</td>\n",
              "      <td>PROF.DR.TÜRKER TOPALHAN</td>\n",
              "      <td>ÇALIŞMA EKONOMİSİ VE ENDÜSTRİ İLİŞKİLERİ</td>\n",
              "      <td>60</td>\n",
              "      <td>2022-11-12</td>\n",
              "      <td>09:30</td>\n",
              "      <td>305</td>\n",
              "      <td>NaN</td>\n",
              "      <td>NaN</td>\n",
              "      <td>NaN</td>\n",
              "      <td>50.0</td>\n",
              "      <td>NaN</td>\n",
              "      <td>0</td>\n",
              "    </tr>\n",
              "    <tr>\n",
              "      <th>285</th>\n",
              "      <td>ENFO101</td>\n",
              "      <td>BİLİŞİM VE İLETİŞİM TEKNOLOJİLERİ</td>\n",
              "      <td>1</td>\n",
              "      <td>1</td>\n",
              "      <td>1</td>\n",
              "      <td>1</td>\n",
              "      <td>ZORUNLU</td>\n",
              "      <td>ÖĞR.GÖR.A.AZİZ YILDIZ</td>\n",
              "      <td>SAĞLIK YÖNETİMİ</td>\n",
              "      <td>6</td>\n",
              "      <td>2022-11-11</td>\n",
              "      <td>08:30</td>\n",
              "      <td>B AMFİ 2</td>\n",
              "      <td>NaN</td>\n",
              "      <td>NaN</td>\n",
              "      <td>NaN</td>\n",
              "      <td>NaN</td>\n",
              "      <td>NaN</td>\n",
              "      <td>0</td>\n",
              "    </tr>\n",
              "    <tr>\n",
              "      <th>189</th>\n",
              "      <td>MALI405</td>\n",
              "      <td>MALİYE POLİTİKASI (SEÇ)</td>\n",
              "      <td>3</td>\n",
              "      <td>5</td>\n",
              "      <td>1</td>\n",
              "      <td>3</td>\n",
              "      <td>SEÇMELİ</td>\n",
              "      <td>DR.ÖĞR.ÜYESİ BİLGEN TAŞDOĞAN</td>\n",
              "      <td>SİYASET BİLİMİ VE KAMU YÖNETİMİ (TÜRKÇE)</td>\n",
              "      <td>78</td>\n",
              "      <td>2022-11-12</td>\n",
              "      <td>10:30</td>\n",
              "      <td>B 104</td>\n",
              "      <td>B 105</td>\n",
              "      <td>NaN</td>\n",
              "      <td>NaN</td>\n",
              "      <td>70.0</td>\n",
              "      <td>NaN</td>\n",
              "      <td>0</td>\n",
              "    </tr>\n",
              "    <tr>\n",
              "      <th>439</th>\n",
              "      <td>ISLE205</td>\n",
              "      <td>FİNANSAL YÖNETİM I</td>\n",
              "      <td>2</td>\n",
              "      <td>3</td>\n",
              "      <td>1</td>\n",
              "      <td>3</td>\n",
              "      <td>ZORUNLU</td>\n",
              "      <td>PROF.DR.METİN KAMİL ERCAN</td>\n",
              "      <td>İŞLETME (TÜRKÇE)</td>\n",
              "      <td>84</td>\n",
              "      <td>2022-11-08</td>\n",
              "      <td>15:30</td>\n",
              "      <td>B AMFİ 5</td>\n",
              "      <td>B AMFİ 6</td>\n",
              "      <td>NaN</td>\n",
              "      <td>NaN</td>\n",
              "      <td>50.0</td>\n",
              "      <td>NaN</td>\n",
              "      <td>0</td>\n",
              "    </tr>\n",
              "    <tr>\n",
              "      <th>152</th>\n",
              "      <td>BUAD305</td>\n",
              "      <td>OPERATIONS MANAGEMENT II</td>\n",
              "      <td>3</td>\n",
              "      <td>5</td>\n",
              "      <td>1</td>\n",
              "      <td>3</td>\n",
              "      <td>ZORUNLU</td>\n",
              "      <td>DOÇ.DR.SEDAT BELBAĞ</td>\n",
              "      <td>İŞLETME (İNGİLİZCE)</td>\n",
              "      <td>39</td>\n",
              "      <td>2022-11-07</td>\n",
              "      <td>09:30</td>\n",
              "      <td>B 105</td>\n",
              "      <td>NaN</td>\n",
              "      <td>NaN</td>\n",
              "      <td>NaN</td>\n",
              "      <td>40.0</td>\n",
              "      <td>NaN</td>\n",
              "      <td>0</td>\n",
              "    </tr>\n",
              "    <tr>\n",
              "      <th>372</th>\n",
              "      <td>MALI315</td>\n",
              "      <td>GELİR ÜZERİNDEN ALINAN VERGİLER</td>\n",
              "      <td>3</td>\n",
              "      <td>5</td>\n",
              "      <td>2</td>\n",
              "      <td>3</td>\n",
              "      <td>ZORUNLU</td>\n",
              "      <td>PROF.DR.FATİH SARAÇOĞLU</td>\n",
              "      <td>MALİYE</td>\n",
              "      <td>4</td>\n",
              "      <td>2022-11-11</td>\n",
              "      <td>17:30</td>\n",
              "      <td>206</td>\n",
              "      <td>NaN</td>\n",
              "      <td>NaN</td>\n",
              "      <td>NaN</td>\n",
              "      <td>45.0</td>\n",
              "      <td>NaN</td>\n",
              "      <td>0</td>\n",
              "    </tr>\n",
              "    <tr>\n",
              "      <th>40</th>\n",
              "      <td>BUAD421</td>\n",
              "      <td>QUANTITATIVE METHODS I</td>\n",
              "      <td>4</td>\n",
              "      <td>7</td>\n",
              "      <td>1</td>\n",
              "      <td>3</td>\n",
              "      <td>ZORUNLU</td>\n",
              "      <td>ARŞ.GÖR.DR.MUSTAFA MEHMET BAYAR</td>\n",
              "      <td>İŞLETME (İNGİLİZCE)</td>\n",
              "      <td>61</td>\n",
              "      <td>2022-11-06</td>\n",
              "      <td>15:30</td>\n",
              "      <td>305</td>\n",
              "      <td>NaN</td>\n",
              "      <td>NaN</td>\n",
              "      <td>NaN</td>\n",
              "      <td>100.0</td>\n",
              "      <td>1</td>\n",
              "      <td>1</td>\n",
              "    </tr>\n",
              "    <tr>\n",
              "      <th>222</th>\n",
              "      <td>MALI103</td>\n",
              "      <td>KAMU MALİYESİ (SEÇ)</td>\n",
              "      <td>2</td>\n",
              "      <td>3</td>\n",
              "      <td>1</td>\n",
              "      <td>3</td>\n",
              "      <td>SEÇMELİ</td>\n",
              "      <td>DR.ÖĞR.ÜYESİ İSMAİL ENGİN</td>\n",
              "      <td>İŞLETME (TÜRKÇE)</td>\n",
              "      <td>59</td>\n",
              "      <td>2022-11-10</td>\n",
              "      <td>11:30</td>\n",
              "      <td>301</td>\n",
              "      <td>303</td>\n",
              "      <td>NaN</td>\n",
              "      <td>NaN</td>\n",
              "      <td>100.0</td>\n",
              "      <td>NaN</td>\n",
              "      <td>0</td>\n",
              "    </tr>\n",
              "    <tr>\n",
              "      <th>485</th>\n",
              "      <td>EKON101</td>\n",
              "      <td>İSTATİSTİK VE OLASILIĞA GİRİŞ I</td>\n",
              "      <td>2</td>\n",
              "      <td>3</td>\n",
              "      <td>1</td>\n",
              "      <td>3</td>\n",
              "      <td>ZORUNLU</td>\n",
              "      <td>PROF.DR.SİBEL ATAN</td>\n",
              "      <td>İKTİSAT</td>\n",
              "      <td>61</td>\n",
              "      <td>2022-11-05</td>\n",
              "      <td>10:30</td>\n",
              "      <td>B 203</td>\n",
              "      <td>B 204</td>\n",
              "      <td>NaN</td>\n",
              "      <td>NaN</td>\n",
              "      <td>NaN</td>\n",
              "      <td>NaN</td>\n",
              "      <td>0</td>\n",
              "    </tr>\n",
              "    <tr>\n",
              "      <th>292</th>\n",
              "      <td>IR443</td>\n",
              "      <td>FOREIGN LANGUAGE I</td>\n",
              "      <td>4</td>\n",
              "      <td>7</td>\n",
              "      <td>1</td>\n",
              "      <td>3</td>\n",
              "      <td>ZORUNLU</td>\n",
              "      <td>ÖĞR.GÖR.DR.BÜŞRA ÖZER ERDOĞAN</td>\n",
              "      <td>ULUSLARARASI İLİŞKİLER (İNGİLİZCE)</td>\n",
              "      <td>71</td>\n",
              "      <td>2022-11-11</td>\n",
              "      <td>11:30</td>\n",
              "      <td>B 202</td>\n",
              "      <td>B 203</td>\n",
              "      <td>NaN</td>\n",
              "      <td>NaN</td>\n",
              "      <td>NaN</td>\n",
              "      <td>NaN</td>\n",
              "      <td>0</td>\n",
              "    </tr>\n",
              "    <tr>\n",
              "      <th>464</th>\n",
              "      <td>CALI203</td>\n",
              "      <td>ÇALIŞMA İLİŞKİLERİ TARİHİ (SEÇ)</td>\n",
              "      <td>2</td>\n",
              "      <td>3</td>\n",
              "      <td>1</td>\n",
              "      <td>3</td>\n",
              "      <td>SEÇMELİ</td>\n",
              "      <td>PROF.DR.OSMAN ŞİMŞEK</td>\n",
              "      <td>ÇALIŞMA EKONOMİSİ VE ENDÜSTRİ İLİŞKİLERİ</td>\n",
              "      <td>1</td>\n",
              "      <td>2022-11-12</td>\n",
              "      <td>12:30</td>\n",
              "      <td>B AMFİ 2</td>\n",
              "      <td>NaN</td>\n",
              "      <td>NaN</td>\n",
              "      <td>NaN</td>\n",
              "      <td>60.0</td>\n",
              "      <td>NaN</td>\n",
              "      <td>0</td>\n",
              "    </tr>\n",
              "    <tr>\n",
              "      <th>515</th>\n",
              "      <td>SAKI213</td>\n",
              "      <td>SAĞLIK İŞLETMELERİNDE ÖRGÜTSEL DAVRANIŞ</td>\n",
              "      <td>2</td>\n",
              "      <td>3</td>\n",
              "      <td>1</td>\n",
              "      <td>3</td>\n",
              "      <td>SEÇMELİ</td>\n",
              "      <td>PROF.DR.ZEKAİ ÖZTÜRK</td>\n",
              "      <td>SAĞLIK YÖNETİMİ</td>\n",
              "      <td>40</td>\n",
              "      <td>2022-11-09</td>\n",
              "      <td>11:30</td>\n",
              "      <td>B 405</td>\n",
              "      <td>NaN</td>\n",
              "      <td>NaN</td>\n",
              "      <td>NaN</td>\n",
              "      <td>NaN</td>\n",
              "      <td>NaN</td>\n",
              "      <td>0</td>\n",
              "    </tr>\n",
              "    <tr>\n",
              "      <th>284</th>\n",
              "      <td>KAMU101</td>\n",
              "      <td>HUKUKUN TEMEL KAVRAMLARI</td>\n",
              "      <td>1</td>\n",
              "      <td>1</td>\n",
              "      <td>1</td>\n",
              "      <td>3</td>\n",
              "      <td>ZORUNLU</td>\n",
              "      <td>ÖĞR. GÖR.DR.GÖKHAN ÖLMEZ</td>\n",
              "      <td>İKTİSAT</td>\n",
              "      <td>32</td>\n",
              "      <td>2022-11-09</td>\n",
              "      <td>14:30</td>\n",
              "      <td>204</td>\n",
              "      <td>NaN</td>\n",
              "      <td>NaN</td>\n",
              "      <td>NaN</td>\n",
              "      <td>NaN</td>\n",
              "      <td>NaN</td>\n",
              "      <td>0</td>\n",
              "    </tr>\n",
              "    <tr>\n",
              "      <th>211</th>\n",
              "      <td>MALI301</td>\n",
              "      <td>DEVLET BÜTÇESİ</td>\n",
              "      <td>3</td>\n",
              "      <td>5</td>\n",
              "      <td>3</td>\n",
              "      <td>3</td>\n",
              "      <td>ZORUNLU</td>\n",
              "      <td>DR.ÖĞR.ÜYESİ HAYDAR LÜTFÜ EJDER</td>\n",
              "      <td>MALİYE</td>\n",
              "      <td>24</td>\n",
              "      <td>2022-11-13</td>\n",
              "      <td>18:30</td>\n",
              "      <td>B AMFİ 3</td>\n",
              "      <td>NaN</td>\n",
              "      <td>NaN</td>\n",
              "      <td>NaN</td>\n",
              "      <td>NaN</td>\n",
              "      <td>NaN</td>\n",
              "      <td>0</td>\n",
              "    </tr>\n",
              "    <tr>\n",
              "      <th>115</th>\n",
              "      <td>IR217</td>\n",
              "      <td>STATE AND GLOBALIZATION (OPT)</td>\n",
              "      <td>2</td>\n",
              "      <td>3</td>\n",
              "      <td>1</td>\n",
              "      <td>3</td>\n",
              "      <td>SEÇMELİ</td>\n",
              "      <td>DOÇ.DR.KÜRŞAD TURAN</td>\n",
              "      <td>ULUSLARARASI İLİŞKİLER (İNGİLİZCE)</td>\n",
              "      <td>53</td>\n",
              "      <td>2022-11-08</td>\n",
              "      <td>14:30</td>\n",
              "      <td>B AMFİ 1</td>\n",
              "      <td>NaN</td>\n",
              "      <td>NaN</td>\n",
              "      <td>NaN</td>\n",
              "      <td>NaN</td>\n",
              "      <td>NaN</td>\n",
              "      <td>0</td>\n",
              "    </tr>\n",
              "  </tbody>\n",
              "</table>\n",
              "</div>\n",
              "      <button class=\"colab-df-convert\" onclick=\"convertToInteractive('df-c7945aa0-af2c-43b8-980e-6258b8039482')\"\n",
              "              title=\"Convert this dataframe to an interactive table.\"\n",
              "              style=\"display:none;\">\n",
              "        \n",
              "  <svg xmlns=\"http://www.w3.org/2000/svg\" height=\"24px\"viewBox=\"0 0 24 24\"\n",
              "       width=\"24px\">\n",
              "    <path d=\"M0 0h24v24H0V0z\" fill=\"none\"/>\n",
              "    <path d=\"M18.56 5.44l.94 2.06.94-2.06 2.06-.94-2.06-.94-.94-2.06-.94 2.06-2.06.94zm-11 1L8.5 8.5l.94-2.06 2.06-.94-2.06-.94L8.5 2.5l-.94 2.06-2.06.94zm10 10l.94 2.06.94-2.06 2.06-.94-2.06-.94-.94-2.06-.94 2.06-2.06.94z\"/><path d=\"M17.41 7.96l-1.37-1.37c-.4-.4-.92-.59-1.43-.59-.52 0-1.04.2-1.43.59L10.3 9.45l-7.72 7.72c-.78.78-.78 2.05 0 2.83L4 21.41c.39.39.9.59 1.41.59.51 0 1.02-.2 1.41-.59l7.78-7.78 2.81-2.81c.8-.78.8-2.07 0-2.86zM5.41 20L4 18.59l7.72-7.72 1.47 1.35L5.41 20z\"/>\n",
              "  </svg>\n",
              "      </button>\n",
              "      \n",
              "  <style>\n",
              "    .colab-df-container {\n",
              "      display:flex;\n",
              "      flex-wrap:wrap;\n",
              "      gap: 12px;\n",
              "    }\n",
              "\n",
              "    .colab-df-convert {\n",
              "      background-color: #E8F0FE;\n",
              "      border: none;\n",
              "      border-radius: 50%;\n",
              "      cursor: pointer;\n",
              "      display: none;\n",
              "      fill: #1967D2;\n",
              "      height: 32px;\n",
              "      padding: 0 0 0 0;\n",
              "      width: 32px;\n",
              "    }\n",
              "\n",
              "    .colab-df-convert:hover {\n",
              "      background-color: #E2EBFA;\n",
              "      box-shadow: 0px 1px 2px rgba(60, 64, 67, 0.3), 0px 1px 3px 1px rgba(60, 64, 67, 0.15);\n",
              "      fill: #174EA6;\n",
              "    }\n",
              "\n",
              "    [theme=dark] .colab-df-convert {\n",
              "      background-color: #3B4455;\n",
              "      fill: #D2E3FC;\n",
              "    }\n",
              "\n",
              "    [theme=dark] .colab-df-convert:hover {\n",
              "      background-color: #434B5C;\n",
              "      box-shadow: 0px 1px 3px 1px rgba(0, 0, 0, 0.15);\n",
              "      filter: drop-shadow(0px 1px 2px rgba(0, 0, 0, 0.3));\n",
              "      fill: #FFFFFF;\n",
              "    }\n",
              "  </style>\n",
              "\n",
              "      <script>\n",
              "        const buttonEl =\n",
              "          document.querySelector('#df-c7945aa0-af2c-43b8-980e-6258b8039482 button.colab-df-convert');\n",
              "        buttonEl.style.display =\n",
              "          google.colab.kernel.accessAllowed ? 'block' : 'none';\n",
              "\n",
              "        async function convertToInteractive(key) {\n",
              "          const element = document.querySelector('#df-c7945aa0-af2c-43b8-980e-6258b8039482');\n",
              "          const dataTable =\n",
              "            await google.colab.kernel.invokeFunction('convertToInteractive',\n",
              "                                                     [key], {});\n",
              "          if (!dataTable) return;\n",
              "\n",
              "          const docLinkHtml = 'Like what you see? Visit the ' +\n",
              "            '<a target=\"_blank\" href=https://colab.research.google.com/notebooks/data_table.ipynb>data table notebook</a>'\n",
              "            + ' to learn more about interactive tables.';\n",
              "          element.innerHTML = '';\n",
              "          dataTable['output_type'] = 'display_data';\n",
              "          await google.colab.output.renderOutput(dataTable, element);\n",
              "          const docLink = document.createElement('div');\n",
              "          docLink.innerHTML = docLinkHtml;\n",
              "          element.appendChild(docLink);\n",
              "        }\n",
              "      </script>\n",
              "    </div>\n",
              "  </div>\n",
              "  "
            ]
          },
          "metadata": {},
          "execution_count": 18
        }
      ]
    },
    {
      "cell_type": "code",
      "source": [
        "Dadı = {i:df['ADI'].iloc[i] for i in range(len(df))}\n",
        "Dtipi = {i:df['DERS TURU'].iloc[i] for i in range(len(df))}\n",
        "Dsınıfı = {i:df['SINIF'].iloc[i] for i in range(len(df))}\n",
        "Dbölüm = {i:df['BÖLÜM'].iloc[i] for i in range(len(df))}\n",
        "Dhoca = {i:df['ÖĞRETİM ÜYESİ'].iloc[i] for i in range(len(df))}"
      ],
      "metadata": {
        "id": "nkGhWgG1-f5n"
      },
      "execution_count": null,
      "outputs": []
    },
    {
      "cell_type": "code",
      "source": [
        "Dadı_hocası = {Dadı[i]:Dhoca[i] for i in range(len(Dadı)) if Dsınıfı[i] == 4 if Dbölüm[i] == 'İŞLETME (TÜRKÇE)'};Dadı_hocası"
      ],
      "metadata": {
        "id": "qZuSq7d4_bel",
        "outputId": "433c2cb9-995b-41fd-be1a-24b92a3f2806",
        "colab": {
          "base_uri": "https://localhost:8080/"
        }
      },
      "execution_count": null,
      "outputs": [
        {
          "output_type": "execute_result",
          "data": {
            "text/plain": [
              "{'ORGANİZASYONLARDA DAVRANIŞ': 'PROF.DR.NEŞE SONGÜR',\n",
              " 'HİZMET PAZARLAMASI (SEÇ)': 'DOÇ.DR.KADRİ GÖKHAN YILMAZ',\n",
              " 'ÜRETİM PLANLAMA VE DENETİMİ (SEÇ)': 'DOÇ.DR.SEDAT BELBAĞ',\n",
              " 'GİRİŞİMCİLİK (SEÇ)': 'DOÇ.DR.SELMA KALYONCUOĞLU BABA',\n",
              " 'FİNANSAL TABLOLAR ANALİZİ': 'PROF.DR.YILDIZ AYANOĞLU',\n",
              " 'ORTAKLIKLAR MUHASEBESİ (SEÇ)': 'DR.ÖĞR.ÜYESİ ADEM ALTAY',\n",
              " 'SAYISAL YÖNTEMLER I': 'DR.ÖĞR.ÜYESİ ÖZGE DİNÇ CAVLAK',\n",
              " 'YÖNEYLEM ARAŞTIRMASI I': 'DR.ÖĞR.ÜYESİ ÖZGE DİNÇ CAVLAK',\n",
              " 'PERFORMANS YÖNETİMİ (SEÇ)': 'PROF.DR.AYKUT GÖKSEL',\n",
              " 'FİRMA DEĞERLEMESİ (SEÇ)': 'PROF.DR.EMİNE EBRU AKSOY',\n",
              " 'YÖNETİM BİLGİ SİSTEMLERİ (SEÇ)': 'PROF.DR.TÜRKSEL BENSGHİR'}"
            ]
          },
          "metadata": {},
          "execution_count": 20
        }
      ]
    },
    {
      "cell_type": "markdown",
      "source": [
        "#  <br><br><br>**HAFTA 7**<br><br><br>"
      ],
      "metadata": {
        "id": "Edh4acyJjkLH"
      }
    },
    {
      "cell_type": "markdown",
      "source": [
        "## **Fonksiyonlar ve Lambda ifadeleri:**<br>\n",
        "- **Fonksiyonlarda argümanlar**,\n",
        " - **Argümanlar için ön-tanımlı değerler**\n",
        "- **Fonksiyonlarda \"return\" komutu**,\n",
        "- **Lambda ifadeleri**<br><br>\n",
        "\n",
        "**Not:** Fonksiyonlar konusu global, yerel ve yerel olmayan değişken konularına değinilmeden bir giriş niteliğinde sunulmaktadır. İlgilenen arkadaşlarım aşağıdaki bağlantıyı inceleyebilirler:<br><br>\n",
        "[Global-Local-Nonlocal Variables](https://www.programiz.com/python-programming/global-local-nonlocal-variables)"
      ],
      "metadata": {
        "id": "eirSyg3DjoM6"
      }
    },
    {
      "cell_type": "markdown",
      "source": [
        "###**Fonksiyonlar**<br><br>\n",
        "**Fonksiyon analojik olarak nedir?**<br>\n",
        "Fonksiyonlar belirli girdileri belirli çıktılara dönüştüren ve bu işlemi hatasız veya sapmasız gerçekleştiren mükemmel makinelerdir.<br><br>\n",
        "Bu mükemmelmakinelerin girdilerine \"***argümanlar***\" diyeceğiz ve bu argümanlar bazen boş (None) değerli değişkenlerken bazen de öntanımlı değişkenler olabilmektedirler.<br><br>"
      ],
      "metadata": {
        "id": "TkuCfHSCnJjY"
      }
    },
    {
      "cell_type": "markdown",
      "source": [
        "**Adım adım toplam (ör.: $\\sum_i{x_i}$) operatörünü bir fonksiyon olarak oluşturalım**<br><br>\n",
        "- fonksiyon tanımlamaya başlarken tıpkı döngülerde kullandığımıza benzer imla kurallarına uyarız;\n",
        " - def komutu ile başlar,\n",
        " - fonksiyonumuzu adlandırır,\n",
        " - bir parantez içinde varsa argümanlarımızı sıralar,\n",
        " - : ile ilk satırı bitirir ve işlem tanımlamalarını alt satırlarda içe girik kodlarız"
      ],
      "metadata": {
        "id": "JofssN8CocmD"
      }
    },
    {
      "cell_type": "code",
      "source": [
        "#  İki sayıyı toplayan bir fonksiyon oluşturalım\n",
        "\n",
        "def topla(ilk_sayı, ikinci_sayı):\n",
        "  ilk_sayı + ikinci_sayı"
      ],
      "metadata": {
        "id": "ynmFZS-aAplm"
      },
      "execution_count": 5,
      "outputs": []
    },
    {
      "cell_type": "code",
      "source": [
        "topla(-2, 5)"
      ],
      "metadata": {
        "id": "GFMp3zfRrpw0"
      },
      "execution_count": 7,
      "outputs": []
    },
    {
      "cell_type": "markdown",
      "source": [
        "**Hiçbir şey olmadı? Neden?**<br><br>\n",
        "Fonksiyon içinde tanımlanan işlem gerçekleştiridi ancak; elde edilen değer bir değişkene atanmadı ya da bu değere ilişkin bir ikincil komut verilmedi bu nedenle ***ayrı bir hücre gibi çalışan*** fonksiyon içinde işlem gerçekleştirildi ve sonra hafızadan silindi.<br><br>\n",
        "**Peki. Ne yapmalıyız?**<br><br>\n",
        "Mesela fonksiyon işlemini yazdırabiliriz."
      ],
      "metadata": {
        "id": "G4Tb_ebJqKPk"
      }
    },
    {
      "cell_type": "code",
      "source": [
        "def topla(ilk_sayı, ikinci_sayı):\n",
        "  print(ilk_sayı + ikinci_sayı)\n",
        "\n",
        "topla(-2 , 5)"
      ],
      "metadata": {
        "colab": {
          "base_uri": "https://localhost:8080/"
        },
        "id": "Zms71BRBp3GH",
        "outputId": "85d45e8c-b446-4b39-b556-d329bd4aa71b"
      },
      "execution_count": 8,
      "outputs": [
        {
          "output_type": "stream",
          "name": "stdout",
          "text": [
            "3\n"
          ]
        }
      ]
    },
    {
      "cell_type": "markdown",
      "source": [
        "**Başka ne yapabiliriz?**<br><br>\n",
        "Yukarıda fonksiyonumuza yapılan işlem için ikincil bir komut tanımladık (print fonksiyonu).<br>\n",
        "Yaygın bir diğer yaklaşım da \"**return**\" komutunun kullanımıdır."
      ],
      "metadata": {
        "id": "ZlOrKsIVr2te"
      }
    },
    {
      "cell_type": "code",
      "source": [
        "def topla(ilk_sayı, ikinci_sayı):\n",
        "  return ilk_sayı + ikinci_sayı"
      ],
      "metadata": {
        "id": "6E5oSP1Zrwwh"
      },
      "execution_count": 13,
      "outputs": []
    },
    {
      "cell_type": "code",
      "source": [
        "topla(7, 11)"
      ],
      "metadata": {
        "colab": {
          "base_uri": "https://localhost:8080/"
        },
        "id": "OTOy-QLisQ8a",
        "outputId": "e4079031-7d89-47d9-d343-21da52d357e1"
      },
      "execution_count": 10,
      "outputs": [
        {
          "output_type": "execute_result",
          "data": {
            "text/plain": [
              "18"
            ]
          },
          "metadata": {},
          "execution_count": 10
        }
      ]
    },
    {
      "cell_type": "markdown",
      "source": [
        "**Peki; ya argümanlarımızın Python nesne tipleri birbirleri ile toplanamayan, uyumsuz tipler olsaydı?**<br><br>\n",
        "Olası olumsuzluklar önlemek için uyarılar yazdırabiliriz. "
      ],
      "metadata": {
        "id": "TSV1P5KasXAk"
      }
    },
    {
      "cell_type": "code",
      "source": [
        "topla('Karakter dizisi', 2.71)"
      ],
      "metadata": {
        "colab": {
          "base_uri": "https://localhost:8080/",
          "height": 235
        },
        "id": "orxXput9tLzj",
        "outputId": "1b0106ae-8bd0-42c1-dded-25dced68cacf"
      },
      "execution_count": 14,
      "outputs": [
        {
          "output_type": "error",
          "ename": "TypeError",
          "evalue": "ignored",
          "traceback": [
            "\u001b[0;31m---------------------------------------------------------------------------\u001b[0m",
            "\u001b[0;31mTypeError\u001b[0m                                 Traceback (most recent call last)",
            "\u001b[0;32m<ipython-input-14-59e922e47405>\u001b[0m in \u001b[0;36m<cell line: 1>\u001b[0;34m()\u001b[0m\n\u001b[0;32m----> 1\u001b[0;31m \u001b[0mtopla\u001b[0m\u001b[0;34m(\u001b[0m\u001b[0;34m'Karakter dizisi'\u001b[0m\u001b[0;34m,\u001b[0m \u001b[0;36m2.71\u001b[0m\u001b[0;34m)\u001b[0m\u001b[0;34m\u001b[0m\u001b[0;34m\u001b[0m\u001b[0m\n\u001b[0m",
            "\u001b[0;32m<ipython-input-13-aab91a867e13>\u001b[0m in \u001b[0;36mtopla\u001b[0;34m(ilk_sayı, ikinci_sayı)\u001b[0m\n\u001b[1;32m      1\u001b[0m \u001b[0;32mdef\u001b[0m \u001b[0mtopla\u001b[0m\u001b[0;34m(\u001b[0m\u001b[0milk_sayı\u001b[0m\u001b[0;34m,\u001b[0m \u001b[0mikinci_sayı\u001b[0m\u001b[0;34m)\u001b[0m\u001b[0;34m:\u001b[0m\u001b[0;34m\u001b[0m\u001b[0;34m\u001b[0m\u001b[0m\n\u001b[0;32m----> 2\u001b[0;31m   \u001b[0;32mreturn\u001b[0m \u001b[0milk_sayı\u001b[0m \u001b[0;34m+\u001b[0m \u001b[0mikinci_sayı\u001b[0m\u001b[0;34m\u001b[0m\u001b[0;34m\u001b[0m\u001b[0m\n\u001b[0m",
            "\u001b[0;31mTypeError\u001b[0m: can only concatenate str (not \"float\") to str"
          ]
        }
      ]
    },
    {
      "cell_type": "code",
      "source": [
        "def topla(ilk_sayı, ikinci_sayı):\n",
        "  \n",
        "  try:\n",
        "    toplam = ilk_sayı + ikinci_sayı\n",
        "  except:\n",
        "    print( \"Birbirleri ile toplanamayan uyumsuz python nesneleri argüman olarak tanımlandı.\" )\n",
        "  \n",
        "  return"
      ],
      "metadata": {
        "id": "-FYkoLu-sUJk"
      },
      "execution_count": 15,
      "outputs": []
    },
    {
      "cell_type": "code",
      "source": [
        "topla('Karakter dizisi', 2.71)"
      ],
      "metadata": {
        "colab": {
          "base_uri": "https://localhost:8080/"
        },
        "id": "oGC-MGyNtVXG",
        "outputId": "cc164c1a-d153-461c-a0a7-440eac35f86b"
      },
      "execution_count": 16,
      "outputs": [
        {
          "output_type": "stream",
          "name": "stdout",
          "text": [
            "Birbirleri ile toplanamayan uyumsuz python nesneleri argüman olarak tanımlandı.\n"
          ]
        }
      ]
    },
    {
      "cell_type": "markdown",
      "source": [
        "**İki argümanın (ya da sayısı belirli argümanların) toplamını bulan bir fonksiyonu yazmayı öğrendik.<br>Peki; belirsiz sayıda argümanı toplayan gelen bir toplam operatörünü nasıl bir fonksiyon olarak tanımlayabiliriz?**<br><br>\n",
        " - Gruplayıcı Python nesnelerinden yararlanarak\n",
        " - \"**\\*args**\" ifadesini kullanarak"
      ],
      "metadata": {
        "id": "0ox22hGOyP8D"
      }
    },
    {
      "cell_type": "code",
      "source": [
        "#  Argümanı bir gruplayıcı Python nesnesi olan toplam operatörü fonksiyonu\n",
        "\n",
        "def toplam(gruplayıcı):\n",
        "\n",
        "  ara_toplam = 0\n",
        "  \n",
        "  for i in gruplayıcı:\n",
        "    ara_toplam += i\n",
        "\n",
        "  return ara_toplam"
      ],
      "metadata": {
        "id": "W1aW3ysAteYc"
      },
      "execution_count": 17,
      "outputs": []
    },
    {
      "cell_type": "code",
      "source": [
        "#  Rakamların toplamı\n",
        "\n",
        "toplam( range(1,9+1,1) )"
      ],
      "metadata": {
        "colab": {
          "base_uri": "https://localhost:8080/"
        },
        "id": "GBWJuuoszTCp",
        "outputId": "b3df38e4-f68a-49c2-fb39-784281607ad6"
      },
      "execution_count": 18,
      "outputs": [
        {
          "output_type": "execute_result",
          "data": {
            "text/plain": [
              "45"
            ]
          },
          "metadata": {},
          "execution_count": 18
        }
      ]
    },
    {
      "cell_type": "markdown",
      "source": [
        "Gruplayıcı üzerinden bir genel fonksiyon oluşturmak argümanları tek tek tanımlamak isteyenler için sorunlu olabilecektir."
      ],
      "metadata": {
        "id": "Q84VA1NazsaM"
      }
    },
    {
      "cell_type": "code",
      "source": [
        "toplam(1,2,3)"
      ],
      "metadata": {
        "colab": {
          "base_uri": "https://localhost:8080/",
          "height": 165
        },
        "id": "IECeOj1Szcxl",
        "outputId": "ecacdd87-50cc-4815-df8e-4851cda6f100"
      },
      "execution_count": 20,
      "outputs": [
        {
          "output_type": "error",
          "ename": "TypeError",
          "evalue": "ignored",
          "traceback": [
            "\u001b[0;31m---------------------------------------------------------------------------\u001b[0m",
            "\u001b[0;31mTypeError\u001b[0m                                 Traceback (most recent call last)",
            "\u001b[0;32m<ipython-input-20-5fd665012632>\u001b[0m in \u001b[0;36m<cell line: 1>\u001b[0;34m()\u001b[0m\n\u001b[0;32m----> 1\u001b[0;31m \u001b[0mtoplam\u001b[0m\u001b[0;34m(\u001b[0m\u001b[0;36m1\u001b[0m\u001b[0;34m,\u001b[0m\u001b[0;36m2\u001b[0m\u001b[0;34m,\u001b[0m\u001b[0;36m3\u001b[0m\u001b[0;34m)\u001b[0m\u001b[0;34m\u001b[0m\u001b[0;34m\u001b[0m\u001b[0m\n\u001b[0m",
            "\u001b[0;31mTypeError\u001b[0m: toplam() takes 1 positional argument but 3 were given"
          ]
        }
      ]
    },
    {
      "cell_type": "code",
      "source": [
        "#  *args ifadesinin kullanımı: Adım 1\n",
        "\n",
        "#  Önce verilen sayısı belirsiz argümanı bir gruplayıcıda derleyelim\n",
        "def toplam(*args):\n",
        "  return [i for i in args]"
      ],
      "metadata": {
        "id": "IZNEI8CizqbF"
      },
      "execution_count": 21,
      "outputs": []
    },
    {
      "cell_type": "code",
      "source": [
        "toplam(1,2,3)"
      ],
      "metadata": {
        "colab": {
          "base_uri": "https://localhost:8080/"
        },
        "id": "eOLZtKkn0LJy",
        "outputId": "42700205-9a31-4b98-f5bd-8edc11844aaa"
      },
      "execution_count": 22,
      "outputs": [
        {
          "output_type": "execute_result",
          "data": {
            "text/plain": [
              "[1, 2, 3]"
            ]
          },
          "metadata": {},
          "execution_count": 22
        }
      ]
    },
    {
      "cell_type": "code",
      "source": [
        "#  *args ifadesinin kullanımı: Adım 2\n",
        "\n",
        "#  Şimdi toplam değerini bu yeni gruplayıcı içinde hesaplayalım\n",
        "def toplam(*args):\n",
        "  \n",
        "  ara_toplam = 0\n",
        "  \n",
        "  for i in args:\n",
        "    ara_toplam += i\n",
        "\n",
        "  return ara_toplam"
      ],
      "metadata": {
        "id": "uLo4TwJn0Nja"
      },
      "execution_count": 26,
      "outputs": []
    },
    {
      "cell_type": "code",
      "source": [
        "toplam(1,2,3)"
      ],
      "metadata": {
        "colab": {
          "base_uri": "https://localhost:8080/"
        },
        "id": "J9XcSp4M04py",
        "outputId": "bbde0176-c366-48d4-9ff9-3a4e5075252d"
      },
      "execution_count": 27,
      "outputs": [
        {
          "output_type": "execute_result",
          "data": {
            "text/plain": [
              "6"
            ]
          },
          "metadata": {},
          "execution_count": 27
        }
      ]
    },
    {
      "cell_type": "markdown",
      "source": [
        "### **Fonksiyon tanımlama şablonu**<br><br>\n",
        "\n",
        "$\\begin{array}{lll}\n",
        "def & fonksiyon\\_adı & (argümanlar) & :\\\\\\\\\n",
        "& değişken = & işlem \\\\\\\\\n",
        "& return & değişken\n",
        "\\end{array}$"
      ],
      "metadata": {
        "id": "RzRpQ1W11j-4"
      }
    },
    {
      "cell_type": "markdown",
      "source": [
        "**Bir sayı asal mı kontrol eden fonksiyon tasarımı**"
      ],
      "metadata": {
        "id": "UhsD8sXj2uEU"
      }
    },
    {
      "cell_type": "code",
      "source": [
        "def asal_mı(sayı):\n",
        "\n",
        "  if sayı < 2:\n",
        "    return False\n",
        "  elif sayı == 2:\n",
        "    return True\n",
        "  else:\n",
        "    for i in range(2,sayı):\n",
        "      durum = True\n",
        "      if sayı % i == 0:\n",
        "        durum = False\n",
        "        break\n",
        "      return durum    \n",
        "  "
      ],
      "metadata": {
        "id": "fiqNo-IV1B8Q"
      },
      "execution_count": 29,
      "outputs": []
    },
    {
      "cell_type": "code",
      "source": [
        "asal_mı(97), asal_mı(2), asal_mı(1),  "
      ],
      "metadata": {
        "colab": {
          "base_uri": "https://localhost:8080/"
        },
        "id": "moQeEGJr3uQj",
        "outputId": "5b65bf3a-2c44-4b92-fbe6-48333202bf9d"
      },
      "execution_count": 30,
      "outputs": [
        {
          "output_type": "execute_result",
          "data": {
            "text/plain": [
              "(True, True, False)"
            ]
          },
          "metadata": {},
          "execution_count": 30
        }
      ]
    },
    {
      "cell_type": "markdown",
      "source": [
        "### **Lambda ifadeleri (adlandırılmamış fonksiyonlar)**<br><br>\n",
        "\n",
        "Lambda ifadeleri tek satırda fonksiyonların yazılmasında kullanılan bir araçtır. Bu bakımdan lambda ifadelerini \"içlem\" yöntemine benzetebiliriz.<br><br>\n",
        "\n",
        "**Lambda tanımlama şablonu:**<br><br>\n",
        "$\\begin{array}{}\n",
        "lambda & argümanlar & : & işlem\n",
        "\\end{array}$"
      ],
      "metadata": {
        "id": "bJNfnTp43_Sy"
      }
    },
    {
      "cell_type": "code",
      "source": [
        "#  lambda ifadeleri ile yaratılan bir isimsiz fonksiyonu bir değişkene değer'miş gibi atayınız.\n",
        "\n",
        "çifttir = lambda sayı : sayı % 2 == 0\n",
        "\n",
        "çifttir(3), çifttir(-8)"
      ],
      "metadata": {
        "colab": {
          "base_uri": "https://localhost:8080/"
        },
        "id": "Cov5AITa32KY",
        "outputId": "07716e75-7ecf-44c4-c184-bcb0148c0cf4"
      },
      "execution_count": 32,
      "outputs": [
        {
          "output_type": "execute_result",
          "data": {
            "text/plain": [
              "(False, True)"
            ]
          },
          "metadata": {},
          "execution_count": 32
        }
      ]
    },
    {
      "cell_type": "code",
      "source": [
        "ile_bölünmez13 = lambda x : (x % 13 != 0) and str(x) + \", 13'e tam bölünmez\""
      ],
      "metadata": {
        "id": "kPzBAdg347cN"
      },
      "execution_count": 43,
      "outputs": []
    },
    {
      "cell_type": "code",
      "source": [
        "ile_bölünmez13(5)"
      ],
      "metadata": {
        "colab": {
          "base_uri": "https://localhost:8080/",
          "height": 36
        },
        "id": "otXUadQo56B8",
        "outputId": "6117e4c0-d2eb-4127-e9d5-97bcea709562"
      },
      "execution_count": 44,
      "outputs": [
        {
          "output_type": "execute_result",
          "data": {
            "text/plain": [
              "\"5, 13'e tam bölünmez\""
            ],
            "application/vnd.google.colaboratory.intrinsic+json": {
              "type": "string"
            }
          },
          "metadata": {},
          "execution_count": 44
        }
      ]
    },
    {
      "cell_type": "code",
      "source": [],
      "metadata": {
        "id": "Em8Q_pxN6m-E"
      },
      "execution_count": null,
      "outputs": []
    }
  ]
}