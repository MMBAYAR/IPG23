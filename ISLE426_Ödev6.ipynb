{
  "nbformat": 4,
  "nbformat_minor": 0,
  "metadata": {
    "colab": {
      "provenance": [],
      "authorship_tag": "ABX9TyOi8nJtOIUc7qk8J7ASc7Vu",
      "include_colab_link": true
    },
    "kernelspec": {
      "name": "python3",
      "display_name": "Python 3"
    },
    "language_info": {
      "name": "python"
    }
  },
  "cells": [
    {
      "cell_type": "markdown",
      "metadata": {
        "id": "view-in-github",
        "colab_type": "text"
      },
      "source": [
        "<a href=\"https://colab.research.google.com/github/MMBAYAR/IPG23/blob/main/ISLE426_%C3%96dev6.ipynb\" target=\"_parent\"><img src=\"https://colab.research.google.com/assets/colab-badge.svg\" alt=\"Open In Colab\"/></a>"
      ]
    },
    {
      "cell_type": "markdown",
      "source": [
        "# **ÖDEV TALİMATLARI**<br><br>\n",
        "\n",
        "  -  **GÖREV 1:** Yukarıdaki dosya adı satırını \"öğrenci numaranızın\" sonuna \"_Ö6\" ekleyerek yeniden adlandırınız.<br>**ör./** \"2307220001_Ö6.ipynb\"<br>**NOT:** Derse izleyici olarak katılan öğrenciler adlandırmada öğrenci numarası yerine soyad kullanması rica olunur.\n",
        "  \n",
        "  -  **GÖREV 2:** Dosyayıyı kaydediniz (Dosya/Kaydet veya Ctrl+S).\n",
        "  -  **GÖREV 3:** Aşağıdaki hücrelerde belirtilen görevleri - *ilgili hücre içine gerekli kodu yazarak* - yerine getiriniz.\n",
        "  -  **GÖREV 5:** Dosyanızı indiriniz (Dosya/İndir/.ipynb sürümünü indir).\n",
        "  -  **GÖRE 6** Dosyanızı e-posta ile mehmet.bayar@hbv.edu.tr adresine konuya yalnızca \"ISLE426 - ÖDEV6\" yazarak iletiniz 12 Mayıs* tarihine kadar iletiniz.<br><br>\n",
        "\n",
        "----\n",
        "\n",
        "**(*):** Bu tarih özel durumlar değerlendirilerek bireysel olarak değiştirilebilir."
      ],
      "metadata": {
        "id": "0JZvsWpBp_60"
      }
    },
    {
      "cell_type": "markdown",
      "source": [
        "**İlgili dosyayı aşağıdaki bağlantı üzerinden edinebilirsiniz.**<br>\n",
        "\n",
        "> https://drive.google.com/file/d/16l10kC6VileGRzP573olB3OtMKn0YSTY/view?usp=drive_web&authuser=0\n",
        "<br><br>\n",
        "\n",
        "FARKEDİNİZ! Bu dosya \".csv\" uzantılı, excel dosyalarından başka biçemde (format) bir veri dosyasıdır.\n",
        "- Google üzerinden \"pandas ile csv dosyalarının okunması\" veya benzer aramalar yaparak,\n",
        "- Pandas kütüphanesini oturuma çağırdıktan sonra \"pandas.read_\" yazıp colab önerilerini ve bu öneriler için sonuna \"?\" yazarak inceleyebileceğiniz yardım menülerine bakarak\n",
        "\n",
        "bu türden dosyaların nasıl oturum belleğine yüklenebileceğini \"kendi başınıza\" öğrenmelisiniz.\n",
        "\n"
      ],
      "metadata": {
        "id": "fyGNN8atqSqM"
      }
    },
    {
      "cell_type": "code",
      "source": [
        "#   Öğrenci_Bilgileri.csv dosyasını pandas kütüphanesini kullanarak bir Veri Tablosuna (DataFrame) dönüştürüp bir değişkene \n",
        "#   atayınız. \n",
        "#   Ve bu değişkeni print() fonksiyonu ile yazdırınız.\n"
      ],
      "metadata": {
        "id": "Ol_Ud4SUqRjI"
      },
      "execution_count": null,
      "outputs": []
    },
    {
      "cell_type": "markdown",
      "source": [
        "Yine \"nasıl yapacağınızı\" kendi başınıza öğrenmeniz gereken bir diğer göreviniz var:\n",
        "Öğrencilere ait sınav notlarını içeren sütunun ortalama değerini, pandas fonksiyonlarını veya metotlarını kullanarak hesaplayınız."
      ],
      "metadata": {
        "id": "vkC8yw07sLfd"
      }
    },
    {
      "cell_type": "code",
      "source": [
        "#   Öğrenci_Bilgileri.csv dosyasının içerdiği Not_Bilgileri sütununda yer alan değerlerin ortalamasını pandas fonksiyonlarını\n",
        "#   veya kütüphanelerini kullanarak hesaplayınız.\n"
      ],
      "metadata": {
        "id": "CDjDn0rgsbvc"
      },
      "execution_count": null,
      "outputs": []
    }
  ]
}