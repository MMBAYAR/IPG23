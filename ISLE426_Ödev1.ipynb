{
  "nbformat": 4,
  "nbformat_minor": 0,
  "metadata": {
    "colab": {
      "provenance": [],
      "authorship_tag": "ABX9TyM5zc3ySeTTw1jkEhyy8flD",
      "include_colab_link": true
    },
    "kernelspec": {
      "name": "python3",
      "display_name": "Python 3"
    },
    "language_info": {
      "name": "python"
    }
  },
  "cells": [
    {
      "cell_type": "markdown",
      "metadata": {
        "id": "view-in-github",
        "colab_type": "text"
      },
      "source": [
        "<a href=\"https://colab.research.google.com/github/MMBAYAR/IPG23/blob/main/ISLE426_%C3%96dev1.ipynb\" target=\"_parent\"><img src=\"https://colab.research.google.com/assets/colab-badge.svg\" alt=\"Open In Colab\"/></a>"
      ]
    },
    {
      "cell_type": "markdown",
      "source": [
        "# **ÖDEV TALİMATLARI**<br><br>\n",
        "\n",
        "  -  **GÖREV 1:** Yukarıdaki dosya adı satırını \"öğrenci numaranızın\" sonuna \"_Ö1\" ekleyerek yeniden adlandırınız.\n",
        "  -  **GÖREV 2:** Dosyayıyı kaydediniz (Dosya/Kaydet veya Ctrl+S).\n",
        "  -  **GÖREV 3:** Aşağıdaki hücrelerde belirtilen görevleri - *ilgili hücre içine gerekli kodu yazarak* - yerine getiriniz.<br>*(Doğru yaptığınız 5 görev 20'şer puan üzerinden değerlendirilecektir.)*\n",
        "  -  **GÖREV 5:** Dosyanızı indiriniz (Dosya/İndir/.ipynb sürümünü indir).\n",
        "  -  **GÖRE 6** Dosyanızı e-posta ile mehmet.bayar@hbv.edu.tr adresine konuya yalnızca \"ISLE426 - ÖDEV1\" yazarak iletiniz 17 Mart* tarihine kadar iletiniz.<br><br>\n",
        "\n",
        "----\n",
        "\n",
        "**(*):** Bu tarih özel durumlar değerlendirilerek bireysel olarak değiştirilebilir."
      ],
      "metadata": {
        "id": "bujuDKWvFTyq"
      }
    },
    {
      "cell_type": "code",
      "execution_count": null,
      "metadata": {
        "id": "RuIUzgVkFPO-"
      },
      "outputs": [],
      "source": [
        "#  Adınızı ve Soyadınızı bir Python nesnesi olarak oluşturunuz ve \"n\" adındaki bir değişkene atayınız.\n",
        "\n",
        "#  Öğrenci numaranızı bir Python nesnesi olarak oluşturunuz ve \"id\" adındaki bir değişkene atayınız.\n"
      ]
    },
    {
      "cell_type": "code",
      "source": [
        "#  print() fonksiyonunu kullanarak n değişkenini yazdırınız.\n"
      ],
      "metadata": {
        "id": "IZhgpVFXHldL"
      },
      "execution_count": null,
      "outputs": []
    },
    {
      "cell_type": "code",
      "source": [
        "#  len() fonksiyonunu kullanarak n değişkenindeki karakter sayısını öğreniniz.\n"
      ],
      "metadata": {
        "id": "mbpl9e2GHpty"
      },
      "execution_count": null,
      "outputs": []
    },
    {
      "cell_type": "code",
      "source": [
        "#  type() fonksiyonunu kullanarak n değişkeninin hangi tip bir Python nesnesi olduğunu öğreniniz.\n"
      ],
      "metadata": {
        "id": "5V_uOazSH1x0"
      },
      "execution_count": null,
      "outputs": []
    },
    {
      "cell_type": "code",
      "source": [
        "#  print() fonskiyonu içerisinde id değişkenine n değişkenini araya bir boşluk koyarak ekleyiniz ve yazdırınız.\n"
      ],
      "metadata": {
        "id": "4_0pxKhhH9WF"
      },
      "execution_count": null,
      "outputs": []
    },
    {
      "cell_type": "code",
      "source": [
        "#  2'nin \"len(id) - 7\"inci kuvvetini 3'e bölünüz \n",
        "#  (İPUCU işlem sırasına dikkat ediniz ve gerekli gördüğünüz işlemleri parantez içine alınız).\n"
      ],
      "metadata": {
        "id": "I3FVjKUxIfEI"
      },
      "execution_count": 1,
      "outputs": []
    },
    {
      "cell_type": "code",
      "source": [
        "#  pi sayısının ilk 4 basamağını int() fonksiyonu kullanarak bir tamsayı değere dönüştürünüz ve bu değerden bool(-2.71) değerini çıkarınız.\n"
      ],
      "metadata": {
        "colab": {
          "base_uri": "https://localhost:8080/"
        },
        "id": "sEFKj-GEIxax",
        "outputId": "47879fd3-c72b-48f0-8e05-1a65badb578f"
      },
      "execution_count": 2,
      "outputs": [
        {
          "output_type": "execute_result",
          "data": {
            "text/plain": [
              "4"
            ]
          },
          "metadata": {},
          "execution_count": 2
        }
      ]
    }
  ]
}