{
  "nbformat": 4,
  "nbformat_minor": 0,
  "metadata": {
    "colab": {
      "provenance": [],
      "authorship_tag": "ABX9TyMYFIfCjcpoOJpjWRBSb0Uk",
      "include_colab_link": true
    },
    "kernelspec": {
      "name": "python3",
      "display_name": "Python 3"
    },
    "language_info": {
      "name": "python"
    }
  },
  "cells": [
    {
      "cell_type": "markdown",
      "metadata": {
        "id": "view-in-github",
        "colab_type": "text"
      },
      "source": [
        "<a href=\"https://colab.research.google.com/github/MMBAYAR/IPG23/blob/main/ISLE426_%C3%96dev2.ipynb\" target=\"_parent\"><img src=\"https://colab.research.google.com/assets/colab-badge.svg\" alt=\"Open In Colab\"/></a>"
      ]
    },
    {
      "cell_type": "markdown",
      "source": [
        "# **ÖDEV TALİMATLARI**<br><br>\n",
        "\n",
        "  -  **GÖREV 1:** Yukarıdaki dosya adı satırını \"öğrenci numaranızın\" sonuna \"_Ö2\" ekleyerek yeniden adlandırınız.<br>**ör./** \"2307220001_Ö2.ipynb\"<br>**NOT:** Derse izleyici olarak katılan öğrenciler adlandırmada öğrenci numarası yerine soyad kullanması rica olunur.\n",
        "  \n",
        "  -  **GÖREV 2:** Dosyayıyı kaydediniz (Dosya/Kaydet veya Ctrl+S).\n",
        "  -  **GÖREV 3:** Aşağıdaki hücrelerde belirtilen görevleri - *ilgili hücre içine gerekli kodu yazarak* - yerine getiriniz.<br>*(Doğru yaptığınız 5 görev 20'şer puan üzerinden değerlendirilecektir.)*\n",
        "  -  **GÖREV 5:** Dosyanızı indiriniz (Dosya/İndir/.ipynb sürümünü indir).\n",
        "  -  **GÖRE 6** Dosyanızı e-posta ile mehmet.bayar@hbv.edu.tr adresine konuya yalnızca \"ISLE426 - ÖDEV2\" yazarak iletiniz 24 Mart* tarihine kadar iletiniz.<br><br>\n",
        "\n",
        "----\n",
        "\n",
        "**(*):** Bu tarih özel durumlar değerlendirilerek bireysel olarak değiştirilebilir."
      ],
      "metadata": {
        "id": "syUQABY6UcGI"
      }
    },
    {
      "cell_type": "code",
      "execution_count": null,
      "metadata": {
        "id": "OjAR3ptFUPe_"
      },
      "outputs": [],
      "source": [
        "#  Bir boş (none) değerli değişken oluşturunuz.\n",
        "\n",
        "#  Oluşturduğunuz değişkenin değerini ön adınızın\n",
        "#  verisini içeren bir Python nesnesi ile güncelleyiniz.\n",
        "\n",
        "#  Ön adınız verisini taşıyan değişkeninize \"toplama işlemi\"\n",
        "#  ile soyadınızı adınızla arasında bir boşluk olacak \n",
        "#  biçimde ekleyiniz.\n"
      ]
    },
    {
      "cell_type": "code",
      "source": [
        "#  Bir önceki maddede oluşturduğunuz değişkende;\n",
        "#  Soyadınıza ait kısmı indis adresi ile çağırınız ve yeni bir değişkene değer olarak atayınız.\n",
        "\n",
        "\n",
        "#  Bu yeni değişkenin değerini; eski değerini ve .upper() metodunu kullanarak büyük harfli bir versiyon olarak güncelleyiniz.\n",
        "\n"
      ],
      "metadata": {
        "id": "kSpaBAHJz_6n"
      },
      "execution_count": null,
      "outputs": []
    },
    {
      "cell_type": "code",
      "source": [
        "#  Bir boş (none) değerli değişken oluşturunuz.\n",
        "\n",
        "#  Oluşturduğunuz değişkenin değerini içi boş bir sözlük \n",
        "#  nesnesi ile güncelleyiniz.                  \n",
        "\n",
        "#  Sözlüğünüze anahtar olarak bu dönem aldığınız dersleri,\n",
        "#  değer olarak da bu derslerden almayı umduğunuz notları\n",
        "#  elamanlar olarak ekleyiniz.\n"
      ],
      "metadata": {
        "id": "gxDNlXKsVFpk"
      },
      "execution_count": null,
      "outputs": []
    },
    {
      "cell_type": "code",
      "source": [
        "#  Bir önceki maddede kurduğunuz sözlük için;\n",
        "#  \"Matematiksel Optimizasyona Giriş\" dersini beklediğin nota \"hiçlik\" değeri tanımlayarak sözlüğe ekle\n",
        "\n",
        "#  \"Matematiksel Optimizasyona Giriş\" dersi için beklenen nota \"AA\" değerini güncelleyerek gir\n",
        "\n",
        "#  \"Matematiksel Optimizasyona Giriş\" dersinin adının \"İşletme Matematiği\" olduğunu öğrendiniz.\n",
        "#  Bu sözlük elemanı için anahtarı değiştirmek üzere gerekli güncellemeleri yapınız.\n"
      ],
      "metadata": {
        "id": "TueldY6yXVlA"
      },
      "execution_count": null,
      "outputs": []
    },
    {
      "cell_type": "code",
      "source": [
        "#  anahtarlar adında bir liste oluşturunuz ve içine beş eleman tanımlayınız\n",
        "\n",
        "#  değerler adında bir liste oluşturunuz ve içine beş eleman tanımlayınız.\n",
        "\n",
        "#  dict() fonksiyonu içine yazacağınız bir zip() fonksiyonu içine önce anahtarlar\n",
        "#  listesini sonra da değerler listesini aralarına virgül koyarak koyunuz.\n"
      ],
      "metadata": {
        "id": "tvL1PsXV0-xv"
      },
      "execution_count": null,
      "outputs": []
    },
    {
      "cell_type": "code",
      "source": [
        "#  Bir önceki adımda kurduğunuz sözlüğün değerlerine .values() metodu ile ulaşınız\n",
        "\n",
        "#  sözlüğün değerleri ile değerler listenizin özdeş olup olmadığını karşılaştırınız \n",
        "#  (bool notlarınıza bakabilirsiniz).\n"
      ],
      "metadata": {
        "id": "HoUkXfSH5YZe"
      },
      "execution_count": null,
      "outputs": []
    },
    {
      "cell_type": "code",
      "source": [
        "#  2'nin \"3+2\". kuvvetini 7'ye böldüğünüzde kalanı kod ile hesaplatınız ve bir print()\n",
        "#  fonksiyonu içinde yazdırınız.\n"
      ],
      "metadata": {
        "id": "SSKL3ndF55aM"
      },
      "execution_count": null,
      "outputs": []
    }
  ]
}