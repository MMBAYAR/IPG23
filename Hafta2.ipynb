{
  "nbformat": 4,
  "nbformat_minor": 0,
  "metadata": {
    "colab": {
      "provenance": [],
      "authorship_tag": "ABX9TyPW2fKG+Rs8DDExXsKTSRbu",
      "include_colab_link": true
    },
    "kernelspec": {
      "name": "python3",
      "display_name": "Python 3"
    },
    "language_info": {
      "name": "python"
    }
  },
  "cells": [
    {
      "cell_type": "markdown",
      "metadata": {
        "id": "view-in-github",
        "colab_type": "text"
      },
      "source": [
        "<a href=\"https://colab.research.google.com/github/MMBAYAR/IPG23/blob/main/Hafta2.ipynb\" target=\"_parent\"><img src=\"https://colab.research.google.com/assets/colab-badge.svg\" alt=\"Open In Colab\"/></a>"
      ]
    },
    {
      "cell_type": "markdown",
      "source": [
        "#Gruplayıcı Python Nesneleri\n",
        "- String,\n",
        "- Demet,\n",
        "- Liste,\n",
        "- Sözlük,\n",
        "- Küme,\n",
        "- range()"
      ],
      "metadata": {
        "id": "aL4-lR01EMXu"
      }
    },
    {
      "cell_type": "code",
      "execution_count": 1,
      "metadata": {
        "id": "UkmIA2dsD9Rv"
      },
      "outputs": [],
      "source": [
        "#  Bir gruplayıcı Python nesnesi olarak karakter dizileri\n",
        "#    İndisler ile str objelerinin içindeki karakterleri çağırma\n",
        "değ = None"
      ]
    },
    {
      "cell_type": "code",
      "source": [
        "değ = 'Bu bir metin parçasıdır.'"
      ],
      "metadata": {
        "id": "wparv9U6EdSZ"
      },
      "execution_count": 2,
      "outputs": []
    },
    {
      "cell_type": "code",
      "source": [
        "#  'm' harfini çağırmak\n",
        "değ[7]"
      ],
      "metadata": {
        "colab": {
          "base_uri": "https://localhost:8080/",
          "height": 35
        },
        "id": "g4kwUz4gFGqO",
        "outputId": "06f2b495-9c09-4edd-e057-bb34c378d325"
      },
      "execution_count": 3,
      "outputs": [
        {
          "output_type": "execute_result",
          "data": {
            "text/plain": [
              "'m'"
            ],
            "application/vnd.google.colaboratory.intrinsic+json": {
              "type": "string"
            }
          },
          "metadata": {},
          "execution_count": 3
        }
      ]
    },
    {
      "cell_type": "code",
      "source": [
        "değ[0]"
      ],
      "metadata": {
        "colab": {
          "base_uri": "https://localhost:8080/",
          "height": 35
        },
        "id": "w4QjgtCdFYSt",
        "outputId": "0a8063ec-9eeb-451f-b82a-6627382de98e"
      },
      "execution_count": 4,
      "outputs": [
        {
          "output_type": "execute_result",
          "data": {
            "text/plain": [
              "'B'"
            ],
            "application/vnd.google.colaboratory.intrinsic+json": {
              "type": "string"
            }
          },
          "metadata": {},
          "execution_count": 4
        }
      ]
    },
    {
      "cell_type": "code",
      "source": [
        "değ[23]"
      ],
      "metadata": {
        "colab": {
          "base_uri": "https://localhost:8080/",
          "height": 35
        },
        "id": "Wi6aNVZFFc-d",
        "outputId": "721a0538-58bb-40b8-826d-343eab079aec"
      },
      "execution_count": 5,
      "outputs": [
        {
          "output_type": "execute_result",
          "data": {
            "text/plain": [
              "'.'"
            ],
            "application/vnd.google.colaboratory.intrinsic+json": {
              "type": "string"
            }
          },
          "metadata": {},
          "execution_count": 5
        }
      ]
    },
    {
      "cell_type": "code",
      "source": [
        "değ[-1]"
      ],
      "metadata": {
        "colab": {
          "base_uri": "https://localhost:8080/",
          "height": 35
        },
        "id": "jijTyXEJFkb-",
        "outputId": "8472710d-62b0-4a60-ecb3-748731cbc7f8"
      },
      "execution_count": 6,
      "outputs": [
        {
          "output_type": "execute_result",
          "data": {
            "text/plain": [
              "'.'"
            ],
            "application/vnd.google.colaboratory.intrinsic+json": {
              "type": "string"
            }
          },
          "metadata": {},
          "execution_count": 6
        }
      ]
    },
    {
      "cell_type": "code",
      "source": [
        "değ[ len(değ) - 1 ]\n",
        "#  len() fonksiyonu gruplayıcı içindeki eleman sayısını verir\n",
        "#  saymaya 0'dan başladığımız için indis kullanıldığında hata verdirir\n",
        "#  son elemanı çağırmak len() - 1 kullanımı önerilir"
      ],
      "metadata": {
        "colab": {
          "base_uri": "https://localhost:8080/",
          "height": 35
        },
        "id": "W-ZPMh9EFzat",
        "outputId": "83310e65-ce92-4ca0-ce8f-7c03f6269c6d"
      },
      "execution_count": 8,
      "outputs": [
        {
          "output_type": "execute_result",
          "data": {
            "text/plain": [
              "'.'"
            ],
            "application/vnd.google.colaboratory.intrinsic+json": {
              "type": "string"
            }
          },
          "metadata": {},
          "execution_count": 8
        }
      ]
    },
    {
      "cell_type": "code",
      "source": [
        "#  Karakter dizilerinin belir bölümlerinin indis aralıklarıyla çağırılması\n",
        "değ"
      ],
      "metadata": {
        "colab": {
          "base_uri": "https://localhost:8080/",
          "height": 35
        },
        "id": "BbEnf2q4GZZ1",
        "outputId": "f4390ee2-9821-4ee4-c959-b74c3e612514"
      },
      "execution_count": 9,
      "outputs": [
        {
          "output_type": "execute_result",
          "data": {
            "text/plain": [
              "'Bu bir metin parçasıdır.'"
            ],
            "application/vnd.google.colaboratory.intrinsic+json": {
              "type": "string"
            }
          },
          "metadata": {},
          "execution_count": 9
        }
      ]
    },
    {
      "cell_type": "code",
      "source": [
        "#  \"Bu bi\" kısmını alıyorum.\n",
        "değ[0:4 + 1]\n",
        "#    aralık indislerinde sol indis dahildir; sağ indis dahil değildir."
      ],
      "metadata": {
        "colab": {
          "base_uri": "https://localhost:8080/",
          "height": 35
        },
        "id": "jU_Tr6mQF7Jd",
        "outputId": "ef56d1d2-c96d-4719-abde-6d0dcda30147"
      },
      "execution_count": 12,
      "outputs": [
        {
          "output_type": "execute_result",
          "data": {
            "text/plain": [
              "'Bu bi'"
            ],
            "application/vnd.google.colaboratory.intrinsic+json": {
              "type": "string"
            }
          },
          "metadata": {},
          "execution_count": 12
        }
      ]
    },
    {
      "cell_type": "code",
      "source": [
        "değ[:4 + 1]\n",
        "#    eğer aralığınız en baştan başlıyorsa sol indisi yazmanız gerekmez."
      ],
      "metadata": {
        "colab": {
          "base_uri": "https://localhost:8080/",
          "height": 35
        },
        "id": "lk4D645CG1NN",
        "outputId": "f4ac3b57-e1f2-4cfa-82b6-788f6ca07b58"
      },
      "execution_count": 15,
      "outputs": [
        {
          "output_type": "execute_result",
          "data": {
            "text/plain": [
              "'Bu bi'"
            ],
            "application/vnd.google.colaboratory.intrinsic+json": {
              "type": "string"
            }
          },
          "metadata": {},
          "execution_count": 15
        }
      ]
    },
    {
      "cell_type": "code",
      "source": [
        "#  Son sözcüğü alıyorum.\n",
        "değ[-11:-1]\n",
        "#    Eğer aralığınız en sona kadar sürüyorsa sağ inidisi yazmamanız gerekir."
      ],
      "metadata": {
        "colab": {
          "base_uri": "https://localhost:8080/",
          "height": 35
        },
        "id": "Nnq5Bc4jHRvA",
        "outputId": "5fcaf658-4d44-4bff-e066-6f53f298946a"
      },
      "execution_count": 21,
      "outputs": [
        {
          "output_type": "execute_result",
          "data": {
            "text/plain": [
              "'parçasıdır'"
            ],
            "application/vnd.google.colaboratory.intrinsic+json": {
              "type": "string"
            }
          },
          "metadata": {},
          "execution_count": 21
        }
      ]
    },
    {
      "cell_type": "code",
      "source": [
        "değ[-11:]"
      ],
      "metadata": {
        "colab": {
          "base_uri": "https://localhost:8080/",
          "height": 35
        },
        "id": "i0SQlLBpHr7W",
        "outputId": "950c3634-c566-44fc-dac9-f7d5f96f52e4"
      },
      "execution_count": 22,
      "outputs": [
        {
          "output_type": "execute_result",
          "data": {
            "text/plain": [
              "'parçasıdır.'"
            ],
            "application/vnd.google.colaboratory.intrinsic+json": {
              "type": "string"
            }
          },
          "metadata": {},
          "execution_count": 22
        }
      ]
    },
    {
      "cell_type": "markdown",
      "source": [
        "###Demetler\n",
        "\n",
        "Demetler değiştirilemezler (yeni eleman eklenemez, içinden eleman silinemez, elemanlarının değerleri güncellenemez)."
      ],
      "metadata": {
        "id": "Ga0pH3DKKTLt"
      }
    },
    {
      "cell_type": "code",
      "source": [
        "( 'Bu birinci elemanı', 2, True, 3.14, None )"
      ],
      "metadata": {
        "colab": {
          "base_uri": "https://localhost:8080/"
        },
        "id": "8eOAPNdhH9Xy",
        "outputId": "44d76839-0ba7-40c8-c700-24b61b63b490"
      },
      "execution_count": 23,
      "outputs": [
        {
          "output_type": "execute_result",
          "data": {
            "text/plain": [
              "('Bu birinci elemanı', 2, True, 3.14, None)"
            ]
          },
          "metadata": {},
          "execution_count": 23
        }
      ]
    },
    {
      "cell_type": "code",
      "source": [
        "( 'Bu birinci elemanı', 2, True, 3.14, None )[0]"
      ],
      "metadata": {
        "colab": {
          "base_uri": "https://localhost:8080/",
          "height": 35
        },
        "id": "LvTE2oyXKwkV",
        "outputId": "5997bc89-1a62-4e1a-ad0a-631b20f0d767"
      },
      "execution_count": 24,
      "outputs": [
        {
          "output_type": "execute_result",
          "data": {
            "text/plain": [
              "'Bu birinci elemanı'"
            ],
            "application/vnd.google.colaboratory.intrinsic+json": {
              "type": "string"
            }
          },
          "metadata": {},
          "execution_count": 24
        }
      ]
    },
    {
      "cell_type": "code",
      "source": [
        "( 'Bu birinci elemanı', 2, True, 3.14, None )[:2]"
      ],
      "metadata": {
        "colab": {
          "base_uri": "https://localhost:8080/"
        },
        "id": "ADk4UkMwK5oL",
        "outputId": "5db6e52a-e520-4f17-fb41-dd7f66e8a090"
      },
      "execution_count": 25,
      "outputs": [
        {
          "output_type": "execute_result",
          "data": {
            "text/plain": [
              "('Bu birinci elemanı', 2)"
            ]
          },
          "metadata": {},
          "execution_count": 25
        }
      ]
    },
    {
      "cell_type": "code",
      "source": [
        "( 'Bu birinci elemanı', 2, True, 3.14, None )[-1] = 'Yeni değer'"
      ],
      "metadata": {
        "colab": {
          "base_uri": "https://localhost:8080/",
          "height": 141
        },
        "id": "pN7lHKFwK9tr",
        "outputId": "8510050a-fcb3-4daa-f8f1-843c0dadd00c"
      },
      "execution_count": 26,
      "outputs": [
        {
          "output_type": "error",
          "ename": "TypeError",
          "evalue": "'tuple' object does not support item assignment",
          "traceback": [
            "\u001b[0;31m---------------------------------------------------------------------------\u001b[0m",
            "\u001b[0;31mTypeError\u001b[0m                                 Traceback (most recent call last)",
            "\u001b[0;32m<ipython-input-26-08c807d0ad55>\u001b[0m in \u001b[0;36m<cell line: 1>\u001b[0;34m()\u001b[0m\n\u001b[0;32m----> 1\u001b[0;31m \u001b[0;34m(\u001b[0m \u001b[0;34m'Bu birinci elemanı'\u001b[0m\u001b[0;34m,\u001b[0m \u001b[0;36m2\u001b[0m\u001b[0;34m,\u001b[0m \u001b[0;32mTrue\u001b[0m\u001b[0;34m,\u001b[0m \u001b[0;36m3.14\u001b[0m\u001b[0;34m,\u001b[0m \u001b[0;32mNone\u001b[0m \u001b[0;34m)\u001b[0m\u001b[0;34m[\u001b[0m\u001b[0;34m-\u001b[0m\u001b[0;36m1\u001b[0m\u001b[0;34m]\u001b[0m \u001b[0;34m=\u001b[0m \u001b[0;34m'Yeni değer'\u001b[0m\u001b[0;34m\u001b[0m\u001b[0;34m\u001b[0m\u001b[0m\n\u001b[0m",
            "\u001b[0;31mTypeError\u001b[0m: 'tuple' object does not support item assignment"
          ]
        }
      ]
    },
    {
      "cell_type": "markdown",
      "source": [
        "###Listeler"
      ],
      "metadata": {
        "id": "VgCr1sx6LIZ9"
      }
    },
    {
      "cell_type": "code",
      "source": [
        "#  İlk listemizi list() fonksiyonu ile kuralım\n",
        "değ = list()\n",
        "değ"
      ],
      "metadata": {
        "colab": {
          "base_uri": "https://localhost:8080/"
        },
        "id": "v57JcrH3LCfr",
        "outputId": "7a7c3689-a88f-4055-ede8-d2818adbb530"
      },
      "execution_count": 29,
      "outputs": [
        {
          "output_type": "execute_result",
          "data": {
            "text/plain": [
              "[]"
            ]
          },
          "metadata": {},
          "execution_count": 29
        }
      ]
    },
    {
      "cell_type": "code",
      "source": [
        "değ[0] == None\n",
        "#  Boş listeler içinde \"hiçlik\" değeri olan gruplayıcılar değildir."
      ],
      "metadata": {
        "colab": {
          "base_uri": "https://localhost:8080/",
          "height": 141
        },
        "id": "eOXGXsPFLbGv",
        "outputId": "b48979fb-02ba-4dca-d98e-30ef9e114197"
      },
      "execution_count": 31,
      "outputs": [
        {
          "output_type": "error",
          "ename": "IndexError",
          "evalue": "list index out of range",
          "traceback": [
            "\u001b[0;31m---------------------------------------------------------------------------\u001b[0m",
            "\u001b[0;31mIndexError\u001b[0m                                Traceback (most recent call last)",
            "\u001b[0;32m<ipython-input-31-ee4d44a86bd0>\u001b[0m in \u001b[0;36m<cell line: 1>\u001b[0;34m()\u001b[0m\n\u001b[0;32m----> 1\u001b[0;31m \u001b[0mdeğ\u001b[0m\u001b[0;34m[\u001b[0m\u001b[0;36m0\u001b[0m\u001b[0;34m]\u001b[0m \u001b[0;34m==\u001b[0m \u001b[0;32mNone\u001b[0m\u001b[0;34m\u001b[0m\u001b[0;34m\u001b[0m\u001b[0m\n\u001b[0m",
            "\u001b[0;31mIndexError\u001b[0m: list index out of range"
          ]
        }
      ]
    },
    {
      "cell_type": "code",
      "source": [
        "değ = list( 'Yazı' )"
      ],
      "metadata": {
        "id": "UHmJiRHhLhSg"
      },
      "execution_count": 32,
      "outputs": []
    },
    {
      "cell_type": "code",
      "source": [
        "değ"
      ],
      "metadata": {
        "colab": {
          "base_uri": "https://localhost:8080/"
        },
        "id": "eX3HpH4bLzSr",
        "outputId": "0b3c7daf-1cca-4a73-b4f0-dc14fbc7efef"
      },
      "execution_count": 33,
      "outputs": [
        {
          "output_type": "execute_result",
          "data": {
            "text/plain": [
              "['Y', 'a', 'z', 'ı']"
            ]
          },
          "metadata": {},
          "execution_count": 33
        }
      ]
    },
    {
      "cell_type": "code",
      "source": [
        "str(değ)\n",
        "#  Karakter dizilerini diğer gruplayıcalara dönüştürebiliriz\n",
        "#  Ama bu işlemi str() fonksiyonu ile geri çeviremeyiz."
      ],
      "metadata": {
        "colab": {
          "base_uri": "https://localhost:8080/",
          "height": 35
        },
        "id": "jAMdw8_NL0DL",
        "outputId": "c709867d-8222-4ad2-84fe-d4cea08650a9"
      },
      "execution_count": 34,
      "outputs": [
        {
          "output_type": "execute_result",
          "data": {
            "text/plain": [
              "\"['Y', 'a', 'z', 'ı']\""
            ],
            "application/vnd.google.colaboratory.intrinsic+json": {
              "type": "string"
            }
          },
          "metadata": {},
          "execution_count": 34
        }
      ]
    },
    {
      "cell_type": "code",
      "source": [
        "depo = [ 90, 1.80, 'Siyah', 'Kırgızistan', False, None, bool(-7.13) ]"
      ],
      "metadata": {
        "id": "PmH5yButL6h6"
      },
      "execution_count": 55,
      "outputs": []
    },
    {
      "cell_type": "code",
      "source": [
        "type(depo)"
      ],
      "metadata": {
        "colab": {
          "base_uri": "https://localhost:8080/"
        },
        "id": "BLMrClszMZKq",
        "outputId": "757e1b39-5291-4b66-d3bd-e4cd181f237a"
      },
      "execution_count": 56,
      "outputs": [
        {
          "output_type": "execute_result",
          "data": {
            "text/plain": [
              "list"
            ]
          },
          "metadata": {},
          "execution_count": 56
        }
      ]
    },
    {
      "cell_type": "code",
      "source": [
        "depo[2][-1]\n",
        "#  depo listesinin üçüncü elemanın son harfi nedir?"
      ],
      "metadata": {
        "colab": {
          "base_uri": "https://localhost:8080/",
          "height": 35
        },
        "id": "YSaj6ZFRMeLq",
        "outputId": "87680c1a-a53c-4bb9-b78b-1fbc33ebab4e"
      },
      "execution_count": 57,
      "outputs": [
        {
          "output_type": "execute_result",
          "data": {
            "text/plain": [
              "'h'"
            ],
            "application/vnd.google.colaboratory.intrinsic+json": {
              "type": "string"
            }
          },
          "metadata": {},
          "execution_count": 57
        }
      ]
    },
    {
      "cell_type": "code",
      "source": [
        "depo[-3]"
      ],
      "metadata": {
        "colab": {
          "base_uri": "https://localhost:8080/"
        },
        "id": "HASSnT7yMhqK",
        "outputId": "058c56c2-69e7-4fb5-db47-0dc6d9eef20d"
      },
      "execution_count": 58,
      "outputs": [
        {
          "output_type": "execute_result",
          "data": {
            "text/plain": [
              "False"
            ]
          },
          "metadata": {},
          "execution_count": 58
        }
      ]
    },
    {
      "cell_type": "code",
      "source": [
        "depo[-3] =  True\n",
        "depo"
      ],
      "metadata": {
        "colab": {
          "base_uri": "https://localhost:8080/"
        },
        "id": "_3YHsikkMuEg",
        "outputId": "4e9d8583-b6fc-4971-8b21-94c98ce30f7f"
      },
      "execution_count": 59,
      "outputs": [
        {
          "output_type": "execute_result",
          "data": {
            "text/plain": [
              "[90, 1.8, 'Siyah', 'Kırgızistan', True, None, True]"
            ]
          },
          "metadata": {},
          "execution_count": 59
        }
      ]
    },
    {
      "cell_type": "code",
      "source": [
        "depo[5] = 0"
      ],
      "metadata": {
        "id": "4KKOhOqvMzUw"
      },
      "execution_count": 60,
      "outputs": []
    },
    {
      "cell_type": "code",
      "source": [
        "depo"
      ],
      "metadata": {
        "colab": {
          "base_uri": "https://localhost:8080/"
        },
        "id": "luZR1_C1M6oV",
        "outputId": "e7143265-2657-49a9-ba9f-91eee8cb45f8"
      },
      "execution_count": 61,
      "outputs": [
        {
          "output_type": "execute_result",
          "data": {
            "text/plain": [
              "[90, 1.8, 'Siyah', 'Kırgızistan', True, 0, True]"
            ]
          },
          "metadata": {},
          "execution_count": 61
        }
      ]
    },
    {
      "cell_type": "code",
      "source": [
        "#  listeye yeni eleman ekleyelim\n",
        "#    Yöntem1: yeni bir liste ile toplamak\n",
        "depo + ['Yeni eleman']"
      ],
      "metadata": {
        "colab": {
          "base_uri": "https://localhost:8080/"
        },
        "id": "ow4u137HM7S0",
        "outputId": "8586f4df-20eb-4501-c32f-33c7b4aee586"
      },
      "execution_count": 62,
      "outputs": [
        {
          "output_type": "execute_result",
          "data": {
            "text/plain": [
              "[90, 1.8, 'Siyah', 'Kırgızistan', True, 0, True, 'Yeni eleman']"
            ]
          },
          "metadata": {},
          "execution_count": 62
        }
      ]
    },
    {
      "cell_type": "code",
      "source": [
        "depo"
      ],
      "metadata": {
        "colab": {
          "base_uri": "https://localhost:8080/"
        },
        "id": "KOdZ8XdjNOSl",
        "outputId": "aa688017-3d60-4f54-c1b7-a147c9eb25c0"
      },
      "execution_count": 63,
      "outputs": [
        {
          "output_type": "execute_result",
          "data": {
            "text/plain": [
              "[90, 1.8, 'Siyah', 'Kırgızistan', True, 0, True]"
            ]
          },
          "metadata": {},
          "execution_count": 63
        }
      ]
    },
    {
      "cell_type": "code",
      "source": [
        "depo += ['Yeni eleman']\n",
        "depo"
      ],
      "metadata": {
        "colab": {
          "base_uri": "https://localhost:8080/"
        },
        "id": "y0YcbkvbNSjK",
        "outputId": "b1b9ed34-0578-44a3-a46d-2869f12a534b"
      },
      "execution_count": 64,
      "outputs": [
        {
          "output_type": "execute_result",
          "data": {
            "text/plain": [
              "[90, 1.8, 'Siyah', 'Kırgızistan', True, 0, True, 'Yeni eleman']"
            ]
          },
          "metadata": {},
          "execution_count": 64
        }
      ]
    },
    {
      "cell_type": "code",
      "source": [
        "#  Yöntem 2: .append() metodunun kullanımı\n",
        "depo.append( 'En son eklenen eleman' )\n",
        "depo"
      ],
      "metadata": {
        "colab": {
          "base_uri": "https://localhost:8080/"
        },
        "id": "lATf1xAwNYMK",
        "outputId": "c6f64a73-47b9-484b-fdad-520fd921e9fe"
      },
      "execution_count": 65,
      "outputs": [
        {
          "output_type": "execute_result",
          "data": {
            "text/plain": [
              "[90,\n",
              " 1.8,\n",
              " 'Siyah',\n",
              " 'Kırgızistan',\n",
              " True,\n",
              " 0,\n",
              " True,\n",
              " 'Yeni eleman',\n",
              " 'En son eklenen eleman']"
            ]
          },
          "metadata": {},
          "execution_count": 65
        }
      ]
    },
    {
      "cell_type": "code",
      "source": [
        "#  Yöntem 3: .insert( sıra, eleman ) metodunu kullanarak belirli adrese eleman ekleme\n",
        "#    None değerli yeni elemanı 5. sıraya ekliyoruz\n",
        "depo.insert(4, None)\n",
        "depo"
      ],
      "metadata": {
        "colab": {
          "base_uri": "https://localhost:8080/"
        },
        "id": "QJZid4o-N3mg",
        "outputId": "e9143447-dacc-4026-854b-ac1374d2d4fe"
      },
      "execution_count": 66,
      "outputs": [
        {
          "output_type": "execute_result",
          "data": {
            "text/plain": [
              "[90,\n",
              " 1.8,\n",
              " 'Siyah',\n",
              " 'Kırgızistan',\n",
              " None,\n",
              " True,\n",
              " 0,\n",
              " True,\n",
              " 'Yeni eleman',\n",
              " 'En son eklenen eleman']"
            ]
          },
          "metadata": {},
          "execution_count": 66
        }
      ]
    },
    {
      "cell_type": "code",
      "source": [
        "#  Listelerden eleman atma\n",
        "#    Yöntem1: .pop() metodunu kullanarak son elemanı listeden atmak\n",
        "depo.pop()\n",
        "depo"
      ],
      "metadata": {
        "colab": {
          "base_uri": "https://localhost:8080/"
        },
        "id": "Pcl9mpk2Odjp",
        "outputId": "e70cd715-b2e6-4ad5-97e5-ca68614de240"
      },
      "execution_count": 67,
      "outputs": [
        {
          "output_type": "execute_result",
          "data": {
            "text/plain": [
              "[90, 1.8, 'Siyah', 'Kırgızistan', None, True, 0, True, 'Yeni eleman']"
            ]
          },
          "metadata": {},
          "execution_count": 67
        }
      ]
    },
    {
      "cell_type": "code",
      "source": [
        "#    Yöntem2: sırasını bildiğimiz elemanı .pop() kullanarak listeden atmak\n",
        "#      içindeki ilk elemanı atamaya karar verdim\n",
        "depo.pop(0)"
      ],
      "metadata": {
        "colab": {
          "base_uri": "https://localhost:8080/"
        },
        "id": "wvYMHEmSO0kq",
        "outputId": "5ed9899e-221e-4bc5-c30b-d4fb06b40a7a"
      },
      "execution_count": 68,
      "outputs": [
        {
          "output_type": "execute_result",
          "data": {
            "text/plain": [
              "90"
            ]
          },
          "metadata": {},
          "execution_count": 68
        }
      ]
    },
    {
      "cell_type": "code",
      "source": [
        "depo"
      ],
      "metadata": {
        "colab": {
          "base_uri": "https://localhost:8080/"
        },
        "id": "w55YNztVPJjJ",
        "outputId": "7d886e42-5843-4dc8-abca-c435a5e6d6a3"
      },
      "execution_count": 69,
      "outputs": [
        {
          "output_type": "execute_result",
          "data": {
            "text/plain": [
              "[1.8, 'Siyah', 'Kırgızistan', None, True, 0, True, 'Yeni eleman']"
            ]
          },
          "metadata": {},
          "execution_count": 69
        }
      ]
    },
    {
      "cell_type": "code",
      "source": [
        "#    Yöntem3: değerini bildiğimiz elemanı .remove() kullanarak listeden atmak\n",
        "depo.remove(None)\n",
        "depo"
      ],
      "metadata": {
        "colab": {
          "base_uri": "https://localhost:8080/"
        },
        "id": "_ZPi9u64PPH5",
        "outputId": "4a0a0a86-df69-40e8-9e44-bb4bb65eb026"
      },
      "execution_count": 70,
      "outputs": [
        {
          "output_type": "execute_result",
          "data": {
            "text/plain": [
              "[1.8, 'Siyah', 'Kırgızistan', True, 0, True, 'Yeni eleman']"
            ]
          },
          "metadata": {},
          "execution_count": 70
        }
      ]
    },
    {
      "cell_type": "code",
      "source": [
        "depo.remove(True)\n",
        "depo\n",
        "#  Aynı değerli birden çok eleman varsa .remove()\n",
        "#  metodu sol taraftan başlayarak ilk karşılaştığını listeden atar."
      ],
      "metadata": {
        "colab": {
          "base_uri": "https://localhost:8080/"
        },
        "id": "GTriCdetPeTl",
        "outputId": "d4cfe6fb-99ab-402c-d9e6-ee741b4efc5f"
      },
      "execution_count": 71,
      "outputs": [
        {
          "output_type": "execute_result",
          "data": {
            "text/plain": [
              "[1.8, 'Siyah', 'Kırgızistan', 0, True, 'Yeni eleman']"
            ]
          },
          "metadata": {},
          "execution_count": 71
        }
      ]
    },
    {
      "cell_type": "code",
      "source": [
        "#  Üst hücreyi 3 kere çalıştır\n",
        "#  Listede sadece 2 tane True var\n",
        "#  3. çalıştırmada listede böyle bir eleman yok hatası alırız."
      ],
      "metadata": {
        "id": "GG4WWrpDPm-K"
      },
      "execution_count": 72,
      "outputs": []
    },
    {
      "cell_type": "markdown",
      "source": [
        "###Kümeler\n",
        "Kümeler aynı değerli elemanlardan birden çok içeremez."
      ],
      "metadata": {
        "id": "eKcyHOXEQZV8"
      }
    },
    {
      "cell_type": "code",
      "source": [
        "#  Kümeleri veri depolamaktan ziyade \"birbirinden farklı kaç elemanı var?\"\n",
        "#  vb. soruları yanıtlamada kullanırız\n",
        "\n",
        "#  \"İstiklal marşının birbirinden farklı kaç karakteri var?\"\n",
        "imarşı = \"Korkma, sönmez bu şafaklarda yüzen al sancak;\""
      ],
      "metadata": {
        "id": "8qwj9q5fQNap"
      },
      "execution_count": 76,
      "outputs": []
    },
    {
      "cell_type": "code",
      "source": [
        "imarşı"
      ],
      "metadata": {
        "colab": {
          "base_uri": "https://localhost:8080/",
          "height": 35
        },
        "id": "UqqQvc1BQ7mT",
        "outputId": "89a800d2-0b04-4f17-f2b2-570bef3d0225"
      },
      "execution_count": 77,
      "outputs": [
        {
          "output_type": "execute_result",
          "data": {
            "text/plain": [
              "'Korkma, sönmez bu şafaklarda yüzen al sancak;'"
            ],
            "application/vnd.google.colaboratory.intrinsic+json": {
              "type": "string"
            }
          },
          "metadata": {},
          "execution_count": 77
        }
      ]
    },
    {
      "cell_type": "code",
      "source": [
        "set(imarşı.upper())"
      ],
      "metadata": {
        "colab": {
          "base_uri": "https://localhost:8080/"
        },
        "id": "OH9C9BajRxu5",
        "outputId": "81735fde-6d89-49dd-9e2e-b47e6a3ebeb2"
      },
      "execution_count": 79,
      "outputs": [
        {
          "output_type": "execute_result",
          "data": {
            "text/plain": [
              "{' ',\n",
              " ',',\n",
              " ';',\n",
              " 'A',\n",
              " 'B',\n",
              " 'C',\n",
              " 'D',\n",
              " 'E',\n",
              " 'F',\n",
              " 'K',\n",
              " 'L',\n",
              " 'M',\n",
              " 'N',\n",
              " 'O',\n",
              " 'R',\n",
              " 'S',\n",
              " 'U',\n",
              " 'Y',\n",
              " 'Z',\n",
              " 'Ö',\n",
              " 'Ü',\n",
              " 'Ş'}"
            ]
          },
          "metadata": {},
          "execution_count": 79
        }
      ]
    },
    {
      "cell_type": "code",
      "source": [
        "len(\n",
        "    set(imarşı.upper())\n",
        ") - 3\n",
        "#  ilk karakter boşluktu, sonraki ikisi noktalamaydı\n",
        "#  3 çıkartarak ilk dizedeki harf çeşitliliğini gördük"
      ],
      "metadata": {
        "colab": {
          "base_uri": "https://localhost:8080/"
        },
        "id": "Ry-ePDVxRzvp",
        "outputId": "1b44893b-0ad4-4609-de3f-36c8eadb81ad"
      },
      "execution_count": 81,
      "outputs": [
        {
          "output_type": "execute_result",
          "data": {
            "text/plain": [
              "19"
            ]
          },
          "metadata": {},
          "execution_count": 81
        }
      ]
    },
    {
      "cell_type": "markdown",
      "source": [
        "###range() fonksiyonu"
      ],
      "metadata": {
        "id": "3-YpLC1YSh3k"
      }
    },
    {
      "cell_type": "code",
      "source": [
        "#  range(başlanan değer, biten değer, atlama uzunluğu)\n",
        "#    Çift rakamlar\n",
        "range(0,9+1,2)"
      ],
      "metadata": {
        "colab": {
          "base_uri": "https://localhost:8080/"
        },
        "id": "Lu98XcsrSKmZ",
        "outputId": "defccd69-c2ff-4f08-b7f9-b8cd6d12da92"
      },
      "execution_count": 82,
      "outputs": [
        {
          "output_type": "execute_result",
          "data": {
            "text/plain": [
              "range(0, 10, 2)"
            ]
          },
          "metadata": {},
          "execution_count": 82
        }
      ]
    },
    {
      "cell_type": "code",
      "source": [
        "tuple(range(0,9+1,2))"
      ],
      "metadata": {
        "colab": {
          "base_uri": "https://localhost:8080/"
        },
        "id": "TltDytR2S0O4",
        "outputId": "c93af98b-c59f-4bd6-fb93-338175f84259"
      },
      "execution_count": 83,
      "outputs": [
        {
          "output_type": "execute_result",
          "data": {
            "text/plain": [
              "(0, 2, 4, 6, 8)"
            ]
          },
          "metadata": {},
          "execution_count": 83
        }
      ]
    },
    {
      "cell_type": "code",
      "source": [
        "#    Tek rakamlar\n",
        "range(1,9+1,2)"
      ],
      "metadata": {
        "colab": {
          "base_uri": "https://localhost:8080/"
        },
        "id": "TiAHJi-3S31o",
        "outputId": "9ec5c9e5-9992-4084-f351-dc7c15b5a0b6"
      },
      "execution_count": 84,
      "outputs": [
        {
          "output_type": "execute_result",
          "data": {
            "text/plain": [
              "range(1, 10, 2)"
            ]
          },
          "metadata": {},
          "execution_count": 84
        }
      ]
    },
    {
      "cell_type": "code",
      "source": [
        "list(range(1,9+1,2))"
      ],
      "metadata": {
        "colab": {
          "base_uri": "https://localhost:8080/"
        },
        "id": "cU37y5XQS_eY",
        "outputId": "c823c432-c098-4d92-ced2-485de0b0b66c"
      },
      "execution_count": 85,
      "outputs": [
        {
          "output_type": "execute_result",
          "data": {
            "text/plain": [
              "[1, 3, 5, 7, 9]"
            ]
          },
          "metadata": {},
          "execution_count": 85
        }
      ]
    },
    {
      "cell_type": "code",
      "source": [
        "#  İstiklal marşının ilk dizesini ters yaz\n",
        "imarşı"
      ],
      "metadata": {
        "colab": {
          "base_uri": "https://localhost:8080/",
          "height": 35
        },
        "id": "vHKG06QMTBWI",
        "outputId": "f4d2337a-0138-4682-855c-3bbb09873265"
      },
      "execution_count": 86,
      "outputs": [
        {
          "output_type": "execute_result",
          "data": {
            "text/plain": [
              "'Korkma, sönmez bu şafaklarda yüzen al sancak;'"
            ],
            "application/vnd.google.colaboratory.intrinsic+json": {
              "type": "string"
            }
          },
          "metadata": {},
          "execution_count": 86
        }
      ]
    },
    {
      "cell_type": "code",
      "source": [
        "imarşı[::-1]"
      ],
      "metadata": {
        "colab": {
          "base_uri": "https://localhost:8080/",
          "height": 35
        },
        "id": "SetY_ZPvTI4I",
        "outputId": "7b075459-33d4-49d4-9da7-9d7ea12c29d1"
      },
      "execution_count": 87,
      "outputs": [
        {
          "output_type": "execute_result",
          "data": {
            "text/plain": [
              "';kacnas la nezüy adralkafaş ub zemnös ,amkroK'"
            ],
            "application/vnd.google.colaboratory.intrinsic+json": {
              "type": "string"
            }
          },
          "metadata": {},
          "execution_count": 87
        }
      ]
    },
    {
      "cell_type": "code",
      "source": [
        "#   Tersten tek rakamlar\n",
        "range(1,9+1,-2)"
      ],
      "metadata": {
        "colab": {
          "base_uri": "https://localhost:8080/"
        },
        "id": "rLzrwatCTOE4",
        "outputId": "41a172a0-e32d-455e-c9f5-3efeb98a4305"
      },
      "execution_count": 88,
      "outputs": [
        {
          "output_type": "execute_result",
          "data": {
            "text/plain": [
              "range(1, 10, -1)"
            ]
          },
          "metadata": {},
          "execution_count": 88
        }
      ]
    },
    {
      "cell_type": "code",
      "source": [
        "tuple(range(9,0,-2))"
      ],
      "metadata": {
        "colab": {
          "base_uri": "https://localhost:8080/"
        },
        "id": "aJrX4-MZTbXI",
        "outputId": "40ee13eb-05bb-4e25-dc28-f84a13e3faef"
      },
      "execution_count": 91,
      "outputs": [
        {
          "output_type": "execute_result",
          "data": {
            "text/plain": [
              "(9, 7, 5, 3, 1)"
            ]
          },
          "metadata": {},
          "execution_count": 91
        }
      ]
    },
    {
      "cell_type": "code",
      "source": [],
      "metadata": {
        "id": "Z5FGGgRpTdoG"
      },
      "execution_count": null,
      "outputs": []
    }
  ]
}